{
  "nbformat": 4,
  "nbformat_minor": 0,
  "metadata": {
    "colab": {
      "name": "Okra NLP project trains.ipynb",
      "provenance": [],
      "collapsed_sections": []
    },
    "kernelspec": {
      "display_name": "Python 3",
      "name": "python3"
    },
    "language_info": {
      "name": "python"
    }
  },
  "cells": [
    {
      "cell_type": "markdown",
      "metadata": {
        "id": "0wR_OTj9jhLa"
      },
      "source": [
        "# Imports and Data Loading"
      ]
    },
    {
      "cell_type": "code",
      "metadata": {
        "colab": {
          "base_uri": "https://localhost:8080/"
        },
        "id": "eBAfaD6Dfw-k",
        "outputId": "cfcc9767-57a5-46ee-bf45-af037cf8db47"
      },
      "source": [
        "from google.colab import drive\n",
        "drive.mount('/content/drive')\n",
        "root = \"drive/MyDrive/Okra project data/\"\n",
        "\n",
        "import json\n",
        "import pandas as pd\n",
        "import numpy as np\n",
        "import seaborn as sns\n",
        "import matplotlib.pyplot as plt\n",
        "import re\n",
        "import string\n",
        "from textblob import TextBlob\n",
        "from sklearn.feature_extraction import text \n",
        "from sklearn.feature_extraction.text import CountVectorizer\n",
        "\n",
        "\n",
        "import nltk\n",
        "from nltk.corpus import stopwords\n",
        "nltk.download('wordnet')\n",
        "nltk.download('stopwords')\n",
        "nltk.download('averaged_perceptron_tagger')\n",
        "nltk.download('punkt')\n",
        "from nltk import word_tokenize, pos_tag\n",
        "\n",
        "from gensim import matutils, models, corpora\n",
        "from gensim.parsing.preprocessing import remove_stopwords\n",
        "import scipy.sparse\n",
        "\n",
        "!pip install spacy_langdetect\n",
        "from spacy_langdetect import LanguageDetector\n",
        "import spacy\n",
        "\n",
        "!pip install pyLDAvis\n",
        "import pyLDAvis\n",
        "import pyLDAvis.gensim_models as gensimvis\n",
        "pyLDAvis.enable_notebook()\n",
        "\n",
        "import warnings\n",
        "warnings.filterwarnings(\"ignore\", category=DeprecationWarning) # needed for a gensim library function"
      ],
      "execution_count": 1,
      "outputs": [
        {
          "output_type": "stream",
          "text": [
            "Drive already mounted at /content/drive; to attempt to forcibly remount, call drive.mount(\"/content/drive\", force_remount=True).\n",
            "[nltk_data] Downloading package wordnet to /root/nltk_data...\n",
            "[nltk_data]   Package wordnet is already up-to-date!\n",
            "[nltk_data] Downloading package stopwords to /root/nltk_data...\n",
            "[nltk_data]   Package stopwords is already up-to-date!\n",
            "[nltk_data] Downloading package averaged_perceptron_tagger to\n",
            "[nltk_data]     /root/nltk_data...\n",
            "[nltk_data]   Package averaged_perceptron_tagger is already up-to-\n",
            "[nltk_data]       date!\n",
            "[nltk_data] Downloading package punkt to /root/nltk_data...\n",
            "[nltk_data]   Package punkt is already up-to-date!\n",
            "Requirement already satisfied: spacy_langdetect in /usr/local/lib/python3.7/dist-packages (0.1.2)\n",
            "Requirement already satisfied: langdetect==1.0.7 in /usr/local/lib/python3.7/dist-packages (from spacy_langdetect) (1.0.7)\n",
            "Requirement already satisfied: pytest in /usr/local/lib/python3.7/dist-packages (from spacy_langdetect) (3.6.4)\n",
            "Requirement already satisfied: six in /usr/local/lib/python3.7/dist-packages (from langdetect==1.0.7->spacy_langdetect) (1.15.0)\n",
            "Requirement already satisfied: more-itertools>=4.0.0 in /usr/local/lib/python3.7/dist-packages (from pytest->spacy_langdetect) (8.8.0)\n",
            "Requirement already satisfied: atomicwrites>=1.0 in /usr/local/lib/python3.7/dist-packages (from pytest->spacy_langdetect) (1.4.0)\n",
            "Requirement already satisfied: setuptools in /usr/local/lib/python3.7/dist-packages (from pytest->spacy_langdetect) (57.4.0)\n",
            "Requirement already satisfied: py>=1.5.0 in /usr/local/lib/python3.7/dist-packages (from pytest->spacy_langdetect) (1.10.0)\n",
            "Requirement already satisfied: pluggy<0.8,>=0.5 in /usr/local/lib/python3.7/dist-packages (from pytest->spacy_langdetect) (0.7.1)\n",
            "Requirement already satisfied: attrs>=17.4.0 in /usr/local/lib/python3.7/dist-packages (from pytest->spacy_langdetect) (21.2.0)\n",
            "Requirement already satisfied: pyLDAvis in /usr/local/lib/python3.7/dist-packages (3.3.1)\n",
            "Requirement already satisfied: future in /usr/local/lib/python3.7/dist-packages (from pyLDAvis) (0.16.0)\n",
            "Requirement already satisfied: scikit-learn in /usr/local/lib/python3.7/dist-packages (from pyLDAvis) (0.22.2.post1)\n",
            "Requirement already satisfied: sklearn in /usr/local/lib/python3.7/dist-packages (from pyLDAvis) (0.0)\n",
            "Requirement already satisfied: setuptools in /usr/local/lib/python3.7/dist-packages (from pyLDAvis) (57.4.0)\n",
            "Requirement already satisfied: numpy>=1.20.0 in /usr/local/lib/python3.7/dist-packages (from pyLDAvis) (1.21.2)\n",
            "Requirement already satisfied: funcy in /usr/local/lib/python3.7/dist-packages (from pyLDAvis) (1.16)\n",
            "Requirement already satisfied: numexpr in /usr/local/lib/python3.7/dist-packages (from pyLDAvis) (2.7.3)\n",
            "Requirement already satisfied: gensim in /usr/local/lib/python3.7/dist-packages (from pyLDAvis) (3.6.0)\n",
            "Requirement already satisfied: joblib in /usr/local/lib/python3.7/dist-packages (from pyLDAvis) (1.0.1)\n",
            "Requirement already satisfied: jinja2 in /usr/local/lib/python3.7/dist-packages (from pyLDAvis) (2.11.3)\n",
            "Requirement already satisfied: scipy in /usr/local/lib/python3.7/dist-packages (from pyLDAvis) (1.4.1)\n",
            "Requirement already satisfied: pandas>=1.2.0 in /usr/local/lib/python3.7/dist-packages (from pyLDAvis) (1.2.0)\n",
            "Requirement already satisfied: python-dateutil>=2.7.3 in /usr/local/lib/python3.7/dist-packages (from pandas>=1.2.0->pyLDAvis) (2.8.2)\n",
            "Requirement already satisfied: pytz>=2017.3 in /usr/local/lib/python3.7/dist-packages (from pandas>=1.2.0->pyLDAvis) (2018.9)\n",
            "Requirement already satisfied: six>=1.5 in /usr/local/lib/python3.7/dist-packages (from python-dateutil>=2.7.3->pandas>=1.2.0->pyLDAvis) (1.15.0)\n",
            "Requirement already satisfied: smart-open>=1.2.1 in /usr/local/lib/python3.7/dist-packages (from gensim->pyLDAvis) (5.1.0)\n",
            "Requirement already satisfied: MarkupSafe>=0.23 in /usr/local/lib/python3.7/dist-packages (from jinja2->pyLDAvis) (2.0.1)\n"
          ],
          "name": "stdout"
        },
        {
          "output_type": "stream",
          "text": [
            "/usr/local/lib/python3.7/dist-packages/past/types/oldstr.py:5: DeprecationWarning: Using or importing the ABCs from 'collections' instead of from 'collections.abc' is deprecated since Python 3.3,and in 3.9 it will stop working\n",
            "  from collections import Iterable\n",
            "/usr/local/lib/python3.7/dist-packages/sklearn/decomposition/_lda.py:29: DeprecationWarning: `np.float` is a deprecated alias for the builtin `float`. To silence this warning, use `float` by itself. Doing this will not modify any behavior and is safe. If you specifically wanted the numpy scalar type, use `np.float64` here.\n",
            "Deprecated in NumPy 1.20; for more details and guidance: https://numpy.org/devdocs/release/1.20.0-notes.html#deprecations\n",
            "  EPS = np.finfo(np.float).eps\n"
          ],
          "name": "stderr"
        }
      ]
    },
    {
      "cell_type": "markdown",
      "metadata": {
        "id": "pN2ljhdZkWtn"
      },
      "source": [
        "Loading the data is pretty straightforward as it is already scraped and packaged in a json.\n",
        "Let's first have a look at how it is structured:"
      ]
    },
    {
      "cell_type": "code",
      "metadata": {
        "colab": {
          "base_uri": "https://localhost:8080/",
          "height": 257
        },
        "id": "LTUBWZFyh3RX",
        "outputId": "d33bf5fe-67a2-4cff-c5eb-15de09809469"
      },
      "source": [
        "with open(root+'train_reviews.json') as train_file:\n",
        "    jsondata = json.load(train_file)\n",
        "\n",
        "display(jsondata[:2])\n",
        "initial_length = len(jsondata)\n",
        "print(\"\\n number of reviews: \", initial_length)"
      ],
      "execution_count": 2,
      "outputs": [
        {
          "output_type": "display_data",
          "data": {
            "text/plain": [
              "[{'date': '2015-10-10T14:32:51.000+00:00',\n",
              "  'stars': 'star-rating star-rating-1 star-rating--medium',\n",
              "  'text': \"Used national rail twice and on both occasions I found the staff unpleasant, unfriendly and incompetent. Wasn't helpful in regards to platform information and general customer service skills.\",\n",
              "  'title': 'Bad customer service. Staff are very impolite and rude',\n",
              "  'url': 'https://uk.trustpilot.com/review/www.nationalrail.co.uk?page=4'},\n",
              " {'date': '2015-09-22T17:04:56.000+00:00',\n",
              "  'stars': 'star-rating star-rating-1 star-rating--medium',\n",
              "  'text': \"I phoned National rail to find out why several trains had been cancelled to Brighton, none of the advisers spoke English and told me to check the website. Turns out they cancelled a load of trains just because the train guard didn't show up, meaning many people were stranded at Southampton Central, including myself who had a plane flight to catch early the next morning. Southampton Central is easily the worse run station ever, they seem to cancel trains all the time for absolutely no reason then give you stick for attempting your journey another way or tell you try again tomorrow and merely shrug their shoulders when you ask what is going on. I have also witnessed a member of public being verbally harassed by one of the train guards when she was desperately trying to get home but they cancelled many trains for absolutely no reason. Seems they all want to go home early and stick their feet up.\",\n",
              "  'title': 'Pretty awful service',\n",
              "  'url': 'https://uk.trustpilot.com/review/www.nationalrail.co.uk?page=4'}]"
            ]
          },
          "metadata": {}
        },
        {
          "output_type": "stream",
          "text": [
            "\n",
            " number of reviews:  2021\n"
          ],
          "name": "stdout"
        }
      ]
    },
    {
      "cell_type": "markdown",
      "metadata": {
        "id": "Jyg7ihsDkyOG"
      },
      "source": [
        "It seems to be a well-formed json: an array of dictionaries with each dictionary representing a review; we have 2021 reviews, which matches what the assignment document said (\"about 2000\"). Since there is no issue here, we can load it in pandas for easier handling and optimized operations. \n",
        "\n",
        "*On a side note: Pandas uses numpy and cython under the hood, which in turn use C and thus circumvent python's GIL, allowing for parallelization. We don't necessarily need it here, as this data set is quite small, but it can be nice nonetheless.*"
      ]
    },
    {
      "cell_type": "code",
      "metadata": {
        "colab": {
          "base_uri": "https://localhost:8080/",
          "height": 398
        },
        "id": "IV42qoRii2bX",
        "outputId": "22be9ed9-59b5-4d56-b14a-2e15efdc9616"
      },
      "source": [
        "data = pd.DataFrame.from_dict(jsondata)\n",
        "display(data.head())\n",
        "print(\"length of data: \", len(data))"
      ],
      "execution_count": 3,
      "outputs": [
        {
          "output_type": "display_data",
          "data": {
            "text/html": [
              "<div>\n",
              "<style scoped>\n",
              "    .dataframe tbody tr th:only-of-type {\n",
              "        vertical-align: middle;\n",
              "    }\n",
              "\n",
              "    .dataframe tbody tr th {\n",
              "        vertical-align: top;\n",
              "    }\n",
              "\n",
              "    .dataframe thead th {\n",
              "        text-align: right;\n",
              "    }\n",
              "</style>\n",
              "<table border=\"1\" class=\"dataframe\">\n",
              "  <thead>\n",
              "    <tr style=\"text-align: right;\">\n",
              "      <th></th>\n",
              "      <th>date</th>\n",
              "      <th>title</th>\n",
              "      <th>text</th>\n",
              "      <th>url</th>\n",
              "      <th>stars</th>\n",
              "    </tr>\n",
              "  </thead>\n",
              "  <tbody>\n",
              "    <tr>\n",
              "      <th>0</th>\n",
              "      <td>2015-10-10T14:32:51.000+00:00</td>\n",
              "      <td>Bad customer service. Staff are very impolite ...</td>\n",
              "      <td>Used national rail twice and on both occasions...</td>\n",
              "      <td>https://uk.trustpilot.com/review/www.nationalr...</td>\n",
              "      <td>star-rating star-rating-1 star-rating--medium</td>\n",
              "    </tr>\n",
              "    <tr>\n",
              "      <th>1</th>\n",
              "      <td>2015-09-22T17:04:56.000+00:00</td>\n",
              "      <td>Pretty awful service</td>\n",
              "      <td>I phoned National rail to find out why several...</td>\n",
              "      <td>https://uk.trustpilot.com/review/www.nationalr...</td>\n",
              "      <td>star-rating star-rating-1 star-rating--medium</td>\n",
              "    </tr>\n",
              "    <tr>\n",
              "      <th>2</th>\n",
              "      <td>2015-03-13T23:37:05.000+00:00</td>\n",
              "      <td>Awful staff</td>\n",
              "      <td>I travel from Brokenhast to southampton centra...</td>\n",
              "      <td>https://uk.trustpilot.com/review/www.nationalr...</td>\n",
              "      <td>star-rating star-rating-1 star-rating--medium</td>\n",
              "    </tr>\n",
              "    <tr>\n",
              "      <th>3</th>\n",
              "      <td>2015-01-13T12:26:52.000+00:00</td>\n",
              "      <td>Very good</td>\n",
              "      <td>Saved about £50 on a single trip using Nationa...</td>\n",
              "      <td>https://uk.trustpilot.com/review/www.nationalr...</td>\n",
              "      <td>star-rating star-rating-4 star-rating--medium</td>\n",
              "    </tr>\n",
              "    <tr>\n",
              "      <th>4</th>\n",
              "      <td>2011-05-28T15:00:36.000+00:00</td>\n",
              "      <td>Check it out.</td>\n",
              "      <td>I always use the national rail enquiry site wh...</td>\n",
              "      <td>https://uk.trustpilot.com/review/www.nationalr...</td>\n",
              "      <td>star-rating star-rating-4 star-rating--medium</td>\n",
              "    </tr>\n",
              "  </tbody>\n",
              "</table>\n",
              "</div>"
            ],
            "text/plain": [
              "                            date  ...                                          stars\n",
              "0  2015-10-10T14:32:51.000+00:00  ...  star-rating star-rating-1 star-rating--medium\n",
              "1  2015-09-22T17:04:56.000+00:00  ...  star-rating star-rating-1 star-rating--medium\n",
              "2  2015-03-13T23:37:05.000+00:00  ...  star-rating star-rating-1 star-rating--medium\n",
              "3  2015-01-13T12:26:52.000+00:00  ...  star-rating star-rating-4 star-rating--medium\n",
              "4  2011-05-28T15:00:36.000+00:00  ...  star-rating star-rating-4 star-rating--medium\n",
              "\n",
              "[5 rows x 5 columns]"
            ]
          },
          "metadata": {}
        },
        {
          "output_type": "stream",
          "text": [
            "length of data:  2021\n"
          ],
          "name": "stdout"
        }
      ]
    },
    {
      "cell_type": "markdown",
      "metadata": {
        "id": "ZIDqh5LHnF8A"
      },
      "source": [
        "# Preprocessing and Exploratory Data Analysis"
      ]
    },
    {
      "cell_type": "markdown",
      "metadata": {
        "id": "r_qTcOrIDcsZ"
      },
      "source": [
        "## Preprocessing"
      ]
    },
    {
      "cell_type": "markdown",
      "metadata": {
        "id": "cBfYJHwOnMRO"
      },
      "source": [
        "There is some cleaning up to do. \n",
        "\n",
        "First of all, the url is useless, as it only points to the page the review was scraped from. That would tell us two things: roughly when it was posted and what other reviews the poster saw on that page while posting. The former is better represented by the \"date\" anyway,and taking the latter into account is beyond the scope of this project. \n",
        "\n",
        "Hence we can drop it."
      ]
    },
    {
      "cell_type": "code",
      "metadata": {
        "id": "2JGq_KI9nHQs"
      },
      "source": [
        "if 'url' in data.columns:\n",
        "  del data['url']"
      ],
      "execution_count": 4,
      "outputs": []
    },
    {
      "cell_type": "markdown",
      "metadata": {
        "id": "Rh-TK5hSpOoH"
      },
      "source": [
        "Next, let's check that everything is the data type it should be."
      ]
    },
    {
      "cell_type": "code",
      "metadata": {
        "colab": {
          "base_uri": "https://localhost:8080/"
        },
        "id": "mH1pHvBzpYbg",
        "outputId": "65211b83-9cca-4b13-e2eb-31e1fcfb490d"
      },
      "source": [
        "print(\"data types\")\n",
        "print(\"\\ndate: \", type(data['date'][0]))\n",
        "print(\"title: \", type(data['title'][0]))\n",
        "print(\"text: \", type(data['text'][0]))\n",
        "print(\"stars: \", type(data['stars'][0]))"
      ],
      "execution_count": 5,
      "outputs": [
        {
          "output_type": "stream",
          "text": [
            "data types\n",
            "\n",
            "date:  <class 'str'>\n",
            "title:  <class 'str'>\n",
            "text:  <class 'str'>\n",
            "stars:  <class 'str'>\n"
          ],
          "name": "stdout"
        }
      ]
    },
    {
      "cell_type": "markdown",
      "metadata": {
        "id": "UGUfzHy3qDE2"
      },
      "source": [
        "title and text are ok, they should be string. Date should be datetime and stars needs to be changed as well."
      ]
    },
    {
      "cell_type": "code",
      "metadata": {
        "colab": {
          "base_uri": "https://localhost:8080/"
        },
        "id": "M4LT8EYaqTc3",
        "outputId": "015d8237-8605-4a78-c670-8d085017976e"
      },
      "source": [
        "data['date'] = pd.to_datetime(data['date'])\n",
        "print(\"date new data type: \", type(data['date'][0]))\n",
        "data['date'].head()"
      ],
      "execution_count": 6,
      "outputs": [
        {
          "output_type": "stream",
          "text": [
            "date new data type:  <class 'pandas._libs.tslibs.timestamps.Timestamp'>\n"
          ],
          "name": "stdout"
        },
        {
          "output_type": "execute_result",
          "data": {
            "text/plain": [
              "0   2015-10-10 14:32:51+00:00\n",
              "1   2015-09-22 17:04:56+00:00\n",
              "2   2015-03-13 23:37:05+00:00\n",
              "3   2015-01-13 12:26:52+00:00\n",
              "4   2011-05-28 15:00:36+00:00\n",
              "Name: date, dtype: datetime64[ns, UTC]"
            ]
          },
          "metadata": {},
          "execution_count": 6
        }
      ]
    },
    {
      "cell_type": "markdown",
      "metadata": {
        "id": "ZtvwInjWq-dW"
      },
      "source": [
        "Looks good. \n",
        "\n",
        "Now onto stars: this is a bit more problematic.It contains the obviously important information of how many stars were given in the review, but also the cryptic \"star-rating--medium\" indication. A quick look at the review website does not give a clear indication for what it might be. Let's look into that first to see if we can safely ignore it."
      ]
    },
    {
      "cell_type": "code",
      "metadata": {
        "colab": {
          "base_uri": "https://localhost:8080/",
          "height": 164
        },
        "id": "MARx6YlzrCtR",
        "outputId": "79867dab-1103-4142-e49f-a8ab3238f57c"
      },
      "source": [
        "if isinstance(data['stars'][0] , str):\n",
        "  data['star-rating'] = data['stars'].str.extract(r'--(\\w*)')\n",
        "  display(data['star-rating'].head())\n",
        "  print(\"\\nnumber of data points where star rating is medium: \", len(data[data['star-rating']=='medium']))\n",
        "\n",
        "  if 'star-rating' in data.columns:\n",
        "    if len(data[data['star-rating']=='medium']) == len(data):\n",
        "      del data['star-rating']\n",
        "\n",
        "\n",
        "  data['stars'] = data['stars'].str.extract(r'star-rating-([012345])')\n",
        "  data['stars'] = pd.to_numeric(data['stars'])"
      ],
      "execution_count": 7,
      "outputs": [
        {
          "output_type": "display_data",
          "data": {
            "text/plain": [
              "0    medium\n",
              "1    medium\n",
              "2    medium\n",
              "3    medium\n",
              "4    medium\n",
              "Name: star-rating, dtype: object"
            ]
          },
          "metadata": {}
        },
        {
          "output_type": "stream",
          "text": [
            "\n",
            "number of data points where star rating is medium:  2021\n"
          ],
          "name": "stdout"
        }
      ]
    },
    {
      "cell_type": "code",
      "metadata": {
        "colab": {
          "base_uri": "https://localhost:8080/",
          "height": 316
        },
        "id": "hxafp6sY0ivt",
        "outputId": "02b12e93-da43-45cd-df5d-7c2129f664c9"
      },
      "source": [
        "display(data.head())\n",
        "print(\"data types\")\n",
        "print(\"\\ndate: \", type(data['date'][0]))\n",
        "print(\"title: \", type(data['title'][0]))\n",
        "print(\"text: \", type(data['text'][0]))\n",
        "print(\"stars: \", type(data['stars'][0]))"
      ],
      "execution_count": 8,
      "outputs": [
        {
          "output_type": "display_data",
          "data": {
            "text/html": [
              "<div>\n",
              "<style scoped>\n",
              "    .dataframe tbody tr th:only-of-type {\n",
              "        vertical-align: middle;\n",
              "    }\n",
              "\n",
              "    .dataframe tbody tr th {\n",
              "        vertical-align: top;\n",
              "    }\n",
              "\n",
              "    .dataframe thead th {\n",
              "        text-align: right;\n",
              "    }\n",
              "</style>\n",
              "<table border=\"1\" class=\"dataframe\">\n",
              "  <thead>\n",
              "    <tr style=\"text-align: right;\">\n",
              "      <th></th>\n",
              "      <th>date</th>\n",
              "      <th>title</th>\n",
              "      <th>text</th>\n",
              "      <th>stars</th>\n",
              "    </tr>\n",
              "  </thead>\n",
              "  <tbody>\n",
              "    <tr>\n",
              "      <th>0</th>\n",
              "      <td>2015-10-10 14:32:51+00:00</td>\n",
              "      <td>Bad customer service. Staff are very impolite ...</td>\n",
              "      <td>Used national rail twice and on both occasions...</td>\n",
              "      <td>1</td>\n",
              "    </tr>\n",
              "    <tr>\n",
              "      <th>1</th>\n",
              "      <td>2015-09-22 17:04:56+00:00</td>\n",
              "      <td>Pretty awful service</td>\n",
              "      <td>I phoned National rail to find out why several...</td>\n",
              "      <td>1</td>\n",
              "    </tr>\n",
              "    <tr>\n",
              "      <th>2</th>\n",
              "      <td>2015-03-13 23:37:05+00:00</td>\n",
              "      <td>Awful staff</td>\n",
              "      <td>I travel from Brokenhast to southampton centra...</td>\n",
              "      <td>1</td>\n",
              "    </tr>\n",
              "    <tr>\n",
              "      <th>3</th>\n",
              "      <td>2015-01-13 12:26:52+00:00</td>\n",
              "      <td>Very good</td>\n",
              "      <td>Saved about £50 on a single trip using Nationa...</td>\n",
              "      <td>4</td>\n",
              "    </tr>\n",
              "    <tr>\n",
              "      <th>4</th>\n",
              "      <td>2011-05-28 15:00:36+00:00</td>\n",
              "      <td>Check it out.</td>\n",
              "      <td>I always use the national rail enquiry site wh...</td>\n",
              "      <td>4</td>\n",
              "    </tr>\n",
              "  </tbody>\n",
              "</table>\n",
              "</div>"
            ],
            "text/plain": [
              "                       date  ... stars\n",
              "0 2015-10-10 14:32:51+00:00  ...     1\n",
              "1 2015-09-22 17:04:56+00:00  ...     1\n",
              "2 2015-03-13 23:37:05+00:00  ...     1\n",
              "3 2015-01-13 12:26:52+00:00  ...     4\n",
              "4 2011-05-28 15:00:36+00:00  ...     4\n",
              "\n",
              "[5 rows x 4 columns]"
            ]
          },
          "metadata": {}
        },
        {
          "output_type": "stream",
          "text": [
            "data types\n",
            "\n",
            "date:  <class 'pandas._libs.tslibs.timestamps.Timestamp'>\n",
            "title:  <class 'str'>\n",
            "text:  <class 'str'>\n",
            "stars:  <class 'numpy.int64'>\n"
          ],
          "name": "stdout"
        }
      ]
    },
    {
      "cell_type": "markdown",
      "metadata": {
        "id": "iWDWhfaAyJtc"
      },
      "source": [
        "As it should be.\n",
        "\n",
        "A last couple of safety checks before we continue:"
      ]
    },
    {
      "cell_type": "code",
      "metadata": {
        "colab": {
          "base_uri": "https://localhost:8080/"
        },
        "id": "_7fyixkZ5LiH",
        "outputId": "0f3f384c-fe2f-43a2-acdb-41af4ca20be0"
      },
      "source": [
        "print('Null and NaN values in data set: ', data.isnull().values.any())\n",
        "print('Did we lose any values along the way?', (len(data)!=2021))"
      ],
      "execution_count": 9,
      "outputs": [
        {
          "output_type": "stream",
          "text": [
            "Null and NaN values in data set:  False\n",
            "Did we lose any values along the way? False\n"
          ],
          "name": "stdout"
        }
      ]
    },
    {
      "cell_type": "markdown",
      "metadata": {
        "id": "e6HQL8zlbRMm"
      },
      "source": [
        "## Text Cleaning"
      ]
    },
    {
      "cell_type": "markdown",
      "metadata": {
        "id": "-Xzs3RvbbeIW"
      },
      "source": [
        "We'll do a rough cleaning of the review text here.\n",
        "\n",
        "Admittedly, I did not know about the spacy library before this assignment, but it seems to have some pretty [cool functionality](https://pypi.org/project/spacy-langdetect/) that I want to test out. I will use it to check for and remove non-english reviews.\n",
        "\n",
        "But first, some standard operations (some of which taken from stack overflow, no reason why I shouldn't make life easy for myself):"
      ]
    },
    {
      "cell_type": "code",
      "metadata": {
        "colab": {
          "base_uri": "https://localhost:8080/"
        },
        "id": "ctIi86Ieo0wr",
        "outputId": "3aafde9b-ad0d-486c-fdc1-f037a6132d2c"
      },
      "source": [
        "# Make strings lowercase\n",
        "data['title'] = data['title'].apply(lambda x: str.lower(x))\n",
        "data['text'] = data['text'].apply(lambda x: str.lower(x))\n",
        "\n",
        "# Spellcheck the reviews (not feasibly doable on my machine)\n",
        "#data['text'][:3].apply(lambda x: str(TextBlob(x).correct()))\n",
        "\n",
        "# Remove special characters (leaving dots and apostrophes in)\n",
        "spec_chars = [\"!\",'\"',\"#\",\"%\",\"&\",\"(\",\")\",\n",
        "              \"*\",\"+\",\",\",\"-\",\".\",\"/\",\":\",\";\",\"<\",\n",
        "              \"=\",\">\",\"?\",\"@\",\"[\",\"\\\\\",\"]\",\"^\",\"_\",\n",
        "              \"`\",\"{\",\"|\",\"}\",\"~\",\"–\"]\n",
        "for char in spec_chars:\n",
        "    data['title'] = data['title'].str.replace(char, ' ')\n",
        "    data['text'] = data['text'].str.replace(char, ' ')\n",
        "\n",
        "data['text'] = data['text'].str.split().str.join(\" \")\n",
        "\n",
        "# replace numbers with money\n",
        "data['text'] = data['text'].replace(to_replace=r'\\d+\\xa3', value='money', regex=True)\n",
        "data['text'] = data['text'].replace(to_replace=r'\\xa3\\d+', value='money', regex=True)\n",
        "\n",
        "# replace numbers with hour\n",
        "data['text'] = data['text'].replace(to_replace=r'\\d+pm', value='hour', regex=True)\n",
        "data['text'] = data['text'].replace(to_replace=r'\\d+am', value='hour', regex=True)\n",
        "\n",
        "# split number and text\n",
        "data['text'] = data['text'].apply(lambda x: re.sub(r\"(\\d+(\\.\\d+)?)\",r\" \\1 \", x).strip())\n",
        "\n",
        "# replace numbers (except year numbers) with number\n",
        "data['text'] = data['text'].replace(to_replace=r'\\b(?!(\\D\\S*|[12][0-9]{3})\\b)\\S+\\b', value='number', regex=True)\n",
        "\n",
        "# remove stopwords\n",
        "stop = set(stopwords.words('english'))\n",
        "data['text'].apply(lambda x: remove_stopwords(x))\n",
        "\n",
        "# lemmatize to normalize various forms of the same word, like (train/trains -> train or buying/bought -> buy)\n",
        "w_tokenizer = nltk.tokenize.WhitespaceTokenizer()\n",
        "lemmatizer = nltk.stem.WordNetLemmatizer()\n",
        "\n",
        "def lemmatize_text(text):\n",
        "    return \" \".join([lemmatizer.lemmatize(w) for w in w_tokenizer.tokenize(text)])\n",
        "\n",
        "data['text'] = data['text'].apply(lemmatize_text)\n",
        "\n",
        "data['text']"
      ],
      "execution_count": 10,
      "outputs": [
        {
          "output_type": "stream",
          "text": [
            "/usr/local/lib/python3.7/dist-packages/ipykernel_launcher.py:14: FutureWarning: The default value of regex will change from True to False in a future version. In addition, single character regular expressions will*not* be treated as literal strings when regex=True.\n",
            "  \n",
            "/usr/local/lib/python3.7/dist-packages/ipykernel_launcher.py:15: FutureWarning: The default value of regex will change from True to False in a future version. In addition, single character regular expressions will*not* be treated as literal strings when regex=True.\n",
            "  from ipykernel import kernelapp as app\n"
          ],
          "name": "stderr"
        },
        {
          "output_type": "execute_result",
          "data": {
            "text/plain": [
              "0       Used national rail twice and on both occasion ...\n",
              "1       I phoned National rail to find out why several...\n",
              "2       I travel from Brokenhast to southampton centra...\n",
              "3       Saved about money on a single trip using Natio...\n",
              "4       I always use the national rail enquiry site wh...\n",
              "                              ...                        \n",
              "2016    Late cancelled signal failure too much rain to...\n",
              "2017    Trains are constantly delayed or cancelled I a...\n",
              "2018    On a yearly basis we take a group of Preschool...\n",
              "2019    I travel by them every day I like their newish...\n",
              "2020                           To start with the positive\n",
              "Name: text, Length: 2021, dtype: object"
            ]
          },
          "metadata": {},
          "execution_count": 10
        }
      ]
    },
    {
      "cell_type": "markdown",
      "metadata": {
        "id": "pVB7Mafk7xjS"
      },
      "source": [
        "The reason why I didn't add explicit tags for things I removed, like numbers and hours, is that sklearn's CoutVectorizer will ignore those. Now we still have some numbers in there that are 4 digits and not actual years, but their incidence is minimal, so I won't worry about it affecting the model too much.\n"
      ]
    },
    {
      "cell_type": "code",
      "metadata": {
        "id": "Q3YGC9lHhF11"
      },
      "source": [
        "nlp = spacy.load(\"en\")\n",
        "nlp.add_pipe(LanguageDetector(), name=\"language_detector\", last=True)\n",
        "\n",
        "def print_non_english_data(text: pd.Series):\n",
        "  count = 0\n",
        "  for doc in nlp.pipe(text.values):\n",
        "    lang = doc._.language\n",
        "\n",
        "    # If the language is not english\n",
        "    if lang['language'] != 'en':\n",
        "      count += 1\n",
        "      print(\"score: \", round(lang['score'], 2), \" | language: \", lang['language'], \" | text: \", doc)\n",
        "\n",
        "    # If spacy can't confidently tell if it's english\n",
        "    if ((lang['language'] == 'en') & (lang['score'] < 0.7)):\n",
        "      count += 1\n",
        "      print(\"score: \", round(lang['score'], 2), \" | language: \", lang['language'], \" | text: \", doc)\n",
        "\n",
        "  print(\"Number of possibly non-english reviews found by spacy: \", count, \" in percent: \", round(count/len(data)*100, 2), \"%\")"
      ],
      "execution_count": 11,
      "outputs": []
    },
    {
      "cell_type": "markdown",
      "metadata": {
        "id": "r940i-IyukMC"
      },
      "source": [
        "#### printing non-english text:"
      ]
    },
    {
      "cell_type": "code",
      "metadata": {
        "colab": {
          "base_uri": "https://localhost:8080/"
        },
        "id": "b3CaKKdQsqTS",
        "outputId": "a63076a3-630a-411a-d591-9f4ed819bbd1"
      },
      "source": [
        "print_non_english_data(data['text'])"
      ],
      "execution_count": 12,
      "outputs": [
        {
          "output_type": "stream",
          "text": [
            "score:  0.86  | language:  de  | text:  number June number\n",
            "score:  0.57  | language:  en  | text:  Extremely rude and unhelpful staff\n",
            "score:  0.71  | language:  de  | text:  number June number\n",
            "score:  0.57  | language:  en  | text:  Extremely rude and unhelpful staff\n",
            "score:  0.71  | language:  de  | text:  number June number\n",
            "score:  0.43  | language:  en  | text:  number June number\n",
            "score:  0.71  | language:  de  | text:  number June number\n",
            "score:  0.57  | language:  en  | text:  Extremely rude and unhelpful staff\n",
            "score:  0.71  | language:  de  | text:  number June number\n",
            "score:  0.57  | language:  ro  | text:  Extremely rude and unhelpful staff\n",
            "score:  0.71  | language:  ro  | text:  Extremely rude and unhelpful staff\n",
            "score:  0.72  | language:  de  | text:  number June number\n",
            "score:  0.57  | language:  de  | text:  number June number\n",
            "score:  0.43  | language:  de  | text:  number June number\n",
            "score:  0.71  | language:  ro  | text:  Extremely rude and unhelpful staff\n",
            "score:  0.71  | language:  de  | text:  number June number\n",
            "score:  0.71  | language:  de  | text:  number June number\n",
            "score:  0.57  | language:  en  | text:  Extremely rude and unhelpful staff\n",
            "score:  0.58  | language:  de  | text:  number June number\n",
            "score:  0.43  | language:  de  | text:  number June number\n",
            "score:  0.57  | language:  en  | text:  Extremely rude and unhelpful staff\n",
            "score:  0.71  | language:  de  | text:  number June number\n",
            "score:  0.57  | language:  ro  | text:  Extremely rude and unhelpful staff\n",
            "score:  0.71  | language:  de  | text:  number June number\n",
            "score:  0.86  | language:  ro  | text:  Extremely rude and unhelpful staff\n",
            "score:  0.71  | language:  de  | text:  number June number\n",
            "score:  0.43  | language:  de  | text:  number June number\n",
            "score:  0.43  | language:  de  | text:  number June number\n",
            "score:  0.57  | language:  de  | text:  number June number\n",
            "score:  0.71  | language:  de  | text:  number June number\n",
            "score:  0.71  | language:  sv  | text:  number number number\n",
            "score:  0.57  | language:  en  | text:  Paid money\n",
            "score:  1.0  | language:  de  | text:  RIP OFF\n",
            "score:  0.71  | language:  it  | text:  Poor attitude\n",
            "score:  1.0  | language:  de  | text:  VERY UNHAPPY\n",
            "score:  0.86  | language:  de  | text:  number June number\n",
            "score:  0.57  | language:  ro  | text:  Extremely rude and unhelpful staff\n",
            "score:  0.86  | language:  ro  | text:  Dreadful\n",
            "score:  0.7  | language:  fi  | text:  Hello\n",
            "score:  0.57  | language:  en  | text:  virgin train website is a mess\n",
            "score:  0.57  | language:  en  | text:  Excellent service and delightful staff\n",
            "score:  0.57  | language:  en  | text:  Virgin train customer service are amazing\n",
            "score:  1.0  | language:  fr  | text:  Mieux que le train français\n",
            "score:  0.86  | language:  ro  | text:  Dreadful company\n",
            "score:  0.56  | language:  fi  | text:  Hello\n",
            "score:  1.0  | language:  da  | text:  Rude staff from beginning to end\n",
            "score:  0.86  | language:  ro  | text:  Genuine error or racist service\n",
            "score:  0.43  | language:  af  | text:  Good afternoon\n",
            "score:  1.0  | language:  no  | text:  getting better\n",
            "score:  1.0  | language:  cy  | text:  Avoid if you can\n",
            "score:  0.72  | language:  no  | text:  No internet\n",
            "score:  1.0  | language:  pt  | text:  Final Post\n",
            "score:  0.57  | language:  ro  | text:  Eurostar\n",
            "score:  0.71  | language:  pt  | text:  I do not recommend\n",
            "score:  1.0  | language:  et  | text:  Traumatised\n",
            "score:  1.0  | language:  cy  | text:  Avoid if you can\n",
            "score:  1.0  | language:  no  | text:  No internet\n",
            "score:  0.57  | language:  en  | text:  I've just f ing had enough\n",
            "score:  1.0  | language:  et  | text:  just no\n",
            "score:  1.0  | language:  da  | text:  I've given up Left my job\n",
            "score:  1.0  | language:  so  | text:  Dear sir madam\n",
            "score:  0.71  | language:  sv  | text:  I've just f ing had enough\n",
            "score:  0.57  | language:  en  | text:  word fail me\n",
            "score:  1.0  | language:  it  | text:  Incompetent\n",
            "score:  1.0  | language:  cy  | text:  God awful\n",
            "score:  0.86  | language:  es  | text:  Unacceptable refund policy\n",
            "score:  0.57  | language:  en  | text:  number Overbooked train\n",
            "score:  0.57  | language:  ro  | text:  Extremely poor\n",
            "score:  0.57  | language:  en  | text:  Very disappointing in so many way\n",
            "Number of possibly non-english reviews found by spacy:  69  in percent:  3.41 %\n"
          ],
          "name": "stdout"
        }
      ]
    },
    {
      "cell_type": "markdown",
      "metadata": {
        "id": "njMfABSxuqUa"
      },
      "source": [
        "#### printing non-english titles:"
      ]
    },
    {
      "cell_type": "code",
      "metadata": {
        "colab": {
          "base_uri": "https://localhost:8080/"
        },
        "id": "U2lCCEKQsvuZ",
        "outputId": "0726aef7-f34b-4b4b-d980-7a1d6f3c3c7c"
      },
      "source": [
        "print_non_english_data(data['title'])"
      ],
      "execution_count": 13,
      "outputs": [
        {
          "output_type": "stream",
          "text": [
            "score:  0.71  | language:  cy  | text:  Awful staff\n",
            "score:  1.0  | language:  af  | text:  Very good\n",
            "score:  0.85  | language:  af  | text:  Worst in europe\n",
            "score:  0.73  | language:  nl  | text:  Poor website design\n",
            "score:  1.0  | language:  da  | text:  Todmorden to Huddersfield\n",
            "score:  1.0  | language:  et  | text:  Useless\n",
            "score:  1.0  | language:  so  | text:  Bad bad bad \n",
            "score:  1.0  | language:  fr  | text:  No complaints\n",
            "score:  1.0  | language:  af  | text:  Not Good\n",
            "score:  0.57  | language:  en  | text:  No trust     \n",
            "score:  1.0  | language:  ca  | text:  Excellent Service\n",
            "score:  0.86  | language:  nl  | text:  Caledonian Sleeper\n",
            "score:  1.0  | language:  af  | text:  Not Good\n",
            "score:  1.0  | language:  af  | text:  Not Good\n",
            "score:  1.0  | language:  af  | text:  Not Good\n",
            "score:  1.0  | language:  af  | text:  Not Good\n",
            "score:  1.0  | language:  af  | text:  Not Good\n",
            "score:  0.57  | language:  en  | text:  No trust     \n",
            "score:  0.57  | language:  en  | text:  No trust     \n",
            "score:  1.0  | language:  af  | text:  Not Good\n",
            "score:  1.0  | language:  af  | text:  Not Good\n",
            "score:  1.0  | language:  af  | text:  Not Good\n",
            "score:  0.57  | language:  en  | text:  No trust     \n",
            "score:  0.53  | language:  en  | text:  Deplorable service\n",
            "score:  0.57  | language:  en  | text:  No trust     \n",
            "score:  1.0  | language:  af  | text:  Not Good\n",
            "score:  1.0  | language:  af  | text:  Not Good\n",
            "score:  1.0  | language:  af  | text:  Not Good\n",
            "score:  1.0  | language:  af  | text:  Not Good\n",
            "score:  0.57  | language:  en  | text:  No trust     \n",
            "score:  1.0  | language:  af  | text:  Not Good\n",
            "score:  1.0  | language:  af  | text:  Not Good\n",
            "score:  0.58  | language:  en  | text:  No trust     \n",
            "score:  0.57  | language:  en  | text:  Extremely rude and unhelpful staff  \n",
            "score:  1.0  | language:  af  | text:  Not Good\n",
            "score:  0.57  | language:  en  | text:  No trust     \n",
            "score:  1.0  | language:  af  | text:  Not Good\n",
            "score:  0.56  | language:  en  | text:  Deplorable service\n",
            "score:  0.86  | language:  ro  | text:  Vile customer service\n",
            "score:  1.0  | language:  cy  | text:  Awful\n",
            "score:  0.94  | language:  af  | text:  Dire\n",
            "score:  1.0  | language:  af  | text:  Not Good\n",
            "score:  1.0  | language:  af  | text:  Not Good\n",
            "score:  1.0  | language:  af  | text:  Not Good\n",
            "score:  0.57  | language:  en  | text:  Extremely rude and unhelpful staff  \n",
            "score:  0.0  | language:  UNKNOWN  | text:  30 05 18\n",
            "score:  0.66  | language:  fr  | text:  Crap\n",
            "score:  1.0  | language:  cy  | text:  Paddy   Michael\n",
            "score:  0.57  | language:  fr  | text:  Terrible response time no answer to my question via email\n",
            "score:  1.0  | language:  cy  | text:  Paid  £120\n",
            "score:  0.71  | language:  es  | text:  No replies to repay delay\n",
            "score:  0.57  | language:  af  | text:  Very Poor \n",
            "score:  1.0  | language:  ca  | text:  Terrible\n",
            "score:  0.71  | language:  de  | text:  ABSOLUTELY AWFUL EXPERIENCE WITH VIRGIN TRAINS   \n",
            "score:  0.71  | language:  nl  | text:  Poor service\n",
            "score:  1.0  | language:  de  | text:  GOOD\n",
            "score:  0.86  | language:  ro  | text:  Awful  awful company\n",
            "score:  0.86  | language:  tl  | text:  Appalling company\n",
            "score:  1.0  | language:  de  | text:  RIP OFF \n",
            "score:  0.57  | language:  ro  | text:  Vile customer service\n",
            "score:  0.86  | language:  cy  | text:  Awful\n",
            "score:  1.0  | language:  af  | text:  Dire\n",
            "score:  1.0  | language:  da  | text:  Horrendous service even before travelling\n",
            "score:  0.57  | language:  ro  | text:  Dreadful Service   Constant Excuses\n",
            "score:  0.71  | language:  af  | text:  Treated like CATTLE  do not travel on weekends\n",
            "score:  0.43  | language:  ro  | text:  Virgin trains are absolute shiiit\n",
            "score:  0.86  | language:  ro  | text:  Absolute SH TE\n",
            "score:  0.57  | language:  ca  | text:  Regular virgin traveller several times …\n",
            "score:  0.86  | language:  fr  | text:  Ridiculous excuses given for less …\n",
            "score:  0.57  | language:  fr  | text:  Do not use virgin trains \n",
            "score:  1.0  | language:  de  | text:  VERY UNHAPPY \n",
            "score:  1.0  | language:  de  | text:  DIGUSTING TREATMENT OF DISABLED PEOPLE\n",
            "score:  0.86  | language:  it  | text:  Brutal monopoly\n",
            "score:  1.0  | language:  af  | text:  Not Good\n",
            "score:  1.0  | language:  af  | text:  Website wouldn't let me book trian …\n",
            "score:  0.6  | language:  pt  | text:  Almost comical\n",
            "score:  0.86  | language:  nl  | text:  Hot   Late\n",
            "score:  0.86  | language:  fr  | text:  unbelievable inefficient customer support\n",
            "score:  1.0  | language:  et  | text:  Useless\n",
            "score:  0.57  | language:  en  | text:  One star for Vitgin trains\n",
            "score:  1.0  | language:  cy  | text:  Awful\n",
            "score:  0.57  | language:  af  | text:  Do not but hot drinks it's sub standard …\n",
            "score:  0.57  | language:  fr  | text:  Virgin trains  great compensation experience   \n",
            "score:  0.86  | language:  nl  | text:  Can we just jump in   defend the …\n",
            "score:  0.57  | language:  af  | text:  Does virgin have morals \n",
            "score:  1.0  | language:  fr  | text:  train journey\n",
            "score:  1.0  | language:  fr  | text:  fast but expensive\n",
            "score:  0.57  | language:  ro  | text:  Rude male staff\n",
            "score:  1.0  | language:  fr  | text:  Non existent customer complaints response\n",
            "score:  0.71  | language:  af  | text:  Jokers\n",
            "score:  1.0  | language:  lt  | text:  POOR  POOR  POOR \n",
            "score:  0.61  | language:  fi  | text:  Hello\n",
            "score:  0.57  | language:  cy  | text:      you and your pay as you go Wi Fi\n",
            "score:  0.57  | language:  af  | text:  Disgusted \n",
            "score:  0.71  | language:  af  | text:  Mixed views\n",
            "score:  1.0  | language:  et  | text:  Useles\n",
            "score:  0.86  | language:  fr  | text:  Amateur operation\n",
            "score:  0.57  | language:  ro  | text:  Awful service  persistent problem\n",
            "score:  1.0  | language:  fr  | text:  Unpleasant journey\n",
            "score:  1.0  | language:  de  | text:  DISABLED UNFRIENDLY TRAVEL AND HATE SPEECH USING STAFF\n",
            "score:  0.71  | language:  fi  | text:  WiFi on Virgin Trains is a joke\n",
            "score:  0.86  | language:  so  | text:  Rubbish\n",
            "score:  1.0  | language:  it  | text:  Call centre\n",
            "score:  1.0  | language:  de  | text:  Rude Staffs\n",
            "score:  0.86  | language:  de  | text:  Excellent website\n",
            "score:  1.0  | language:  de  | text:  UTTER RUBBISH   NON CARING   NON UNDERSTANDING   RIP OFF MERCHANTS\n",
            "score:  0.7  | language:  en  | text:  Phone line customer service an absolute disgrace\n",
            "score:  1.0  | language:  pt  | text:  no sense\n",
            "score:  1.0  | language:  no  | text:  Travelling Virgin  Bring an oxygen mask\n",
            "score:  0.86  | language:  no  | text:  Stole £117 from me\n",
            "score:  1.0  | language:  af  | text:  Poor reward system\n",
            "score:  1.0  | language:  tl  | text:  Annoying a lot\n",
            "score:  1.0  | language:  de  | text:  First Class disaster\n",
            "score:  1.0  | language:  it  | text:  Ignorance\n",
            "score:  1.0  | language:  et  | text:  First Class mistake \n",
            "score:  1.0  | language:  it  | text:  Fantastic\n",
            "score:  1.0  | language:  ca  | text:  Terrible\n",
            "score:  0.71  | language:  tl  | text:  No luggage space\n",
            "score:  1.0  | language:  id  | text:  abandoned\n",
            "score:  0.57  | language:  nl  | text:  Not even worth 1 star\n",
            "score:  0.86  | language:  fr  | text:  Superb journey\n",
            "score:  0.57  | language:  et  | text:  Disgusting toilets\n",
            "score:  0.71  | language:  ro  | text:  Awful customer service\n",
            "score:  1.0  | language:  it  | text:  Cancellations\n",
            "score:  1.0  | language:  it  | text:  No railcard no travel \n",
            "score:  1.0  | language:  da  | text:  Rude food and beverage operater\n",
            "score:  1.0  | language:  fi  | text:  Absolute joke\n",
            "score:  0.86  | language:  fr  | text:  First class disappointment\n",
            "score:  0.71  | language:  af  | text:  Disgusting\n",
            "score:  1.0  | language:  so  | text:  Good\n",
            "score:  1.0  | language:  cy  | text:  Awful\n",
            "score:  1.0  | language:  af  | text:  disastrous website revamp\n",
            "score:  0.71  | language:  sv  | text:  Appalling standards\n",
            "score:  1.0  | language:  it  | text:  so unorganised\n",
            "score:  1.0  | language:  it  | text:  Fantastic\n",
            "score:  1.0  | language:  de  | text:  DISGUSTING SERVICE\n",
            "score:  1.0  | language:  cy  | text:  Awful\n",
            "score:  1.0  | language:  no  | text:  Travelled in style\n",
            "score:  1.0  | language:  so  | text:  GUTTED WITH YOUR SERVICE\n",
            "score:  1.0  | language:  ca  | text:  Terrible\n",
            "score:  1.0  | language:  so  | text:  Mixed Bag\n",
            "score:  1.0  | language:  da  | text:  Still terrible\n",
            "score:  1.0  | language:  pt  | text:  A con\n",
            "score:  0.73  | language:  es  | text:  Terrible experience\n",
            "score:  1.0  | language:  de  | text:  Best UK Train Line\n",
            "score:  0.57  | language:  en  | text:  Shocking\n",
            "score:  1.0  | language:  nl  | text:  worst ride ever\n",
            "score:  1.0  | language:  ro  | text:  Dreadful company\n",
            "score:  0.57  | language:  en  | text:  still smell of poo\n",
            "score:  1.0  | language:  nl  | text:  Freezing Noisy Yuk\n",
            "score:  1.0  | language:  af  | text:  very poor\n",
            "score:  1.0  | language:  sw  | text:  Amazing\n",
            "score:  1.0  | language:  cy  | text:  Awful\n",
            "score:  0.71  | language:  fr  | text:  Last minute cancellations\n",
            "score:  1.0  | language:  ro  | text:  An Awful Experience\n",
            "score:  0.86  | language:  ro  | text:  Almost perfect \n",
            "score:  1.0  | language:  fr  | text:  Outrageous\n",
            "score:  1.0  | language:  ro  | text:  Awful experience \n",
            "score:  1.0  | language:  es  | text:  general experience\n",
            "score:  1.0  | language:  it  | text:  All PR no service\n",
            "score:  1.0  | language:  ca  | text:  BEWARE VIRGIN EAST COAST\n",
            "score:  1.0  | language:  nl  | text:  worst ride ever\n",
            "score:  1.0  | language:  nl  | text:  Freezing Noisy Yuk\n",
            "score:  1.0  | language:  af  | text:  very poor\n",
            "score:  1.0  | language:  sw  | text:  Amazing\n",
            "score:  0.57  | language:  fr  | text:  Useless insurance\n",
            "score:  1.0  | language:  af  | text:  Website bookings\n",
            "score:  1.0  | language:  de  | text:  RUBBISH SERVICE\n",
            "score:  1.0  | language:  ca  | text:  Regular traveler\n",
            "score:  0.69  | language:  ca  | text:  EuroNOstars \n",
            "score:  1.0  | language:  es  | text:  Very poor Eurostar experience \n",
            "score:  0.71  | language:  pt  | text:  no room for prams  \n",
            "score:  0.57  | language:  ca  | text:  Absolutely diabolical company\n",
            "score:  0.59  | language:  ca  | text:  Arriva lata trains\n",
            "score:  0.57  | language:  en  | text:  Awful customer service\n",
            "score:  1.0  | language:  et  | text:  Avoid  avoid and avoid \n",
            "score:  0.71  | language:  ca  | text:  Terrible \n",
            "score:  0.86  | language:  pt  | text:  no room for prams  \n",
            "score:  0.72  | language:  ca  | text:  Arriva lata trains\n",
            "score:  0.86  | language:  da  | text:  Rude staff from beginning to end\n",
            "score:  0.59  | language:  en  | text:  Genuine error or racist service \n",
            "score:  1.0  | language:  et  | text:  just OK\n",
            "score:  1.0  | language:  no  | text:  getting better \n",
            "score:  0.57  | language:  en  | text:  Zero customer care  respect or empathy \n",
            "score:  1.0  | language:  it  | text:  Entente not so Cordiale…\n",
            "score:  1.0  | language:  ro  | text:  Awful Eurostar experience \n",
            "score:  0.86  | language:  no  | text:  I have taken eurostar frequently for 10…\n",
            "score:  0.86  | language:  cy  | text:  Avoid if you can\n",
            "score:  1.0  | language:  da  | text:  Rude staff\n",
            "score:  1.0  | language:  pt  | text:  No refund\n",
            "score:  0.71  | language:  af  | text:  Booked bikes did not arrive \n",
            "score:  0.78  | language:  da  | text:  Eurostar  forget it \n",
            "score:  1.0  | language:  tr  | text:  Yesterday\n",
            "score:  0.57  | language:  en  | text:  Eurostar simply doesn’t care about you   nil points \n",
            "score:  1.0  | language:  fr  | text:  Pleasant journey\n",
            "score:  0.57  | language:  en  | text:  Rude staff at Moor Street\n",
            "score:  0.86  | language:  fr  | text:  Comfortable return journey\n",
            "score:  1.0  | language:  fr  | text:  Excellent organisation\n",
            "score:  0.57  | language:  tl  | text:  A normal day no delays but poor\n",
            "score:  0.86  | language:  da  | text:  Error ordering\n",
            "score:  0.71  | language:  ro  | text:  Awful customer service\n",
            "score:  1.0  | language:  et  | text:  Avoid  avoid and avoid \n",
            "score:  1.0  | language:  ca  | text:  Terrible \n",
            "score:  1.0  | language:  de  | text:  BOOKING WEBSITE IS HORRENDOUS\n",
            "score:  0.57  | language:  en  | text:  Charlie Macauley\n",
            "score:  0.43  | language:  no  | text:  Unbelievable no refund possible\n",
            "score:  0.86  | language:  ro  | text:  Unacceptable customer service\n",
            "score:  0.86  | language:  ca  | text:  excellent customer service\n",
            "score:  0.71  | language:  no  | text:  Never take eurostar again \n",
            "score:  0.71  | language:  ro  | text:  Awful customer service\n",
            "score:  0.57  | language:  en  | text:  God help you if you are delayed and …\n",
            "score:  0.29  | language:  nl  | text:  Poor Eurostar experience in Paris\n",
            "score:  1.0  | language:  ca  | text:  Eurostar Shambles  \n",
            "score:  1.0  | language:  ca  | text:  Totally unacceptable\n",
            "score:  0.57  | language:  lt  | text:  I'm furious \n",
            "score:  1.0  | language:  et  | text:  Traumatised\n",
            "score:  0.57  | language:  no  | text:  I have taken eurostar frequently for 10…\n",
            "score:  0.86  | language:  cy  | text:  Avoid if you can\n",
            "score:  1.0  | language:  da  | text:  Rude staff\n",
            "score:  1.0  | language:  pt  | text:  No refund\n",
            "score:  1.0  | language:  af  | text:  Booked bikes did not arrive \n",
            "score:  1.0  | language:  de  | text:  DIGUSTING TREATMENT OF DISABLED PEOPLE\n",
            "score:  0.86  | language:  no  | text:  Problem in tunnel very badly handled\n",
            "score:  0.86  | language:  tl  | text:  Appalling\n",
            "score:  0.57  | language:  en  | text:  Terrible UX\n",
            "score:  0.57  | language:  fi  | text:  Royal Britainnia\n",
            "score:  0.71  | language:  de  | text:  DO NOT USE\n",
            "score:  1.0  | language:  nl  | text:  Worst management ever\n",
            "score:  0.57  | language:  sv  | text:  I've just f   ing had enough\n",
            "score:  0.71  | language:  fr  | text:  Youre a disgrace\n",
            "score:  0.57  | language:  en  | text:  Do unto others as you expect unto you \n",
            "score:  0.57  | language:  fr  | text:  Unbelievable    once again late train …\n",
            "score:  1.0  | language:  de  | text:  Minus 1 Star\n",
            "score:  0.57  | language:  en  | text:  It is impossible to imagine a poorer …\n",
            "score:  0.71  | language:  it  | text:  Never fail to disappoint\n",
            "score:  1.0  | language:  et  | text:  Useless useless useless\n",
            "score:  0.57  | language:  en  | text:  Bus replacement service shambles\n",
            "score:  1.0  | language:  ca  | text:  Terrible\n",
            "score:  0.57  | language:  so  | text:  Beyond rubbish\n",
            "score:  0.86  | language:  so  | text:  Why oooohh why   \n",
            "score:  0.85  | language:  hr  | text:                just no \n",
            "score:  1.0  | language:  fr  | text:  Outrageous\n",
            "score:  1.0  | language:  so  | text:  wow so bad\n",
            "score:  0.86  | language:  ro  | text:  Dreadful \n",
            "score:  0.71  | language:  fr  | text:  Patience exhausted\n",
            "score:  1.0  | language:  fr  | text:  Most vile company\n",
            "score:  0.86  | language:  af  | text:  Stop striking\n",
            "score:  0.57  | language:  fr  | text:  Impressively contemptuous\n",
            "score:  1.0  | language:  da  | text:  Suggestion\n",
            "score:  0.86  | language:  ca  | text:  Embarrassment\n",
            "score:  0.86  | language:  ro  | text:  Tunbridge 30 minute delay\n",
            "score:  0.57  | language:  hu  | text:  Absolutely DISGRACEFUL   \n",
            "score:  1.0  | language:  it  | text:  Incompetent\n",
            "score:  0.86  | language:  fr  | text:  Youre a disgrace\n",
            "score:  1.0  | language:  ro  | text:  Rude customer service\n",
            "score:  0.71  | language:  sv  | text:  Shocking\n",
            "score:  1.0  | language:  it  | text:  Incompetent\n",
            "score:  0.71  | language:  it  | text:  Rotten service \n",
            "score:  0.5  | language:  en  | text:  MPs need to get involved    \n",
            "score:  0.57  | language:  en  | text:  unbelievably bad\n",
            "score:  1.0  | language:  cy  | text:  Awful\n",
            "score:  0.6  | language:  en  | text:  Give me an alternative \n",
            "score:  0.71  | language:  sl  | text:  One big joke\n",
            "score:  0.57  | language:  ca  | text:  Terrible \n",
            "score:  0.86  | language:  af  | text:  Jokers\n",
            "score:  0.86  | language:  da  | text:  I have STD\n",
            "score:  1.0  | language:  da  | text:  Unbelievable    \n",
            "score:  1.0  | language:  ca  | text:  Terrible\n",
            "score:  0.57  | language:  en  | text:  Needs massive improvement\n",
            "score:  1.0  | language:  it  | text:  Dire dire dire\n",
            "score:  1.0  | language:  af  | text:  TOD doesn't work\n",
            "score:  0.86  | language:  so  | text:  You may as well walk \n",
            "score:  1.0  | language:  et  | text:  Useless   \n",
            "score:  0.57  | language:  af  | text:  Useless new booking website\n",
            "score:  0.57  | language:  de  | text:  Website utterly unusable\n",
            "score:  1.0  | language:  de  | text:  Website is unusable\n",
            "score:  0.57  | language:  de  | text:  New Website\n",
            "score:  0.86  | language:  ro  | text:  Awful service\n",
            "score:  0.64  | language:  es  | text:  Despicable service\n",
            "score:  1.0  | language:  cy  | text:  Awful\n",
            "score:  0.57  | language:  cy  | text:  Awful \n",
            "score:  1.0  | language:  cy  | text:  Awful awful awful GWR\n",
            "score:  1.0  | language:  fr  | text:  Constant issues\n",
            "score:  1.0  | language:  vi  | text:  LIFE THREATENING OVERCROWDING\n",
            "score:  1.0  | language:  de  | text:  DISGUSTING AND POOR SERVICE\n",
            "score:  1.0  | language:  ca  | text:  Crap \n",
            "score:  0.86  | language:  nl  | text:  Where do I begin \n",
            "score:  0.86  | language:  pt  | text:  Abhorrent\n",
            "score:  1.0  | language:  it  | text:  Well done in difficult circumstances\n",
            "score:  0.43  | language:  et  | text:  Absolutely jarring\n",
            "score:  0.86  | language:  nl  | text:  Zero star review\n",
            "score:  0.57  | language:  en  | text:  A disgraceful shambles\n",
            "score:  0.86  | language:  es  | text:  19 03 departure London Paddington to…\n",
            "score:  0.57  | language:  en  | text:  AWFUL SERVICE\n",
            "score:  0.86  | language:  ro  | text:  Dreadful\n",
            "score:  1.0  | language:  it  | text:  Diabolical service\n",
            "score:  0.71  | language:  it  | text:  different standards\n",
            "score:  0.57  | language:  en  | text:  Bristol to London\n",
            "score:  0.57  | language:  fr  | text:  Lies and more lies\n",
            "score:  1.0  | language:  so  | text:  ME AGAIN\n",
            "score:  1.0  | language:  es  | text:  40 minutes delayed  no delay repay\n",
            "score:  0.86  | language:  de  | text:  Disgrace\n",
            "score:  1.0  | language:  it  | text:  Inefficient\n",
            "score:  1.0  | language:  ca  | text:  Unreliable\n",
            "score:  0.86  | language:  ca  | text:  Major improvements required\n",
            "score:  0.86  | language:  ro  | text:  Awful service  avoid \n",
            "score:  1.0  | language:  cy  | text:  God awful\n",
            "score:  1.0  | language:  de  | text:  Web site DIRE \n",
            "score:  1.0  | language:  ca  | text:  Terrible\n",
            "score:  0.58  | language:  es  | text:  Unacceptable refund policy\n",
            "score:  1.0  | language:  de  | text:  OUTSTANDING CUSTOMER SERVICE\n",
            "score:  0.57  | language:  cy  | text:  Awful \n",
            "score:  1.0  | language:  fr  | text:  Constant issues\n",
            "score:  1.0  | language:  vi  | text:  LIFE THREATENING OVERCROWDING\n",
            "score:  0.44  | language:  es  | text:  Horrific experience \n",
            "score:  1.0  | language:  de  | text:  DISGUSTING AND POOR SERVICE\n",
            "score:  1.0  | language:  ca  | text:  Crap \n",
            "score:  0.86  | language:  nl  | text:  Where do I begin \n",
            "score:  0.43  | language:  fr  | text:  Grand central rail  don't do it   \n",
            "score:  0.86  | language:  ro  | text:  Awful service\n",
            "score:  1.0  | language:  fr  | text:  Luxurious  Direct Travel  \n",
            "score:  0.86  | language:  cy  | text:  Always awful\n",
            "score:  0.57  | language:  en  | text:  Horrific\n",
            "score:  1.0  | language:  de  | text:  Disgrace\n",
            "score:  1.0  | language:  nl  | text:  Does not even deserve one star\n",
            "score:  1.0  | language:  pt  | text:  A disgrace\n",
            "score:  0.57  | language:  en  | text:  A terrible terrible service if you’re…\n",
            "score:  1.0  | language:  pt  | text:  A disgrace\n",
            "score:  1.0  | language:  fr  | text:  Super expensive\n",
            "score:  0.71  | language:  ro  | text:  Disgraceful service for exorbitant ticket price \n",
            "score:  1.0  | language:  ro  | text:  Rude\n",
            "score:  1.0  | language:  pl  | text:  Oxymoron\n",
            "score:  1.0  | language:  cy  | text:  Well well\n",
            "score:  0.86  | language:  et  | text:  just terrible\n",
            "score:  1.0  | language:  it  | text:  Late\n",
            "Number of possibly non-english reviews found by spacy:  335  in percent:  16.58 %\n"
          ],
          "name": "stdout"
        }
      ]
    },
    {
      "cell_type": "markdown",
      "metadata": {
        "id": "U3FFeXQzux4y"
      },
      "source": [
        "#### looking at specific examples:"
      ]
    },
    {
      "cell_type": "code",
      "metadata": {
        "colab": {
          "base_uri": "https://localhost:8080/",
          "height": 49
        },
        "id": "pOKIqw5kRVuC",
        "outputId": "7ada2ea1-4d0d-480f-a44e-3fbec777c847"
      },
      "source": [
        "data[data['text'] == 'not good']"
      ],
      "execution_count": 49,
      "outputs": [
        {
          "output_type": "execute_result",
          "data": {
            "text/html": [
              "<div>\n",
              "<style scoped>\n",
              "    .dataframe tbody tr th:only-of-type {\n",
              "        vertical-align: middle;\n",
              "    }\n",
              "\n",
              "    .dataframe tbody tr th {\n",
              "        vertical-align: top;\n",
              "    }\n",
              "\n",
              "    .dataframe thead th {\n",
              "        text-align: right;\n",
              "    }\n",
              "</style>\n",
              "<table border=\"1\" class=\"dataframe\">\n",
              "  <thead>\n",
              "    <tr style=\"text-align: right;\">\n",
              "      <th></th>\n",
              "      <th>date</th>\n",
              "      <th>title</th>\n",
              "      <th>text</th>\n",
              "      <th>stars</th>\n",
              "    </tr>\n",
              "  </thead>\n",
              "  <tbody>\n",
              "  </tbody>\n",
              "</table>\n",
              "</div>"
            ],
            "text/plain": [
              "Empty DataFrame\n",
              "Columns: [date, title, text, stars]\n",
              "Index: []"
            ]
          },
          "metadata": {},
          "execution_count": 49
        }
      ]
    },
    {
      "cell_type": "code",
      "metadata": {
        "colab": {
          "base_uri": "https://localhost:8080/",
          "height": 49
        },
        "id": "6HgGONeDRxc3",
        "outputId": "707c6020-fecf-487e-8d2e-78715496ba14"
      },
      "source": [
        "data[data['text'] == 'No trust']"
      ],
      "execution_count": 50,
      "outputs": [
        {
          "output_type": "execute_result",
          "data": {
            "text/html": [
              "<div>\n",
              "<style scoped>\n",
              "    .dataframe tbody tr th:only-of-type {\n",
              "        vertical-align: middle;\n",
              "    }\n",
              "\n",
              "    .dataframe tbody tr th {\n",
              "        vertical-align: top;\n",
              "    }\n",
              "\n",
              "    .dataframe thead th {\n",
              "        text-align: right;\n",
              "    }\n",
              "</style>\n",
              "<table border=\"1\" class=\"dataframe\">\n",
              "  <thead>\n",
              "    <tr style=\"text-align: right;\">\n",
              "      <th></th>\n",
              "      <th>date</th>\n",
              "      <th>title</th>\n",
              "      <th>text</th>\n",
              "      <th>stars</th>\n",
              "    </tr>\n",
              "  </thead>\n",
              "  <tbody>\n",
              "  </tbody>\n",
              "</table>\n",
              "</div>"
            ],
            "text/plain": [
              "Empty DataFrame\n",
              "Columns: [date, title, text, stars]\n",
              "Index: []"
            ]
          },
          "metadata": {},
          "execution_count": 50
        }
      ]
    },
    {
      "cell_type": "markdown",
      "metadata": {
        "id": "FnSM3D9QqO-l"
      },
      "source": [
        "Text operations unfortunately always take long (and looping in python is a sin), but luckily we have only a small data set. It is clear that spacy's accuracy is not always what we wish for, especially for short strings. It is therefore clear we can only hope to use it on text and not the title.\n",
        "\n",
        "We found another porblem, however>: repeated reviews. These need to be removed, otherwise they will skew the model. Again, we will only remove repeated text. Titles might repeat for otherwise unique reviews; if the title between two non-unique reviews overlaps, removing repeated text will take care of that."
      ]
    },
    {
      "cell_type": "markdown",
      "metadata": {
        "id": "P43OPO_Yu5Jd"
      },
      "source": [
        "#### removing duplicates and looking at the result:"
      ]
    },
    {
      "cell_type": "code",
      "metadata": {
        "colab": {
          "base_uri": "https://localhost:8080/"
        },
        "id": "vY8HdibbsS1q",
        "outputId": "5323ed85-fa68-40ee-a4a3-d89b7027e3d4"
      },
      "source": [
        "data_len = len(data)\n",
        "data = data.drop_duplicates(subset=['text'])#\n",
        "print(\"length before: \", data_len, \"length after: \", len(data))\n",
        "print(\"removed duplicates: \", data_len-len(data), \" in percent: \", round((data_len-len(data))/data_len*100, 2), \"%\")"
      ],
      "execution_count": 17,
      "outputs": [
        {
          "output_type": "stream",
          "text": [
            "length before:  2021 length after:  1437\n",
            "removed duplicates:  584  in percent:  28.9 %\n"
          ],
          "name": "stdout"
        }
      ]
    },
    {
      "cell_type": "markdown",
      "metadata": {
        "id": "PclspM1FwRYh"
      },
      "source": [
        "Quite a lot of duplicates, unfortunately. "
      ]
    },
    {
      "cell_type": "code",
      "metadata": {
        "colab": {
          "base_uri": "https://localhost:8080/"
        },
        "id": "a028S_n5u_8L",
        "outputId": "57ce8c6f-ffa4-4514-8719-a1f62e94c779"
      },
      "source": [
        "print_non_english_data(data['text'])"
      ],
      "execution_count": 18,
      "outputs": [
        {
          "output_type": "stream",
          "text": [
            "score:  0.71  | language:  de  | text:  number June number\n",
            "score:  0.57  | language:  en  | text:  Extremely rude and unhelpful staff\n",
            "score:  0.86  | language:  sv  | text:  number number number\n",
            "score:  1.0  | language:  de  | text:  RIP OFF\n",
            "score:  0.57  | language:  it  | text:  Poor attitude\n",
            "score:  1.0  | language:  de  | text:  VERY UNHAPPY\n",
            "score:  0.71  | language:  ro  | text:  Dreadful\n",
            "score:  0.57  | language:  fi  | text:  Hello\n",
            "score:  0.43  | language:  en  | text:  Virgin train customer service are amazing\n",
            "score:  1.0  | language:  fr  | text:  Mieux que le train français\n",
            "score:  1.0  | language:  ro  | text:  Dreadful company\n",
            "score:  0.57  | language:  en  | text:  still smell of poo\n",
            "score:  0.86  | language:  da  | text:  Rude staff from beginning to end\n",
            "score:  0.57  | language:  ro  | text:  Genuine error or racist service\n",
            "score:  0.57  | language:  af  | text:  Good afternoon\n",
            "score:  1.0  | language:  no  | text:  getting better\n",
            "score:  1.0  | language:  cy  | text:  Avoid if you can\n",
            "score:  0.86  | language:  no  | text:  No internet\n",
            "score:  1.0  | language:  pt  | text:  Final Post\n",
            "score:  0.71  | language:  es  | text:  Eurostar\n",
            "score:  0.86  | language:  it  | text:  I do not recommend\n",
            "score:  1.0  | language:  et  | text:  Traumatised\n",
            "score:  0.57  | language:  sv  | text:  I've just f ing had enough\n",
            "score:  0.57  | language:  fr  | text:  An utterly despicable organisation\n",
            "score:  1.0  | language:  et  | text:  just no\n",
            "score:  0.86  | language:  da  | text:  I've given up Left my job\n",
            "score:  1.0  | language:  so  | text:  Dear sir madam\n",
            "score:  0.57  | language:  en  | text:  word fail me\n",
            "score:  1.0  | language:  it  | text:  Incompetent\n",
            "score:  1.0  | language:  cy  | text:  God awful\n",
            "score:  0.71  | language:  es  | text:  Unacceptable refund policy\n",
            "score:  0.57  | language:  tl  | text:  Very disappointing in so many way\n",
            "Number of possibly non-english reviews found by spacy:  32  in percent:  2.23 %\n"
          ],
          "name": "stdout"
        }
      ]
    },
    {
      "cell_type": "markdown",
      "metadata": {
        "id": "uMcFa9G79u7R"
      },
      "source": [
        "Very small set of outliers suggested by spacy remaining. Only one of these is actually non-english and we can remove it manually."
      ]
    },
    {
      "cell_type": "code",
      "metadata": {
        "id": "4PRSaWbU-j8u"
      },
      "source": [
        "data = data[data['text'] != 'Mieux que les trains français']"
      ],
      "execution_count": 19,
      "outputs": []
    },
    {
      "cell_type": "code",
      "metadata": {
        "colab": {
          "base_uri": "https://localhost:8080/"
        },
        "id": "rRXFrxGr_ikl",
        "outputId": "a2b0c419-4e86-42b4-b304-9cb67a0919e9"
      },
      "source": [
        "print(\"We are left with \", len(data), \" data points. This is a reduction of \", \n",
        "      round((initial_length-len(data))/initial_length*100, 2), \n",
        "      \"% from the original \", initial_length, \" size of the dataset.\")"
      ],
      "execution_count": 20,
      "outputs": [
        {
          "output_type": "stream",
          "text": [
            "We are left with  1437  data points. This is a reduction of  28.9 % from the original  2021  size of the dataset.\n"
          ],
          "name": "stdout"
        }
      ]
    },
    {
      "cell_type": "markdown",
      "metadata": {
        "id": "Cd5VoHvlDjqf"
      },
      "source": [
        "## General Overview of Ratings"
      ]
    },
    {
      "cell_type": "markdown",
      "metadata": {
        "id": "xNTQRBGp5wIp"
      },
      "source": [
        "Now let's look at some descriptive statistics and some general overview of this data set:"
      ]
    },
    {
      "cell_type": "code",
      "metadata": {
        "colab": {
          "base_uri": "https://localhost:8080/",
          "height": 320
        },
        "id": "hldm15rq1Hb1",
        "outputId": "d8091154-8d9b-4f53-afb5-01695fb26a73"
      },
      "source": [
        "# Find average star rating\n",
        "print('Average review score: ', round(np.mean(data['stars']), 2), '\\n')\n",
        "\n",
        "# Plot histogram of star ratings\n",
        "sns.histplot(data, discrete=True)"
      ],
      "execution_count": 21,
      "outputs": [
        {
          "output_type": "stream",
          "text": [
            "Average review score:  1.56 \n",
            "\n"
          ],
          "name": "stdout"
        },
        {
          "output_type": "execute_result",
          "data": {
            "text/plain": [
              "<matplotlib.axes._subplots.AxesSubplot at 0x7f0a54000e50>"
            ]
          },
          "metadata": {},
          "execution_count": 21
        },
        {
          "output_type": "display_data",
          "data": {
            "image/png": "[encoded data removed]",
            "text/plain": [
              "<Figure size 432x288 with 1 Axes>"
            ]
          },
          "metadata": {
            "needs_background": "light"
          }
        }
      ]
    },
    {
      "cell_type": "code",
      "metadata": {
        "colab": {
          "base_uri": "https://localhost:8080/",
          "height": 531
        },
        "id": "eyHy8xTpzFdI",
        "outputId": "c74317e7-1d4e-4625-cc43-70fbc2297f0e"
      },
      "source": [
        "# Group data by year and compute yearly averages (text columns are ignored)\n",
        "data_by_year = data.groupby(data.date.dt.year).agg(['count', 'mean', 'median'])\n",
        "display(data_by_year)\n",
        "ax = sns.barplot(x=data_by_year['stars'].unstack()['mean'].index, y=data_by_year['stars'].unstack()['mean'])\n",
        "ax.set(xlabel='year', ylabel='average star rating')\n",
        "plt.show()"
      ],
      "execution_count": 22,
      "outputs": [
        {
          "output_type": "display_data",
          "data": {
            "text/html": [
              "<div>\n",
              "<style scoped>\n",
              "    .dataframe tbody tr th:only-of-type {\n",
              "        vertical-align: middle;\n",
              "    }\n",
              "\n",
              "    .dataframe tbody tr th {\n",
              "        vertical-align: top;\n",
              "    }\n",
              "\n",
              "    .dataframe thead tr th {\n",
              "        text-align: left;\n",
              "    }\n",
              "\n",
              "    .dataframe thead tr:last-of-type th {\n",
              "        text-align: right;\n",
              "    }\n",
              "</style>\n",
              "<table border=\"1\" class=\"dataframe\">\n",
              "  <thead>\n",
              "    <tr>\n",
              "      <th></th>\n",
              "      <th colspan=\"3\" halign=\"left\">stars</th>\n",
              "    </tr>\n",
              "    <tr>\n",
              "      <th></th>\n",
              "      <th>count</th>\n",
              "      <th>mean</th>\n",
              "      <th>median</th>\n",
              "    </tr>\n",
              "    <tr>\n",
              "      <th>date</th>\n",
              "      <th></th>\n",
              "      <th></th>\n",
              "      <th></th>\n",
              "    </tr>\n",
              "  </thead>\n",
              "  <tbody>\n",
              "    <tr>\n",
              "      <th>2011</th>\n",
              "      <td>2</td>\n",
              "      <td>4.000000</td>\n",
              "      <td>4</td>\n",
              "    </tr>\n",
              "    <tr>\n",
              "      <th>2015</th>\n",
              "      <td>68</td>\n",
              "      <td>1.911765</td>\n",
              "      <td>1</td>\n",
              "    </tr>\n",
              "    <tr>\n",
              "      <th>2016</th>\n",
              "      <td>286</td>\n",
              "      <td>1.611888</td>\n",
              "      <td>1</td>\n",
              "    </tr>\n",
              "    <tr>\n",
              "      <th>2017</th>\n",
              "      <td>546</td>\n",
              "      <td>1.602564</td>\n",
              "      <td>1</td>\n",
              "    </tr>\n",
              "    <tr>\n",
              "      <th>2018</th>\n",
              "      <td>535</td>\n",
              "      <td>1.433645</td>\n",
              "      <td>1</td>\n",
              "    </tr>\n",
              "  </tbody>\n",
              "</table>\n",
              "</div>"
            ],
            "text/plain": [
              "     stars                 \n",
              "     count      mean median\n",
              "date                       \n",
              "2011     2  4.000000      4\n",
              "2015    68  1.911765      1\n",
              "2016   286  1.611888      1\n",
              "2017   546  1.602564      1\n",
              "2018   535  1.433645      1"
            ]
          },
          "metadata": {}
        },
        {
          "output_type": "display_data",
          "data": {
            "image/png": "[encoded data removed]",
            "text/plain": [
              "<Figure size 432x288 with 1 Axes>"
            ]
          },
          "metadata": {
            "needs_background": "light"
          }
        }
      ]
    },
    {
      "cell_type": "code",
      "metadata": {
        "colab": {
          "base_uri": "https://localhost:8080/",
          "height": 279
        },
        "id": "ywF8ycxPIvMl",
        "outputId": "01447b5c-e5f1-487a-8665-de6533310f71"
      },
      "source": [
        "# Group data by data and plot line diagram\n",
        "data_by_year = data.set_index('date').groupby(pd.Grouper(freq=\"M\")).agg(['count', 'mean', 'median'])\n",
        "ax = sns.lineplot(x=data_by_year['stars'].unstack()['mean'].index, y=data_by_year['stars'].unstack()['mean'])\n",
        "ax.set(xlabel='month of year', ylabel='average star rating')\n",
        "plt.show()"
      ],
      "execution_count": 23,
      "outputs": [
        {
          "output_type": "display_data",
          "data": {
            "image/png": "[encoded data removed]",
            "text/plain": [
              "<Figure size 432x288 with 1 Axes>"
            ]
          },
          "metadata": {
            "needs_background": "light"
          }
        }
      ]
    },
    {
      "cell_type": "markdown",
      "metadata": {
        "id": "c5pJyaDUAi3L"
      },
      "source": [
        "There are a few interesting observations to make here.\n",
        "\n",
        "Firstly, there the data for 2011 can be seen as an outlier as there are only two 4 star reviews and no data between 2011 and 2015. Those two data points will therefore be removed.\n"
      ]
    },
    {
      "cell_type": "code",
      "metadata": {
        "colab": {
          "base_uri": "https://localhost:8080/",
          "height": 206
        },
        "id": "S7yCqKKrAt2b",
        "outputId": "aaf192d5-500f-4891-e90e-dcdfd5adc278"
      },
      "source": [
        "# removing outliers from 2011\n",
        "\n",
        "print(\"for fun, the first entry: (maybe a test review by the dev team?)\")\n",
        "print(\"\\\"I always use the national rail enquiry site when planning a rail journey. \")\n",
        "print('The site allows you to find the quickest route and the cheapest fare. It also has up to date information on travel disruptions.\\\"')\n",
        "\n",
        "if len(data[data['date'].dt.year == 2011]) != 0:\n",
        "  display(data[data['date'].dt.year == 2011])\n",
        "  data = data[data['date'].dt.year != 2011]\n",
        "  print(\"length after removing: \", len(data))"
      ],
      "execution_count": 24,
      "outputs": [
        {
          "output_type": "stream",
          "text": [
            "for fun, the first entry: (maybe a test review by the dev team?)\n",
            "\"I always use the national rail enquiry site when planning a rail journey. \n",
            "The site allows you to find the quickest route and the cheapest fare. It also has up to date information on travel disruptions.\"\n"
          ],
          "name": "stdout"
        },
        {
          "output_type": "display_data",
          "data": {
            "text/html": [
              "<div>\n",
              "<style scoped>\n",
              "    .dataframe tbody tr th:only-of-type {\n",
              "        vertical-align: middle;\n",
              "    }\n",
              "\n",
              "    .dataframe tbody tr th {\n",
              "        vertical-align: top;\n",
              "    }\n",
              "\n",
              "    .dataframe thead th {\n",
              "        text-align: right;\n",
              "    }\n",
              "</style>\n",
              "<table border=\"1\" class=\"dataframe\">\n",
              "  <thead>\n",
              "    <tr style=\"text-align: right;\">\n",
              "      <th></th>\n",
              "      <th>date</th>\n",
              "      <th>title</th>\n",
              "      <th>text</th>\n",
              "      <th>stars</th>\n",
              "    </tr>\n",
              "  </thead>\n",
              "  <tbody>\n",
              "    <tr>\n",
              "      <th>4</th>\n",
              "      <td>2011-05-28 15:00:36+00:00</td>\n",
              "      <td>Check it out</td>\n",
              "      <td>I always use the national rail enquiry site wh...</td>\n",
              "      <td>4</td>\n",
              "    </tr>\n",
              "    <tr>\n",
              "      <th>1950</th>\n",
              "      <td>2011-11-20 20:43:09+00:00</td>\n",
              "      <td>Reasonable prices  good service</td>\n",
              "      <td>First class is very spacious free wireless int...</td>\n",
              "      <td>4</td>\n",
              "    </tr>\n",
              "  </tbody>\n",
              "</table>\n",
              "</div>"
            ],
            "text/plain": [
              "                          date  ... stars\n",
              "4    2011-05-28 15:00:36+00:00  ...     4\n",
              "1950 2011-11-20 20:43:09+00:00  ...     4\n",
              "\n",
              "[2 rows x 4 columns]"
            ]
          },
          "metadata": {}
        },
        {
          "output_type": "stream",
          "text": [
            "length after removing:  1435\n"
          ],
          "name": "stdout"
        }
      ]
    },
    {
      "cell_type": "markdown",
      "metadata": {
        "id": "qNgok0vtBXqV"
      },
      "source": [
        "Furthermore, the amount of reviews is increasing over time.\n",
        "\n",
        "We also have overwhelmingly more negative reviews than positive, meaning that our data set is balanced. This has implications for model choice and what we can do with it."
      ]
    },
    {
      "cell_type": "markdown",
      "metadata": {
        "id": "y5wzUlMFKiOv"
      },
      "source": [
        "# Model"
      ]
    },
    {
      "cell_type": "markdown",
      "metadata": {
        "id": "86uPd4X1DQVq"
      },
      "source": [
        "## Model Ideas and Scope\n",
        "\n"
      ]
    },
    {
      "cell_type": "markdown",
      "metadata": {
        "id": "OEcJb1tPD2H5"
      },
      "source": [
        "**Assignment**\n",
        "\n",
        "The assignment states that the train schedules \"*have recently been changed*\" and asks to see if and how the discussion shifted after that point in time. Knowing when this schedule change took place (and hence where to split the data) is crucial to do a \"before versus after\" topic analysis.\n",
        "\n",
        "This is where domain knowledge could come in handy. Trying to find out from news reports when this change in schedules happened didn't prove very fruitful. \n",
        "The newest data point being 2018, leads me to conclude that this assignment might be somewhat older.\n",
        "\n",
        "**Approach**\n",
        "\n",
        "I first thought I could do a supervised sentiment analysis using the stars as labels and find out when the sentiment shifted (and thus hopefully, when the schedule changed). There are two reasons that won't work, however:  \n",
        "\n",
        "1.   Sentiment, measured in stars, has a clear downward trend.\n",
        "2.   The data set is highly skewed towards negative reviews. 1 star reviews make up almost 80% of the whole dataset. Many classifiers work badly with skewed data, as predicting one class (in this case negative sentiment) has a wildly different hit rate, contributing to classifier bias. Taking an equal sample would ameliorate this, but it would result in a very small training set for this data set.\n",
        "\n",
        "Another option would be matching reviews to pre-defined (a priori) categories. If the rail company wanted to know, for exampe, which reviews are about delays as opposed to hygiene, a supervised topic classification would be the way to go. For this, however, I lack both domain knowledge/indication of common topics and also the time to hand-label a training set.\n",
        "\n",
        "Taking into account the above mentioned constraints, I will go for a simple unsupervised clustering approach and see if that can properly model topics.\n",
        "\n"
      ]
    },
    {
      "cell_type": "markdown",
      "metadata": {
        "id": "CYBClLubKayk"
      },
      "source": [
        "## Topic Modelling"
      ]
    },
    {
      "cell_type": "markdown",
      "metadata": {
        "id": "YayMhx2YY2WG"
      },
      "source": [
        "For this, I decided to go with LDA (Latent Dirichelet Allocation, not to be confused with Linear Discriminant Analysis, which is often used in regression). LDA is probabilistic and is roughly the bayesian equivalent of pLSA (Latent Semantic Analysis).\n",
        "\n",
        "First we need a term-document matrix, which will contain the frequency with which terms (words) appears in each document (in our case: each review). Then we'll make a corpus out of that and feed it to the LDA model. \n",
        "\n",
        "~~A point could be made about the need of stop word removal. While topic modelling is less reliant on the semantic information carried by stop words, I decided to not explicitly remove them (CoutVectorizer removes some).~~ <- *Now removed stopwords because model performs badly*"
      ]
    },
    {
      "cell_type": "code",
      "metadata": {
        "id": "6k2Gww_D9kRv"
      },
      "source": [
        "def prepare_corpus_and_id2word(text: pd.DataFrame):\n",
        "  # Building a document-term matrix\n",
        "\n",
        "  cv = CountVectorizer()\n",
        "  data_cv = cv.fit_transform(text)\n",
        "  data_cv_df = pd.DataFrame(data_cv.toarray(), columns=cv.get_feature_names())\n",
        "\n",
        "  tdm = data_cv_df.transpose()\n",
        "\n",
        "  # creating a corpus out of a sparse matrix\n",
        "\n",
        "  sparse_counts = scipy.sparse.csr_matrix(tdm)\n",
        "  corpus = matutils.Sparse2Corpus(sparse_counts)\n",
        "\n",
        "  # dictionary of terms for LDA. This maps each word to their unique integer ID\n",
        "  id2word = dict((v, k) for k, v in cv.vocabulary_.items())\n",
        "  word2id = dict((k, v) for k, v in cv.vocabulary_.items())\n",
        "  d = corpora.Dictionary()\n",
        "  d.id2token = id2word\n",
        "  d.token2id = word2id\n",
        "\n",
        "  return corpus, d"
      ],
      "execution_count": 25,
      "outputs": []
    },
    {
      "cell_type": "markdown",
      "metadata": {
        "id": "TXGuk4t8raSr"
      },
      "source": [
        "Now we only need to select the number of topics people might be broadly speaking about. It is up to us to set this parameter and there is, unfortunately, no 100% objective way to set it. Likewise, the goodness of this (unsupervised) model can only be validated via our \"makes-sense\" intuition. I will therefore try various settings."
      ]
    },
    {
      "cell_type": "code",
      "metadata": {
        "colab": {
          "base_uri": "https://localhost:8080/"
        },
        "id": "GqRUC2Wkq_q3",
        "outputId": "d237f14f-d1e9-478c-9312-832532909960"
      },
      "source": [
        "corpus, term_dict = prepare_corpus_and_id2word(data['text'])\n",
        "lda = models.LdaModel(corpus=corpus, id2word=term_dict, num_topics=3, passes=10)\n",
        "lda.print_topics()"
      ],
      "execution_count": 26,
      "outputs": [
        {
          "output_type": "execute_result",
          "data": {
            "text/plain": [
              "[(0,\n",
              "  '0.042*\"the\" + 0.041*\"to\" + 0.029*\"and\" + 0.018*\"number\" + 0.016*\"of\" + 0.014*\"for\" + 0.013*\"train\" + 0.012*\"in\" + 0.012*\"is\" + 0.011*\"on\"'),\n",
              " (1,\n",
              "  '0.049*\"the\" + 0.039*\"to\" + 0.029*\"and\" + 0.022*\"wa\" + 0.020*\"train\" + 0.019*\"number\" + 0.017*\"on\" + 0.012*\"of\" + 0.011*\"we\" + 0.011*\"it\"'),\n",
              " (2,\n",
              "  '0.031*\"to\" + 0.028*\"the\" + 0.020*\"and\" + 0.017*\"it\" + 0.013*\"train\" + 0.012*\"is\" + 0.012*\"they\" + 0.011*\"for\" + 0.010*\"in\" + 0.010*\"service\"')]"
            ]
          },
          "metadata": {},
          "execution_count": 26
        }
      ]
    },
    {
      "cell_type": "code",
      "metadata": {
        "colab": {
          "base_uri": "https://localhost:8080/"
        },
        "id": "-vJdnCa72qMp",
        "outputId": "7bdafda0-57ed-4fa6-da29-8e840c5dee04"
      },
      "source": [
        "lda = models.LdaModel(corpus=corpus, id2word=term_dict, num_topics=5, passes=10)\n",
        "lda.print_topics()"
      ],
      "execution_count": 27,
      "outputs": [
        {
          "output_type": "execute_result",
          "data": {
            "text/plain": [
              "[(0,\n",
              "  '0.038*\"the\" + 0.026*\"to\" + 0.020*\"number\" + 0.018*\"is\" + 0.016*\"and\" + 0.014*\"for\" + 0.010*\"it\" + 0.010*\"of\" + 0.010*\"on\" + 0.008*\"in\"'),\n",
              " (1,\n",
              "  '0.044*\"the\" + 0.036*\"to\" + 0.031*\"and\" + 0.019*\"number\" + 0.018*\"train\" + 0.016*\"on\" + 0.015*\"for\" + 0.013*\"of\" + 0.011*\"it\" + 0.011*\"they\"'),\n",
              " (2,\n",
              "  '0.007*\"the\" + 0.007*\"service\" + 0.007*\"number\" + 0.006*\"at\" + 0.005*\"they\" + 0.005*\"train\" + 0.005*\"and\" + 0.005*\"we\" + 0.005*\"birmingham\" + 0.005*\"virgin\"'),\n",
              " (3,\n",
              "  '0.040*\"the\" + 0.027*\"to\" + 0.022*\"and\" + 0.020*\"of\" + 0.018*\"train\" + 0.016*\"is\" + 0.015*\"in\" + 0.015*\"number\" + 0.012*\"on\" + 0.011*\"are\"'),\n",
              " (4,\n",
              "  '0.052*\"to\" + 0.045*\"the\" + 0.029*\"and\" + 0.018*\"wa\" + 0.015*\"ticket\" + 0.015*\"number\" + 0.014*\"train\" + 0.013*\"my\" + 0.012*\"of\" + 0.012*\"for\"')]"
            ]
          },
          "metadata": {},
          "execution_count": 27
        }
      ]
    },
    {
      "cell_type": "code",
      "metadata": {
        "colab": {
          "base_uri": "https://localhost:8080/"
        },
        "id": "TNe5BgoTuWxX",
        "outputId": "bf75a1f4-fc34-40ea-dff0-65fdf80f1d00"
      },
      "source": [
        "lda = models.LdaModel(corpus=corpus, id2word=term_dict, num_topics=10, passes=10)\n",
        "lda.print_topics()"
      ],
      "execution_count": 28,
      "outputs": [
        {
          "output_type": "execute_result",
          "data": {
            "text/plain": [
              "[(0,\n",
              "  '0.005*\"took\" + 0.005*\"south\" + 0.004*\"getting\" + 0.004*\"unfortunate\" + 0.003*\"money\" + 0.003*\"and\" + 0.003*\"at\" + 0.003*\"existence\" + 0.003*\"garbage\" + 0.003*\"dept\"'),\n",
              " (1,\n",
              "  '0.028*\"to\" + 0.024*\"the\" + 0.018*\"and\" + 0.016*\"in\" + 0.015*\"train\" + 0.013*\"it\" + 0.011*\"on\" + 0.011*\"service\" + 0.010*\"they\" + 0.008*\"you\"'),\n",
              " (2,\n",
              "  '0.021*\"no\" + 0.013*\"service\" + 0.009*\"star\" + 0.009*\"late\" + 0.007*\"or\" + 0.006*\"there\" + 0.006*\"dreadful\" + 0.005*\"just\" + 0.005*\"not\" + 0.005*\"is\"'),\n",
              " (3,\n",
              "  '0.059*\"the\" + 0.047*\"to\" + 0.024*\"number\" + 0.022*\"and\" + 0.017*\"train\" + 0.015*\"wa\" + 0.014*\"for\" + 0.013*\"on\" + 0.013*\"we\" + 0.012*\"in\"'),\n",
              " (4,\n",
              "  '0.038*\"and\" + 0.035*\"the\" + 0.034*\"to\" + 0.015*\"wa\" + 0.013*\"on\" + 0.013*\"of\" + 0.013*\"they\" + 0.012*\"it\" + 0.011*\"in\" + 0.011*\"is\"'),\n",
              " (5,\n",
              "  '0.047*\"to\" + 0.037*\"the\" + 0.034*\"and\" + 0.022*\"number\" + 0.018*\"train\" + 0.018*\"my\" + 0.017*\"wa\" + 0.015*\"ticket\" + 0.014*\"of\" + 0.014*\"on\"'),\n",
              " (6,\n",
              "  '0.009*\"company\" + 0.008*\"rail\" + 0.007*\"problem\" + 0.006*\"the\" + 0.006*\"on\" + 0.006*\"journey\" + 0.006*\"southern\" + 0.006*\"website\" + 0.005*\"to\" + 0.005*\"number\"'),\n",
              " (7,\n",
              "  '0.048*\"the\" + 0.028*\"to\" + 0.026*\"and\" + 0.021*\"train\" + 0.018*\"is\" + 0.017*\"of\" + 0.016*\"service\" + 0.014*\"are\" + 0.014*\"on\" + 0.013*\"you\"'),\n",
              " (8,\n",
              "  '0.036*\"to\" + 0.035*\"the\" + 0.024*\"for\" + 0.022*\"and\" + 0.016*\"number\" + 0.015*\"of\" + 0.012*\"that\" + 0.011*\"on\" + 0.009*\"have\" + 0.009*\"they\"'),\n",
              " (9,\n",
              "  '0.013*\"and\" + 0.013*\"staff\" + 0.012*\"are\" + 0.010*\"rude\" + 0.007*\"service\" + 0.006*\"absolutely\" + 0.005*\"horrible\" + 0.005*\"snow\" + 0.005*\"at\" + 0.005*\"wi\"')]"
            ]
          },
          "metadata": {},
          "execution_count": 28
        }
      ]
    },
    {
      "cell_type": "markdown",
      "metadata": {
        "id": "PUV1RKHqtgMQ"
      },
      "source": [
        "(*At this stage I will mention that my intuition was wrong. Apparently stopwords do matter (I argued against removing them), as the categories in the first run seemed to be built mostly out of them, regardless of number of topics. I therefore went back to my pre-processing step and added stop-word removal*) ex. : ('0.052*\"the\" + 0.040*\"to\" + 0.029*\"and\" + 0.026*\"train\" + 0.021*\"they\" + 0.021*\"number\" + 0.019*\"on\" + 0.016*\"is\" + 0.016*\"you\" + 0.014*\"are\"')"
      ]
    },
    {
      "cell_type": "markdown",
      "metadata": {
        "id": "Bn5M0v_T2wsF"
      },
      "source": [
        "I am still unhappy with the results, as there are several prepositions and conjunctions in the topics. Therefore, I will try to only use only certain types of words."
      ]
    },
    {
      "cell_type": "code",
      "metadata": {
        "colab": {
          "base_uri": "https://localhost:8080/"
        },
        "id": "iwel7rLs4IDn",
        "outputId": "dbc27232-2a68-44f9-9668-ebf709921fc4"
      },
      "source": [
        "test = \"The train arrived late at our lovely station and continues to be dirty. Ouch!\"\n",
        "pos_tag(word_tokenize(test))"
      ],
      "execution_count": 29,
      "outputs": [
        {
          "output_type": "execute_result",
          "data": {
            "text/plain": [
              "[('The', 'DT'),\n",
              " ('train', 'NN'),\n",
              " ('arrived', 'VBD'),\n",
              " ('late', 'RB'),\n",
              " ('at', 'IN'),\n",
              " ('our', 'PRP$'),\n",
              " ('lovely', 'JJ'),\n",
              " ('station', 'NN'),\n",
              " ('and', 'CC'),\n",
              " ('continues', 'VBZ'),\n",
              " ('to', 'TO'),\n",
              " ('be', 'VB'),\n",
              " ('dirty', 'JJ'),\n",
              " ('.', '.'),\n",
              " ('Ouch', 'JJ'),\n",
              " ('!', '.')]"
            ]
          },
          "metadata": {},
          "execution_count": 29
        }
      ]
    },
    {
      "cell_type": "markdown",
      "metadata": {
        "id": "V-N4_Zv47SX2"
      },
      "source": [
        "pos_tag uses all sorts of useful tags. I think I will keep nouns, adjectives and adverbs. Verbs would include very common forms of \"to be\" and \"to have\", so we'll skip those (perhaps only including gerunds might be an idea). Interjections are tagged as nouns/adjectives so we will keep those (we really need all the expletatives for these reveiws, they play a major role)."
      ]
    },
    {
      "cell_type": "code",
      "metadata": {
        "colab": {
          "base_uri": "https://localhost:8080/",
          "height": 36
        },
        "id": "LUxfme8870qU",
        "outputId": "1e0cb6a8-4cd3-4706-f1d3-314ec6223c60"
      },
      "source": [
        "# Tag nouns, adverbs and adjectives remove the rest.\n",
        "def filter_word_types(review):\n",
        "    is_noun = lambda pos: pos[:2] == 'NN'\n",
        "    tokens = word_tokenize(review)\n",
        "    nouns_adj_adv = [word for (word, pos) in pos_tag(tokens) if ((pos[:2] == 'NN') | (pos[:2] == 'JJ') | (pos[:2] == 'RB'))] \n",
        "    return ' '.join(nouns_adj_adv)\n",
        "\n",
        "filter_word_types(test)"
      ],
      "execution_count": 30,
      "outputs": [
        {
          "output_type": "execute_result",
          "data": {
            "application/vnd.google.colaboratory.intrinsic+json": {
              "type": "string"
            },
            "text/plain": [
              "'train late lovely station dirty Ouch'"
            ]
          },
          "metadata": {},
          "execution_count": 30
        }
      ]
    },
    {
      "cell_type": "code",
      "metadata": {
        "colab": {
          "base_uri": "https://localhost:8080/"
        },
        "id": "4OWfIEy78aJO",
        "outputId": "e0807a76-19f0-4e38-a6f8-4619eab5d700"
      },
      "source": [
        "data['text'] = data['text'].apply(filter_word_types)\n",
        "data['text']"
      ],
      "execution_count": 31,
      "outputs": [
        {
          "output_type": "execute_result",
          "data": {
            "text/plain": [
              "0       national rail twice occasion staff unpleasant ...\n",
              "1       National rail several train Brighton none advi...\n",
              "2       Brokenhast central ticket train n't time South...\n",
              "3       money single trip NationalRail specific train ...\n",
              "5       website always problem journey head back main ...\n",
              "                              ...                        \n",
              "2016    Late signal failure too much rain too sunny re...\n",
              "2017    Trains constantly not sure even timetable only...\n",
              "2018    yearly basis group Preschool child train ride ...\n",
              "2019    day newish train always kept clean very often ...\n",
              "2020                                             positive\n",
              "Name: text, Length: 1435, dtype: object"
            ]
          },
          "metadata": {},
          "execution_count": 31
        }
      ]
    },
    {
      "cell_type": "markdown",
      "metadata": {
        "id": "a9zprQvF-Twc"
      },
      "source": [
        "OK, now let's try the model again:"
      ]
    },
    {
      "cell_type": "code",
      "metadata": {
        "id": "R-KW9ney-TMG"
      },
      "source": [
        "corpus, term_dict = prepare_corpus_and_id2word(data['text'])"
      ],
      "execution_count": 32,
      "outputs": []
    },
    {
      "cell_type": "code",
      "metadata": {
        "colab": {
          "base_uri": "https://localhost:8080/"
        },
        "id": "7S1uyfVP-Zks",
        "outputId": "c6dc7141-b497-41d4-e74d-3f811847fe2a"
      },
      "source": [
        "lda3 = models.LdaModel(corpus=corpus, id2word=term_dict, num_topics=3, passes=10)\n",
        "lda3.print_topics()"
      ],
      "execution_count": 51,
      "outputs": [
        {
          "output_type": "execute_result",
          "data": {
            "text/plain": [
              "[(0,\n",
              "  '0.042*\"train\" + 0.027*\"number\" + 0.019*\"service\" + 0.014*\"not\" + 0.011*\"time\" + 0.009*\"company\" + 0.008*\"southern\" + 0.008*\"late\" + 0.007*\"day\" + 0.007*\"just\"'),\n",
              " (1,\n",
              "  '0.036*\"number\" + 0.030*\"train\" + 0.024*\"ticket\" + 0.020*\"not\" + 0.018*\"service\" + 0.014*\"wa\" + 0.013*\"virgin\" + 0.012*\"customer\" + 0.011*\"class\" + 0.010*\"time\"'),\n",
              " (2,\n",
              "  '0.045*\"number\" + 0.027*\"train\" + 0.017*\"ticket\" + 0.016*\"service\" + 0.015*\"not\" + 0.012*\"time\" + 0.012*\"hour\" + 0.012*\"virgin\" + 0.011*\"so\" + 0.010*\"journey\"')]"
            ]
          },
          "metadata": {},
          "execution_count": 51
        }
      ]
    },
    {
      "cell_type": "markdown",
      "metadata": {
        "id": "VmRqhBrYUctf"
      },
      "source": [
        "Since both the pre-processing and the LDA model contain some randomization, I will pickle them for consistency. When I discuss the findings, I refer to this pickled version."
      ]
    },
    {
      "cell_type": "code",
      "metadata": {
        "id": "qepb5lr1Uakh"
      },
      "source": [
        "import pickle\n",
        "\n",
        "def save_state(model, corpus, term_dict, add_to_name=''):\n",
        "  model_name = 'lda3'+add_to_name+'.pkl'\n",
        "  corpus_name = 'corpus'+add_to_name+'.pkl'\n",
        "  term_dict_name = 'term_dict'+add_to_name+'.pkl'\n",
        "  pickle.dump(model, open(model_name, 'wb'))\n",
        "  pickle.dump(corpus, open(corpus_name, 'wb'))\n",
        "  pickle.dump(term_dict, open(term_dict_name, 'wb'))\n",
        "\n",
        "def load_state(add_to_name):\n",
        "  model = pickle.load(open('lda3'+add_to_name+'.pkl', 'rb'))\n",
        "  corpus = pickle.load(open('corpus'+add_to_name+'.pkl', 'rb'))\n",
        "  term_dict = pickle.load(open('term_dict'+add_to_name+'.pkl', 'rb'))\n",
        "  return model, corpus, term_dict\n"
      ],
      "execution_count": 66,
      "outputs": []
    },
    {
      "cell_type": "code",
      "metadata": {
        "id": "sqeuCRAoV-up"
      },
      "source": [
        "#save_state(lda3, corpus, term_dict)"
      ],
      "execution_count": 53,
      "outputs": []
    },
    {
      "cell_type": "code",
      "metadata": {
        "colab": {
          "base_uri": "https://localhost:8080/"
        },
        "id": "TwDlhT3T-aOD",
        "outputId": "d85ed9e2-174b-4559-d3a7-691bcc8f261a"
      },
      "source": [
        "lda5 = models.LdaModel(corpus=corpus, id2word=term_dict, num_topics=5, passes=10)\n",
        "lda5.print_topics()"
      ],
      "execution_count": 34,
      "outputs": [
        {
          "output_type": "execute_result",
          "data": {
            "text/plain": [
              "[(0,\n",
              "  '0.011*\"not\" + 0.009*\"customer\" + 0.008*\"service\" + 0.007*\"southern\" + 0.006*\"london\" + 0.006*\"eurostar\" + 0.006*\"point\" + 0.006*\"star\" + 0.006*\"day\" + 0.005*\"only\"'),\n",
              " (1,\n",
              "  '0.033*\"train\" + 0.032*\"number\" + 0.025*\"service\" + 0.018*\"time\" + 0.012*\"not\" + 0.010*\"customer\" + 0.010*\"hour\" + 0.010*\"late\" + 0.009*\"company\" + 0.009*\"journey\"'),\n",
              " (2,\n",
              "  '0.040*\"train\" + 0.023*\"service\" + 0.022*\"not\" + 0.021*\"virgin\" + 0.019*\"number\" + 0.010*\"wa\" + 0.008*\"class\" + 0.008*\"company\" + 0.008*\"ticket\" + 0.007*\"money\"'),\n",
              " (3,\n",
              "  '0.051*\"train\" + 0.034*\"number\" + 0.019*\"not\" + 0.016*\"ticket\" + 0.015*\"wa\" + 0.012*\"staff\" + 0.011*\"so\" + 0.010*\"very\" + 0.008*\"journey\" + 0.008*\"london\"'),\n",
              " (4,\n",
              "  '0.054*\"number\" + 0.030*\"ticket\" + 0.020*\"service\" + 0.020*\"train\" + 0.016*\"not\" + 0.014*\"time\" + 0.013*\"customer\" + 0.012*\"wa\" + 0.011*\"money\" + 0.010*\"virgin\"')]"
            ]
          },
          "metadata": {},
          "execution_count": 34
        }
      ]
    },
    {
      "cell_type": "code",
      "metadata": {
        "colab": {
          "base_uri": "https://localhost:8080/"
        },
        "id": "eOYVYVSE-ame",
        "outputId": "1433aaec-f009-45a5-d43a-fb0559927c45"
      },
      "source": [
        "lda10 = models.LdaModel(corpus=corpus, id2word=term_dict, num_topics=10, passes=10)\n",
        "lda10.print_topics()"
      ],
      "execution_count": 42,
      "outputs": [
        {
          "output_type": "execute_result",
          "data": {
            "text/plain": [
              "[(0,\n",
              "  '0.063*\"number\" + 0.062*\"train\" + 0.016*\"not\" + 0.014*\"wa\" + 0.014*\"seat\" + 0.013*\"virgin\" + 0.013*\"ticket\" + 0.012*\"hour\" + 0.012*\"service\" + 0.010*\"journey\"'),\n",
              " (1,\n",
              "  '0.049*\"train\" + 0.027*\"number\" + 0.026*\"service\" + 0.013*\"day\" + 0.012*\"not\" + 0.011*\"london\" + 0.011*\"so\" + 0.009*\"time\" + 0.009*\"seat\" + 0.009*\"hour\"'),\n",
              " (2,\n",
              "  '0.024*\"train\" + 0.019*\"number\" + 0.018*\"time\" + 0.014*\"just\" + 0.011*\"not\" + 0.009*\"company\" + 0.009*\"service\" + 0.008*\"staff\" + 0.007*\"always\" + 0.006*\"very\"'),\n",
              " (3,\n",
              "  '0.032*\"number\" + 0.018*\"time\" + 0.014*\"service\" + 0.012*\"ticket\" + 0.012*\"london\" + 0.009*\"year\" + 0.008*\"company\" + 0.008*\"day\" + 0.007*\"just\" + 0.007*\"seat\"'),\n",
              " (4,\n",
              "  '0.036*\"service\" + 0.025*\"ticket\" + 0.016*\"not\" + 0.016*\"number\" + 0.016*\"time\" + 0.015*\"train\" + 0.013*\"customer\" + 0.010*\"company\" + 0.009*\"seat\" + 0.009*\"wa\"'),\n",
              " (5,\n",
              "  '0.056*\"number\" + 0.032*\"ticket\" + 0.026*\"not\" + 0.024*\"money\" + 0.018*\"train\" + 0.013*\"customer\" + 0.013*\"class\" + 0.012*\"refund\" + 0.012*\"first\" + 0.011*\"journey\"'),\n",
              " (6,\n",
              "  '0.015*\"app\" + 0.014*\"staff\" + 0.011*\"not\" + 0.011*\"service\" + 0.011*\"class\" + 0.010*\"so\" + 0.009*\"star\" + 0.008*\"even\" + 0.008*\"station\" + 0.007*\"train\"'),\n",
              " (7,\n",
              "  '0.036*\"number\" + 0.026*\"service\" + 0.024*\"virgin\" + 0.022*\"customer\" + 0.013*\"wa\" + 0.012*\"company\" + 0.011*\"train\" + 0.011*\"not\" + 0.010*\"staff\" + 0.008*\"london\"'),\n",
              " (8,\n",
              "  '0.044*\"train\" + 0.023*\"not\" + 0.019*\"ticket\" + 0.016*\"number\" + 0.015*\"time\" + 0.015*\"service\" + 0.012*\"virgin\" + 0.011*\"wa\" + 0.009*\"customer\" + 0.009*\"journey\"'),\n",
              " (9,\n",
              "  '0.031*\"number\" + 0.030*\"train\" + 0.024*\"service\" + 0.015*\"ticket\" + 0.015*\"so\" + 0.011*\"time\" + 0.010*\"not\" + 0.009*\"wa\" + 0.009*\"late\" + 0.009*\"just\"')]"
            ]
          },
          "metadata": {},
          "execution_count": 42
        }
      ]
    },
    {
      "cell_type": "markdown",
      "metadata": {
        "id": "eaBtBZPU-_i7"
      },
      "source": [
        "Better. Let's try to visualize them"
      ]
    },
    {
      "cell_type": "code",
      "metadata": {
        "id": "eD6s0Jet_CTr"
      },
      "source": [
        "pyLDAvis.enable_notebook()\n",
        "lda_viz = gensimvis.prepare(lda10, corpus, term_dict)\n"
      ],
      "execution_count": 44,
      "outputs": []
    },
    {
      "cell_type": "code",
      "metadata": {
        "colab": {
          "base_uri": "https://localhost:8080/",
          "height": 881
        },
        "id": "qx5ePhwbGnEr",
        "outputId": "999e7d94-bb8c-439c-ecb7-4abd8e134015"
      },
      "source": [
        "pyLDAvis.display(lda_viz)"
      ],
      "execution_count": 45,
      "outputs": [
        {
          "output_type": "execute_result",
          "data": {
            "text/html": [
              "\n",
              "<link rel=\"stylesheet\" type=\"text/css\" href=\"https://cdn.jsdelivr.net/gh/bmabey/pyLDAvis@3.3.1/pyLDAvis/js/ldavis.v1.0.0.css\">\n",
              "\n",
              "\n",
              "<div id=\"ldavis_el52991396822442356003538292296\"></div>\n",
              "<script type=\"text/javascript\">\n",
              "\n",
              "var ldavis_el52991396822442356003538292296_data = {\"mdsDat\": {\"x\": [0.06060355793673409, 0.03920238513981834, 0.06501988985942156, 0.0348262956181965, 0.022228825396991034, 0.011773284638875734, 0.006058314972488852, -0.03375948932574524, -0.022186934656860183, -0.18376612957992064], \"y\": [0.030193498269201743, 0.01822237942230342, 0.04569240256702796, 0.038167813029098455, 0.051077059600311676, -0.08175699145672369, -0.08054060413189013, -0.023382956927610107, -0.04264748630806689, 0.04497488593634772], \"topics\": [1, 2, 3, 4, 5, 6, 7, 8, 9, 10], \"cluster\": [1, 1, 1, 1, 1, 1, 1, 1, 1, 1], \"Freq\": [21.4012803218815, 17.469854785071075, 16.688991684398374, 10.553336051658931, 9.821474073847202, 7.085251831286444, 5.819254207075519, 4.695198966298564, 4.530396497866585, 1.934961580615801]}, \"tinfo\": {\"Term\": [\"service\", \"number\", \"train\", \"time\", \"ticket\", \"class\", \"virgin\", \"customer\", \"staff\", \"so\", \"company\", \"just\", \"money\", \"app\", \"seat\", \"even\", \"southern\", \"star\", \"first\", \"not\", \"station\", \"london\", \"day\", \"email\", \"website\", \"refund\", \"year\", \"rude\", \"journey\", \"rail\", \"bike\", \"ferry\", \"robbery\", \"fire\", \"toast\", \"told\", \"bread\", \"fruit\", \"exchange\", \"operative\", \"houmous\", \"daylight\", \"steward\", \"sausage\", \"eurodespatch\", \"biscuit\", \"credit\", \"wine\", \"pregnant\", \"glass\", \"initially\", \"arrived\", \"admin\", \"delivery\", \"eligible\", \"supposedly\", \"fee\", \"dublin\", \"interested\", \"enroute\", \"refund\", \"money\", \"card\", \"call\", \"breakfast\", \"phone\", \"unhelpful\", \"class\", \"form\", \"date\", \"month\", \"ticket\", \"original\", \"first\", \"machine\", \"number\", \"detail\", \"st\", \"not\", \"customer\", \"return\", \"journey\", \"twice\", \"only\", \"again\", \"even\", \"so\", \"back\", \"hour\", \"wa\", \"email\", \"week\", \"train\", \"time\", \"virgin\", \"service\", \"day\", \"now\", \"very\", \"staff\", \"then\", \"london\", \"just\", \"company\", \"lyon\", \"parkway\", \"unbelievably\", \"scotrail\", \"unsympathetic\", \"stephen\", \"onboard\", \"gate\", \"arriva\", \"tilly\", \"de\", \"guildford\", \"compare\", \"history\", \"concerned\", \"rudely\", \"dismal\", \"uckfield\", \"doubt\", \"set\", \"wifi\", \"incorrect\", \"easier\", \"status\", \"nord\", \"gare\", \"passport\", \"newport\", \"name\", \"aniko\", \"toddler\", \"necessary\", \"security\", \"check\", \"paris\", \"international\", \"experience\", \"birmingham\", \"office\", \"eurostar\", \"train\", \"however\", \"employee\", \"not\", \"system\", \"time\", \"then\", \"new\", \"point\", \"also\", \"ticket\", \"virgin\", \"thing\", \"wa\", \"member\", \"staff\", \"very\", \"worst\", \"service\", \"journey\", \"london\", \"customer\", \"way\", \"late\", \"number\", \"hour\", \"so\", \"back\", \"much\", \"price\", \"minute\", \"just\", \"people\", \"seat\", \"money\", \"november\", \"nectar\", \"seating\", \"onward\", \"revenue\", \"louise\", \"gluten\", \"thankfully\", \"were\", \"bang\", \"allocated\", \"template\", \"similar\", \"tunnel\", \"whats\", \"unfairly\", \"leaflet\", \"dunbar\", \"superb\", \"overbooked\", \"dependant\", \"discretion\", \"andrea\", \"amberley\", \"piccadilly\", \"doorway\", \"her\", \"ancient\", \"came\", \"slowly\", \"promptly\", \"exceptional\", \"and\", \"driver\", \"stop\", \"manager\", \"crowded\", \"cardiff\", \"glasgow\", \"euston\", \"reserved\", \"train\", \"seat\", \"afternoon\", \"number\", \"manchester\", \"buffet\", \"way\", \"hour\", \"next\", \"reservation\", \"wa\", \"virgin\", \"compensation\", \"people\", \"edinburgh\", \"line\", \"then\", \"journey\", \"not\", \"delay\", \"passenger\", \"sure\", \"ticket\", \"so\", \"again\", \"station\", \"service\", \"london\", \"very\", \"time\", \"back\", \"first\", \"late\", \"class\", \"even\", \"staff\", \"day\", \"customer\", \"only\", \"norm\", \"ms\", \"smaller\", \"heavily\", \"genuine\", \"ing\", \"milton\", \"keynes\", \"sheep\", \"strength\", \"nurse\", \"video\", \"threadbare\", \"tutorial\", \"stockport\", \"weekday\", \"tend\", \"privilege\", \"affair\", \"inside\", \"tilehurst\", \"bare\", \"thay\", \"overground\", \"kirsty\", \"rid\", \"euros\", \"western\", \"drayton\", \"smart\", \"bath\", \"cancellation\", \"frequently\", \"angry\", \"unfortunate\", \"glad\", \"daily\", \"west\", \"day\", \"clapham\", \"ahead\", \"train\", \"most\", \"timetable\", \"regularly\", \"commuter\", \"railway\", \"service\", \"absolutely\", \"southern\", \"great\", \"expensive\", \"london\", \"world\", \"cross\", \"now\", \"so\", \"seat\", \"number\", \"ha\", \"delay\", \"carriage\", \"hour\", \"rail\", \"last\", \"not\", \"time\", \"fare\", \"gwr\", \"staff\", \"wa\", \"very\", \"back\", \"more\", \"just\", \"virgin\", \"late\", \"station\", \"people\", \"customer\", \"fi\", \"wi\", \"suit\", \"expected\", \"conducter\", \"whatsoever\", \"shrug\", \"tasty\", \"avignon\", \"downhill\", \"dartford\", \"immigration\", \"beverage\", \"oscar\", \"mate\", \"stefan\", \"hoop\", \"aj\", \"stuck\", \"orange\", \"chicken\", \"rarely\", \"overcrowding\", \"interview\", \"important\", \"agent\", \"courteous\", \"jump\", \"depend\", \"channel\", \"soggy\", \"worse\", \"down\", \"problem\", \"late\", \"so\", \"service\", \"nightmare\", \"airport\", \"queue\", \"home\", \"able\", \"barely\", \"really\", \"adult\", \"train\", \"number\", \"just\", \"poor\", \"least\", \"southern\", \"even\", \"ticket\", \"station\", \"time\", \"very\", \"wa\", \"class\", \"year\", \"better\", \"website\", \"journey\", \"not\", \"london\", \"day\", \"due\", \"first\", \"people\", \"money\", \"staff\", \"hour\", \"seat\", \"md\", \"protocol\", \"waverley\", \"would\", \"belt\", \"aggressive\", \"ultimately\", \"micheal\", \"extreme\", \"printer\", \"coaches\", \"mere\", \"sake\", \"nearby\", \"scramble\", \"inclusive\", \"distressed\", \"odds\", \"twitter\", \"accommodation\", \"reduced\", \"traveler\", \"update\", \"house\", \"refers\", \"phil\", \"whittingham\", \"capitalist\", \"penny\", \"depressed\", \"england\", \"shambolic\", \"latest\", \"privatisation\", \"contract\", \"telephone\", \"dreadful\", \"chat\", \"virgin\", \"weather\", \"customer\", \"disgrace\", \"poor\", \"trains\", \"service\", \"company\", \"number\", \"better\", \"review\", \"coast\", \"other\", \"passenger\", \"east\", \"response\", \"wa\", \"brussels\", \"care\", \"staff\", \"bad\", \"reply\", \"ever\", \"still\", \"franchise\", \"london\", \"not\", \"never\", \"day\", \"train\", \"gwr\", \"issue\", \"due\", \"just\", \"worst\", \"website\", \"ticket\", \"very\", \"only\", \"eurostar\", \"thalys\", \"black\", \"latter\", \"preference\", \"wage\", \"violent\", \"blatant\", \"cancelations\", \"thief\", \"abhorrent\", \"lewes\", \"developed\", \"holland\", \"unservicable\", \"beware\", \"dark\", \"curly\", \"lille\", \"amsterdam\", \"eastbourne\", \"typical\", \"countless\", \"inspector\", \"tonight\", \"appalling\", \"paper\", \"disgruntled\", \"organised\", \"pitiful\", \"unit\", \"replacement\", \"embarrassment\", \"abysmal\", \"sharp\", \"custom\", \"cancelled\", \"bus\", \"change\", \"service\", \"email\", \"rail\", \"ticket\", \"croydon\", \"general\", \"southern\", \"company\", \"time\", \"website\", \"discount\", \"customer\", \"not\", \"seat\", \"now\", \"eurostar\", \"price\", \"yet\", \"wa\", \"train\", \"number\", \"never\", \"information\", \"so\", \"again\", \"staff\", \"even\", \"more\", \"london\", \"only\", \"late\", \"peanut\", \"mature\", \"mam\", \"embarrassed\", \"talk\", \"misfortune\", \"another\", \"clever\", \"consider\", \"his\", \"continent\", \"that\", \"decidedly\", \"furious\", \"boarder\", \"visa\", \"embarrassing\", \"wow\", \"separately\", \"entitle\", \"politeness\", \"indifferent\", \"rapid\", \"ie\", \"unforgivable\", \"derisory\", \"grime\", \"bronze\", \"moron\", \"olympics\", \"union\", \"unhappy\", \"law\", \"luck\", \"tax\", \"discount\", \"anybody\", \"faulty\", \"ongoing\", \"cabin\", \"ceo\", \"row\", \"feeling\", \"pricing\", \"durham\", \"just\", \"signal\", \"alternative\", \"time\", \"always\", \"overcrowded\", \"company\", \"train\", \"reply\", \"staff\", \"number\", \"terrible\", \"right\", \"not\", \"more\", \"july\", \"people\", \"even\", \"strike\", \"week\", \"very\", \"new\", \"service\", \"rail\", \"delay\", \"standard\", \"so\", \"london\", \"bad\", \"never\", \"hour\", \"customer\", \"again\", \"problem\", \"virgin\", \"journey\", \"only\", \"ticket\", \"nt\", \"anytime\", \"sack\", \"thread\", \"issuer\", \"text\", \"comes\", \"plymouth\", \"moor\", \"comical\", \"epsom\", \"alternatively\", \"dept\", \"resolutions\", \"closing\", \"cookie\", \"fool\", \"dollar\", \"rating\", \"competent\", \"pas\", \"verge\", \"surroundings\", \"travelcard\", \"keeps\", \"liable\", \"falls\", \"dripnoff\", \"pack\", \"sea\", \"us\", \"health\", \"reviewer\", \"life\", \"rubbish\", \"safety\", \"announcement\", \"pathetic\", \"alcohol\", \"year\", \"thing\", \"joke\", \"time\", \"number\", \"london\", \"ha\", \"southern\", \"trains\", \"company\", \"service\", \"always\", \"day\", \"wrong\", \"just\", \"ticket\", \"website\", \"occasion\", \"more\", \"seat\", \"way\", \"complaint\", \"th\", \"back\", \"journey\", \"staff\", \"customer\", \"delay\", \"train\", \"not\", \"people\", \"money\", \"ring\", \"spanish\", \"appropriate\", \"hang\", \"sluggish\", \"ringo\", \"village\", \"tell\", \"hartlepool\", \"bicester\", \"commentator\", \"el\", \"gail\", \"carole\", \"nappy\", \"opportunist\", \"camel\", \"madam\", \"sir\", \"internal\", \"insulted\", \"external\", \"excuses\", \"listen\", \"entitlement\", \"brushed\", \"napkin\", \"rocket\", \"cleanest\", \"txxt\", \"app\", \"crowding\", \"woman\", \"final\", \"catering\", \"summer\", \"star\", \"vestibule\", \"broken\", \"fantastic\", \"everything\", \"zero\", \"ability\", \"kept\", \"pushchair\", \"pram\", \"lancaster\", \"staff\", \"shame\", \"ahead\", \"space\", \"class\", \"head\", \"station\", \"dangerous\", \"loud\", \"even\", \"so\", \"rude\", \"not\", \"first\", \"service\", \"journey\", \"no\", \"book\", \"enough\", \"floor\", \"extremely\", \"manchester\", \"train\", \"carriage\", \"good\", \"virgin\", \"just\", \"wa\", \"more\", \"weekend\", \"london\", \"again\"], \"Freq\": [685.0, 1462.0, 1313.0, 437.0, 664.0, 201.0, 368.0, 352.0, 267.0, 331.0, 208.0, 220.0, 317.0, 27.0, 237.0, 200.0, 116.0, 50.0, 216.0, 671.0, 146.0, 295.0, 222.0, 81.0, 119.0, 135.0, 101.0, 68.0, 302.0, 110.0, 11.953913648184246, 8.329830559169658, 4.049268751104087, 4.048373910554693, 3.9766463331910162, 6.214328701748116, 3.8841540804146124, 3.8725803833116035, 3.0627037275320923, 3.0617639114758215, 3.0613623268952916, 3.061032752279324, 3.0593313018197104, 3.0585015897365593, 3.058830918584729, 3.0547246302300817, 22.20502216465688, 7.641709727772243, 4.553953414070688, 3.023013211364855, 3.0144924418379433, 3.010987793050699, 7.51428502338127, 8.165512176142922, 2.941493753427448, 3.661880210072644, 22.585427459500334, 5.035637160438368, 4.954114999055193, 2.076204078194137, 98.14628054576326, 206.81090374761467, 39.35039319741666, 37.14743683552453, 12.166644354963191, 47.84862286811679, 23.945469092178755, 107.27354601174991, 16.66324736203521, 22.327560022169486, 48.16913946615269, 273.7762345737873, 8.91507643143261, 97.54915524125765, 18.1815418285069, 476.218747458743, 15.877509036219793, 37.52625741961201, 215.70362415714808, 111.84244407402922, 35.205328582806985, 96.92421295440033, 17.351055085259066, 63.64096549805739, 56.1265620145979, 60.81517455393623, 82.69354968862531, 53.75865810411835, 70.89942443143087, 81.73969537578172, 31.18289423440164, 39.482093278406715, 154.02289081224066, 82.0132880198449, 74.03499683620878, 96.59198994465098, 53.815585790505935, 43.30058950874366, 50.198410742733415, 50.496552640517514, 44.37766982893185, 48.31689506579444, 43.40543208486204, 40.73782515955095, 4.597450714568499, 8.259583882360143, 3.7343022486117583, 3.7319545918031602, 3.711394237985662, 3.7111731545979443, 3.683897242413414, 7.952374271096585, 6.457500287369443, 2.822073471201774, 2.8220628383346695, 2.819721400750227, 2.818016330230976, 2.816652915800004, 2.8144924375764706, 2.8101153074918703, 2.809052622641832, 2.802611913858442, 2.7922211952558342, 2.7895120209656867, 23.978487562140188, 5.497114452363093, 5.491659992158669, 7.348140131534679, 10.791450098038563, 11.44177149727389, 4.640838028477939, 7.228676459074459, 20.669918090063803, 1.9126914934938928, 3.214144997926224, 4.9332173981926015, 7.225309250744643, 11.208779298399048, 28.125456599197218, 7.147368328668047, 39.8945751543096, 19.13927634511826, 18.470911171026902, 51.880058511587144, 306.3657548309321, 22.174503291999542, 6.737472505514209, 155.55881042823697, 19.91943508270502, 106.30462872714186, 54.73683144179353, 39.540135551089094, 18.513986721248035, 26.867221687141594, 128.87981215581772, 84.32289570458268, 17.940424992740045, 79.02740368445457, 18.79414391115639, 60.23615993795595, 54.521862955761314, 27.979331313402916, 103.08557114399326, 60.64090544102857, 59.07290341224058, 65.08982543439556, 33.25458156448639, 36.32548198112307, 110.00915493545861, 47.637825405118974, 50.02705712533548, 36.94132480412137, 25.425950594549477, 28.41766544179794, 30.25352263387463, 34.126910006536775, 30.377098216602242, 31.609432266872084, 30.479658439048343, 9.493508648644447, 6.689283001603858, 4.78815326003847, 3.8351888953658295, 3.7923126993537593, 2.9217366439376686, 2.9202636000049105, 2.916997068546424, 2.904142335824347, 2.9001283581860844, 2.877950480114938, 2.83894413878544, 4.736838971615332, 4.747174810711564, 2.720520107631834, 1.980373985545214, 1.9803737938923476, 1.9803737938923476, 1.980373602239481, 1.980373602239481, 1.9803590366216186, 1.9803458125738225, 1.9803036489431685, 1.980302499025969, 1.9800232607993193, 1.9778698491900988, 1.9777207432598767, 1.9774047076828383, 1.9775045588263416, 1.9769296002265142, 2.6628642175054646, 6.44541316156982, 5.711038090602535, 21.742655876198192, 14.558048340677335, 29.342753027521336, 4.776305663130425, 4.797473722247408, 14.397418706891923, 27.206185405441246, 6.646223202145576, 405.26825632955837, 89.99696639150726, 5.517432281282617, 413.29228655537514, 20.6199825148374, 8.133503109835386, 46.47472849799555, 80.23294892098157, 32.23801148636688, 16.337243162225704, 92.84711743166767, 86.98635437208405, 19.932405624144476, 48.52459236322165, 21.3736382474913, 24.449817012415902, 45.73723293505414, 65.37323436859259, 103.44494446333202, 30.02849311714068, 28.50554277791757, 11.791259397988714, 85.70856024693566, 53.35963541360472, 34.417371360503466, 32.84649860529047, 79.07270393165071, 47.74787389121147, 41.836744458282965, 55.620501418852854, 36.847391719043785, 37.65180633011339, 32.789616034480865, 32.440427577964826, 31.556484693367075, 33.30383447459967, 31.283288898295968, 31.610116831558987, 29.37772584262018, 4.6378151242985854, 4.614067737615383, 2.8263525233918583, 2.8075669914128816, 4.159159876123474, 2.7349718406466996, 4.610352951566974, 4.606717667660278, 1.9184070398149002, 1.9184070398149002, 1.9184070398149002, 1.917985169456212, 1.916735434570032, 1.9165428600225012, 1.915262463487155, 1.9134499116099528, 1.9131931051491484, 1.9115756728575504, 1.9108839072708248, 1.9106136484659197, 1.9107249029874007, 1.9095341887460588, 1.9093259803932217, 1.9086737234927738, 1.9057895893945085, 1.904808537813474, 1.8896262949768463, 7.876297054942264, 1.841684322063311, 5.533022813511981, 5.45526147784199, 18.048147675521346, 6.3884207748014115, 5.345120955883163, 3.3875009389762947, 3.697898387678223, 9.370481151351143, 11.333463684670317, 55.3356895444401, 4.429432739334109, 4.913366154088245, 204.5085325821927, 25.29530695587156, 7.007572304763783, 9.287390748340664, 7.404725738455185, 15.032731302831866, 109.7664120270025, 19.90347752219429, 28.619326404229145, 16.203632059197858, 16.307979589733158, 47.26423654620696, 8.106216764004182, 14.965061406698574, 28.954420175238674, 45.79195771368552, 37.11698650602701, 111.51540485052072, 22.533928042562984, 22.236588093483515, 19.463210174006306, 36.1731681048483, 21.32258881267668, 18.371591474155128, 50.54626335112759, 37.541295253573786, 12.391601317939301, 14.31869639058202, 25.420955243155795, 29.381236148864314, 22.72798695325207, 20.767950846867805, 18.685438782561285, 20.929578700968282, 22.325911658311874, 18.97649418429225, 18.287916439541572, 18.235237544812556, 18.081228322780042, 7.001663511374413, 6.1327756334823755, 3.5556567483874497, 2.713095784844793, 2.709903891793266, 3.391202974381904, 2.63469477078198, 2.6167396392468274, 1.8420498263291545, 1.839718842099617, 1.835868043069043, 1.8355191905881816, 1.8347575349776883, 1.8351575930926625, 1.834405975591059, 1.8341173517635374, 1.8336382294425873, 1.8300109757133607, 1.817483077455467, 1.8166301765630413, 1.807032503799094, 3.5574063118155514, 3.8987992371064295, 2.7041469799510027, 2.702056571971603, 4.381240224528191, 2.716961246281611, 3.20894294865845, 1.582095288948356, 2.6291113264843546, 2.64350259100035, 14.981069506896496, 7.933717035364589, 22.7718429693661, 35.05869217091411, 56.96196306806111, 92.82576119855592, 6.475181618256958, 6.952331958355007, 9.397398731488302, 19.68075147943446, 11.523638924841794, 3.5719931502732907, 19.48597336798652, 5.1104224399748315, 116.11983306092687, 120.66478559285562, 34.20431691714666, 18.007589564334445, 12.46515398679333, 20.806661864609502, 28.885745153531506, 58.80720659204564, 23.35080138885451, 42.34492817417712, 27.672466677785923, 36.40199957213516, 24.345892432069803, 16.69154972721718, 11.475598565873762, 17.714014806163135, 27.8551034145621, 40.50361146816015, 26.891013660806703, 22.748744040145155, 16.706259053160924, 20.977790642663653, 19.08797701290577, 23.02854064795694, 20.981982737396486, 18.283471986405587, 17.151967329309844, 2.61875983854914, 2.6142818046776393, 4.301756079540493, 1.7792759220015886, 1.7786381788973509, 4.1708454345711035, 1.7775864479244783, 1.775602918785016, 1.7730913272895312, 1.7716347213885282, 1.7713196740167996, 1.771181352598427, 1.7712122715037104, 1.771126349493239, 1.770867932537503, 1.7709302585413107, 1.756709026690728, 1.7454553588230177, 4.05091197736376, 3.4586811762409098, 2.6296559862331272, 1.6020290664571193, 6.351071211042994, 1.781254569208638, 0.9331043276068048, 0.9331043276068048, 0.9331043276068048, 0.9331042462412646, 0.9331042462412646, 0.9331042462412646, 3.2182251753150353, 1.77997810661368, 1.779337271618914, 1.7685495028344986, 1.7813826385689429, 4.863821094820336, 6.048675855356375, 4.753527175893835, 66.95471103766938, 4.782752050629748, 60.69885443271516, 7.972207998234097, 19.13023099887882, 19.721944640628035, 71.85800418336083, 32.71762529115455, 100.89711292893742, 11.51005914695688, 11.326833063323866, 12.493832318789895, 20.53724818320218, 17.030898517030643, 11.459836429987693, 10.112063122808696, 35.09743585585159, 6.234736063486302, 8.537578081757642, 26.891014220937233, 13.888949304662965, 9.539851173739203, 12.922479003150794, 13.616228937880752, 7.3638365521668945, 22.14349507653318, 30.460349928178896, 14.110169840956711, 16.850281338079217, 31.09219175251555, 10.184289685550427, 8.683381224284423, 11.912003613790821, 13.717819998625412, 10.627946033846634, 11.431147591430744, 15.732879912233493, 12.828070241372357, 12.083661470377637, 11.192395059454897, 9.161982285737139, 2.55884162273105, 2.548783878368573, 2.470278353357371, 1.7393716241254524, 1.7388722921085198, 1.7380670256732897, 1.7372910295035064, 1.737058738538456, 1.7354917769307154, 1.73491198509735, 1.7315084814005648, 1.7317044184286223, 1.7312300797433724, 3.377982163782649, 1.7098702706014905, 1.706180479650886, 5.24380039905786, 2.55886354201659, 4.5152247323814345, 2.563433178434932, 2.5432329529597815, 6.380488570117503, 3.3448073251180572, 7.964055373196145, 3.3396987950454666, 0.9110995621796162, 0.9110995621796162, 0.9110995621796162, 0.9110994953525261, 10.689568302780396, 1.7312856798823029, 3.3108249478971734, 1.7710882956849223, 2.56678469065565, 3.969258098920937, 11.453950458927999, 10.99757275701943, 81.5509050054363, 17.17525821653814, 18.582804602864105, 56.563120505872575, 3.5250937159918396, 3.431016142454722, 16.833426423927165, 23.524196380896246, 36.00358340981792, 16.90299930546415, 4.88805413706283, 30.259898734755176, 36.71359290702536, 21.177278162707093, 16.596304662190303, 15.556115878411571, 13.869227978698634, 7.173162108496431, 20.721782578387327, 35.292853249271275, 36.159558907252745, 12.593376936829964, 7.635315274836395, 16.157500881117503, 11.951674348765406, 14.22482615186209, 12.631356108653192, 9.729429819026707, 10.20294305606025, 9.147283533624135, 8.805914719093098, 2.41756031836586, 1.6423887624991615, 1.642326216834599, 1.6403521462561765, 1.640097650103818, 1.6371518571402672, 1.6360097517378815, 1.6354667906670657, 1.634263757160408, 1.6343091566858923, 1.625138668212767, 1.6222188640512156, 1.6128681793617383, 1.6079555409223958, 1.5337349732075913, 3.059882941629021, 1.4813956827279917, 2.4175439270882504, 3.1721004319150805, 0.860298901270359, 0.860298901270359, 0.860298901270359, 0.860298901270359, 0.860298901270359, 0.860298901270359, 0.860298901270359, 0.860298901270359, 0.860298901270359, 0.860298901270359, 0.860298901270359, 2.422852328611981, 2.41564598968083, 1.6376640845655652, 3.9695339308719944, 1.637502220699171, 6.320408924379918, 1.64236989096244, 1.6424996192977313, 1.6423954484150285, 1.6380929537172306, 1.6372320881306717, 2.3583015363132764, 1.9768980738098927, 3.1688279996102184, 3.1062374747087915, 25.653722875449088, 3.8005014686201104, 5.5634299612621625, 32.565983306910645, 12.617343813825336, 4.23981660896622, 17.418179073990835, 44.766035387255926, 6.7390016076828765, 15.709226195818166, 35.416581768996984, 7.924891132009383, 5.218828367787475, 20.84648725272648, 9.594832769471354, 3.0977772030405113, 10.146465688841529, 10.717187545036241, 4.306312140083414, 8.644061025224277, 11.02485268846607, 8.420011239675983, 16.807177809817738, 7.964332859432036, 7.648517800234982, 5.470687681197992, 10.93592828203669, 10.396975309945724, 6.831672283744858, 7.749444935368651, 9.572645881178614, 10.07871967578249, 7.9632173898557665, 6.560565728276048, 8.36387801545389, 7.726835324653349, 6.918569779292996, 6.908062107646461, 3.2004770583316193, 2.4656183175260167, 2.4399914996876197, 1.681219369263204, 1.681219161158726, 1.681218953054248, 1.6811960615616683, 1.6766872699413968, 1.6765897729934556, 1.6754206420360713, 1.6754796396555833, 1.6747780154080183, 1.671087802751946, 1.6665255282808293, 1.6646766240460698, 1.657714696839176, 1.6391082835659898, 2.4521949543818105, 6.416173629557033, 1.4238439710040542, 4.082096695841237, 0.8806388411048199, 0.880638737052581, 0.880638737052581, 0.880638737052581, 0.880638737052581, 0.880638737052581, 0.880638737052581, 0.880638737052581, 0.880638737052581, 2.4522201350236483, 3.2713006310147232, 2.2648678355729888, 10.42320329430434, 5.643893333413627, 3.848577666573929, 6.098559164522396, 3.1343389579706065, 1.6636507730217862, 15.33749814380268, 8.287019151849725, 9.260037443677477, 31.64668770528141, 58.053384566731324, 21.05232846683992, 11.366067247270406, 11.42588063633615, 9.806419912746762, 14.667668098385892, 25.357410775690195, 9.32714780815969, 13.926920208957467, 6.458154129694304, 13.262016412743812, 21.26122707152442, 9.52206595401239, 4.36607565030626, 9.885083405429427, 12.07800598518291, 8.916819884714936, 6.790876147413572, 5.883353329318778, 9.193129356747878, 10.664811760840326, 9.629412903106264, 10.157971639844106, 7.2598420858323465, 10.32904101251841, 9.213092403113123, 7.480551868270015, 7.456213633359373, 2.082953388950279, 1.4220310104570568, 1.4160375566946115, 1.4058377260534645, 0.7448733504535295, 0.7448733504535295, 0.7448733504535295, 0.7448733504535295, 0.7448733504535295, 0.7448733504535295, 0.7448733504535295, 0.7448733504535295, 0.744873261570764, 0.744873261570764, 0.744873261570764, 0.7448731726879985, 0.7448731726879985, 0.7448730393638502, 0.7448728615983191, 0.7448715727982189, 0.7448714839154533, 0.7448713061499223, 0.7448686396669564, 0.7448677508393011, 0.7448599291559345, 0.7441505558042405, 0.7440823382816963, 0.7440341193813963, 0.744010165476086, 0.7440069212551442, 11.326229129588985, 1.4111447382177227, 4.924151784924551, 2.759643658931268, 1.4179478250913797, 2.087741325763843, 7.136136284594559, 1.3741953726420613, 2.096345177467135, 2.0426589204939005, 2.611033630386148, 1.41552399207538, 1.282603193770533, 1.4176859764641287, 1.7403849893556325, 1.4217216095502474, 1.415824949119464, 10.656952571080843, 2.4253847313204786, 1.8297848748153664, 2.792245857327628, 8.042501576125602, 1.9029590336620896, 6.06626794609174, 1.3392037388599611, 1.4223696537937258, 6.3170225820803925, 7.729455053805112, 3.9173578566212957, 8.419935484858062, 5.4718274763801995, 8.096481857287209, 5.668537835616063, 3.655747790712948, 3.5049308030997213, 2.874774571715309, 2.3807049649783867, 2.6488059614878505, 2.7262905789317107, 5.7158277332507055, 3.07321903370666, 2.9793815872950815, 4.057348923392983, 3.6217455109939607, 3.7046656650810355, 2.8576905931183414, 2.507400058854459, 2.8658079005631234, 2.698056435164551], \"Total\": [685.0, 1462.0, 1313.0, 437.0, 664.0, 201.0, 368.0, 352.0, 267.0, 331.0, 208.0, 220.0, 317.0, 27.0, 237.0, 200.0, 116.0, 50.0, 216.0, 671.0, 146.0, 295.0, 222.0, 81.0, 119.0, 135.0, 101.0, 68.0, 302.0, 110.0, 12.720313250444198, 9.707247392574601, 4.811276312437741, 4.810554193449341, 4.799308483937855, 7.622498688738174, 4.776590942793194, 4.77545962913282, 3.822721406935152, 3.8227290392133413, 3.8222318627297995, 3.822643013550975, 3.8226625431521986, 3.8217976474760365, 3.8226853153017695, 3.822125551829221, 27.844317784308064, 9.590419974102435, 5.744845616221305, 3.8184095486777507, 3.817259545733555, 3.8203990894757327, 9.590364224409123, 10.538067451014394, 3.80760374746198, 4.748732296213382, 29.578754873012606, 6.713151877172702, 6.703305444265497, 2.8342967446910294, 135.5309282551265, 317.5660327691431, 59.11432802003953, 55.884959640020796, 17.704976779839306, 80.16163671265578, 37.90743397314911, 201.41892564678682, 26.27901435380553, 36.86115492305172, 89.45122830262193, 664.8105258217228, 13.195561960110746, 216.46570004947927, 30.362784157484644, 1462.3959014744753, 26.312591843414353, 76.92662653127303, 671.4107118439067, 352.4009778362038, 79.13674321362465, 302.03656573020936, 31.846811825649752, 186.75088309634484, 158.65007094979356, 200.4720842229004, 331.72184883641177, 184.76943669781994, 285.434547442489, 388.0424314882435, 81.50205719255192, 121.5857329200986, 1313.4812167506625, 437.2643723049547, 368.14326665367645, 685.0124178774457, 222.19052829145576, 152.33119604992305, 232.09499364533232, 267.55091707643004, 178.10976535114554, 295.9544723862024, 220.5859067622115, 208.57794313410955, 5.409229182879702, 9.936164491945123, 4.500181715026117, 4.500094434508949, 4.498505265969376, 4.499051654431443, 4.501188033631364, 9.804880412751746, 8.146290435408797, 3.589247318299882, 3.589323264099785, 3.589255372852426, 3.589063874208408, 3.588775384893248, 3.5883962243544376, 3.587980942400917, 3.5888237981921742, 3.5910731788224357, 3.590674821400157, 3.589354185185118, 31.013232795848587, 7.168543572089337, 7.2599422678679595, 9.787844422784152, 14.397290067400203, 15.30032763813462, 6.259554365503329, 9.970456018378025, 28.535897128648738, 2.6785705219626332, 4.542763655743602, 7.100457363987837, 10.68966661767265, 17.210576267544152, 52.42097259679846, 10.816016930525894, 96.60145479962209, 38.6641205955272, 37.58867099738639, 137.17253433627883, 1313.4812167506625, 48.67980040266771, 10.801859689265779, 671.4107118439067, 45.37603658145202, 437.2643723049547, 178.10976535114554, 121.55889676674698, 42.68226508974438, 72.25678696393845, 664.8105258217228, 368.14326665367645, 41.66449359176007, 388.0424314882435, 45.58764320306304, 267.55091707643004, 232.09499364533232, 84.65745122761193, 685.0124178774457, 302.03656573020936, 295.9544723862024, 352.4009778362038, 135.7252108639011, 165.00797578133057, 1462.3959014744753, 285.434547442489, 331.72184883641177, 184.76943669781994, 83.7015785323864, 112.06174992020428, 139.27582193330352, 220.5859067622115, 170.67995634018087, 237.56505008226617, 317.5660327691431, 10.286259694696037, 7.45732801566443, 5.571123978301098, 4.626447781423449, 4.625272151085998, 3.6860724651160206, 3.6862117831573076, 3.685589157223271, 3.6842687315451275, 3.6843366582239727, 3.6820154702912995, 3.6722823391499193, 6.350421877078368, 6.371151536662222, 3.6660638151581506, 2.743030026475474, 2.7430298765253154, 2.743029894222752, 2.743029686129813, 2.7430297177691885, 2.7430297836880393, 2.7430291249941545, 2.74302749983795, 2.7430273543265593, 2.7430467329248076, 2.743128699372227, 2.7429542464348855, 2.7426146390048682, 2.7431689174952343, 2.742442153463765, 3.6981648779817466, 9.114625017016627, 8.168441014690028, 33.33393084237532, 22.95386350690674, 50.858038800271615, 7.280232385503479, 7.360992591180617, 25.65679470825087, 53.47235099148476, 10.990579238456709, 1313.4812167506625, 237.56505008226617, 9.103610795896344, 1462.3959014744753, 45.73280762534671, 14.727954660249736, 135.7252108639011, 285.434547442489, 87.57469624470495, 37.47901796384477, 388.0424314882435, 368.14326665367645, 49.933361106633356, 170.67995634018087, 58.988744298303786, 72.0019567425423, 178.10976535114554, 302.03656573020936, 671.4107118439067, 104.50207055473028, 101.06072738221071, 25.964034294850165, 664.8105258217228, 331.72184883641177, 158.65007094979356, 146.83526251724604, 685.0124178774457, 295.9544723862024, 232.09499364533232, 437.2643723049547, 184.76943669781994, 216.46570004947927, 165.00797578133057, 201.41892564678682, 200.4720842229004, 267.55091707643004, 222.19052829145576, 352.4009778362038, 186.75088309634484, 5.42365306488521, 5.424159462784661, 3.597081732795087, 3.59863751751174, 5.4497749679957055, 3.586358923971455, 6.272029407575423, 6.271871181860697, 2.684013874952168, 2.6840138872107, 2.68401397524967, 2.684013791238382, 2.6841149787248444, 2.6840085520663286, 2.684080398118626, 2.684353757972273, 2.683998282660876, 2.683627578917581, 2.6839826225561283, 2.6837588125975906, 2.684112633199491, 2.683934993166459, 2.683811080679476, 2.6832234283223757, 2.6838544184730737, 2.6836626984817475, 2.683925468846396, 11.441871315514286, 2.6858632805480265, 8.314639065492091, 8.958834216475504, 35.06152891998591, 10.82716444091813, 9.133924528987366, 5.337619474071262, 6.069914489452214, 19.7305874316356, 26.34334513853258, 222.19052829145576, 8.018149272492767, 9.194605533271748, 1313.4812167506625, 83.59288212576493, 15.176488833705923, 22.27346900025346, 16.60431235831196, 43.70975041288647, 685.0124178774457, 66.75681090547475, 116.77041956094263, 54.53759742354728, 56.33498061598866, 295.9544723862024, 19.947864210706385, 52.2236223429339, 152.33119604992305, 331.72184883641177, 237.56505008226617, 1462.3959014744753, 105.75631009012089, 104.50207055473028, 86.27885729296902, 285.434547442489, 110.29710150202737, 85.3095549209509, 671.4107118439067, 437.2643723049547, 46.733565393995725, 65.47222371411067, 267.55091707643004, 388.0424314882435, 232.09499364533232, 184.76943669781994, 139.33873458373515, 220.5859067622115, 368.14326665367645, 165.00797578133057, 146.83526251724604, 170.67995634018087, 352.4009778362038, 7.882070968660797, 7.003452724157228, 4.369803173432074, 3.4885020472110817, 3.488829263073169, 4.378506330482669, 3.49841636680106, 3.5001195467954127, 2.6113207021312292, 2.6111882821758905, 2.6099035693784196, 2.610786512888989, 2.6114405442489663, 2.6121994538521913, 2.611410151724132, 2.611439625282622, 2.6115254519425197, 2.612679298762313, 2.6114261230955975, 2.6128808626896034, 2.6124921693976138, 5.148342514016666, 6.147635484251241, 4.316374158142095, 4.317597215196473, 7.056873762808917, 4.402043260794663, 5.2908158530319715, 2.6219041686428692, 4.400351244462164, 4.480036594610617, 35.125229087440054, 17.59879209275477, 79.10648107475792, 165.00797578133057, 331.72184883641177, 685.0124178774457, 15.735564068599231, 17.523248298786733, 27.738377816606665, 82.4048415880107, 37.93153490247726, 6.893506970819593, 84.03739821769275, 11.797198844339976, 1313.4812167506625, 1462.3959014744753, 220.5859067622115, 85.05295327695976, 48.766967018456754, 116.77041956094263, 200.4720842229004, 664.8105258217228, 146.83526251724604, 437.2643723049547, 232.09499364533232, 388.0424314882435, 201.41892564678682, 101.4591996993821, 48.79305042447247, 119.435511264434, 302.03656573020936, 671.4107118439067, 295.9544723862024, 222.19052829145576, 113.70144682418068, 216.46570004947927, 170.67995634018087, 317.5660327691431, 267.55091707643004, 285.434547442489, 237.56505008226617, 3.4026275580451664, 3.402552832978918, 6.086913601854006, 2.5536602933317223, 2.553554860012077, 5.990292576889524, 2.553948090090435, 2.55370931915235, 2.553881885081662, 2.553887128856668, 2.5538727350690222, 2.5539918177874306, 2.5540991537132745, 2.554040543409444, 2.5538543186208345, 2.5541284138366356, 2.5555828681506467, 2.5547653363788476, 5.962253885077149, 5.239584908769975, 4.204851970863032, 2.5831959126254955, 11.316476399881552, 3.2310807882829335, 1.7052361900114092, 1.7052361900114092, 1.7052361900114092, 1.705236091112392, 1.705236100292483, 1.7052361015966353, 6.073088727963846, 3.3357330041713347, 3.3816266130605137, 3.3828171321757896, 3.466854828699127, 10.618229411475761, 15.74965513949383, 11.738360672386554, 368.14326665367645, 12.078755156054122, 352.4009778362038, 23.7543865275376, 85.05295327695976, 88.95097624560673, 685.0124178774457, 208.57794313410955, 1462.3959014744753, 48.79305042447247, 47.75253648066212, 55.98846214751823, 132.66995665971675, 101.06072738221071, 54.00139473039432, 46.032910525905926, 388.0424314882435, 20.814288181399714, 35.52734722137757, 267.55091707643004, 84.8785916158302, 43.706044550774266, 85.8626995747716, 100.90793462139523, 29.175923663568923, 295.9544723862024, 671.4107118439067, 135.55936001938034, 222.19052829145576, 1313.4812167506625, 65.47222371411067, 44.103776966024554, 113.70144682418068, 220.5859067622115, 84.65745122761193, 119.435511264434, 664.8105258217228, 232.09499364533232, 186.75088309634484, 137.17253433627883, 9.970022622911276, 3.342884462314257, 3.34325566316634, 3.355198271069951, 2.513504023801971, 2.5135583187363957, 2.513625531165475, 2.513711462634631, 2.5138453813114885, 2.5138614582961467, 2.5143202661540016, 2.5135984617771596, 2.513978819999522, 2.5136760654378385, 4.95435994521917, 2.516540431030182, 2.516968070710837, 8.547456668059974, 4.21957769460797, 7.596782098203131, 4.32986230508379, 4.331907323169294, 11.181738984251236, 5.99881059832179, 14.466047365090775, 6.1120906769797445, 1.6852318154853858, 1.6852318322421607, 1.6852318510331292, 1.6852317909458738, 20.800350006561143, 3.297130102598319, 6.55691538611782, 3.4232157553498372, 5.111288574600056, 8.529216006647623, 33.49919570544967, 34.55065444975296, 685.0124178774457, 81.50205719255192, 110.29710150202737, 664.8105258217228, 7.850790294611615, 7.679716363810136, 116.77041956094263, 208.57794313410955, 437.2643723049547, 119.435511264434, 14.57567499910615, 352.4009778362038, 671.4107118439067, 237.56505008226617, 152.33119604992305, 137.17253433627883, 112.06174992020428, 34.72433723010427, 388.0424314882435, 1313.4812167506625, 1462.3959014744753, 135.55936001938034, 45.4254488952047, 331.72184883641177, 158.65007094979356, 267.55091707643004, 200.4720842229004, 139.33873458373515, 295.9544723862024, 186.75088309634484, 165.00797578133057, 3.2048544351942665, 2.4211392985841043, 2.4211521259767177, 2.4212428833661965, 2.4213744893978504, 2.4219278731177276, 2.421769825090973, 2.4229676533731688, 2.422153743533217, 2.422713529421794, 2.424041885536075, 2.4239284305900326, 2.425662126264755, 2.4231679116182256, 2.43733333944815, 4.994324201147165, 2.4306479564131087, 4.0052362330644975, 5.5493306784491985, 1.6390494318001285, 1.6390494318001285, 1.6390494318001285, 1.6390494318001285, 1.6390494318001285, 1.6390494318001285, 1.6390494318001285, 1.6390494388493624, 1.6390494646326537, 1.6390494699427691, 1.6390494713718593, 4.899218675687682, 4.90159886714048, 3.2502018418533143, 8.415915628965923, 3.299423164855532, 14.57567499910615, 3.3319900883028004, 3.3341052033005463, 3.3347814741028436, 3.3321590847786733, 3.3321904417126054, 5.070772721445752, 4.186930640848962, 7.611057240681697, 8.504314647774633, 220.5859067622115, 11.977886836452093, 22.13173558676003, 437.2643723049547, 93.94146456787493, 14.654883681020083, 208.57794313410955, 1313.4812167506625, 43.706044550774266, 267.55091707643004, 1462.3959014744753, 68.49860459465043, 29.64654863945504, 671.4107118439067, 139.33873458373515, 10.367985553744614, 170.67995634018087, 200.4720842229004, 22.993778698549217, 121.5857329200986, 232.09499364533232, 121.55889676674698, 685.0124178774457, 110.29710150202737, 104.50207055473028, 42.00445441188948, 331.72184883641177, 295.9544723862024, 84.8785916158302, 135.55936001938034, 285.434547442489, 352.4009778362038, 158.65007094979356, 79.10648107475792, 368.14326665367645, 302.03656573020936, 186.75088309634484, 664.8105258217228, 4.07659574900057, 3.2604192172114392, 3.264577385305246, 2.4581210305782424, 2.458120732618107, 2.4581208512852046, 2.4581223672089205, 2.4586435596665424, 2.4585800829839823, 2.45869704607929, 2.4589151841576435, 2.4588344613976854, 2.459090632731034, 2.459527130177913, 2.460836833854016, 2.4613954343808424, 2.464064808923798, 4.045643250682732, 10.662353588997131, 2.4527283174359367, 7.5956766313739825, 1.6575402926448104, 1.6575401885925716, 1.6575401885925716, 1.6575401956418052, 1.6575402024364687, 1.6575402192915378, 1.6575402199225477, 1.657540226221099, 1.6575402284008718, 4.968996529255689, 7.024557935262755, 5.064137199841061, 36.55400954419109, 18.32040021147705, 12.351312889733867, 23.515705646215206, 10.059363945833281, 4.080511164076465, 101.4591996993821, 41.66449359176007, 51.52216918523266, 437.2643723049547, 1462.3959014744753, 295.9544723862024, 105.75631009012089, 116.77041956094263, 88.95097624560673, 208.57794313410955, 685.0124178774457, 93.94146456787493, 222.19052829145576, 45.95060544813322, 220.5859067622115, 664.8105258217228, 119.435511264434, 20.52543438572586, 139.33873458373515, 237.56505008226617, 135.7252108639011, 65.81302572577626, 45.58652897905949, 184.76943669781994, 302.03656573020936, 267.55091707643004, 352.4009778362038, 104.50207055473028, 1313.4812167506625, 671.4107118439067, 170.67995634018087, 317.5660327691431, 2.8955355437644528, 2.2112748225785066, 2.2122034379109756, 2.2140830438104038, 1.534117119818096, 1.5341171433061245, 1.534117145629126, 1.5341171468061048, 1.5341171532036442, 1.5341171533093698, 1.534117182555887, 1.5341172493501412, 1.5341171871492074, 1.534117230811174, 1.5341172320096006, 1.5341172125114313, 1.5341172343239384, 1.5341173469884706, 1.5341172763824957, 1.5341175142773809, 1.5341175193312777, 1.5341174426143325, 1.53411885827026, 1.534119772320866, 1.5341206224986204, 1.534449686346016, 1.5344810485406746, 1.5345032137153827, 1.534514327802627, 1.5345156994081255, 27.503875678036007, 3.1575809613119503, 13.396798294395392, 8.618588035349772, 4.069517575642769, 7.388866194696761, 50.910437697165314, 4.013216267337499, 8.360096525816136, 8.380215685312626, 12.716987051584772, 4.720615969968668, 4.0216901772049445, 4.830827245570197, 7.002354176275885, 4.945970446466549, 5.042422925859293, 267.55091707643004, 16.085754154728512, 9.194605533271748, 21.85667836336672, 201.41892564678682, 10.738272536284033, 146.83526251724604, 5.713819636615358, 6.604632605514724, 200.4720842229004, 331.72184883641177, 68.69364076123554, 671.4107118439067, 216.46570004947927, 685.0124178774457, 302.03656573020936, 81.7972051818841, 73.8497205374299, 43.496547395664656, 22.921461674157342, 39.26320204893025, 45.73280762534671, 1313.4812167506625, 86.27885729296902, 78.3078832385945, 368.14326665367645, 220.5859067622115, 388.0424314882435, 139.33873458373515, 38.666771687096016, 295.9544723862024, 158.65007094979356], \"Category\": [\"Default\", \"Default\", \"Default\", \"Default\", \"Default\", \"Default\", \"Default\", \"Default\", \"Default\", \"Default\", \"Default\", \"Default\", \"Default\", \"Default\", \"Default\", \"Default\", \"Default\", \"Default\", \"Default\", \"Default\", \"Default\", \"Default\", \"Default\", \"Default\", \"Default\", \"Default\", \"Default\", \"Default\", \"Default\", \"Default\", \"Topic1\", \"Topic1\", \"Topic1\", \"Topic1\", \"Topic1\", \"Topic1\", \"Topic1\", \"Topic1\", \"Topic1\", \"Topic1\", \"Topic1\", \"Topic1\", \"Topic1\", \"Topic1\", \"Topic1\", \"Topic1\", \"Topic1\", \"Topic1\", \"Topic1\", \"Topic1\", \"Topic1\", \"Topic1\", \"Topic1\", \"Topic1\", \"Topic1\", \"Topic1\", \"Topic1\", \"Topic1\", \"Topic1\", \"Topic1\", \"Topic1\", \"Topic1\", \"Topic1\", \"Topic1\", \"Topic1\", \"Topic1\", \"Topic1\", \"Topic1\", \"Topic1\", \"Topic1\", \"Topic1\", \"Topic1\", \"Topic1\", \"Topic1\", \"Topic1\", \"Topic1\", \"Topic1\", \"Topic1\", \"Topic1\", \"Topic1\", \"Topic1\", \"Topic1\", \"Topic1\", \"Topic1\", \"Topic1\", \"Topic1\", \"Topic1\", \"Topic1\", \"Topic1\", \"Topic1\", \"Topic1\", \"Topic1\", \"Topic1\", \"Topic1\", \"Topic1\", \"Topic1\", \"Topic1\", \"Topic1\", \"Topic1\", \"Topic1\", \"Topic1\", \"Topic1\", \"Topic1\", \"Topic1\", \"Topic2\", \"Topic2\", \"Topic2\", \"Topic2\", \"Topic2\", \"Topic2\", \"Topic2\", \"Topic2\", \"Topic2\", \"Topic2\", \"Topic2\", \"Topic2\", \"Topic2\", \"Topic2\", \"Topic2\", \"Topic2\", \"Topic2\", \"Topic2\", \"Topic2\", \"Topic2\", \"Topic2\", \"Topic2\", \"Topic2\", \"Topic2\", \"Topic2\", \"Topic2\", \"Topic2\", \"Topic2\", \"Topic2\", \"Topic2\", \"Topic2\", \"Topic2\", \"Topic2\", \"Topic2\", \"Topic2\", \"Topic2\", \"Topic2\", \"Topic2\", \"Topic2\", \"Topic2\", \"Topic2\", \"Topic2\", \"Topic2\", \"Topic2\", \"Topic2\", \"Topic2\", \"Topic2\", \"Topic2\", \"Topic2\", \"Topic2\", \"Topic2\", \"Topic2\", \"Topic2\", \"Topic2\", \"Topic2\", \"Topic2\", \"Topic2\", \"Topic2\", \"Topic2\", \"Topic2\", \"Topic2\", \"Topic2\", \"Topic2\", \"Topic2\", \"Topic2\", \"Topic2\", \"Topic2\", \"Topic2\", \"Topic2\", \"Topic2\", \"Topic2\", \"Topic2\", \"Topic2\", \"Topic2\", \"Topic2\", \"Topic3\", \"Topic3\", \"Topic3\", \"Topic3\", \"Topic3\", \"Topic3\", \"Topic3\", \"Topic3\", \"Topic3\", \"Topic3\", \"Topic3\", \"Topic3\", \"Topic3\", \"Topic3\", \"Topic3\", \"Topic3\", \"Topic3\", \"Topic3\", \"Topic3\", \"Topic3\", \"Topic3\", \"Topic3\", \"Topic3\", \"Topic3\", \"Topic3\", \"Topic3\", \"Topic3\", \"Topic3\", \"Topic3\", \"Topic3\", \"Topic3\", \"Topic3\", \"Topic3\", \"Topic3\", \"Topic3\", \"Topic3\", \"Topic3\", \"Topic3\", \"Topic3\", \"Topic3\", \"Topic3\", \"Topic3\", \"Topic3\", \"Topic3\", \"Topic3\", \"Topic3\", \"Topic3\", \"Topic3\", \"Topic3\", \"Topic3\", \"Topic3\", \"Topic3\", \"Topic3\", \"Topic3\", \"Topic3\", \"Topic3\", \"Topic3\", \"Topic3\", \"Topic3\", \"Topic3\", \"Topic3\", \"Topic3\", \"Topic3\", \"Topic3\", \"Topic3\", \"Topic3\", \"Topic3\", \"Topic3\", \"Topic3\", \"Topic3\", \"Topic3\", \"Topic3\", \"Topic3\", \"Topic3\", \"Topic3\", \"Topic3\", \"Topic3\", \"Topic3\", \"Topic3\", \"Topic3\", \"Topic4\", \"Topic4\", \"Topic4\", \"Topic4\", \"Topic4\", \"Topic4\", \"Topic4\", \"Topic4\", \"Topic4\", \"Topic4\", \"Topic4\", \"Topic4\", \"Topic4\", \"Topic4\", \"Topic4\", \"Topic4\", \"Topic4\", \"Topic4\", \"Topic4\", \"Topic4\", \"Topic4\", \"Topic4\", \"Topic4\", \"Topic4\", \"Topic4\", \"Topic4\", \"Topic4\", \"Topic4\", \"Topic4\", \"Topic4\", \"Topic4\", \"Topic4\", \"Topic4\", \"Topic4\", \"Topic4\", \"Topic4\", \"Topic4\", \"Topic4\", \"Topic4\", \"Topic4\", \"Topic4\", \"Topic4\", \"Topic4\", \"Topic4\", \"Topic4\", \"Topic4\", \"Topic4\", \"Topic4\", \"Topic4\", \"Topic4\", \"Topic4\", \"Topic4\", \"Topic4\", \"Topic4\", \"Topic4\", \"Topic4\", \"Topic4\", \"Topic4\", \"Topic4\", \"Topic4\", \"Topic4\", \"Topic4\", \"Topic4\", \"Topic4\", \"Topic4\", \"Topic4\", \"Topic4\", \"Topic4\", \"Topic4\", \"Topic4\", \"Topic4\", \"Topic4\", \"Topic4\", \"Topic4\", \"Topic4\", \"Topic4\", \"Topic4\", \"Topic4\", \"Topic4\", \"Topic4\", \"Topic5\", \"Topic5\", \"Topic5\", \"Topic5\", \"Topic5\", \"Topic5\", \"Topic5\", \"Topic5\", \"Topic5\", \"Topic5\", \"Topic5\", \"Topic5\", \"Topic5\", \"Topic5\", \"Topic5\", \"Topic5\", \"Topic5\", \"Topic5\", \"Topic5\", \"Topic5\", \"Topic5\", \"Topic5\", \"Topic5\", \"Topic5\", \"Topic5\", \"Topic5\", \"Topic5\", \"Topic5\", \"Topic5\", \"Topic5\", \"Topic5\", \"Topic5\", \"Topic5\", \"Topic5\", \"Topic5\", \"Topic5\", \"Topic5\", \"Topic5\", \"Topic5\", \"Topic5\", \"Topic5\", \"Topic5\", \"Topic5\", \"Topic5\", \"Topic5\", \"Topic5\", \"Topic5\", \"Topic5\", \"Topic5\", \"Topic5\", \"Topic5\", \"Topic5\", \"Topic5\", \"Topic5\", \"Topic5\", \"Topic5\", \"Topic5\", \"Topic5\", \"Topic5\", \"Topic5\", \"Topic5\", \"Topic5\", \"Topic5\", \"Topic5\", \"Topic5\", \"Topic5\", \"Topic5\", \"Topic5\", \"Topic5\", \"Topic5\", \"Topic5\", \"Topic5\", \"Topic6\", \"Topic6\", \"Topic6\", \"Topic6\", \"Topic6\", \"Topic6\", \"Topic6\", \"Topic6\", \"Topic6\", \"Topic6\", \"Topic6\", \"Topic6\", \"Topic6\", \"Topic6\", \"Topic6\", \"Topic6\", \"Topic6\", \"Topic6\", \"Topic6\", \"Topic6\", \"Topic6\", \"Topic6\", \"Topic6\", \"Topic6\", \"Topic6\", \"Topic6\", \"Topic6\", \"Topic6\", \"Topic6\", \"Topic6\", \"Topic6\", \"Topic6\", \"Topic6\", \"Topic6\", \"Topic6\", \"Topic6\", \"Topic6\", \"Topic6\", \"Topic6\", \"Topic6\", \"Topic6\", \"Topic6\", \"Topic6\", \"Topic6\", \"Topic6\", \"Topic6\", \"Topic6\", \"Topic6\", \"Topic6\", \"Topic6\", \"Topic6\", \"Topic6\", \"Topic6\", \"Topic6\", \"Topic6\", \"Topic6\", \"Topic6\", \"Topic6\", \"Topic6\", \"Topic6\", \"Topic6\", \"Topic6\", \"Topic6\", \"Topic6\", \"Topic6\", \"Topic6\", \"Topic6\", \"Topic6\", \"Topic6\", \"Topic6\", \"Topic6\", \"Topic6\", \"Topic6\", \"Topic6\", \"Topic6\", \"Topic6\", \"Topic6\", \"Topic6\", \"Topic7\", \"Topic7\", \"Topic7\", \"Topic7\", \"Topic7\", \"Topic7\", \"Topic7\", \"Topic7\", \"Topic7\", \"Topic7\", \"Topic7\", \"Topic7\", \"Topic7\", \"Topic7\", \"Topic7\", \"Topic7\", \"Topic7\", \"Topic7\", \"Topic7\", \"Topic7\", \"Topic7\", \"Topic7\", \"Topic7\", \"Topic7\", \"Topic7\", \"Topic7\", \"Topic7\", \"Topic7\", \"Topic7\", \"Topic7\", \"Topic7\", \"Topic7\", \"Topic7\", \"Topic7\", \"Topic7\", \"Topic7\", \"Topic7\", \"Topic7\", \"Topic7\", \"Topic7\", \"Topic7\", \"Topic7\", \"Topic7\", \"Topic7\", \"Topic7\", \"Topic7\", \"Topic7\", \"Topic7\", \"Topic7\", \"Topic7\", \"Topic7\", \"Topic7\", \"Topic7\", \"Topic7\", \"Topic7\", \"Topic7\", \"Topic7\", \"Topic7\", \"Topic7\", \"Topic7\", \"Topic7\", \"Topic7\", \"Topic7\", \"Topic7\", \"Topic7\", \"Topic7\", \"Topic7\", \"Topic7\", \"Topic7\", \"Topic8\", \"Topic8\", \"Topic8\", \"Topic8\", \"Topic8\", \"Topic8\", \"Topic8\", \"Topic8\", \"Topic8\", \"Topic8\", \"Topic8\", \"Topic8\", \"Topic8\", \"Topic8\", \"Topic8\", \"Topic8\", \"Topic8\", \"Topic8\", \"Topic8\", \"Topic8\", \"Topic8\", \"Topic8\", \"Topic8\", \"Topic8\", \"Topic8\", \"Topic8\", \"Topic8\", \"Topic8\", \"Topic8\", \"Topic8\", \"Topic8\", \"Topic8\", \"Topic8\", \"Topic8\", \"Topic8\", \"Topic8\", \"Topic8\", \"Topic8\", \"Topic8\", \"Topic8\", \"Topic8\", \"Topic8\", \"Topic8\", \"Topic8\", \"Topic8\", \"Topic8\", \"Topic8\", \"Topic8\", \"Topic8\", \"Topic8\", \"Topic8\", \"Topic8\", \"Topic8\", \"Topic8\", \"Topic8\", \"Topic8\", \"Topic8\", \"Topic8\", \"Topic8\", \"Topic8\", \"Topic8\", \"Topic8\", \"Topic8\", \"Topic8\", \"Topic8\", \"Topic8\", \"Topic8\", \"Topic8\", \"Topic8\", \"Topic8\", \"Topic8\", \"Topic8\", \"Topic8\", \"Topic8\", \"Topic8\", \"Topic8\", \"Topic8\", \"Topic8\", \"Topic8\", \"Topic8\", \"Topic8\", \"Topic8\", \"Topic8\", \"Topic9\", \"Topic9\", \"Topic9\", \"Topic9\", \"Topic9\", \"Topic9\", \"Topic9\", \"Topic9\", \"Topic9\", \"Topic9\", \"Topic9\", \"Topic9\", \"Topic9\", \"Topic9\", \"Topic9\", \"Topic9\", \"Topic9\", \"Topic9\", \"Topic9\", \"Topic9\", \"Topic9\", \"Topic9\", \"Topic9\", \"Topic9\", \"Topic9\", \"Topic9\", \"Topic9\", \"Topic9\", \"Topic9\", \"Topic9\", \"Topic9\", \"Topic9\", \"Topic9\", \"Topic9\", \"Topic9\", \"Topic9\", \"Topic9\", \"Topic9\", \"Topic9\", \"Topic9\", \"Topic9\", \"Topic9\", \"Topic9\", \"Topic9\", \"Topic9\", \"Topic9\", \"Topic9\", \"Topic9\", \"Topic9\", \"Topic9\", \"Topic9\", \"Topic9\", \"Topic9\", \"Topic9\", \"Topic9\", \"Topic9\", \"Topic9\", \"Topic9\", \"Topic9\", \"Topic9\", \"Topic9\", \"Topic9\", \"Topic9\", \"Topic9\", \"Topic9\", \"Topic9\", \"Topic9\", \"Topic9\", \"Topic9\", \"Topic9\", \"Topic9\", \"Topic10\", \"Topic10\", \"Topic10\", \"Topic10\", \"Topic10\", \"Topic10\", \"Topic10\", \"Topic10\", \"Topic10\", \"Topic10\", \"Topic10\", \"Topic10\", \"Topic10\", \"Topic10\", \"Topic10\", \"Topic10\", \"Topic10\", \"Topic10\", \"Topic10\", \"Topic10\", \"Topic10\", \"Topic10\", \"Topic10\", \"Topic10\", \"Topic10\", \"Topic10\", \"Topic10\", \"Topic10\", \"Topic10\", \"Topic10\", \"Topic10\", \"Topic10\", \"Topic10\", \"Topic10\", \"Topic10\", \"Topic10\", \"Topic10\", \"Topic10\", \"Topic10\", \"Topic10\", \"Topic10\", \"Topic10\", \"Topic10\", \"Topic10\", \"Topic10\", \"Topic10\", \"Topic10\", \"Topic10\", \"Topic10\", \"Topic10\", \"Topic10\", \"Topic10\", \"Topic10\", \"Topic10\", \"Topic10\", \"Topic10\", \"Topic10\", \"Topic10\", \"Topic10\", \"Topic10\", \"Topic10\", \"Topic10\", \"Topic10\", \"Topic10\", \"Topic10\", \"Topic10\", \"Topic10\", \"Topic10\", \"Topic10\", \"Topic10\", \"Topic10\", \"Topic10\", \"Topic10\", \"Topic10\", \"Topic10\", \"Topic10\", \"Topic10\", \"Topic10\", \"Topic10\"], \"logprob\": [30.0, 29.0, 28.0, 27.0, 26.0, 25.0, 24.0, 23.0, 22.0, 21.0, 20.0, 19.0, 18.0, 17.0, 16.0, 15.0, 14.0, 13.0, 12.0, 11.0, 10.0, 9.0, 8.0, 7.0, 6.0, 5.0, 4.0, 3.0, 2.0, 1.0, -6.5602, -6.9214, -7.6427, -7.643, -7.6608, -7.2144, -7.6844, -7.6874, -7.922, -7.9223, -7.9224, -7.9225, -7.9231, -7.9233, -7.9232, -7.9246, -5.941, -7.0077, -7.5253, -7.935, -7.9378, -7.939, -7.0245, -6.9414, -7.9624, -7.7433, -5.924, -7.4247, -7.4411, -8.3107, -4.4548, -3.7095, -5.3688, -5.4264, -6.5426, -5.1732, -5.8655, -4.3659, -6.2281, -5.9355, -5.1666, -3.429, -6.8535, -4.4609, -6.1409, -2.8754, -6.2764, -5.4162, -3.6674, -4.3242, -5.4801, -4.4673, -6.1876, -4.888, -5.0137, -4.9334, -4.6261, -5.0568, -4.78, -4.6377, -5.6014, -5.3654, -4.0042, -4.6344, -4.7367, -4.4708, -5.0557, -5.2731, -5.1253, -5.1194, -5.2485, -5.1635, -5.2707, -5.3341, -7.3128, -6.7269, -7.5207, -7.5214, -7.5269, -7.527, -7.5343, -6.7648, -6.9731, -7.8008, -7.8008, -7.8017, -7.8023, -7.8027, -7.8035, -7.8051, -7.8055, -7.8077, -7.8115, -7.8124, -5.6611, -7.1341, -7.1351, -6.8439, -6.4595, -6.401, -7.3034, -6.8602, -5.8096, -8.1898, -7.6707, -7.2423, -6.8607, -6.4216, -5.5016, -6.8716, -5.1521, -5.8866, -5.9221, -4.8894, -3.1135, -5.7394, -6.9306, -3.7913, -5.8466, -4.172, -4.8358, -5.161, -5.9198, -5.5474, -3.9794, -4.4036, -5.9512, -4.4685, -5.9048, -4.74, -4.8397, -5.5068, -4.2027, -4.7333, -4.7595, -4.6625, -5.3341, -5.2458, -4.1377, -4.9747, -4.9257, -5.229, -5.6025, -5.4913, -5.4287, -5.3082, -5.4246, -5.3848, -5.4212, -6.542, -6.8921, -7.2264, -7.4484, -7.4596, -7.7204, -7.7209, -7.722, -7.7264, -7.7278, -7.7355, -7.7491, -7.2372, -7.235, -7.7917, -8.1093, -8.1093, -8.1093, -8.1093, -8.1093, -8.1093, -8.1093, -8.1093, -8.1093, -8.1095, -8.1106, -8.1106, -8.1108, -8.1107, -8.111, -7.8132, -6.9292, -7.0502, -5.7133, -6.1144, -5.4135, -7.2289, -7.2245, -6.1255, -5.4891, -6.8985, -2.788, -4.2928, -7.0847, -2.7684, -5.7663, -6.6966, -4.9537, -4.4076, -5.3194, -5.9991, -4.2616, -4.3268, -5.8002, -4.9105, -5.7304, -5.5959, -4.9697, -4.6125, -4.1535, -5.3904, -5.4425, -6.3252, -4.3416, -4.8155, -5.254, -5.3007, -4.4222, -4.9266, -5.0588, -4.774, -5.1858, -5.1642, -5.3025, -5.3132, -5.3408, -5.2869, -5.3495, -5.3391, -5.4123, -6.8, -6.8052, -7.2953, -7.3019, -6.909, -7.3281, -6.806, -6.8067, -7.6828, -7.6828, -7.6828, -7.683, -7.6836, -7.6837, -7.6844, -7.6854, -7.6855, -7.6863, -7.6867, -7.6868, -7.6868, -7.6874, -7.6875, -7.6879, -7.6894, -7.6899, -7.6979, -6.2704, -7.7236, -6.6235, -6.6377, -5.4412, -6.4798, -6.6581, -7.1142, -7.0265, -6.0967, -5.9065, -4.3208, -6.846, -6.7423, -3.0137, -5.1036, -6.3873, -6.1056, -6.3321, -5.624, -3.6359, -5.3434, -4.9802, -5.549, -5.5426, -4.4785, -6.2416, -5.6285, -4.9685, -4.5102, -4.7202, -3.6201, -5.2192, -5.2325, -5.3657, -4.7459, -5.2745, -5.4235, -4.4114, -4.7088, -5.8172, -5.6727, -5.0987, -4.9539, -5.2107, -5.3009, -5.4065, -5.2931, -5.2285, -5.3911, -5.428, -5.4309, -5.4394, -6.3162, -6.4487, -6.9939, -7.2643, -7.2655, -7.0412, -7.2936, -7.3005, -7.6515, -7.6528, -7.6549, -7.6551, -7.6555, -7.6553, -7.6557, -7.6558, -7.6561, -7.6581, -7.6649, -7.6654, -7.6707, -6.9934, -6.9017, -7.2676, -7.2684, -6.7851, -7.2629, -7.0965, -7.8036, -7.2957, -7.2903, -5.5556, -6.1913, -5.1369, -4.7054, -4.22, -3.7317, -6.3944, -6.3233, -6.022, -5.2828, -5.818, -6.9893, -5.2927, -6.6311, -3.5078, -3.4694, -4.73, -5.3716, -5.7395, -5.2271, -4.899, -4.1881, -5.1118, -4.5165, -4.942, -4.6678, -5.07, -5.4475, -5.8222, -5.388, -4.9354, -4.561, -4.9706, -5.1379, -5.4466, -5.2189, -5.3133, -5.1257, -5.2187, -5.3564, -5.4203, -6.9731, -6.9748, -6.4768, -7.3596, -7.36, -6.5077, -7.3606, -7.3617, -7.3631, -7.3639, -7.3641, -7.3642, -7.3642, -7.3642, -7.3644, -7.3643, -7.3724, -7.3788, -6.5369, -6.6949, -6.969, -7.4646, -6.0872, -7.3585, -8.0051, -8.0051, -8.0051, -8.0051, -8.0051, -8.0051, -6.767, -7.3592, -7.3596, -7.3657, -7.3584, -6.354, -6.136, -6.377, -3.7318, -6.3708, -3.8299, -5.8599, -4.9846, -4.9541, -3.6611, -4.4479, -3.3217, -5.4926, -5.5087, -5.4106, -4.9136, -5.1008, -5.497, -5.6221, -4.3777, -6.1057, -5.7914, -4.644, -5.3047, -5.6804, -5.3769, -5.3246, -5.9393, -4.8383, -4.5194, -5.2889, -5.1115, -4.4989, -5.615, -5.7744, -5.4583, -5.3171, -5.5724, -5.4995, -5.1801, -5.3842, -5.444, -5.5206, -5.5239, -6.7994, -6.8034, -6.8347, -7.1855, -7.1858, -7.1862, -7.1867, -7.1868, -7.1877, -7.188, -7.19, -7.1899, -7.1902, -6.5217, -7.2026, -7.2047, -6.0819, -6.7994, -6.2315, -6.7976, -6.8056, -5.8857, -6.5316, -5.6641, -6.5331, -7.8321, -7.8321, -7.8321, -7.8321, -5.3697, -7.1901, -6.5418, -7.1674, -6.7963, -6.3604, -5.3007, -5.3413, -3.3378, -4.8955, -4.8168, -3.7036, -6.4791, -6.5061, -4.9156, -4.581, -4.1554, -4.9115, -6.1522, -4.3292, -4.1358, -4.6861, -4.9298, -4.9945, -5.1093, -5.7686, -4.7078, -4.1753, -4.1511, -5.2058, -5.7062, -4.9566, -5.2581, -5.084, -5.2028, -5.4638, -5.4163, -5.5255, -5.5636, -6.6416, -7.0282, -7.0282, -7.0295, -7.0296, -7.0314, -7.0321, -7.0324, -7.0332, -7.0331, -7.0388, -7.0406, -7.0463, -7.0494, -7.0967, -6.406, -7.1314, -6.6416, -6.37, -7.6748, -7.6748, -7.6748, -7.6748, -7.6748, -7.6748, -7.6748, -7.6748, -7.6748, -7.6748, -7.6748, -6.6394, -6.6424, -7.0311, -6.1457, -7.0312, -5.6806, -7.0282, -7.0281, -7.0282, -7.0308, -7.0314, -6.6664, -6.8428, -6.371, -6.391, -4.2797, -6.1892, -5.8081, -4.0411, -4.9893, -6.0798, -4.6668, -3.7229, -5.6165, -4.7701, -3.9572, -5.4544, -5.8721, -4.4872, -5.2631, -6.3937, -5.2072, -5.1525, -6.0643, -5.3675, -5.1242, -5.3938, -4.7026, -5.4494, -5.4899, -5.825, -5.1323, -5.1828, -5.6028, -5.4767, -5.2655, -5.2139, -5.4495, -5.6433, -5.4004, -5.4797, -5.5902, -5.5917, -6.3253, -6.5862, -6.5966, -6.9691, -6.9691, -6.9691, -6.9691, -6.9718, -6.9719, -6.9726, -6.9725, -6.973, -6.9752, -6.9779, -6.979, -6.9832, -6.9945, -6.5916, -5.6298, -7.1353, -6.082, -7.6157, -7.6157, -7.6157, -7.6157, -7.6157, -7.6157, -7.6157, -7.6157, -7.6157, -6.5916, -6.3034, -6.6711, -5.1446, -5.7581, -6.1409, -5.6806, -6.3462, -6.9796, -4.7583, -5.3739, -5.2629, -4.034, -3.4273, -4.4416, -5.058, -5.0528, -5.2056, -4.803, -4.2556, -5.2557, -4.8548, -5.6233, -4.9037, -4.4317, -5.235, -6.0148, -5.1976, -4.9972, -5.3007, -5.5731, -5.7165, -5.2702, -5.1217, -5.2238, -5.1704, -5.5063, -5.1537, -5.268, -5.4763, -5.4796, -5.9041, -6.2858, -6.29, -6.2973, -6.9325, -6.9325, -6.9325, -6.9325, -6.9325, -6.9325, -6.9325, -6.9325, -6.9325, -6.9325, -6.9325, -6.9325, -6.9325, -6.9325, -6.9325, -6.9325, -6.9325, -6.9325, -6.9325, -6.9325, -6.9325, -6.9334, -6.9335, -6.9336, -6.9336, -6.9336, -4.2108, -6.2935, -5.0438, -5.6228, -6.2887, -5.9018, -4.6727, -6.32, -5.8977, -5.9237, -5.6782, -6.2904, -6.389, -6.2889, -6.0838, -6.286, -6.2902, -4.2717, -5.7519, -6.0337, -5.6111, -4.5532, -5.9945, -4.8352, -6.3458, -6.2856, -4.7947, -4.5929, -5.2725, -4.5073, -4.9383, -4.5465, -4.903, -5.3416, -5.3837, -5.5819, -5.7705, -5.6638, -5.635, -4.8947, -5.5152, -5.5462, -5.2374, -5.351, -5.3283, -5.5879, -5.7187, -5.5851, -5.6454], \"loglift\": [30.0, 29.0, 28.0, 27.0, 26.0, 25.0, 24.0, 23.0, 22.0, 21.0, 20.0, 19.0, 18.0, 17.0, 16.0, 15.0, 14.0, 13.0, 12.0, 11.0, 10.0, 9.0, 8.0, 7.0, 6.0, 5.0, 4.0, 3.0, 2.0, 1.0, 1.4796, 1.3887, 1.3693, 1.3692, 1.3537, 1.3375, 1.3349, 1.3322, 1.3201, 1.3197, 1.3197, 1.3195, 1.319, 1.3189, 1.3188, 1.3176, 1.3154, 1.3146, 1.3094, 1.3081, 1.3056, 1.3036, 1.2978, 1.2866, 1.2836, 1.2818, 1.272, 1.2542, 1.2393, 1.2305, 1.219, 1.1128, 1.1348, 1.1333, 1.1666, 1.0257, 1.0824, 0.9117, 1.0862, 1.0404, 0.9227, 0.6545, 1.1496, 0.7446, 1.0289, 0.4198, 1.0366, 0.8239, 0.4062, 0.394, 0.7317, 0.4051, 0.9344, 0.4652, 0.5026, 0.3489, 0.1526, 0.3071, 0.149, -0.0159, 0.581, 0.4169, -0.6016, -0.1319, -0.0622, -0.4172, 0.1237, 0.2838, 0.0106, -0.1257, 0.1521, -0.2707, -0.084, -0.0914, 1.5821, 1.5599, 1.5581, 1.5575, 1.5524, 1.5522, 1.5443, 1.5353, 1.5124, 1.5042, 1.5042, 1.5034, 1.5028, 1.5024, 1.5018, 1.5003, 1.4997, 1.4968, 1.4932, 1.4926, 1.4874, 1.4792, 1.4656, 1.458, 1.4564, 1.4541, 1.4455, 1.4231, 1.4222, 1.4079, 1.3987, 1.3805, 1.353, 1.3159, 1.1221, 1.3304, 0.8603, 1.0415, 1.0342, 0.7724, 0.289, 0.9584, 1.2727, 0.2823, 0.9214, 0.3305, 0.5648, 0.6216, 0.9094, 0.7554, 0.1041, 0.2709, 0.9021, 0.1534, 0.8586, 0.2537, 0.2961, 0.6375, -0.1492, 0.1391, 0.1333, 0.0557, 0.3383, 0.2312, -0.8426, -0.0457, -0.147, 0.1349, 0.5532, 0.3727, 0.2178, -0.1215, 0.0186, -0.2723, -0.5989, 1.7102, 1.6817, 1.639, 1.6029, 1.5919, 1.558, 1.5575, 1.5565, 1.5525, 1.5511, 1.544, 1.533, 1.4973, 1.4962, 1.4921, 1.4646, 1.4646, 1.4646, 1.4646, 1.4646, 1.4646, 1.4646, 1.4646, 1.4646, 1.4645, 1.4633, 1.4633, 1.4633, 1.4631, 1.4631, 1.462, 1.4439, 1.4325, 1.3631, 1.3351, 1.2404, 1.3689, 1.3623, 1.2127, 1.1147, 1.2874, 0.6145, 0.8198, 1.2897, 0.5267, 0.9939, 1.1967, 0.7187, 0.5213, 0.7911, 0.9601, 0.3603, 0.3477, 0.8721, 0.5327, 0.7752, 0.7104, 0.4309, 0.26, -0.0799, 0.5434, 0.5248, 1.0011, -0.2581, -0.0368, 0.2623, 0.293, -0.3686, -0.0339, 0.077, -0.2716, 0.1781, 0.0414, 0.1745, -0.0356, -0.0585, -0.2932, -0.17, -0.6209, -0.0591, 2.0922, 2.087, 2.0076, 2.0005, 1.9785, 1.9777, 1.9409, 1.9402, 1.9129, 1.9129, 1.9129, 1.9127, 1.912, 1.9119, 1.9112, 1.9102, 1.9102, 1.9095, 1.909, 1.9089, 1.9089, 1.9083, 1.9082, 1.9081, 1.9064, 1.9059, 1.8978, 1.8753, 1.8714, 1.8414, 1.7527, 1.5847, 1.7212, 1.7129, 1.794, 1.7531, 1.5041, 1.4053, 0.8586, 1.6553, 1.6221, 0.3889, 1.0534, 1.476, 1.374, 1.4412, 1.1814, 0.4176, 1.0386, 0.8426, 1.0351, 1.0091, 0.4143, 1.3482, 0.9989, 0.5884, 0.2685, 0.3924, -0.3249, 0.7026, 0.7013, 0.7597, 0.183, 0.6053, 0.7132, -0.3378, -0.2064, 0.9213, 0.7287, -0.105, -0.332, -0.0748, 0.063, 0.2396, -0.1064, -0.554, 0.0859, 0.1657, 0.0123, -0.7212, 2.2022, 2.1878, 2.1144, 2.0692, 2.0679, 2.0651, 2.0371, 2.0297, 1.9716, 1.9704, 1.9688, 1.9683, 1.9676, 1.9675, 1.9674, 1.9673, 1.967, 1.9645, 1.9582, 1.9571, 1.952, 1.951, 1.8652, 1.853, 1.8519, 1.8439, 1.838, 1.8206, 1.8154, 1.8056, 1.7931, 1.4685, 1.5239, 1.0753, 0.7716, 0.5587, 0.3219, 1.4327, 1.3961, 1.2382, 0.8886, 1.1292, 1.6631, 0.859, 1.484, -0.1052, -0.1742, 0.4567, 0.7681, 0.9565, 0.5957, 0.3833, -0.1046, 0.4819, -0.0141, 0.1939, -0.0459, 0.2076, 0.5158, 0.8732, 0.4122, -0.0629, -0.4874, -0.0778, 0.0416, 0.4028, -0.0134, 0.1299, -0.3034, -0.225, -0.4274, -0.3077, 2.3853, 2.3836, 2.3, 2.2858, 2.2855, 2.2851, 2.2848, 2.2837, 2.2823, 2.2814, 2.2813, 2.2811, 2.2811, 2.2811, 2.281, 2.2809, 2.2723, 2.2662, 2.2606, 2.2318, 2.1778, 2.1694, 2.0695, 2.0517, 2.0442, 2.0442, 2.0442, 2.0442, 2.0442, 2.0442, 2.0121, 2.0191, 2.005, 1.9986, 1.9813, 1.8664, 1.6902, 1.7432, 0.9427, 1.7207, 0.8883, 1.5553, 1.1552, 1.1408, 0.3924, 0.7948, -0.0266, 1.2028, 1.2083, 1.1472, 0.7815, 0.8665, 1.097, 1.1315, 0.2442, 1.4417, 1.2213, 0.3496, 0.837, 1.1251, 0.7534, 0.6442, 1.2704, 0.0545, -0.4458, 0.3846, 0.068, -1.0963, 0.7864, 1.022, 0.3911, -0.1304, 0.572, 0.3007, -1.0966, -0.2484, -0.0908, 0.1411, 2.7595, 2.5767, 2.5727, 2.5378, 2.4758, 2.4755, 2.475, 2.4746, 2.4744, 2.4735, 2.473, 2.4713, 2.4712, 2.4711, 2.461, 2.4575, 2.4552, 2.3554, 2.3438, 2.3237, 2.3198, 2.3114, 2.283, 2.2598, 2.2471, 2.2396, 2.229, 2.229, 2.229, 2.229, 2.1783, 2.1998, 2.1607, 2.185, 2.1552, 2.0791, 1.7708, 1.6992, 0.7158, 1.2868, 1.0631, 0.3799, 2.0433, 2.0383, 0.9072, 0.6617, 0.3471, 0.8887, 1.7514, 0.3891, -0.0622, 0.4265, 0.6271, 0.6672, 0.7546, 1.2669, -0.0859, -0.7728, -0.8559, 0.4678, 1.0607, -0.1779, 0.2582, -0.0903, 0.0795, 0.1822, -0.5235, -0.1723, -0.0866, 2.7767, 2.6705, 2.6705, 2.6693, 2.6691, 2.667, 2.6664, 2.6656, 2.6652, 2.665, 2.6588, 2.657, 2.6505, 2.6485, 2.5954, 2.5687, 2.5635, 2.5538, 2.4993, 2.414, 2.414, 2.414, 2.414, 2.414, 2.414, 2.414, 2.414, 2.414, 2.414, 2.414, 2.3545, 2.351, 2.3732, 2.3072, 2.3581, 2.2231, 2.3512, 2.3506, 2.3504, 2.3485, 2.348, 2.2931, 2.3082, 2.1824, 2.0515, 0.907, 1.9107, 1.6778, 0.4614, 1.051, 1.8184, 0.5758, -0.3204, 1.1891, 0.2236, -0.662, 0.9018, 1.3216, -0.4136, 0.3829, 1.8506, 0.236, 0.1298, 1.3835, 0.4149, 0.0116, 0.3888, -0.649, 0.4304, 0.4439, 1.0203, -0.3536, -0.2901, 0.539, 0.1968, -0.3365, -0.4957, 0.0668, 0.5689, -0.7259, -0.6072, -0.2369, -1.5082, 2.8524, 2.8149, 2.8032, 2.7145, 2.7145, 2.7145, 2.7145, 2.7116, 2.7115, 2.7108, 2.7107, 2.7104, 2.708, 2.7051, 2.7035, 2.6991, 2.6867, 2.5937, 2.5865, 2.5505, 2.4734, 2.4619, 2.4619, 2.4619, 2.4619, 2.4619, 2.4619, 2.4619, 2.4619, 2.4619, 2.3881, 2.3301, 2.2897, 1.8396, 1.9169, 1.9283, 1.7447, 1.9283, 2.1972, 1.205, 1.4794, 1.3781, 0.4685, -0.1321, 0.4512, 0.8639, 0.77, 0.8893, 0.4397, -0.202, 0.7846, 0.3246, 1.1321, 0.283, -0.3483, 0.5652, 1.5466, 0.4485, 0.1153, 0.3717, 0.8231, 1.0469, 0.0937, -0.2492, -0.2301, -0.4522, 0.4275, -1.7511, -1.1944, -0.0331, -0.6573, 3.6157, 3.5036, 3.499, 3.4909, 3.2226, 3.2226, 3.2226, 3.2226, 3.2226, 3.2226, 3.2226, 3.2226, 3.2226, 3.2226, 3.2226, 3.2226, 3.2226, 3.2226, 3.2226, 3.2226, 3.2226, 3.2226, 3.2226, 3.2226, 3.2226, 3.2214, 3.2213, 3.2212, 3.2212, 3.2212, 3.0579, 3.1397, 2.9442, 2.8063, 2.8908, 2.6812, 1.9802, 2.8734, 2.5618, 2.5335, 2.3619, 2.7406, 2.8023, 2.7191, 2.5529, 2.6984, 2.6749, 0.722, 2.0531, 2.3307, 1.8874, 0.7244, 2.2147, 0.7585, 2.4943, 2.4096, 0.4877, 0.1858, 1.0808, -0.4337, 0.2673, -0.4929, -0.0305, 0.8371, 0.8972, 1.2284, 1.6804, 1.2489, 1.1252, -1.4921, 0.6102, 0.6762, -0.5629, -0.1642, -0.7064, 0.0582, 1.2093, -0.6923, -0.1291]}, \"token.table\": {\"Topic\": [7, 4, 6, 10, 1, 2, 3, 4, 5, 7, 8, 9, 1, 2, 3, 4, 5, 6, 7, 8, 9, 6, 7, 10, 1, 6, 1, 5, 1, 2, 4, 5, 4, 3, 4, 6, 7, 1, 2, 3, 4, 5, 6, 7, 8, 9, 10, 2, 5, 2, 6, 4, 6, 9, 10, 2, 3, 5, 8, 9, 10, 5, 3, 9, 10, 3, 1, 2, 3, 4, 5, 6, 7, 9, 10, 1, 2, 3, 6, 8, 9, 9, 1, 2, 3, 4, 5, 6, 7, 8, 9, 10, 3, 5, 7, 3, 3, 5, 8, 3, 3, 4, 2, 2, 3, 4, 5, 6, 9, 8, 2, 8, 9, 1, 6, 7, 10, 1, 4, 6, 7, 8, 9, 10, 2, 4, 1, 5, 1, 2, 3, 4, 5, 6, 7, 8, 9, 1, 2, 3, 4, 5, 6, 7, 8, 9, 3, 4, 5, 6, 7, 1, 3, 4, 10, 6, 1, 2, 3, 4, 5, 6, 7, 8, 9, 5, 7, 8, 10, 1, 1, 2, 3, 5, 6, 8, 9, 1, 7, 7, 8, 1, 2, 3, 4, 5, 6, 7, 8, 9, 10, 1, 1, 6, 8, 9, 2, 3, 4, 5, 10, 8, 10, 1, 4, 5, 6, 7, 8, 1, 3, 4, 5, 10, 1, 2, 3, 4, 6, 7, 8, 10, 2, 8, 1, 2, 3, 6, 7, 8, 10, 3, 10, 7, 1, 2, 3, 4, 5, 8, 9, 3, 4, 6, 7, 8, 6, 1, 2, 3, 7, 8, 9, 1, 3, 9, 1, 2, 3, 4, 6, 9, 10, 1, 2, 3, 4, 5, 8, 10, 3, 4, 10, 2, 8, 1, 2, 3, 4, 6, 7, 8, 2, 5, 1, 2, 3, 6, 1, 2, 5, 6, 5, 2, 4, 5, 7, 1, 2, 3, 4, 5, 6, 7, 8, 9, 10, 10, 8, 9, 6, 1, 2, 3, 4, 5, 6, 7, 9, 9, 10, 1, 2, 4, 5, 6, 7, 8, 9, 10, 1, 2, 3, 4, 5, 6, 7, 8, 9, 10, 2, 1, 2, 3, 4, 6, 7, 8, 9, 1, 2, 3, 4, 5, 6, 7, 8, 9, 2, 5, 8, 8, 4, 6, 9, 1, 7, 4, 5, 1, 3, 9, 10, 1, 2, 3, 4, 5, 6, 7, 9, 3, 4, 9, 3, 10, 2, 3, 4, 7, 7, 1, 7, 8, 1, 2, 3, 4, 5, 6, 7, 8, 9, 10, 2, 3, 4, 5, 6, 8, 9, 3, 5, 8, 10, 7, 5, 1, 2, 3, 4, 5, 6, 7, 1, 2, 3, 4, 5, 6, 7, 8, 9, 1, 2, 8, 1, 2, 3, 4, 5, 6, 7, 8, 9, 10, 1, 2, 7, 5, 3, 6, 9, 8, 1, 2, 4, 5, 6, 7, 7, 5, 7, 8, 9, 3, 1, 2, 3, 4, 5, 6, 7, 8, 9, 7, 2, 6, 8, 9, 3, 2, 1, 3, 4, 5, 7, 9, 10, 5, 4, 3, 4, 5, 6, 8, 9, 1, 2, 3, 4, 5, 7, 1, 4, 1, 2, 3, 4, 5, 6, 7, 8, 9, 3, 1, 4, 5, 8, 9, 2, 3, 1, 2, 3, 4, 5, 6, 7, 2, 4, 7, 9, 1, 2, 3, 5, 6, 7, 8, 10, 10, 1, 1, 2, 3, 6, 7, 8, 8, 8, 7, 8, 2, 4, 7, 2, 6, 1, 2, 3, 4, 5, 6, 7, 10, 1, 8, 10, 9, 1, 4, 1, 2, 3, 4, 5, 6, 7, 8, 9, 1, 2, 3, 5, 6, 7, 1, 2, 3, 4, 5, 6, 7, 8, 9, 10, 1, 2, 3, 4, 5, 6, 7, 8, 9, 1, 2, 3, 4, 5, 6, 10, 1, 3, 10, 1, 10, 5, 1, 2, 3, 4, 5, 6, 7, 8, 9, 1, 2, 3, 4, 5, 6, 7, 9, 10, 6, 1, 2, 3, 4, 5, 7, 10, 9, 2, 3, 4, 7, 10, 1, 2, 3, 4, 5, 6, 4, 8, 1, 3, 4, 5, 9, 4, 8, 1, 2, 5, 2, 3, 7, 8, 9, 10, 1, 1, 2, 3, 4, 5, 6, 7, 8, 9, 10, 1, 2, 3, 4, 5, 6, 9, 10, 9, 1, 3, 5, 7, 8, 9, 2, 4, 5, 6, 7, 8, 9, 2, 4, 5, 1, 8, 10, 2, 5, 2, 8, 2, 7, 8, 4, 4, 8, 1, 2, 3, 4, 5, 6, 1, 3, 1, 2, 3, 4, 5, 6, 8, 9, 10, 1, 2, 3, 4, 5, 6, 8, 9, 8, 2, 1, 2, 3, 4, 5, 6, 7, 8, 9, 10, 1, 2, 3, 4, 5, 6, 7, 8, 9, 10, 10, 10, 2, 6, 9, 10, 1, 9, 4, 3, 8, 2, 7, 1, 2, 3, 4, 5, 6, 7, 8, 9, 5, 1, 1, 2, 3, 4, 5, 6, 7, 8, 9, 6, 10, 1, 2, 3, 4, 5, 6, 8, 9, 8, 5, 5, 7, 6, 2, 6, 8, 1, 2, 3, 4, 6, 7, 8, 9, 4, 1, 4, 2, 3, 5, 7, 10, 1, 2, 10, 2, 4, 5, 5, 7, 1, 2, 3, 4, 6, 7, 8, 9, 10, 9, 1, 2, 3, 4, 5, 6, 7, 9, 1, 2, 3, 4, 5, 6, 7, 8, 9, 10, 1, 3, 4, 5, 6, 8, 2, 5, 1, 2, 3, 4, 5, 6, 7, 8, 9, 10, 9, 1, 6, 8, 10, 4, 6, 4, 3, 10, 1, 2, 3, 4, 5, 6, 7, 8, 9, 10, 1, 2, 3, 4, 5, 6, 7, 8, 9, 6, 7, 7, 7, 8, 3, 1, 2, 3, 4, 5, 6, 7, 8, 9, 7, 9, 1, 2, 4, 5, 6, 7, 8, 9, 10, 3, 5, 7, 1, 2, 3, 4, 5, 6, 8, 9, 10, 1, 2, 3, 4, 5, 6, 7, 8, 9, 10, 3, 4, 5, 8, 10, 3, 4, 8, 2, 1, 2, 3, 4, 5, 7, 10, 8, 1, 2, 3, 4, 5, 6, 9, 1, 2, 3, 4, 5, 6, 7, 8, 9, 10, 5, 8, 6, 1, 2, 3, 4, 5, 6, 7, 8, 6, 6, 4, 6, 1, 2, 3, 4, 5, 6, 7, 8, 9, 8, 1, 2, 3, 4, 5, 6, 7, 8, 9, 10, 1, 2, 3, 4, 5, 6, 7, 8, 9, 10, 9, 1, 2, 3, 4, 5, 6, 7, 8, 9, 10, 8, 1, 2, 3, 4, 5, 6, 7, 8, 9, 4, 1, 2, 3, 4, 5, 6, 7, 8, 10, 2, 3, 4, 7, 9, 10, 10, 6, 2, 7, 3, 1, 2, 3, 4, 5, 6, 7, 8, 9, 10, 1, 2, 3, 4, 5, 6, 7, 8, 9, 10, 2, 3, 5, 1, 2, 3, 4, 5, 6, 8, 9, 2, 4, 5, 6, 8, 1, 2, 3, 4, 5, 6, 7, 8, 9, 10, 2, 5, 4, 1, 2, 3, 4, 5, 6, 7, 8, 9, 10, 3, 1, 2, 3, 4, 5, 6, 7, 8, 10, 9, 1, 2, 3, 4, 5, 6, 7, 8, 9, 4, 1, 2, 3, 5, 6, 7, 9, 6, 1, 2, 3, 4, 5, 6, 7, 8, 10, 8, 2, 4, 8, 1, 2, 3, 4, 5, 6, 7, 8, 9, 10, 3, 1, 10, 5, 7, 1, 5, 7, 5, 1, 2, 3, 4, 5, 6, 7, 8, 9, 10, 3, 2, 3, 5, 8, 10, 3, 5, 4, 9, 1, 3, 7, 1, 2, 3, 4, 5, 7, 8, 9, 2, 5, 2, 4, 9, 1, 2, 3, 4, 5, 6, 7, 8, 9, 2, 6, 1, 2, 5, 6, 8, 9, 10, 8, 6, 1, 2, 3, 4, 5, 6, 7, 8, 9, 6, 1, 2, 3, 4, 5, 6, 7, 8, 10, 3, 7, 9, 1, 2, 3, 4, 5, 7, 9, 10, 8, 1, 2, 3, 4, 5, 6, 7, 9, 2, 10, 7, 1, 1, 2, 3, 4, 5, 6, 7, 9, 1, 2, 6, 7, 8, 6, 6, 7, 4, 1, 2, 3, 4, 5, 6, 7, 8, 9, 10, 3, 6, 1, 10, 1, 2, 3, 5, 6, 9, 1, 2, 3, 4, 5, 6, 7, 8, 9, 1, 2, 4, 5, 6, 7, 9, 8, 5, 8, 4, 6, 8, 9, 1, 2, 3, 4, 5, 6, 7, 8, 9, 10, 6, 9, 6, 1, 2, 3, 4, 5, 6, 7, 8, 9, 2, 3, 4, 5, 7, 9, 1, 2, 4, 5, 7, 1, 2, 3, 6, 7, 8, 9, 1, 2, 3, 4, 5, 7, 9, 2, 3, 4, 9, 9, 1, 2, 3, 4, 5, 6, 7, 8, 9, 1, 2, 3, 4, 5, 7, 9, 10, 3, 1, 2, 3, 4, 5, 6, 7, 8, 9, 10, 5, 9, 4, 1, 2, 3, 5, 7, 8, 10, 10, 1, 10, 3, 4, 8, 2, 3, 4, 8, 9, 1, 2, 3, 5, 6, 8, 9, 10, 2, 9, 1, 2, 6, 7, 9, 6, 1, 2, 6, 9, 1, 2, 3, 4, 5, 6, 7, 8, 9, 3, 2, 5, 9, 3, 8, 10, 1, 2, 3, 4, 5, 6, 7, 8, 9, 10, 2, 6, 8, 2, 4, 5, 6, 8, 10, 4, 7, 4, 5, 1, 3, 5, 7, 8, 9, 3, 8, 10, 3, 10, 4, 1, 4, 1, 2, 3, 4, 5, 6, 7, 8, 9, 10, 1, 5, 1, 2, 3, 4, 5, 6, 7, 8, 9, 1, 2, 3, 4, 9, 10, 10, 1, 2, 3, 4, 5, 6, 7, 8, 1, 2, 3, 4, 5, 6, 7, 8, 9, 10, 1, 2, 3, 4, 5, 6, 8, 9, 1, 2, 3, 4, 5, 6, 8, 9, 10, 1, 2, 3, 4, 5, 6, 7, 8, 9, 10, 2, 6, 8, 5, 2, 1, 1, 2, 3, 4, 5, 6, 7, 8, 9, 10, 4, 2, 3, 4, 5, 6, 4, 1, 2, 3, 4, 7, 8, 5, 5, 3, 4, 8, 10, 3, 1, 1, 2, 3, 7, 9, 9, 1, 2, 3, 4, 5, 6, 7, 8, 10, 8, 5, 5, 8, 1, 2, 3, 6, 9, 10, 3, 4, 1, 2, 3, 4, 5, 6, 7, 8, 9, 10, 9, 1, 2, 3, 4, 5, 6, 7, 9, 7, 3, 8, 4, 1, 2, 3, 4, 5, 6, 7, 8, 9, 10, 7, 1, 2, 5, 8, 9, 9, 4, 1, 2, 3, 4, 5, 6, 7, 8, 9, 10, 4, 2, 1, 2, 3, 4, 5, 6, 7, 8, 9, 10, 2, 3, 4, 5, 10, 1, 1, 2, 1, 8, 3, 5, 7, 1, 2, 3, 4, 5, 6, 7, 8, 9, 10, 1, 2, 3, 4, 5, 6, 7, 8, 9, 9, 6, 3, 9, 4, 1, 2, 4, 5, 6, 7, 5, 6, 10, 1, 7, 2, 6, 2, 3, 8, 4, 7, 6, 8, 1, 2, 3, 5, 6, 8, 6, 8, 7, 7, 2, 1, 2, 5, 6, 7, 5, 7, 9, 9, 1, 2, 3, 4, 5, 6, 7, 8, 9, 10, 2, 5, 10, 4, 10, 7, 1, 2, 3, 4, 5, 6, 7, 8, 9, 10, 1, 8, 1, 2, 3, 4, 5, 6, 7, 8, 9, 10, 7, 1, 6, 1, 2, 3, 4, 5, 6, 7, 8, 9, 10, 2, 3, 4, 6, 7, 10, 1, 2, 3, 4, 5, 6, 7, 8, 9, 1, 2, 3, 4, 5, 6, 7, 8, 9, 4, 1, 2, 3, 4, 5, 7, 9, 10, 3, 1, 2, 3, 4, 6, 7, 9, 4, 7, 8, 3, 5, 6, 5, 1, 2, 4, 5, 1, 5, 2, 3, 5, 6, 7, 8, 9, 10, 1, 2, 3, 4, 5, 7, 1, 2, 5, 6, 7, 9, 10, 1, 2, 3, 4, 5, 6, 7, 8, 9, 6, 8, 9, 1, 2, 3, 6, 7, 8, 9, 1, 2, 3, 4, 5, 6, 7, 8, 9, 1, 2, 3, 4, 6, 7, 10, 3, 8, 10], \"Freq\": [0.7955887916574236, 0.24865167527524343, 0.24865167527524343, 0.24865167527524343, 0.18454301989089397, 0.18454301989089397, 0.13181644277920998, 0.07908986566752599, 0.31635946267010395, 0.026363288555841996, 0.05272657711168399, 0.026363288555841996, 0.17975693921316238, 0.23967591895088317, 0.11983795947544158, 0.29959489868860395, 0.014979744934430198, 0.08987846960658119, 0.014979744934430198, 0.029959489868860396, 0.014979744934430198, 0.30502147461508544, 0.45753221192262816, 0.15251073730754272, 0.19085481338916907, 0.5725644401675072, 0.8341706125861859, 0.10427132657327323, 0.2542976548572232, 0.08476588495240775, 0.1695317699048155, 0.4238294247620387, 0.7451613073765999, 0.6590791428281, 0.10984652380468334, 0.10984652380468334, 0.10984652380468334, 0.35297809616310716, 0.1386699663497921, 0.21430812981331504, 0.05042544230901531, 0.025212721154507654, 0.06933498317489604, 0.07563816346352295, 0.05042544230901531, 0.006303180288626913, 0.018909540865880738, 0.283411616421479, 0.566823232842958, 0.16693675428442142, 0.6677470171376857, 0.5437971190723647, 0.10875942381447294, 0.10875942381447294, 0.21751884762894588, 0.28533522522454857, 0.17120113513472915, 0.399469315314368, 0.05706704504490971, 0.05706704504490971, 0.05706704504490971, 0.7654977022811206, 0.2450673358778393, 0.4901346717556786, 0.2450673358778393, 0.8147711556906244, 0.15223483443139846, 0.37366732087706894, 0.15223483443139846, 0.055358121611417614, 0.09687671281998082, 0.06919765201427203, 0.041518591208563216, 0.055358121611417614, 0.013839530402854404, 0.22591992301729708, 0.04518398460345942, 0.3162878922242159, 0.09036796920691884, 0.2711039076207565, 0.04518398460345942, 0.8133935128203514, 0.031934779958986366, 0.22354345971290454, 0.14902897314193636, 0.12773911983594546, 0.09580433987695909, 0.07451448657096818, 0.05322463326497728, 0.13838404648894093, 0.09580433987695909, 0.010644926652995455, 0.7291214201146821, 0.2369905408491139, 0.7109716225473417, 0.7292311400794101, 0.7345342874129434, 0.12242238123549055, 0.12242238123549055, 0.7291213814364436, 0.32844589316226763, 0.5474098219371126, 0.7466669193889907, 0.1275743133178248, 0.17009908442376637, 0.1275743133178248, 0.17009908442376637, 0.1275743133178248, 0.2551486266356496, 0.8258423155160382, 0.30012094078868196, 0.6002418815773639, 0.6134180504893949, 0.3999436344451033, 0.07271702444456424, 0.10907553666684636, 0.3999436344451033, 0.13825476645585766, 0.06912738322792883, 0.06912738322792883, 0.5530190658234306, 0.06912738322792883, 0.06912738322792883, 0.4520379920141153, 0.7365315596802569, 0.12275525994670947, 0.7852582753106261, 0.7658959691805377, 0.29225612723122585, 0.20024956865843255, 0.20024956865843255, 0.11365516058992117, 0.08118225756422941, 0.04329720403425569, 0.021648602017127844, 0.005412150504281961, 0.04870935453853765, 0.14137840616292638, 0.2591937446320317, 0.07068920308146319, 0.14137840616292638, 0.11781533846910532, 0.16494147385674743, 0.023563067693821063, 0.08247073692837371, 0.011781533846910532, 0.8142578375142688, 0.7451745310866994, 0.5802561768533943, 0.29012808842669713, 0.14506404421334856, 0.11162166592624036, 0.11162166592624036, 0.5581083296312018, 0.11162166592624036, 0.7832218650632558, 0.1639577753471947, 0.12296833151039603, 0.04098944383679867, 0.08197888767359734, 0.2254419411023927, 0.24593666302079206, 0.020494721918399336, 0.04098944383679867, 0.061484165755198016, 0.7658608213020555, 0.6055272594585952, 0.20184241981953174, 0.6518407005897939, 0.9433729943388741, 0.12931886004355203, 0.49141166816549775, 0.10345508803484163, 0.07759131602613122, 0.051727544017420815, 0.025863772008710408, 0.12931886004355203, 0.7849035724543998, 0.8974285632124779, 0.7956634650638172, 0.8205689257312794, 0.3791483542014017, 0.14895113915055067, 0.04062303795015018, 0.08124607590030036, 0.0677050632502503, 0.054164050600200235, 0.09478708855035042, 0.013541012650050059, 0.054164050600200235, 0.054164050600200235, 0.8374173229204614, 0.677775528836865, 0.16944388220921625, 0.056481294069738744, 0.056481294069738744, 0.11961584377787758, 0.11961584377787758, 0.35884753133363273, 0.11961584377787758, 0.23923168755575516, 0.6101097139396715, 0.6516994391528727, 0.19217568072179006, 0.048043920180447515, 0.09608784036089503, 0.2882635210826851, 0.19217568072179006, 0.09608784036089503, 0.13579618121706566, 0.5431847248682626, 0.13579618121706566, 0.06789809060853283, 0.06789809060853283, 0.0597029259324766, 0.1791087777974298, 0.0298514629662383, 0.1791087777974298, 0.0597029259324766, 0.3283660926286213, 0.1194058518649532, 0.0298514629662383, 0.30010571961224997, 0.6002114392244999, 0.6620743799106774, 0.07157560863899215, 0.035787804319496075, 0.017893902159748037, 0.08946951079874019, 0.07157560863899215, 0.017893902159748037, 0.7290837932890345, 0.6518406661670054, 0.795636265231409, 0.05704257805083771, 0.028521289025418856, 0.14260644512709428, 0.5133832024575394, 0.11408515610167543, 0.05704257805083771, 0.05704257805083771, 0.11724407017252296, 0.11724407017252296, 0.11724407017252296, 0.46897628069009184, 0.11724407017252296, 0.5864290611792418, 0.6597385322011806, 0.06766549048217237, 0.08458186310271545, 0.05074911786162927, 0.08458186310271545, 0.05074911786162927, 0.13585124392030012, 0.6792562196015006, 0.13585124392030012, 0.2533259785460285, 0.16888398569735236, 0.05629466189911745, 0.2251786475964698, 0.2533259785460285, 0.028147330949558725, 0.6518406676595659, 0.20862585069803474, 0.12749357542657677, 0.18544520062047531, 0.22021617573681443, 0.16226455054291591, 0.04636130015511883, 0.03477097511633912, 0.245729372440922, 0.245729372440922, 0.245729372440922, 0.30010289552539565, 0.6002057910507913, 0.1447150590814858, 0.08682903544889148, 0.1447150590814858, 0.20260108271408012, 0.02894301181629716, 0.31837312997926875, 0.05788602363259432, 0.22725458592845257, 0.6817637577853577, 0.2555723140333584, 0.17038154268890557, 0.08519077134445278, 0.42595385672226393, 0.11620761378987737, 0.6391418758443256, 0.11620761378987737, 0.11620761378987737, 0.7655525338708128, 0.1247170595128007, 0.4988682380512028, 0.1247170595128007, 0.1247170595128007, 0.5312311127487485, 0.019859107018644805, 0.15887285614915844, 0.04468299079195081, 0.11915464211186882, 0.019859107018644805, 0.009929553509322403, 0.024823883773306004, 0.024823883773306004, 0.03971821403728961, 0.651671986296776, 0.8254340487029085, 0.8127316579814514, 0.7831243791190508, 0.25005151888460236, 0.0535824683324148, 0.3036339872170172, 0.089304113887358, 0.0357216455549432, 0.2143298733296592, 0.0357216455549432, 0.8136291450253974, 0.813438972967108, 0.6518406881630573, 0.060225318484773596, 0.060225318484773596, 0.42157722939341513, 0.12045063696954719, 0.12045063696954719, 0.060225318484773596, 0.060225318484773596, 0.060225318484773596, 0.060225318484773596, 0.1965692027830488, 0.129448011588837, 0.11027052839049079, 0.08150430359297145, 0.05753244959503867, 0.15821423638635634, 0.11506489919007734, 0.08150430359297145, 0.07191556199379834, 0.004794370799586556, 0.8358725576210789, 0.22029360243764393, 0.020026691130694902, 0.400533822613898, 0.08010676452277961, 0.040053382261389804, 0.1401868379148643, 0.08010676452277961, 0.40770924072234477, 0.21272384677060632, 0.13675104435253263, 0.1671401653197621, 0.04558368145084421, 0.04558368145084421, 0.15194560483614736, 0.09116736290168842, 0.060778241934458944, 0.10636192338530316, 0.8360280784042203, 0.8598873071127078, 0.8257114170971585, 0.8250682514744178, 0.288445882337459, 0.576891764674918, 0.8125472128793051, 0.23084519713787036, 0.6925355914136111, 0.2271672359302254, 0.6815017077906762, 0.7901073450755656, 0.10774191069212258, 0.035913970230707526, 0.035913970230707526, 0.21063265063780762, 0.17233580506729715, 0.11489053671153142, 0.28722634177882855, 0.07659369114102095, 0.019148422785255238, 0.09574211392627618, 0.019148422785255238, 0.6867912636904399, 0.137358252738088, 0.137358252738088, 0.31669813450626705, 0.31669813450626705, 0.12737571154923719, 0.12737571154923719, 0.12737571154923719, 0.5095028461969487, 0.7946068221021032, 0.19564538088680453, 0.5869361426604135, 0.19564538088680453, 0.31781977645946735, 0.1844489774095123, 0.09080565041699067, 0.05107817835955725, 0.0340521189063715, 0.17309827110738846, 0.08513029726592874, 0.028376765755309584, 0.028376765755309584, 0.005675353151061917, 0.20273091279515004, 0.10136545639757502, 0.4561445537890876, 0.05068272819878751, 0.05068272819878751, 0.05068272819878751, 0.05068272819878751, 0.17501427479295806, 0.3500285495859161, 0.17501427479295806, 0.17501427479295806, 0.7947418508914125, 0.7663118375198531, 0.5968342567107668, 0.13564414925244703, 0.08138648955146821, 0.027128829850489405, 0.027128829850489405, 0.027128829850489405, 0.08138648955146821, 0.2430346622569174, 0.0765109121919925, 0.13951989870304518, 0.24753530415056402, 0.10351476355387222, 0.0765109121919925, 0.03150449325552633, 0.02250320946823309, 0.06300898651105266, 0.7847973220008333, 0.8358121515567672, 0.8245171404311669, 0.1148302606474702, 0.009569188387289184, 0.28707565161867554, 0.21052214452036205, 0.09569188387289185, 0.0574151303237351, 0.0669843187110243, 0.07655350709831348, 0.0669843187110243, 0.009569188387289184, 0.7591524762189599, 0.09489405952736998, 0.09489405952736998, 0.7628043861859471, 0.7291207743690533, 0.5864290575737205, 0.8133087790175615, 0.6101097261610494, 0.6080738870277639, 0.11401385381770572, 0.03800461793923524, 0.07600923587847049, 0.03800461793923524, 0.11401385381770572, 0.7956720337050031, 0.06860745729177721, 0.34303728645888604, 0.41164474375066323, 0.13721491458355442, 0.7291209494555629, 0.12629246377388903, 0.08419497584925935, 0.08419497584925935, 0.08419497584925935, 0.042097487924629674, 0.3367799033970374, 0.08419497584925935, 0.042097487924629674, 0.042097487924629674, 0.5933901738687367, 0.8359284736997155, 0.7826003315820099, 0.24717948124349393, 0.49435896248698785, 0.729094482682386, 0.8354975455087776, 0.11364416315954877, 0.056822081579774385, 0.17046624473932318, 0.4545766526381951, 0.056822081579774385, 0.056822081579774385, 0.056822081579774385, 0.7659348097002832, 0.7446395408451013, 0.19048036121611328, 0.25397381495481774, 0.06349345373870444, 0.38096072243222656, 0.06349345373870444, 0.6033036109656074, 0.059998924503003, 0.119997849006006, 0.6599881695330331, 0.0299994622515015, 0.059998924503003, 0.059998924503003, 0.7448066260800568, 0.14896132521601135, 0.1319244426431518, 0.19348918254328934, 0.18469421970041255, 0.1319244426431518, 0.14951436832890538, 0.10553955411452146, 0.03517985137150715, 0.043974814214383935, 0.017589925685753575, 0.7291207449879826, 0.11758737081319952, 0.23517474162639904, 0.11758737081319952, 0.35276211243959854, 0.11758737081319952, 0.6887107108454127, 0.13774214216908254, 0.24073452296747883, 0.07407216091307041, 0.2592525631957464, 0.1296262815978732, 0.037036080456535204, 0.2036984425109436, 0.037036080456535204, 0.13163468256336197, 0.13163468256336197, 0.6581734128168099, 0.13163468256336197, 0.2881905726630094, 0.10171431976341509, 0.35600011917195284, 0.08476193313617925, 0.050857159881707546, 0.0678095465089434, 0.01695238662723585, 0.01695238662723585, 0.6518406597824282, 0.7878971129807556, 0.380358497292421, 0.06134814472458403, 0.23312294995341934, 0.06134814472458403, 0.2085836920635857, 0.03680888683475042, 0.8260220458426076, 0.4114129310094307, 0.6065881350644582, 0.3032940675322291, 0.6480365604967233, 0.1851533029990638, 0.0925766514995319, 0.3293217157837491, 0.49398257367562365, 0.11495165247295823, 0.13794198296754986, 0.22990330494591646, 0.1609323134621415, 0.06897099148377493, 0.13794198296754986, 0.06897099148377493, 0.06897099148377493, 0.7056424150880584, 0.6101097261610494, 0.6518392265474544, 0.8133668102444715, 0.7847886374510988, 0.745177175452506, 0.18954231709578925, 0.3790846341915785, 0.014580178238137634, 0.0437405347144129, 0.11664142590510107, 0.08019098030975699, 0.11664142590510107, 0.036450445595344085, 0.029160356476275268, 0.2805188049874352, 0.05610376099748704, 0.5049338489773834, 0.05610376099748704, 0.07480501466331604, 0.01870125366582901, 0.30428176689266856, 0.09976451373530117, 0.15962322197648188, 0.084799836675006, 0.14465854491618668, 0.03990580549412047, 0.06484693392794576, 0.054870482554415644, 0.02992935412059035, 0.02992935412059035, 0.26786951859079355, 0.2562230177824982, 0.11646500808295371, 0.058232504041476854, 0.10481850727465834, 0.15140451050783982, 0.02329300161659074, 0.01164650080829537, 0.02329300161659074, 0.15726995646746084, 0.07863497823373042, 0.07863497823373042, 0.07863497823373042, 0.3145399129349217, 0.07863497823373042, 0.23590493470119123, 0.10971378396072702, 0.6582827037643622, 0.10971378396072702, 0.7847812279904633, 0.651839976159027, 0.8599679631543804, 0.26626440332426043, 0.12425672155132154, 0.12425672155132154, 0.2840153635458778, 0.12425672155132154, 0.035501920443234726, 0.017750960221617363, 0.017750960221617363, 0.017750960221617363, 0.13457354267557942, 0.41407243900178287, 0.05175905487522286, 0.031055432925133714, 0.11386992072549028, 0.08281448780035656, 0.08281448780035656, 0.072462676825312, 0.6518405776652093, 0.7831215733518737, 0.1528148415537462, 0.3056296831074924, 0.1273457012947885, 0.0509382805179154, 0.22922226233061932, 0.0509382805179154, 0.0764074207768731, 0.6033036111952793, 0.11932867094967792, 0.35798601284903375, 0.11932867094967792, 0.11932867094967792, 0.23865734189935583, 0.3637642421817904, 0.19258106939035963, 0.10698948299464424, 0.25677475918714615, 0.021397896598928847, 0.06419368979678654, 0.2999305477853744, 0.5998610955707488, 0.777585131583243, 0.03380804919927144, 0.03380804919927144, 0.06761609839854288, 0.06761609839854288, 0.23883844414418942, 0.47767688828837884, 0.8241265187203808, 0.1030158148400476, 0.8880914708624268, 0.11602828629218923, 0.11602828629218923, 0.11602828629218923, 0.23205657258437845, 0.11602828629218923, 0.34808485887656765, 0.8315050281414366, 0.4527276144793349, 0.10625239931657861, 0.17554744234912986, 0.07853438210355809, 0.09701306024557177, 0.0046196695355034175, 0.013859008606510253, 0.02309834767751709, 0.027718017213020505, 0.02309834767751709, 0.13088170565415255, 0.0872544704361017, 0.3490178817444068, 0.04362723521805085, 0.13088170565415255, 0.0872544704361017, 0.0872544704361017, 0.0872544704361017, 0.8116669629617077, 0.6469040189682072, 0.11415953275909538, 0.07610635517273025, 0.038053177586365124, 0.07610635517273025, 0.038053177586365124, 0.06854967208792564, 0.2741986883517026, 0.10282450813188847, 0.23992385230773977, 0.06854967208792564, 0.10282450813188847, 0.10282450813188847, 0.18472057119974825, 0.5541617135992448, 0.18472057119974825, 0.8376157083598597, 0.8253658322276032, 0.6518406862113726, 0.718938852824533, 0.196074232588509, 0.815920201290328, 0.101990025161291, 0.39063942701545434, 0.39063942701545434, 0.13021314233848477, 0.7339752601695226, 0.6589878666249521, 0.32949393331247606, 0.03897602999015359, 0.11692808997046078, 0.5456644198621503, 0.03897602999015359, 0.03897602999015359, 0.19488014995076797, 0.7856674256010198, 0.8138436358180282, 0.2170918086012246, 0.1787814894363026, 0.12770106388307328, 0.19155159582460993, 0.10216085110645863, 0.07662063832984398, 0.051080425553229315, 0.025540212776614658, 0.03831031916492199, 0.07334389831908786, 0.22003169495726357, 0.03667194915954393, 0.29337559327635143, 0.22003169495726357, 0.05500792373931589, 0.05500792373931589, 0.03667194915954393, 0.6101097235370857, 0.8358279610558506, 0.12218922080503321, 0.07636826300314575, 0.19855748380817898, 0.2138311364088081, 0.12218922080503321, 0.1527365260062915, 0.015273652600629151, 0.030547305201258302, 0.045820957801887455, 0.015273652600629151, 0.2269368133168437, 0.09455700554868487, 0.10401270610355337, 0.21748111276197524, 0.09455700554868487, 0.07564560443894791, 0.009455700554868489, 0.037822802219473955, 0.10401270610355337, 0.018911401109736978, 0.451654242507099, 0.6518407006347164, 0.3724993928477993, 0.18624969642389966, 0.18624969642389966, 0.18624969642389966, 0.42707313793231383, 0.42707313793231383, 0.8336488422080185, 0.729140853369855, 0.825520630364136, 0.8359397505422976, 0.7955516506699847, 0.13348730229948552, 0.19416334879925165, 0.26697460459897104, 0.03640562789985968, 0.24270418599906457, 0.024270418599906456, 0.03640562789985968, 0.04854083719981291, 0.024270418599906456, 0.7658359211135961, 0.7848817412812393, 0.24874354080879255, 0.1681646473073527, 0.2802744121789212, 0.12612348548051452, 0.06306174274025726, 0.038537731674601665, 0.028027441217892118, 0.03503430152236515, 0.014013720608946059, 0.6189879272758275, 0.30949396363791376, 0.2054240140116102, 0.4519328308255425, 0.14379680980812715, 0.041084802802322046, 0.08216960560464409, 0.041084802802322046, 0.020542401401161023, 0.020542401401161023, 0.6101097261610494, 0.7660526780440895, 0.6948309095255623, 0.2316103031751874, 0.7830459851451783, 0.6974917498538277, 0.13949834997076552, 0.6101097261610494, 0.044028183510391866, 0.24215500930715525, 0.19812682579676338, 0.044028183510391866, 0.17611273404156746, 0.17611273404156746, 0.11007045877597967, 0.044028183510391866, 0.8365030002847194, 0.7859041189255828, 0.7452234495186304, 0.08943152772645079, 0.17886305545290157, 0.08943152772645079, 0.5365891663587047, 0.6518405450684771, 0.7459006667042705, 0.1491801333408541, 0.6518405472158582, 0.6471883360540974, 0.09245547657915679, 0.18491095315831357, 0.6950277918657765, 0.23167593062192549, 0.06802138515962151, 0.27208554063848606, 0.09069518021282869, 0.06802138515962151, 0.20406415547886456, 0.06802138515962151, 0.11336897526603587, 0.11336897526603587, 0.02267379505320717, 0.8136296860690932, 0.09704560345710571, 0.15527296553136913, 0.21350032760563256, 0.11645472414852685, 0.09704560345710571, 0.03881824138284228, 0.09704560345710571, 0.17468208622279027, 0.3211531682115738, 0.20196230165882478, 0.2152057312757969, 0.056284575872131495, 0.09270400731880482, 0.016554287021215145, 0.016554287021215145, 0.026486859233944234, 0.03641943144667332, 0.019865144425458173, 0.09645075167362951, 0.09645075167362951, 0.09645075167362951, 0.28935225502088857, 0.09645075167362951, 0.28935225502088857, 0.18900676715613468, 0.5670203014684041, 0.1949353910735258, 0.15413496038371807, 0.10426776731839753, 0.0952010049428847, 0.15413496038371807, 0.0634673366285898, 0.04080043068980773, 0.11786791088166677, 0.05893395544083339, 0.018133524751025656, 0.6033036198031967, 0.20700388342741635, 0.20700388342741635, 0.20700388342741635, 0.20700388342741635, 0.7972102511385818, 0.15944205022771635, 0.7451969027209235, 0.5949520784174924, 0.19831735947249748, 0.18755226205113645, 0.09377613102556823, 0.18755226205113645, 0.2109962948075285, 0.11722016378196028, 0.0820541146473722, 0.04688806551278411, 0.011722016378196028, 0.03516604913458808, 0.011722016378196028, 0.12726657545226364, 0.21817127220388055, 0.19999033285355716, 0.11514594921871472, 0.2121109590871061, 0.036361878700646756, 0.05454281805097014, 0.018180939350323378, 0.018180939350323378, 0.5914313520823389, 0.29571567604116944, 0.8973289219403434, 0.3076731995911321, 0.6153463991822642, 0.7291207496921123, 0.1435397858011289, 0.16404546948700446, 0.20505683685875556, 0.10252841842937778, 0.24606820423050668, 0.041011367371751116, 0.041011367371751116, 0.041011367371751116, 0.020505683685875558, 0.7954436142931286, 0.6033036173301074, 0.2735678007609737, 0.08207034022829211, 0.08207034022829211, 0.027356780076097372, 0.054713560152194744, 0.08207034022829211, 0.08207034022829211, 0.2735678007609737, 0.027356780076097372, 0.11699386599253403, 0.11699386599253403, 0.5849693299626701, 0.16666213729313564, 0.15277362585204102, 0.3333242745862713, 0.1111080915287571, 0.05555404576437855, 0.05555404576437855, 0.05555404576437855, 0.05555404576437855, 0.6518395877834021, 0.16218710808114753, 0.19935498701641052, 0.16218710808114753, 0.15880820999612363, 0.0912302482956455, 0.07433575787052596, 0.03378898085023907, 0.03378898085023907, 0.07095685978550205, 0.01013669425507172, 0.1514088761220453, 0.1514088761220453, 0.3028177522440906, 0.1514088761220453, 0.1514088761220453, 0.8138743956857001, 0.4752899359200784, 0.4752899359200784, 0.9243461186346256, 0.5928310100496127, 0.03293505611386737, 0.09880516834160212, 0.03293505611386737, 0.19761033668320424, 0.03293505611386737, 0.6518406182962713, 0.8260530094502754, 0.09831287477749333, 0.07865029982199466, 0.5702146737094612, 0.09831287477749333, 0.03932514991099733, 0.07865029982199466, 0.03932514991099733, 0.1093307028285057, 0.1749291245256091, 0.4591889518797239, 0.043732281131402276, 0.021866140565701138, 0.021866140565701138, 0.021866140565701138, 0.06559842169710342, 0.021866140565701138, 0.06559842169710342, 0.7658697346640624, 0.8260573859461995, 0.8816715755172221, 0.08774307507371294, 0.4167796066001365, 0.13161461261056942, 0.06580730630528471, 0.08774307507371294, 0.06580730630528471, 0.021935768768428236, 0.10967884384214119, 0.7830878650710151, 0.7831744924923005, 0.7971901397593811, 0.15943802795187623, 0.2656598933425687, 0.21539991352100163, 0.17949992793416802, 0.11487995387786754, 0.07179997117366721, 0.021539991352100163, 0.028719988469466884, 0.05025997982156705, 0.05025997982156705, 0.8257884234287359, 0.6518329375310745, 0.09446854167117022, 0.09131959028213121, 0.02204265972327305, 0.07242588194789716, 0.0062979027780780145, 0.015744756945195035, 0.012595805556156029, 0.02204265972327305, 0.0062979027780780145, 0.5366052642408831, 0.02235855267670346, 0.14533059239857252, 0.06707565803011038, 0.04471710535340692, 0.04471710535340692, 0.04471710535340692, 0.03353782901505519, 0.05589638169175865, 0.01117927633835173, 0.8134776710517385, 0.17224212686944765, 0.1794188821556746, 0.1865956374419016, 0.1363583504383127, 0.07176755286226985, 0.02870702114490794, 0.07176755286226985, 0.07176755286226985, 0.07176755286226985, 0.021530265858680956, 0.6101097119630667, 0.1674783742823593, 0.1794411153025278, 0.13159015122185372, 0.299068525504213, 0.07177644612101113, 0.02392548204033704, 0.04785096408067408, 0.02392548204033704, 0.04785096408067408, 0.9218018080598785, 0.238944119700938, 0.2986801496261725, 0.1911552957607504, 0.0955776478803752, 0.0477888239401876, 0.0477888239401876, 0.0477888239401876, 0.0119472059850469, 0.0119472059850469, 0.7359151844893973, 0.035043580213780824, 0.035043580213780824, 0.035043580213780824, 0.1401743208551233, 0.6516861195197048, 0.6518406671503589, 0.783072925432169, 0.7041799906241315, 0.14083599812482628, 0.9386740110259608, 0.2729431593267353, 0.05163789500776073, 0.20655158003104293, 0.10327579001552147, 0.05901473715172655, 0.10327579001552147, 0.09589894787155565, 0.05901473715172655, 0.04426105286379491, 0.007376842143965819, 0.16452929840566877, 0.32905859681133753, 0.09871757904340127, 0.09049111412311783, 0.09049111412311783, 0.06581171936226751, 0.04113232460141719, 0.06581171936226751, 0.04113232460141719, 0.016452929840566878, 0.7020742067461371, 0.10029631524944815, 0.10029631524944815, 0.1712823525883134, 0.21695764661186365, 0.36540235218840195, 0.06851294103532536, 0.09135058804710049, 0.01141882350588756, 0.04567529402355024, 0.01141882350588756, 0.19065093484551887, 0.12710062323034593, 0.38130186969103774, 0.19065093484551887, 0.06355031161517297, 0.2934085577451412, 0.1467042788725706, 0.08557749600899951, 0.03667606971814265, 0.13447892229985636, 0.08557749600899951, 0.024450713145428432, 0.06112678286357108, 0.08557749600899951, 0.048901426290856864, 0.7640326720170284, 0.20837254691373502, 0.9218878752352172, 0.3217106849647893, 0.2323466058079034, 0.15340833588598748, 0.07595946728335302, 0.06106545409053871, 0.04468203957844296, 0.055107848813412984, 0.03127742770491007, 0.013404611873532887, 0.011915210554251456, 0.8749536048210723, 0.28227967163014817, 0.15098680110449786, 0.11816358347308527, 0.19037466226219293, 0.03282321763141258, 0.06564643526282515, 0.11159893994680276, 0.03938786115769509, 0.006564643526282515, 0.7359081411826248, 0.3254932535847975, 0.07521902918976414, 0.2824132641397508, 0.07658664790230531, 0.08274093210874055, 0.06906474498332889, 0.02461713682574099, 0.023933327469470408, 0.03966094266369382, 0.745152602945727, 0.048720040765394795, 0.09744008153078959, 0.048720040765394795, 0.19488016306157918, 0.19488016306157918, 0.14616012229618439, 0.19488016306157918, 0.7828507657908111, 0.07981128144191625, 0.47886768865149754, 0.07981128144191625, 0.02660376048063875, 0.13301880240319375, 0.106415041922555, 0.0532075209612775, 0.02660376048063875, 0.02660376048063875, 0.6101097114311109, 0.8886542775181451, 0.29986972392817135, 0.5997394478563427, 0.3427025293742915, 0.1285134485153593, 0.15528708362272586, 0.09638508638651949, 0.08032090532209958, 0.06425672425767966, 0.048192543193259746, 0.037483089150313134, 0.037483089150313134, 0.01070945404294661, 0.8645942176330571, 0.7847796611337522, 0.6518406754350582, 0.7654386499433707, 0.593390167968477, 0.6820474965148408, 0.22734916550494694, 0.07578305516831564, 0.7656383194823101, 0.15075003040287194, 0.2035125410438771, 0.21105004256402068, 0.045225009120861574, 0.12060002432229754, 0.15828753192301553, 0.037687507600717984, 0.030150006080574384, 0.045225009120861574, 0.015075003040287192, 0.729120791890848, 0.06823663849991016, 0.4094198309994609, 0.13647327699982031, 0.27294655399964063, 0.06823663849991016, 0.16266416617604584, 0.6506566647041834, 0.7453721441491938, 0.6033036086730906, 0.1636101381424767, 0.1636101381424767, 0.49083041442743014, 0.0953816717300924, 0.5341373616885174, 0.05722900303805544, 0.07630533738407393, 0.11445800607611088, 0.01907633434601848, 0.03815266869203696, 0.03815266869203696, 0.8051396498603964, 0.10064245623254955, 0.13165384053732548, 0.26330768107465097, 0.5266153621493019, 0.13853056832900215, 0.1187404871391447, 0.28695617725293304, 0.09895040594928725, 0.09895040594928725, 0.1682156901137883, 0.01979008118985745, 0.049475202974643626, 0.029685121784786175, 0.798778907897216, 0.1597557815794432, 0.09940986382287251, 0.09940986382287251, 0.19881972764574501, 0.09940986382287251, 0.09940986382287251, 0.29822959146861755, 0.09940986382287251, 0.6240533042739482, 0.5864290580222172, 0.15819080681147185, 0.1757675631238576, 0.28708701976896744, 0.10546053787431456, 0.11131945664510981, 0.02929459385397627, 0.02929459385397627, 0.05858918770795254, 0.041012431395566776, 0.5864290271679663, 0.5987901690687641, 0.09979836151146068, 0.04989918075573034, 0.02494959037786517, 0.03742438556679776, 0.07484877113359552, 0.07484877113359552, 0.012474795188932585, 0.02494959037786517, 0.7291162691448115, 0.5933901613519537, 0.8134566688760909, 0.02342893466167704, 0.4451497585718638, 0.1640025426317393, 0.07028680398503112, 0.09371573864670817, 0.07028680398503112, 0.11714467330838521, 0.02342893466167704, 0.6101097261610494, 0.15284595653801486, 0.1175738127215499, 0.09405905017723992, 0.12933119399370488, 0.21163286289878983, 0.2233902441709448, 0.01175738127215499, 0.04702952508861996, 0.6065543723867639, 0.20218479079558796, 0.5960899590479978, 0.8703454076958764, 0.30340415016016037, 0.24986224130836737, 0.10708381770358602, 0.13385477212948252, 0.01784730295059767, 0.026770954425896505, 0.12493112065418369, 0.026770954425896505, 0.13138779125913305, 0.13138779125913305, 0.13138779125913305, 0.13138779125913305, 0.39416337377739913, 0.7831199654055839, 0.5912232088979704, 0.2956116044489852, 0.745259892137002, 0.0632059463658212, 0.15169427127797092, 0.16433546055113515, 0.0884883249121497, 0.29074735328277757, 0.05056475709265697, 0.05056475709265697, 0.0884883249121497, 0.05056475709265697, 0.012641189273164242, 0.8112131554386601, 0.8816909383221877, 0.7140455729788846, 0.28561822919155383, 0.10815340463795733, 0.3605113487931911, 0.03605113487931911, 0.324460213913872, 0.07210226975863822, 0.03605113487931911, 0.0997306352587861, 0.14506274219459794, 0.09066421387162373, 0.19039484913040983, 0.11786347803311084, 0.05439852832297423, 0.17226200635608507, 0.07253137109729897, 0.04533210693581186, 0.11439095288281272, 0.2059037151890629, 0.34317285864843816, 0.09151276230625018, 0.04575638115312509, 0.11439095288281272, 0.09151276230625018, 0.6101097261610494, 0.7769490839255089, 0.19423727098137722, 0.09378792324350753, 0.18757584648701506, 0.09378792324350753, 0.5627275394610451, 0.2617882093756711, 0.20229088906301856, 0.05949732031265252, 0.09519571250024404, 0.22608981718807958, 0.035698392187591514, 0.02379892812506101, 0.02379892812506101, 0.035698392187591514, 0.02379892812506101, 0.7134615013294415, 0.23782050044314718, 0.5864290271679663, 0.7230821869346499, 0.059027117300787746, 0.07378389662598468, 0.029513558650393873, 0.022135168987795405, 0.022135168987795405, 0.007378389662598468, 0.04427033797559081, 0.022135168987795405, 0.13468939211785383, 0.13468939211785383, 0.4040681763535615, 0.08979292807856921, 0.08979292807856921, 0.08979292807856921, 0.04807611408868436, 0.19230445635473745, 0.14422834226605308, 0.04807611408868436, 0.528837254975528, 0.18304104345810168, 0.11440065216131354, 0.16016091302583896, 0.22880130432262707, 0.06864039129678813, 0.16016091302583896, 0.09152052172905084, 0.08004478673624901, 0.240134360208747, 0.4269055292599947, 0.02668159557874967, 0.08004478673624901, 0.10672638231499867, 0.02668159557874967, 0.18197403035882564, 0.6369091062558898, 0.09098701517941282, 0.09098701517941282, 0.8131644393999132, 0.4127481791382141, 0.13034153025417286, 0.13034153025417286, 0.021723588375695477, 0.021723588375695477, 0.2172358837569548, 0.021723588375695477, 0.021723588375695477, 0.021723588375695477, 0.44227243349552187, 0.15163626291275034, 0.11372719718456276, 0.025272710485458393, 0.08845448669910437, 0.08845448669910437, 0.050545420970916785, 0.025272710485458393, 0.8648139762026358, 0.041882591950061554, 0.10470647987515388, 0.14658907182521544, 0.08376518390012311, 0.16753036780024622, 0.23035425572533855, 0.08376518390012311, 0.041882591950061554, 0.020941295975030777, 0.041882591950061554, 0.39493400772450843, 0.39493400772450843, 0.7452501393455585, 0.26984591350890735, 0.23611517432029394, 0.1686536959430671, 0.06746147837722684, 0.06746147837722684, 0.1686536959430671, 0.6907185112291258, 0.6518407048401359, 0.8313802284976874, 0.6516767062212738, 0.1972086021072712, 0.1972086021072712, 0.3944172042145424, 0.21833584167523526, 0.16375188125642645, 0.21833584167523526, 0.054583960418808815, 0.3275037625128529, 0.3493773183957287, 0.18924604746435306, 0.07278694133244348, 0.07278694133244348, 0.13101649439839827, 0.07278694133244348, 0.04367216479946609, 0.05822955306595479, 0.8361248424002313, 0.6126367256608913, 0.323852211964018, 0.161926105982009, 0.0809630529910045, 0.0809630529910045, 0.323852211964018, 0.783054955831414, 0.7849709159722881, 0.8888702355501749, 0.7831300264143751, 0.6033036078797073, 0.09681558794963886, 0.13469994845167146, 0.37884360502032594, 0.1557468153972451, 0.07155934761495046, 0.008418746778229467, 0.08839684117140939, 0.016837493556458933, 0.050512480669376796, 0.8974849634426443, 0.6548380085518548, 0.18709657387195852, 0.09354828693597926, 0.18020191225646287, 0.5406057367693886, 0.18020191225646287, 0.1416032723911205, 0.15036223769366402, 0.11532637648348988, 0.16058103054663148, 0.1357639621894248, 0.10510758363052242, 0.11970585913476164, 0.024817068357206682, 0.03649568876059806, 0.01167862040339138, 0.8358049513147384, 0.5995683699801512, 0.2997841849900756, 0.24866723446871616, 0.3108340430858952, 0.12433361723435808, 0.12433361723435808, 0.06216680861717904, 0.12433361723435808, 0.29212298361188294, 0.5842459672237659, 0.7451526307909426, 0.8575308612402788, 0.16697436094599216, 0.16697436094599216, 0.08348718047299608, 0.08348718047299608, 0.3339487218919843, 0.16697436094599216, 0.7873492654161025, 0.1574698530832205, 0.6518406482964825, 0.7292770049767343, 0.6518407148201125, 0.8340094061940792, 0.24053960541721153, 0.7216188162516346, 0.2502096268037242, 0.150728690845617, 0.159772412296354, 0.13867039557796762, 0.17183070756400337, 0.00904372145073702, 0.04823318107059744, 0.03316031198603574, 0.015072869084561699, 0.02411659053529872, 0.22321246241670825, 0.6696373872501248, 0.017127625365396564, 0.1798400663366639, 0.07707431414428453, 0.24835056779825018, 0.1798400663366639, 0.017127625365396564, 0.14558481560587078, 0.03425525073079313, 0.0942019395096811, 0.04575260629154282, 0.5032786692069711, 0.13725781887462846, 0.13725781887462846, 0.04575260629154282, 0.13725781887462846, 0.45222782342084805, 0.49397720546801616, 0.1689922018706371, 0.12999400143895162, 0.06499700071947581, 0.06499700071947581, 0.03899820043168548, 0.012999400143895163, 0.03899820043168548, 0.18688031626412527, 0.22425637951695032, 0.12334100873432267, 0.09344015813206263, 0.07848973283093261, 0.10091537078262765, 0.052326488553955074, 0.05980170120452009, 0.037376063252825054, 0.04111366957810756, 0.30949098570651384, 0.04761399780100213, 0.09522799560200426, 0.09522799560200426, 0.14284199340300638, 0.09522799560200426, 0.11903499450250532, 0.09522799560200426, 0.09821168754709801, 0.11785402505651761, 0.11785402505651761, 0.07856935003767841, 0.19642337509419602, 0.13749636256593722, 0.058927012528258806, 0.058927012528258806, 0.13749636256593722, 0.10215529800437566, 0.17025883000729278, 0.22474165560962645, 0.12258635760525079, 0.15663812360670934, 0.0681035320029171, 0.04767247240204198, 0.020431059600875132, 0.040862119201750265, 0.040862119201750265, 0.7151727895986367, 0.10216754137123381, 0.10216754137123381, 0.7658610908086956, 0.889076255894975, 0.7847933125496805, 0.3369407978427801, 0.08919021119367708, 0.18829044585331828, 0.01982004693192824, 0.06937016426174884, 0.13874032852349769, 0.07928018772771296, 0.059460140795784724, 0.00991002346596412, 0.00991002346596412, 0.7451341626733223, 0.04356565071057007, 0.6534847606585511, 0.08713130142114014, 0.1306969521317102, 0.08713130142114014, 0.7451526273876528, 0.04349002454577396, 0.26094014727464376, 0.13047007363732188, 0.26094014727464376, 0.08698004909154793, 0.17396009818309585, 0.7658650506372319, 0.9153730365522097, 0.40601628463013734, 0.13533876154337912, 0.13533876154337912, 0.27067752308675824, 0.7291208003008651, 0.8423300684246998, 0.19257407932910198, 0.26960371106074277, 0.46217779038984474, 0.038514815865820395, 0.038514815865820395, 0.6033036223689434, 0.11019032019301148, 0.4407612807720459, 0.022038064038602295, 0.04407612807720459, 0.022038064038602295, 0.08815225615440918, 0.13222838423161376, 0.11019032019301148, 0.04407612807720459, 0.8259771500679194, 0.8571135813765833, 0.3030832815419679, 0.6061665630839358, 0.18835532012884176, 0.09417766006442088, 0.09417766006442088, 0.4708883003221044, 0.09417766006442088, 0.6518407033530073, 0.8169306504614939, 0.7451569596450076, 0.21898256305751757, 0.30657558828052456, 0.05839535014867135, 0.04379651261150351, 0.07299418768583919, 0.10219186276017486, 0.014598837537167838, 0.1167907002973427, 0.029197675074335676, 0.014598837537167838, 0.8136296467906854, 0.10968152460778023, 0.043872609843112094, 0.35098087874489675, 0.08774521968622419, 0.043872609843112094, 0.17549043937244838, 0.06580891476466814, 0.1316178295293363, 0.9027060760441858, 0.8139811226979529, 0.8251068698068614, 0.7452089360528493, 0.2470386725469739, 0.30879834068371736, 0.2582677031172909, 0.028072576425792486, 0.05614515285158497, 0.011229030570316996, 0.044916122281267984, 0.016843545855475494, 0.022458061140633992, 0.005614515285158498, 0.7955938797463302, 0.16800876229501036, 0.43202253161574095, 0.12000625878215025, 0.048002503512860104, 0.19201001405144041, 0.8136295874453037, 0.7451245627898362, 0.4121475057292888, 0.19404024904773087, 0.12936016603182057, 0.024067007633827086, 0.08874709064973738, 0.024067007633827086, 0.08573871469550899, 0.010529315839799349, 0.03158794751939805, 0.0030083759542283857, 0.7451252139206911, 0.8358298367193625, 0.18752957065253872, 0.24241627425815981, 0.12806897507978254, 0.08690394737556673, 0.09605173130983691, 0.025156405819243, 0.08233005540843163, 0.075469217457729, 0.07318227147416145, 0.006860837950702636, 0.13178278730440862, 0.13178278730440862, 0.4612397555654302, 0.19767418095661293, 0.06589139365220431, 0.8334534055035323, 0.22013031620864953, 0.6603909486259486, 0.7871434610890353, 0.13119057684817256, 0.16669971215289864, 0.16669971215289864, 0.5000991364586959, 0.11724568119898264, 0.23296869121356292, 0.30834091484148035, 0.15607379640124314, 0.08831492869533758, 0.023601403358236767, 0.02664674572704151, 0.03426010164905337, 0.0076133559220118606, 0.0045680135532071165, 0.13490577064456533, 0.2585693937354169, 0.13490577064456533, 0.04496859021485511, 0.07869503287599644, 0.22484295107427554, 0.011242147553713777, 0.022484295107427554, 0.11242147553713777, 0.6033036223689434, 0.7742347338910311, 0.7847874864108862, 0.15695749728217726, 0.7451541085665568, 0.5338053960650474, 0.09420095224677306, 0.1256012696623641, 0.09420095224677306, 0.06280063483118205, 0.031400317415591024, 0.1677218077718709, 0.6708872310874836, 0.6516714038088419, 0.23095422661036524, 0.6928626798310957, 0.835404863841773, 0.7831012727941468, 0.8888529960121367, 0.7291207098340826, 0.6101097261610494, 0.5620483090960686, 0.1873494363653562, 0.40803012531434873, 0.40803012531434873, 0.633121197731291, 0.18466034933829323, 0.02638004990547046, 0.07914014971641138, 0.02638004990547046, 0.02638004990547046, 0.40822835892689946, 0.40822835892689946, 0.593390182509391, 0.7956474692579909, 0.889184243099479, 0.08836672871163916, 0.08836672871163916, 0.08836672871163916, 0.530200372269835, 0.08836672871163916, 0.20124787653047346, 0.20124787653047346, 0.4024957530609469, 0.603303584496505, 0.21542903280544567, 0.23697193608599024, 0.18096038755657437, 0.099097355090505, 0.12064025837104957, 0.056011548529415874, 0.03016006459276239, 0.04739438721719805, 0.004308580656108913, 0.01292574196832674, 0.24917670351800733, 0.24917670351800733, 0.24917670351800733, 0.7451526540320854, 0.6518407038531011, 0.7956847410667721, 0.2010087015108008, 0.22817203955280094, 0.23632104096540096, 0.05975934369240024, 0.019014336629400077, 0.18199436488140075, 0.021730670433600087, 0.021730670433600087, 0.016298002825200067, 0.010865335216800043, 0.20022728996453737, 0.6006818698936122, 0.2113170966523138, 0.20358598336015596, 0.23966451205689246, 0.0747340951575256, 0.09277335950589385, 0.09019632174184125, 0.05411779304510475, 0.015462226584315644, 0.007731113292157822, 0.010308151056210428, 0.795701928885224, 0.16428687269282272, 0.6571474907712909, 0.11788524694976567, 0.24313832183389167, 0.3389200849805763, 0.014735655868720708, 0.11788524694976567, 0.029471311737441417, 0.014735655868720708, 0.03683913967180177, 0.06631045140924319, 0.014735655868720708, 0.16557997692316487, 0.08278998846158243, 0.16557997692316487, 0.41394994230791216, 0.08278998846158243, 0.08278998846158243, 0.24280885720657303, 0.209317980350494, 0.00837271921401976, 0.0418635960700988, 0.15070894585235567, 0.09209991135421736, 0.14233622663833592, 0.02511815764205928, 0.0837271921401976, 0.3207613184815794, 0.11514508868569517, 0.1315943870693659, 0.1315943870693659, 0.09869579030202444, 0.07402184272651832, 0.03289859676734148, 0.07402184272651832, 0.01644929838367074, 0.7450582822998615, 0.3362059834009467, 0.12930999361574874, 0.0517239974462995, 0.23275798850834772, 0.0517239974462995, 0.103447994892599, 0.0517239974462995, 0.07758599616944925, 0.8142728499454068, 0.037960251241490724, 0.037960251241490724, 0.3036820099319258, 0.41756276365639794, 0.07592050248298145, 0.037960251241490724, 0.07592050248298145, 0.6991863288265289, 0.08739829110331611, 0.17479658220663222, 0.8183163608870738, 0.6851651621728482, 0.5864290271679663, 0.8567202830261156, 0.0644886011453704, 0.7738632137444448, 0.0967329017180556, 0.0322443005726852, 0.8341657635017926, 0.10427072043772408, 0.07464470077289694, 0.14928940154579387, 0.07464470077289694, 0.07464470077289694, 0.07464470077289694, 0.07464470077289694, 0.07464470077289694, 0.37322350386448466, 0.10026136025763416, 0.20052272051526832, 0.05013068012881708, 0.40104544103053663, 0.15039204038645124, 0.05013068012881708, 0.14234782604700166, 0.14234782604700166, 0.427043478141005, 0.085408695628201, 0.056939130418800665, 0.085408695628201, 0.028469565209400333, 0.10631078386475866, 0.33074466091258253, 0.09449847454645215, 0.1299354025013717, 0.1417477118196782, 0.1299354025013717, 0.023624618636613037, 0.011812309318306518, 0.04724923727322607, 0.783189528075651, 0.49934632656355316, 0.24967316328177658, 0.21762498888698012, 0.23938748777567814, 0.23938748777567814, 0.043524997777396025, 0.043524997777396025, 0.043524997777396025, 0.13057499333218808, 0.07884942936375952, 0.13798650138657917, 0.1478426800570491, 0.15769885872751904, 0.167555037397989, 0.07884942936375952, 0.049280893352349704, 0.02956853601140982, 0.1478426800570491, 0.11519298333884972, 0.25918421251241186, 0.23038596667769945, 0.02879824583471243, 0.11519298333884972, 0.201587720842987, 0.02879824583471243, 0.2118367616348672, 0.4236735232697344, 0.2118367616348672], \"Term\": [\"abhorrent\", \"ability\", \"ability\", \"ability\", \"able\", \"able\", \"able\", \"able\", \"able\", \"able\", \"able\", \"able\", \"absolutely\", \"absolutely\", \"absolutely\", \"absolutely\", \"absolutely\", \"absolutely\", \"absolutely\", \"absolutely\", \"absolutely\", \"abysmal\", \"abysmal\", \"abysmal\", \"accommodation\", \"accommodation\", \"admin\", \"admin\", \"adult\", \"adult\", \"adult\", \"adult\", \"affair\", \"afternoon\", \"afternoon\", \"afternoon\", \"afternoon\", \"again\", \"again\", \"again\", \"again\", \"again\", \"again\", \"again\", \"again\", \"again\", \"again\", \"agent\", \"agent\", \"aggressive\", \"aggressive\", \"ahead\", \"ahead\", \"ahead\", \"ahead\", \"airport\", \"airport\", \"airport\", \"airport\", \"airport\", \"airport\", \"aj\", \"alcohol\", \"alcohol\", \"alcohol\", \"allocated\", \"also\", \"also\", \"also\", \"also\", \"also\", \"also\", \"also\", \"also\", \"also\", \"alternative\", \"alternative\", \"alternative\", \"alternative\", \"alternative\", \"alternative\", \"alternatively\", \"always\", \"always\", \"always\", \"always\", \"always\", \"always\", \"always\", \"always\", \"always\", \"always\", \"amberley\", \"amsterdam\", \"amsterdam\", \"ancient\", \"and\", \"and\", \"and\", \"andrea\", \"angry\", \"angry\", \"aniko\", \"announcement\", \"announcement\", \"announcement\", \"announcement\", \"announcement\", \"announcement\", \"another\", \"anybody\", \"anybody\", \"anytime\", \"app\", \"app\", \"app\", \"app\", \"appalling\", \"appalling\", \"appalling\", \"appalling\", \"appalling\", \"appalling\", \"appropriate\", \"arriva\", \"arriva\", \"arrived\", \"avignon\", \"back\", \"back\", \"back\", \"back\", \"back\", \"back\", \"back\", \"back\", \"back\", \"bad\", \"bad\", \"bad\", \"bad\", \"bad\", \"bad\", \"bad\", \"bad\", \"bad\", \"bang\", \"bare\", \"barely\", \"barely\", \"barely\", \"bath\", \"bath\", \"bath\", \"bath\", \"belt\", \"better\", \"better\", \"better\", \"better\", \"better\", \"better\", \"better\", \"better\", \"better\", \"beverage\", \"beware\", \"beware\", \"bicester\", \"bike\", \"birmingham\", \"birmingham\", \"birmingham\", \"birmingham\", \"birmingham\", \"birmingham\", \"birmingham\", \"biscuit\", \"black\", \"blatant\", \"boarder\", \"book\", \"book\", \"book\", \"book\", \"book\", \"book\", \"book\", \"book\", \"book\", \"book\", \"bread\", \"breakfast\", \"breakfast\", \"breakfast\", \"breakfast\", \"broken\", \"broken\", \"broken\", \"broken\", \"broken\", \"bronze\", \"brushed\", \"brussels\", \"brussels\", \"brussels\", \"brussels\", \"brussels\", \"brussels\", \"buffet\", \"buffet\", \"buffet\", \"buffet\", \"buffet\", \"bus\", \"bus\", \"bus\", \"bus\", \"bus\", \"bus\", \"bus\", \"bus\", \"cabin\", \"cabin\", \"call\", \"call\", \"call\", \"call\", \"call\", \"call\", \"call\", \"came\", \"camel\", \"cancelations\", \"cancellation\", \"cancellation\", \"cancellation\", \"cancellation\", \"cancellation\", \"cancellation\", \"cancellation\", \"cancelled\", \"cancelled\", \"cancelled\", \"cancelled\", \"cancelled\", \"capitalist\", \"card\", \"card\", \"card\", \"card\", \"card\", \"card\", \"cardiff\", \"cardiff\", \"cardiff\", \"care\", \"care\", \"care\", \"care\", \"care\", \"care\", \"carole\", \"carriage\", \"carriage\", \"carriage\", \"carriage\", \"carriage\", \"carriage\", \"carriage\", \"catering\", \"catering\", \"catering\", \"ceo\", \"ceo\", \"change\", \"change\", \"change\", \"change\", \"change\", \"change\", \"change\", \"channel\", \"channel\", \"chat\", \"chat\", \"chat\", \"chat\", \"check\", \"check\", \"check\", \"check\", \"chicken\", \"clapham\", \"clapham\", \"clapham\", \"clapham\", \"class\", \"class\", \"class\", \"class\", \"class\", \"class\", \"class\", \"class\", \"class\", \"class\", \"cleanest\", \"clever\", \"closing\", \"coaches\", \"coast\", \"coast\", \"coast\", \"coast\", \"coast\", \"coast\", \"coast\", \"comes\", \"comical\", \"commentator\", \"commuter\", \"commuter\", \"commuter\", \"commuter\", \"commuter\", \"commuter\", \"commuter\", \"commuter\", \"commuter\", \"company\", \"company\", \"company\", \"company\", \"company\", \"company\", \"company\", \"company\", \"company\", \"company\", \"compare\", \"compensation\", \"compensation\", \"compensation\", \"compensation\", \"compensation\", \"compensation\", \"compensation\", \"competent\", \"complaint\", \"complaint\", \"complaint\", \"complaint\", \"complaint\", \"complaint\", \"complaint\", \"complaint\", \"complaint\", \"concerned\", \"conducter\", \"consider\", \"continent\", \"contract\", \"contract\", \"cookie\", \"countless\", \"countless\", \"courteous\", \"courteous\", \"credit\", \"credit\", \"credit\", \"credit\", \"cross\", \"cross\", \"cross\", \"cross\", \"cross\", \"cross\", \"cross\", \"cross\", \"crowded\", \"crowded\", \"crowded\", \"crowding\", \"crowding\", \"croydon\", \"croydon\", \"croydon\", \"croydon\", \"curly\", \"custom\", \"custom\", \"custom\", \"customer\", \"customer\", \"customer\", \"customer\", \"customer\", \"customer\", \"customer\", \"customer\", \"customer\", \"customer\", \"daily\", \"daily\", \"daily\", \"daily\", \"daily\", \"daily\", \"daily\", \"dangerous\", \"dangerous\", \"dangerous\", \"dangerous\", \"dark\", \"dartford\", \"date\", \"date\", \"date\", \"date\", \"date\", \"date\", \"date\", \"day\", \"day\", \"day\", \"day\", \"day\", \"day\", \"day\", \"day\", \"day\", \"daylight\", \"de\", \"decidedly\", \"delay\", \"delay\", \"delay\", \"delay\", \"delay\", \"delay\", \"delay\", \"delay\", \"delay\", \"delay\", \"delivery\", \"delivery\", \"delivery\", \"depend\", \"dependant\", \"depressed\", \"dept\", \"derisory\", \"detail\", \"detail\", \"detail\", \"detail\", \"detail\", \"detail\", \"developed\", \"discount\", \"discount\", \"discount\", \"discount\", \"discretion\", \"disgrace\", \"disgrace\", \"disgrace\", \"disgrace\", \"disgrace\", \"disgrace\", \"disgrace\", \"disgrace\", \"disgrace\", \"disgruntled\", \"dismal\", \"distressed\", \"dollar\", \"dollar\", \"doorway\", \"doubt\", \"down\", \"down\", \"down\", \"down\", \"down\", \"down\", \"down\", \"downhill\", \"drayton\", \"dreadful\", \"dreadful\", \"dreadful\", \"dreadful\", \"dreadful\", \"dripnoff\", \"driver\", \"driver\", \"driver\", \"driver\", \"driver\", \"driver\", \"dublin\", \"dublin\", \"due\", \"due\", \"due\", \"due\", \"due\", \"due\", \"due\", \"due\", \"due\", \"dunbar\", \"durham\", \"durham\", \"durham\", \"durham\", \"durham\", \"easier\", \"easier\", \"east\", \"east\", \"east\", \"east\", \"east\", \"east\", \"east\", \"eastbourne\", \"eastbourne\", \"eastbourne\", \"eastbourne\", \"edinburgh\", \"edinburgh\", \"edinburgh\", \"edinburgh\", \"edinburgh\", \"edinburgh\", \"edinburgh\", \"edinburgh\", \"el\", \"eligible\", \"email\", \"email\", \"email\", \"email\", \"email\", \"email\", \"embarrassed\", \"embarrassing\", \"embarrassment\", \"embarrassment\", \"employee\", \"employee\", \"employee\", \"england\", \"england\", \"enough\", \"enough\", \"enough\", \"enough\", \"enough\", \"enough\", \"enough\", \"enough\", \"enroute\", \"entitle\", \"entitlement\", \"epsom\", \"eurodespatch\", \"euros\", \"eurostar\", \"eurostar\", \"eurostar\", \"eurostar\", \"eurostar\", \"eurostar\", \"eurostar\", \"eurostar\", \"eurostar\", \"euston\", \"euston\", \"euston\", \"euston\", \"euston\", \"euston\", \"even\", \"even\", \"even\", \"even\", \"even\", \"even\", \"even\", \"even\", \"even\", \"even\", \"ever\", \"ever\", \"ever\", \"ever\", \"ever\", \"ever\", \"ever\", \"ever\", \"ever\", \"everything\", \"everything\", \"everything\", \"everything\", \"everything\", \"everything\", \"everything\", \"exceptional\", \"exceptional\", \"exceptional\", \"exchange\", \"excuses\", \"expected\", \"expensive\", \"expensive\", \"expensive\", \"expensive\", \"expensive\", \"expensive\", \"expensive\", \"expensive\", \"expensive\", \"experience\", \"experience\", \"experience\", \"experience\", \"experience\", \"experience\", \"experience\", \"experience\", \"external\", \"extreme\", \"extremely\", \"extremely\", \"extremely\", \"extremely\", \"extremely\", \"extremely\", \"extremely\", \"falls\", \"fantastic\", \"fantastic\", \"fantastic\", \"fantastic\", \"fantastic\", \"fare\", \"fare\", \"fare\", \"fare\", \"fare\", \"fare\", \"faulty\", \"faulty\", \"fee\", \"fee\", \"fee\", \"fee\", \"fee\", \"feeling\", \"feeling\", \"ferry\", \"ferry\", \"fi\", \"final\", \"final\", \"final\", \"final\", \"final\", \"final\", \"fire\", \"first\", \"first\", \"first\", \"first\", \"first\", \"first\", \"first\", \"first\", \"first\", \"first\", \"floor\", \"floor\", \"floor\", \"floor\", \"floor\", \"floor\", \"floor\", \"floor\", \"fool\", \"form\", \"form\", \"form\", \"form\", \"form\", \"form\", \"franchise\", \"franchise\", \"franchise\", \"franchise\", \"franchise\", \"franchise\", \"franchise\", \"frequently\", \"frequently\", \"frequently\", \"fruit\", \"furious\", \"gail\", \"gare\", \"gare\", \"gate\", \"gate\", \"general\", \"general\", \"general\", \"genuine\", \"glad\", \"glad\", \"glasgow\", \"glasgow\", \"glasgow\", \"glasgow\", \"glasgow\", \"glasgow\", \"glass\", \"gluten\", \"good\", \"good\", \"good\", \"good\", \"good\", \"good\", \"good\", \"good\", \"good\", \"great\", \"great\", \"great\", \"great\", \"great\", \"great\", \"great\", \"great\", \"grime\", \"guildford\", \"gwr\", \"gwr\", \"gwr\", \"gwr\", \"gwr\", \"gwr\", \"gwr\", \"gwr\", \"gwr\", \"gwr\", \"ha\", \"ha\", \"ha\", \"ha\", \"ha\", \"ha\", \"ha\", \"ha\", \"ha\", \"ha\", \"hang\", \"hartlepool\", \"head\", \"head\", \"head\", \"head\", \"health\", \"health\", \"heavily\", \"her\", \"his\", \"history\", \"holland\", \"home\", \"home\", \"home\", \"home\", \"home\", \"home\", \"home\", \"home\", \"home\", \"hoop\", \"houmous\", \"hour\", \"hour\", \"hour\", \"hour\", \"hour\", \"hour\", \"hour\", \"hour\", \"hour\", \"house\", \"house\", \"however\", \"however\", \"however\", \"however\", \"however\", \"however\", \"however\", \"however\", \"ie\", \"immigration\", \"important\", \"important\", \"inclusive\", \"incorrect\", \"incorrect\", \"indifferent\", \"information\", \"information\", \"information\", \"information\", \"information\", \"information\", \"information\", \"information\", \"ing\", \"initially\", \"inside\", \"inspector\", \"inspector\", \"inspector\", \"inspector\", \"insulted\", \"interested\", \"interested\", \"internal\", \"international\", \"international\", \"international\", \"interview\", \"interview\", \"issue\", \"issue\", \"issue\", \"issue\", \"issue\", \"issue\", \"issue\", \"issue\", \"issue\", \"issuer\", \"joke\", \"joke\", \"joke\", \"joke\", \"joke\", \"joke\", \"joke\", \"joke\", \"journey\", \"journey\", \"journey\", \"journey\", \"journey\", \"journey\", \"journey\", \"journey\", \"journey\", \"journey\", \"july\", \"july\", \"july\", \"july\", \"july\", \"july\", \"jump\", \"jump\", \"just\", \"just\", \"just\", \"just\", \"just\", \"just\", \"just\", \"just\", \"just\", \"just\", \"keeps\", \"kept\", \"kept\", \"kept\", \"kept\", \"keynes\", \"keynes\", \"kirsty\", \"lancaster\", \"lancaster\", \"last\", \"last\", \"last\", \"last\", \"last\", \"last\", \"last\", \"last\", \"last\", \"last\", \"late\", \"late\", \"late\", \"late\", \"late\", \"late\", \"late\", \"late\", \"late\", \"latest\", \"latest\", \"latter\", \"law\", \"law\", \"leaflet\", \"least\", \"least\", \"least\", \"least\", \"least\", \"least\", \"least\", \"least\", \"least\", \"lewes\", \"liable\", \"life\", \"life\", \"life\", \"life\", \"life\", \"life\", \"life\", \"life\", \"life\", \"lille\", \"lille\", \"lille\", \"line\", \"line\", \"line\", \"line\", \"line\", \"line\", \"line\", \"line\", \"listen\", \"london\", \"london\", \"london\", \"london\", \"london\", \"london\", \"london\", \"london\", \"london\", \"london\", \"loud\", \"loud\", \"loud\", \"loud\", \"loud\", \"louise\", \"luck\", \"luck\", \"lyon\", \"machine\", \"machine\", \"machine\", \"machine\", \"machine\", \"machine\", \"madam\", \"mam\", \"manager\", \"manager\", \"manager\", \"manager\", \"manager\", \"manager\", \"manager\", \"manchester\", \"manchester\", \"manchester\", \"manchester\", \"manchester\", \"manchester\", \"manchester\", \"manchester\", \"manchester\", \"manchester\", \"mate\", \"mature\", \"md\", \"member\", \"member\", \"member\", \"member\", \"member\", \"member\", \"member\", \"member\", \"mere\", \"micheal\", \"milton\", \"milton\", \"minute\", \"minute\", \"minute\", \"minute\", \"minute\", \"minute\", \"minute\", \"minute\", \"minute\", \"misfortune\", \"money\", \"money\", \"money\", \"money\", \"money\", \"money\", \"money\", \"money\", \"money\", \"money\", \"month\", \"month\", \"month\", \"month\", \"month\", \"month\", \"month\", \"month\", \"month\", \"month\", \"moor\", \"more\", \"more\", \"more\", \"more\", \"more\", \"more\", \"more\", \"more\", \"more\", \"more\", \"moron\", \"most\", \"most\", \"most\", \"most\", \"most\", \"most\", \"most\", \"most\", \"most\", \"ms\", \"much\", \"much\", \"much\", \"much\", \"much\", \"much\", \"much\", \"much\", \"much\", \"name\", \"name\", \"name\", \"name\", \"name\", \"napkin\", \"nappy\", \"nearby\", \"necessary\", \"necessary\", \"nectar\", \"never\", \"never\", \"never\", \"never\", \"never\", \"never\", \"never\", \"never\", \"never\", \"never\", \"new\", \"new\", \"new\", \"new\", \"new\", \"new\", \"new\", \"new\", \"new\", \"new\", \"newport\", \"newport\", \"newport\", \"next\", \"next\", \"next\", \"next\", \"next\", \"next\", \"next\", \"next\", \"nightmare\", \"nightmare\", \"nightmare\", \"nightmare\", \"nightmare\", \"no\", \"no\", \"no\", \"no\", \"no\", \"no\", \"no\", \"no\", \"no\", \"no\", \"nord\", \"nord\", \"norm\", \"not\", \"not\", \"not\", \"not\", \"not\", \"not\", \"not\", \"not\", \"not\", \"not\", \"november\", \"now\", \"now\", \"now\", \"now\", \"now\", \"now\", \"now\", \"now\", \"now\", \"nt\", \"number\", \"number\", \"number\", \"number\", \"number\", \"number\", \"number\", \"number\", \"number\", \"nurse\", \"occasion\", \"occasion\", \"occasion\", \"occasion\", \"occasion\", \"occasion\", \"occasion\", \"odds\", \"office\", \"office\", \"office\", \"office\", \"office\", \"office\", \"office\", \"office\", \"office\", \"olympics\", \"onboard\", \"ongoing\", \"ongoing\", \"only\", \"only\", \"only\", \"only\", \"only\", \"only\", \"only\", \"only\", \"only\", \"only\", \"onward\", \"operative\", \"opportunist\", \"orange\", \"organised\", \"original\", \"original\", \"original\", \"oscar\", \"other\", \"other\", \"other\", \"other\", \"other\", \"other\", \"other\", \"other\", \"other\", \"other\", \"overbooked\", \"overcrowded\", \"overcrowded\", \"overcrowded\", \"overcrowded\", \"overcrowded\", \"overcrowding\", \"overcrowding\", \"overground\", \"pack\", \"paper\", \"paper\", \"paper\", \"paris\", \"paris\", \"paris\", \"paris\", \"paris\", \"paris\", \"paris\", \"paris\", \"parkway\", \"parkway\", \"pas\", \"pas\", \"pas\", \"passenger\", \"passenger\", \"passenger\", \"passenger\", \"passenger\", \"passenger\", \"passenger\", \"passenger\", \"passenger\", \"passport\", \"passport\", \"pathetic\", \"pathetic\", \"pathetic\", \"pathetic\", \"pathetic\", \"pathetic\", \"pathetic\", \"peanut\", \"penny\", \"people\", \"people\", \"people\", \"people\", \"people\", \"people\", \"people\", \"people\", \"people\", \"phil\", \"phone\", \"phone\", \"phone\", \"phone\", \"phone\", \"phone\", \"phone\", \"phone\", \"phone\", \"piccadilly\", \"pitiful\", \"plymouth\", \"point\", \"point\", \"point\", \"point\", \"point\", \"point\", \"point\", \"point\", \"politeness\", \"poor\", \"poor\", \"poor\", \"poor\", \"poor\", \"poor\", \"poor\", \"poor\", \"pram\", \"pram\", \"preference\", \"pregnant\", \"price\", \"price\", \"price\", \"price\", \"price\", \"price\", \"price\", \"price\", \"pricing\", \"pricing\", \"pricing\", \"pricing\", \"pricing\", \"printer\", \"privatisation\", \"privatisation\", \"privilege\", \"problem\", \"problem\", \"problem\", \"problem\", \"problem\", \"problem\", \"problem\", \"problem\", \"problem\", \"problem\", \"promptly\", \"protocol\", \"pushchair\", \"pushchair\", \"queue\", \"queue\", \"queue\", \"queue\", \"queue\", \"queue\", \"rail\", \"rail\", \"rail\", \"rail\", \"rail\", \"rail\", \"rail\", \"rail\", \"rail\", \"railway\", \"railway\", \"railway\", \"railway\", \"railway\", \"railway\", \"railway\", \"rapid\", \"rarely\", \"rarely\", \"rating\", \"rating\", \"rating\", \"rating\", \"really\", \"really\", \"really\", \"really\", \"really\", \"really\", \"really\", \"really\", \"really\", \"really\", \"reduced\", \"reduced\", \"refers\", \"refund\", \"refund\", \"refund\", \"refund\", \"refund\", \"refund\", \"refund\", \"refund\", \"refund\", \"regularly\", \"regularly\", \"regularly\", \"regularly\", \"regularly\", \"regularly\", \"replacement\", \"replacement\", \"replacement\", \"replacement\", \"replacement\", \"reply\", \"reply\", \"reply\", \"reply\", \"reply\", \"reply\", \"reply\", \"reservation\", \"reservation\", \"reservation\", \"reservation\", \"reservation\", \"reservation\", \"reservation\", \"reserved\", \"reserved\", \"reserved\", \"reserved\", \"resolutions\", \"response\", \"response\", \"response\", \"response\", \"response\", \"response\", \"response\", \"response\", \"response\", \"return\", \"return\", \"return\", \"return\", \"return\", \"return\", \"return\", \"return\", \"revenue\", \"review\", \"review\", \"review\", \"review\", \"review\", \"review\", \"review\", \"review\", \"review\", \"review\", \"reviewer\", \"reviewer\", \"rid\", \"right\", \"right\", \"right\", \"right\", \"right\", \"right\", \"ring\", \"ringo\", \"robbery\", \"rocket\", \"row\", \"row\", \"row\", \"rubbish\", \"rubbish\", \"rubbish\", \"rubbish\", \"rubbish\", \"rude\", \"rude\", \"rude\", \"rude\", \"rude\", \"rude\", \"rude\", \"rude\", \"rudely\", \"sack\", \"safety\", \"safety\", \"safety\", \"safety\", \"safety\", \"sake\", \"sausage\", \"scotrail\", \"scramble\", \"sea\", \"seat\", \"seat\", \"seat\", \"seat\", \"seat\", \"seat\", \"seat\", \"seat\", \"seat\", \"seating\", \"security\", \"security\", \"security\", \"separately\", \"separately\", \"separately\", \"service\", \"service\", \"service\", \"service\", \"service\", \"service\", \"service\", \"service\", \"service\", \"service\", \"set\", \"shambolic\", \"shambolic\", \"shame\", \"shame\", \"shame\", \"shame\", \"shame\", \"shame\", \"sharp\", \"sharp\", \"sheep\", \"shrug\", \"signal\", \"signal\", \"signal\", \"signal\", \"signal\", \"signal\", \"similar\", \"similar\", \"sir\", \"slowly\", \"sluggish\", \"smaller\", \"smart\", \"smart\", \"so\", \"so\", \"so\", \"so\", \"so\", \"so\", \"so\", \"so\", \"so\", \"so\", \"soggy\", \"soggy\", \"southern\", \"southern\", \"southern\", \"southern\", \"southern\", \"southern\", \"southern\", \"southern\", \"southern\", \"space\", \"space\", \"space\", \"space\", \"space\", \"space\", \"spanish\", \"st\", \"st\", \"st\", \"st\", \"st\", \"st\", \"st\", \"st\", \"staff\", \"staff\", \"staff\", \"staff\", \"staff\", \"staff\", \"staff\", \"staff\", \"staff\", \"staff\", \"standard\", \"standard\", \"standard\", \"standard\", \"standard\", \"standard\", \"standard\", \"standard\", \"star\", \"star\", \"star\", \"star\", \"star\", \"star\", \"star\", \"star\", \"star\", \"station\", \"station\", \"station\", \"station\", \"station\", \"station\", \"station\", \"station\", \"station\", \"station\", \"status\", \"status\", \"status\", \"stefan\", \"stephen\", \"steward\", \"still\", \"still\", \"still\", \"still\", \"still\", \"still\", \"still\", \"still\", \"still\", \"still\", \"stockport\", \"stop\", \"stop\", \"stop\", \"stop\", \"stop\", \"strength\", \"strike\", \"strike\", \"strike\", \"strike\", \"strike\", \"strike\", \"stuck\", \"suit\", \"summer\", \"summer\", \"summer\", \"summer\", \"superb\", \"supposedly\", \"sure\", \"sure\", \"sure\", \"sure\", \"sure\", \"surroundings\", \"system\", \"system\", \"system\", \"system\", \"system\", \"system\", \"system\", \"system\", \"system\", \"talk\", \"tasty\", \"tax\", \"tax\", \"telephone\", \"telephone\", \"telephone\", \"telephone\", \"telephone\", \"tell\", \"template\", \"tend\", \"terrible\", \"terrible\", \"terrible\", \"terrible\", \"terrible\", \"terrible\", \"terrible\", \"terrible\", \"terrible\", \"terrible\", \"text\", \"th\", \"th\", \"th\", \"th\", \"th\", \"th\", \"th\", \"th\", \"thalys\", \"thankfully\", \"that\", \"thay\", \"then\", \"then\", \"then\", \"then\", \"then\", \"then\", \"then\", \"then\", \"then\", \"then\", \"thief\", \"thing\", \"thing\", \"thing\", \"thing\", \"thing\", \"thread\", \"threadbare\", \"ticket\", \"ticket\", \"ticket\", \"ticket\", \"ticket\", \"ticket\", \"ticket\", \"ticket\", \"ticket\", \"ticket\", \"tilehurst\", \"tilly\", \"time\", \"time\", \"time\", \"time\", \"time\", \"time\", \"time\", \"time\", \"time\", \"time\", \"timetable\", \"timetable\", \"timetable\", \"timetable\", \"timetable\", \"toast\", \"toddler\", \"toddler\", \"told\", \"told\", \"tonight\", \"tonight\", \"tonight\", \"train\", \"train\", \"train\", \"train\", \"train\", \"train\", \"train\", \"train\", \"train\", \"train\", \"trains\", \"trains\", \"trains\", \"trains\", \"trains\", \"trains\", \"trains\", \"trains\", \"trains\", \"travelcard\", \"traveler\", \"tunnel\", \"tunnel\", \"tutorial\", \"twice\", \"twice\", \"twice\", \"twice\", \"twice\", \"twice\", \"twitter\", \"twitter\", \"txxt\", \"typical\", \"typical\", \"uckfield\", \"ultimately\", \"unbelievably\", \"unfairly\", \"unforgivable\", \"unfortunate\", \"unfortunate\", \"unhappy\", \"unhappy\", \"unhelpful\", \"unhelpful\", \"unhelpful\", \"unhelpful\", \"unhelpful\", \"unhelpful\", \"union\", \"union\", \"unit\", \"unservicable\", \"unsympathetic\", \"update\", \"update\", \"update\", \"update\", \"update\", \"us\", \"us\", \"us\", \"verge\", \"very\", \"very\", \"very\", \"very\", \"very\", \"very\", \"very\", \"very\", \"very\", \"very\", \"vestibule\", \"vestibule\", \"vestibule\", \"video\", \"village\", \"violent\", \"virgin\", \"virgin\", \"virgin\", \"virgin\", \"virgin\", \"virgin\", \"virgin\", \"virgin\", \"virgin\", \"virgin\", \"visa\", \"visa\", \"wa\", \"wa\", \"wa\", \"wa\", \"wa\", \"wa\", \"wa\", \"wa\", \"wa\", \"wa\", \"wage\", \"waverley\", \"waverley\", \"way\", \"way\", \"way\", \"way\", \"way\", \"way\", \"way\", \"way\", \"way\", \"way\", \"weather\", \"weather\", \"weather\", \"weather\", \"weather\", \"weather\", \"website\", \"website\", \"website\", \"website\", \"website\", \"website\", \"website\", \"website\", \"website\", \"week\", \"week\", \"week\", \"week\", \"week\", \"week\", \"week\", \"week\", \"week\", \"weekday\", \"weekend\", \"weekend\", \"weekend\", \"weekend\", \"weekend\", \"weekend\", \"weekend\", \"weekend\", \"were\", \"west\", \"west\", \"west\", \"west\", \"west\", \"west\", \"west\", \"western\", \"western\", \"western\", \"whats\", \"whatsoever\", \"whittingham\", \"wi\", \"wifi\", \"wifi\", \"wifi\", \"wifi\", \"wine\", \"wine\", \"woman\", \"woman\", \"woman\", \"woman\", \"woman\", \"woman\", \"woman\", \"woman\", \"world\", \"world\", \"world\", \"world\", \"world\", \"world\", \"worse\", \"worse\", \"worse\", \"worse\", \"worse\", \"worse\", \"worse\", \"worst\", \"worst\", \"worst\", \"worst\", \"worst\", \"worst\", \"worst\", \"worst\", \"worst\", \"would\", \"wow\", \"wow\", \"wrong\", \"wrong\", \"wrong\", \"wrong\", \"wrong\", \"wrong\", \"wrong\", \"year\", \"year\", \"year\", \"year\", \"year\", \"year\", \"year\", \"year\", \"year\", \"yet\", \"yet\", \"yet\", \"yet\", \"yet\", \"yet\", \"yet\", \"zero\", \"zero\", \"zero\"]}, \"R\": 30, \"lambda.step\": 0.01, \"plot.opts\": {\"xlab\": \"PC1\", \"ylab\": \"PC2\"}, \"topic.order\": [6, 9, 1, 2, 10, 8, 5, 3, 4, 7]};\n",
              "\n",
              "function LDAvis_load_lib(url, callback){\n",
              "  var s = document.createElement('script');\n",
              "  s.src = url;\n",
              "  s.async = true;\n",
              "  s.onreadystatechange = s.onload = callback;\n",
              "  s.onerror = function(){console.warn(\"failed to load library \" + url);};\n",
              "  document.getElementsByTagName(\"head\")[0].appendChild(s);\n",
              "}\n",
              "\n",
              "if(typeof(LDAvis) !== \"undefined\"){\n",
              "   // already loaded: just create the visualization\n",
              "   !function(LDAvis){\n",
              "       new LDAvis(\"#\" + \"ldavis_el52991396822442356003538292296\", ldavis_el52991396822442356003538292296_data);\n",
              "   }(LDAvis);\n",
              "}else if(typeof define === \"function\" && define.amd){\n",
              "   // require.js is available: use it to load d3/LDAvis\n",
              "   require.config({paths: {d3: \"https://d3js.org/d3.v5\"}});\n",
              "   require([\"d3\"], function(d3){\n",
              "      window.d3 = d3;\n",
              "      LDAvis_load_lib(\"https://cdn.jsdelivr.net/gh/bmabey/pyLDAvis@3.3.1/pyLDAvis/js/ldavis.v3.0.0.js\", function(){\n",
              "        new LDAvis(\"#\" + \"ldavis_el52991396822442356003538292296\", ldavis_el52991396822442356003538292296_data);\n",
              "      });\n",
              "    });\n",
              "}else{\n",
              "    // require.js not available: dynamically load d3 & LDAvis\n",
              "    LDAvis_load_lib(\"https://d3js.org/d3.v5.js\", function(){\n",
              "         LDAvis_load_lib(\"https://cdn.jsdelivr.net/gh/bmabey/pyLDAvis@3.3.1/pyLDAvis/js/ldavis.v3.0.0.js\", function(){\n",
              "                 new LDAvis(\"#\" + \"ldavis_el52991396822442356003538292296\", ldavis_el52991396822442356003538292296_data);\n",
              "            })\n",
              "         });\n",
              "}\n",
              "</script>"
            ],
            "text/plain": [
              "<IPython.core.display.HTML object>"
            ]
          },
          "metadata": {},
          "execution_count": 45
        }
      ]
    },
    {
      "cell_type": "markdown",
      "metadata": {
        "id": "_uPSJfNnQqLB"
      },
      "source": [
        "Trying to identify 10 topics is disproportionate (as expected), since many of those topics overlap. It seems that three or four topics would suffice."
      ]
    },
    {
      "cell_type": "markdown",
      "metadata": {
        "id": "4W4O5zK8RHBG"
      },
      "source": [
        "## Reflections on Preliminary Results"
      ]
    },
    {
      "cell_type": "code",
      "metadata": {
        "id": "WSDrXVNWWE0d"
      },
      "source": [
        "# Loading model for consistency\n",
        "model, corpus, term_dict = load_state()"
      ],
      "execution_count": 56,
      "outputs": []
    },
    {
      "cell_type": "code",
      "metadata": {
        "colab": {
          "base_uri": "https://localhost:8080/",
          "height": 881
        },
        "id": "KE7dIo5GPnB4",
        "outputId": "7bab25fc-ccb5-4adb-9b5e-0ba99df1e3ff"
      },
      "source": [
        "pyLDAvis.enable_notebook()\n",
        "lda_viz = gensimvis.prepare(model, corpus, term_dict)\n",
        "pyLDAvis.display(lda_viz)"
      ],
      "execution_count": 57,
      "outputs": [
        {
          "output_type": "execute_result",
          "data": {
            "text/html": [
              "\n",
              "<link rel=\"stylesheet\" type=\"text/css\" href=\"https://cdn.jsdelivr.net/gh/bmabey/pyLDAvis@3.3.1/pyLDAvis/js/ldavis.v1.0.0.css\">\n",
              "\n",
              "\n",
              "<div id=\"ldavis_el5299139682245702736458092733\"></div>\n",
              "<script type=\"text/javascript\">\n",
              "\n",
              "var ldavis_el5299139682245702736458092733_data = {\"mdsDat\": {\"x\": [0.05215153692636731, 0.01361158141448829, -0.06576311834085558], \"y\": [0.03484766182727363, -0.05176775526580926, 0.016920093438535656], \"topics\": [1, 2, 3], \"cluster\": [1, 1, 1], \"Freq\": [39.48689815627329, 30.955908302568474, 29.557193541158234]}, \"tinfo\": {\"Term\": [\"class\", \"southern\", \"virgin\", \"worst\", \"late\", \"ticket\", \"train\", \"hour\", \"rail\", \"first\", \"number\", \"delay\", \"company\", \"card\", \"email\", \"rude\", \"staff\", \"minute\", \"often\", \"queue\", \"ever\", \"book\", \"good\", \"trains\", \"food\", \"cancellation\", \"franchise\", \"always\", \"car\", \"journey\", \"reasonable\", \"sandwich\", \"international\", \"refreshment\", \"matter\", \"smart\", \"chat\", \"difference\", \"cheese\", \"success\", \"music\", \"bought\", \"paper\", \"live\", \"october\", \"fan\", \"waverley\", \"king\", \"reference\", \"code\", \"numerous\", \"property\", \"drink\", \"ms\", \"purse\", \"bloody\", \"advantage\", \"photo\", \"flexible\", \"interest\", \"class\", \"lounge\", \"carlisle\", \"wine\", \"lady\", \"complimentary\", \"name\", \"food\", \"first\", \"book\", \"birmingham\", \"unfortunately\", \"street\", \"may\", \"ticket\", \"st\", \"newcastle\", \"virgin\", \"wa\", \"customer\", \"edinburgh\", \"not\", \"number\", \"phone\", \"staff\", \"train\", \"service\", \"money\", \"nothing\", \"online\", \"trip\", \"refund\", \"time\", \"back\", \"passenger\", \"so\", \"very\", \"journey\", \"price\", \"london\", \"only\", \"even\", \"just\", \"then\", \"people\", \"day\", \"seat\", \"again\", \"way\", \"hour\", \"pleasant\", \"ferry\", \"security\", \"dublin\", \"greedy\", \"visa\", \"lyon\", \"serious\", \"are\", \"check\", \"debit\", \"row\", \"backwards\", \"repayment\", \"queue\", \"surprise\", \"student\", \"union\", \"atrocious\", \"passport\", \"louise\", \"punctuality\", \"berwick\", \"eurodespatch\", \"preference\", \"initially\", \"package\", \"de\", \"statement\", \"expectation\", \"counter\", \"admin\", \"usually\", \"payment\", \"card\", \"socket\", \"gare\", \"credit\", \"particularly\", \"told\", \"rude\", \"delay\", \"hour\", \"south\", \"west\", \"number\", \"minute\", \"trains\", \"compensation\", \"journey\", \"month\", \"so\", \"virgin\", \"london\", \"seat\", \"staff\", \"time\", \"ticket\", \"back\", \"train\", \"service\", \"not\", \"never\", \"good\", \"week\", \"late\", \"money\", \"always\", \"very\", \"wa\", \"then\", \"day\", \"customer\", \"even\", \"company\", \"just\", \"again\", \"only\", \"station\", \"gatwick\", \"thalys\", \"simple\", \"fi\", \"wi\", \"separately\", \"uncomfortable\", \"incredible\", \"school\", \"incredibly\", \"haywards\", \"nut\", \"filthy\", \"temperature\", \"rotten\", \"ability\", \"speed\", \"onward\", \"toddler\", \"tgv\", \"wonder\", \"heath\", \"disaster\", \"horsham\", \"whatsoever\", \"older\", \"wow\", \"medical\", \"afternoon\", \"swr\", \"worst\", \"employee\", \"southern\", \"victoria\", \"crew\", \"agent\", \"often\", \"brighton\", \"transport\", \"government\", \"rail\", \"thanks\", \"eastbourne\", \"late\", \"overcrowded\", \"public\", \"franchise\", \"train\", \"car\", \"wifi\", \"ever\", \"company\", \"railway\", \"bus\", \"bad\", \"star\", \"service\", \"joke\", \"now\", \"day\", \"eurostar\", \"number\", \"just\", \"website\", \"review\", \"time\", \"not\", \"other\", \"more\", \"seat\", \"due\", \"no\", \"people\", \"work\", \"london\", \"very\", \"even\", \"so\", \"money\", \"only\", \"customer\", \"wa\", \"hour\", \"journey\", \"ticket\"], \"Freq\": [198.0, 118.0, 366.0, 83.0, 162.0, 649.0, 1290.0, 276.0, 111.0, 211.0, 1421.0, 104.0, 211.0, 56.0, 80.0, 68.0, 271.0, 135.0, 42.0, 27.0, 84.0, 74.0, 77.0, 89.0, 62.0, 34.0, 30.0, 96.0, 34.0, 294.0, 14.658072091202879, 17.097888579261717, 10.227244032221451, 11.040452408310419, 11.031517447788367, 7.620910062277437, 11.002166846146554, 12.66339384900637, 6.700020991894476, 6.685537504324729, 7.494799878258657, 9.134761003956342, 5.800846269844795, 6.621909466587588, 5.787341800736634, 5.7839385892710435, 5.7772736456173135, 5.758013872055952, 12.339082533760342, 7.365854667180201, 8.166378881894687, 7.343504115557619, 25.25070268197164, 4.885333865464167, 4.883041629093939, 4.880373021568956, 4.876724942123163, 4.876079669649408, 4.870468565228992, 4.869063295098164, 171.1853838672403, 11.340919023795406, 10.477356721792379, 8.060862548470148, 18.03727651863052, 7.248428227274154, 24.594469191887512, 50.36968815663708, 156.4077790180424, 58.44187539573237, 31.77377164180976, 22.92537104384186, 20.050006065560172, 15.106560493801755, 372.34553967166573, 52.96006126886413, 26.543397026197766, 206.19099929291033, 213.59064120676624, 193.47182361109543, 39.72980802179217, 311.83211018481154, 556.0792067642561, 49.700759622157136, 135.2557999296066, 467.5301856150781, 273.14006717381216, 137.8302729476525, 36.46088941189233, 39.040364992081926, 45.168877268501525, 67.33378268535311, 162.46819985759683, 82.05386713908302, 54.178368348378555, 121.16592222042064, 91.91115646454872, 104.32046350735732, 55.24805688844216, 100.38719448728888, 73.72318274939099, 77.05908272797906, 82.2140434471994, 68.43001491447066, 63.998963753551706, 68.43398358958683, 67.05833341517881, 59.52525114897084, 56.853259004350114, 62.751878337934386, 11.703196067528552, 8.24817064852409, 9.849231607562377, 5.599175867828737, 5.553183136189131, 4.715871411235498, 4.703500675342791, 5.477762493174653, 4.615590917888744, 14.622611530158402, 3.8295193291700276, 4.582588898675564, 3.816330963674366, 3.8137646731944828, 23.666224869124466, 3.798095335090551, 6.816070358498501, 4.490905602858314, 3.74077416755644, 5.1949405031101215, 2.9515269765580734, 2.9496483836725016, 2.9481361243981667, 2.9476082200675635, 2.9461699029486264, 2.9461002266868093, 2.9458366300126393, 2.9446649312424915, 2.942294516376186, 2.9384237511884583, 7.339500477718138, 7.3024426601831705, 17.975976439242775, 15.708673908639176, 43.56770480368065, 3.656422876330905, 11.544132271622924, 19.03808866919734, 6.9755429692056055, 5.642584889923005, 45.682891257056944, 66.71007225324514, 151.0744483963563, 12.737959653737674, 17.639391747872644, 550.3247069402169, 72.22280120962687, 48.97289058289458, 29.689006813439214, 127.77297733587943, 44.67488051145651, 131.4878653502063, 141.19841560139133, 118.7498502398521, 93.8696743466285, 105.41372272234435, 152.17193199391696, 205.0657134360763, 75.1082402518515, 334.9545967393826, 196.9547595204669, 184.37021419756957, 57.319003304100974, 37.558383175577326, 50.40747646691315, 61.307943697764, 91.67136269093997, 42.58969182173922, 71.89057910542519, 97.85121483689366, 58.98152441391998, 66.97701480994691, 85.82020048930319, 62.33451676829831, 59.985744202091766, 60.114796014693106, 54.19798455477941, 53.8010630646048, 51.97435055479624, 11.718845247011323, 9.871266889030231, 8.212161684263503, 7.3537495057870625, 6.498702422311878, 5.61121614887603, 15.07261826835349, 4.733935135305804, 7.099708253764695, 5.517524015720737, 4.725842139530643, 4.72012073128562, 7.812944110595278, 4.666233048977839, 3.8509479877769213, 3.8505888723329704, 4.620912883608397, 3.8469087876039394, 3.8457862972701538, 3.8430365862952525, 3.8377608477836005, 3.8338981504753207, 6.136375305080657, 3.8334015664540537, 3.83310660301285, 4.600449752446333, 3.8276380690643705, 3.824089003769522, 7.639801588894604, 3.8134309461702256, 70.81588198131547, 9.079439737405345, 94.24284110116426, 14.524271387727262, 8.11399690063095, 5.985358775184688, 30.921879011110146, 17.205353975689523, 13.042455164267354, 10.479512053364507, 72.07034486475308, 14.855248201901595, 6.560906104975797, 87.99465598329526, 11.372343648172128, 15.34389366739964, 20.49097109468429, 488.24776381243925, 22.61467664391931, 20.56591692646533, 47.96539207929728, 101.99458623771007, 27.027932549491783, 22.461493880787714, 44.64209838726041, 31.11926352242043, 221.7115590081091, 29.996558669768312, 63.693068144846976, 83.5278246697141, 58.865117400943454, 315.037736554588, 81.50673109744494, 51.89532340188529, 27.539185316529426, 124.8087382730292, 162.9970718673308, 53.16037102634763, 53.1791943780109, 72.974951916065, 46.08579949594515, 37.937240618976915, 58.27444106021872, 33.3162218336497, 76.17967369902394, 65.60979150007498, 60.24186146904643, 75.27210683044241, 71.51745642964664, 56.028417668031054, 72.3834066381602, 72.82637451998777, 62.404635248526, 62.40819246010691, 71.93210239026132], \"Total\": [198.0, 118.0, 366.0, 83.0, 162.0, 649.0, 1290.0, 276.0, 111.0, 211.0, 1421.0, 104.0, 211.0, 56.0, 80.0, 68.0, 271.0, 135.0, 42.0, 27.0, 84.0, 74.0, 77.0, 89.0, 62.0, 34.0, 30.0, 96.0, 34.0, 294.0, 15.570336676034591, 18.313772200925417, 10.987195991873008, 11.901629970691305, 11.900664309330201, 8.238752232806732, 11.90080230756633, 13.728940821330566, 7.320913406942932, 7.320508847544691, 8.23494682777756, 10.063455589729355, 6.403805172062762, 7.318189270378774, 6.403357760544621, 6.403234789264022, 6.402986316793073, 6.402504093938638, 13.721154683719961, 8.229908074001754, 9.144495564763233, 8.229129911521598, 28.34839778107882, 5.486179620031158, 5.48608077696517, 5.486013813203795, 5.485879790437996, 5.485863751570213, 5.485687799522343, 5.4856126810011165, 198.2571712873495, 12.801077211326835, 11.884239065354064, 9.141737262363163, 21.004620046582843, 8.227110805630701, 29.21742787140449, 62.899072525129675, 211.9980208026074, 74.6995099700741, 39.21444791718582, 28.267630112286966, 24.616336563827492, 18.245737870064552, 649.3433554980033, 74.53714153400027, 34.60013640785389, 366.0367687626031, 384.26823056364765, 351.6754307385588, 58.082541440966544, 659.1993962497119, 1421.441650259061, 77.9924358768137, 271.50051354945447, 1290.7325461669, 691.8063857023882, 301.0190920682391, 55.359077443478085, 60.71695391908705, 74.27570557883253, 128.2515512973639, 439.44887012454296, 180.14054557728934, 101.24656059942401, 327.92589440106934, 229.4115270700489, 294.5016333033437, 110.09054678312981, 295.3167184261649, 183.55266348202684, 199.6354609653238, 223.83557055933744, 173.57729190661698, 169.05147039799638, 218.93882306924786, 233.90295967787227, 155.52934036955708, 135.01841742313906, 276.23096198281667, 12.417897355207636, 8.87216182160065, 10.649543887295483, 6.213919407996919, 6.2146831085251035, 5.32809146625395, 5.328173173641499, 6.218515361071152, 5.328610895892652, 16.8970474611077, 4.442060271949597, 5.3295624720347705, 4.442048048928999, 4.442469074026979, 27.58362303179226, 4.442350465898124, 7.999327963034548, 5.332600811982371, 4.4445108947112555, 6.2282973136282775, 3.5559287681124494, 3.5559154505204926, 3.556061635680325, 3.5560523966197617, 3.5560525639121687, 3.556055803784484, 3.556010957255571, 3.555950801049031, 3.5561905663334605, 3.555973644993196, 8.903921063335291, 8.895802314537635, 22.191240265301612, 19.61301783137437, 56.078687779571915, 4.447558370705687, 15.08859107720749, 25.871859325804333, 8.91695587015623, 7.12966656709901, 68.84046459903075, 104.12459950768488, 276.23096198281667, 17.799168591083735, 25.969639515736567, 1421.441650259061, 135.86432873116522, 89.24927579393736, 49.22746198546438, 294.5016333033437, 85.85224030047387, 327.92589440106934, 366.0367687626031, 295.3167184261649, 233.90295967787227, 271.50051354945447, 439.44887012454296, 649.3433554980033, 180.14054557728934, 1290.7325461669, 691.8063857023882, 659.1993962497119, 134.3358782416828, 77.55714020722877, 119.55944597555785, 162.10617319338394, 301.0190920682391, 96.42697575751734, 229.4115270700489, 384.26823056364765, 173.57729190661698, 218.93882306924786, 351.6754307385588, 199.6354609653238, 211.27666610585675, 223.83557055933744, 155.52934036955708, 183.55266348202684, 148.24303584919318, 12.473362591967453, 10.694995801264986, 8.911523650681964, 8.019879290542343, 7.129920105239747, 6.239852517781102, 16.93472044973261, 5.349070214948998, 8.0275593281112, 6.239413470390697, 5.3489820013619624, 5.349595541971826, 8.909530230901126, 5.35126444936355, 4.458773241184411, 4.458849259158255, 5.351323920267458, 4.458810172385231, 4.458773640915808, 4.45887473045769, 4.459074993871336, 4.45878530479045, 7.1370372731097635, 4.4585851365959845, 4.459221442732423, 5.353283080552495, 4.45930003130936, 4.458816224017848, 8.92862077934224, 4.460028989003332, 83.83558634055605, 10.688927646216555, 118.37725109221827, 17.79992969101448, 9.820668969645213, 7.145757154997967, 42.01060954934624, 22.39879557879308, 16.961993168095223, 13.354467831591876, 111.48840510565117, 19.71288765741289, 8.015771922781168, 162.10617319338394, 15.128173205735171, 21.46935877506165, 30.231971058140577, 1290.7325461669, 34.14000807064829, 30.536662886088784, 84.2391796450536, 211.27666610585675, 43.80444940755777, 34.95381808177865, 85.3576402334856, 53.926382596653795, 691.8063857023882, 51.89327561708485, 150.15696488337596, 218.93882306924786, 137.0282482892626, 1421.441650259061, 223.83557055933744, 120.62483899144516, 49.33483694145298, 439.44887012454296, 659.1993962497119, 133.25679779951213, 140.16900916087235, 233.90295967787227, 113.377740203589, 82.87425754229422, 169.05147039799638, 67.88601982349792, 295.3167184261649, 229.4115270700489, 199.6354609653238, 327.92589440106934, 301.0190920682391, 183.55266348202684, 351.6754307385588, 384.26823056364765, 276.23096198281667, 294.5016333033437, 649.3433554980033], \"Category\": [\"Default\", \"Default\", \"Default\", \"Default\", \"Default\", \"Default\", \"Default\", \"Default\", \"Default\", \"Default\", \"Default\", \"Default\", \"Default\", \"Default\", \"Default\", \"Default\", \"Default\", \"Default\", \"Default\", \"Default\", \"Default\", \"Default\", \"Default\", \"Default\", \"Default\", \"Default\", \"Default\", \"Default\", \"Default\", \"Default\", \"Topic1\", \"Topic1\", \"Topic1\", \"Topic1\", \"Topic1\", \"Topic1\", \"Topic1\", \"Topic1\", \"Topic1\", \"Topic1\", \"Topic1\", \"Topic1\", \"Topic1\", \"Topic1\", \"Topic1\", \"Topic1\", \"Topic1\", \"Topic1\", \"Topic1\", \"Topic1\", \"Topic1\", \"Topic1\", \"Topic1\", \"Topic1\", \"Topic1\", \"Topic1\", \"Topic1\", \"Topic1\", \"Topic1\", \"Topic1\", \"Topic1\", \"Topic1\", \"Topic1\", \"Topic1\", \"Topic1\", \"Topic1\", \"Topic1\", \"Topic1\", \"Topic1\", \"Topic1\", \"Topic1\", \"Topic1\", \"Topic1\", \"Topic1\", \"Topic1\", \"Topic1\", \"Topic1\", \"Topic1\", \"Topic1\", \"Topic1\", \"Topic1\", \"Topic1\", \"Topic1\", \"Topic1\", \"Topic1\", \"Topic1\", \"Topic1\", \"Topic1\", \"Topic1\", \"Topic1\", \"Topic1\", \"Topic1\", \"Topic1\", \"Topic1\", \"Topic1\", \"Topic1\", \"Topic1\", \"Topic1\", \"Topic1\", \"Topic1\", \"Topic1\", \"Topic1\", \"Topic1\", \"Topic1\", \"Topic1\", \"Topic1\", \"Topic1\", \"Topic1\", \"Topic1\", \"Topic1\", \"Topic2\", \"Topic2\", \"Topic2\", \"Topic2\", \"Topic2\", \"Topic2\", \"Topic2\", \"Topic2\", \"Topic2\", \"Topic2\", \"Topic2\", \"Topic2\", \"Topic2\", \"Topic2\", \"Topic2\", \"Topic2\", \"Topic2\", \"Topic2\", \"Topic2\", \"Topic2\", \"Topic2\", \"Topic2\", \"Topic2\", \"Topic2\", \"Topic2\", \"Topic2\", \"Topic2\", \"Topic2\", \"Topic2\", \"Topic2\", \"Topic2\", \"Topic2\", \"Topic2\", \"Topic2\", \"Topic2\", \"Topic2\", \"Topic2\", \"Topic2\", \"Topic2\", \"Topic2\", \"Topic2\", \"Topic2\", \"Topic2\", \"Topic2\", \"Topic2\", \"Topic2\", \"Topic2\", \"Topic2\", \"Topic2\", \"Topic2\", \"Topic2\", \"Topic2\", \"Topic2\", \"Topic2\", \"Topic2\", \"Topic2\", \"Topic2\", \"Topic2\", \"Topic2\", \"Topic2\", \"Topic2\", \"Topic2\", \"Topic2\", \"Topic2\", \"Topic2\", \"Topic2\", \"Topic2\", \"Topic2\", \"Topic2\", \"Topic2\", \"Topic2\", \"Topic2\", \"Topic2\", \"Topic2\", \"Topic2\", \"Topic2\", \"Topic2\", \"Topic2\", \"Topic2\", \"Topic3\", \"Topic3\", \"Topic3\", \"Topic3\", \"Topic3\", \"Topic3\", \"Topic3\", \"Topic3\", \"Topic3\", \"Topic3\", \"Topic3\", \"Topic3\", \"Topic3\", \"Topic3\", \"Topic3\", \"Topic3\", \"Topic3\", \"Topic3\", \"Topic3\", \"Topic3\", \"Topic3\", \"Topic3\", \"Topic3\", \"Topic3\", \"Topic3\", \"Topic3\", \"Topic3\", \"Topic3\", \"Topic3\", \"Topic3\", \"Topic3\", \"Topic3\", \"Topic3\", \"Topic3\", \"Topic3\", \"Topic3\", \"Topic3\", \"Topic3\", \"Topic3\", \"Topic3\", \"Topic3\", \"Topic3\", \"Topic3\", \"Topic3\", \"Topic3\", \"Topic3\", \"Topic3\", \"Topic3\", \"Topic3\", \"Topic3\", \"Topic3\", \"Topic3\", \"Topic3\", \"Topic3\", \"Topic3\", \"Topic3\", \"Topic3\", \"Topic3\", \"Topic3\", \"Topic3\", \"Topic3\", \"Topic3\", \"Topic3\", \"Topic3\", \"Topic3\", \"Topic3\", \"Topic3\", \"Topic3\", \"Topic3\", \"Topic3\", \"Topic3\", \"Topic3\", \"Topic3\", \"Topic3\", \"Topic3\", \"Topic3\", \"Topic3\", \"Topic3\", \"Topic3\", \"Topic3\", \"Topic3\", \"Topic3\", \"Topic3\", \"Topic3\", \"Topic3\"], \"logprob\": [30.0, 29.0, 28.0, 27.0, 26.0, 25.0, 24.0, 23.0, 22.0, 21.0, 20.0, 19.0, 18.0, 17.0, 16.0, 15.0, 14.0, 13.0, 12.0, 11.0, 10.0, 9.0, 8.0, 7.0, 6.0, 5.0, 4.0, 3.0, 2.0, 1.0, -6.9688, -6.8148, -7.3287, -7.2522, -7.253, -7.6229, -7.2557, -7.1151, -7.7517, -7.7538, -7.6396, -7.4417, -7.8958, -7.7634, -7.8981, -7.8987, -7.8999, -7.9032, -7.141, -7.6569, -7.5538, -7.66, -6.4249, -8.0676, -8.068, -8.0686, -8.0693, -8.0694, -8.0706, -8.0709, -4.511, -7.2254, -7.3046, -7.5668, -6.7614, -7.673, -6.4513, -5.7344, -4.6013, -5.5858, -6.1951, -6.5215, -6.6556, -6.9387, -3.734, -5.6843, -6.375, -4.325, -4.2897, -4.3887, -5.9717, -3.9113, -3.3329, -5.7478, -4.7466, -3.5063, -4.0438, -4.7278, -6.0576, -5.9892, -5.8434, -5.4441, -4.5633, -5.2464, -5.6615, -4.8566, -5.133, -5.0063, -5.642, -5.0448, -5.3535, -5.3092, -5.2445, -5.428, -5.4949, -5.4279, -5.4482, -5.5674, -5.6133, -5.5146, -6.9505, -7.3004, -7.123, -7.6878, -7.696, -7.8595, -7.8621, -7.7097, -7.8809, -6.7278, -8.0676, -7.8881, -8.0711, -8.0718, -6.2463, -8.0759, -7.4911, -7.9083, -8.0911, -7.7627, -8.3281, -8.3287, -8.3292, -8.3294, -8.3299, -8.3299, -8.33, -8.3304, -8.3312, -8.3325, -7.4171, -7.4222, -6.5213, -6.6562, -5.6361, -8.1139, -6.9642, -6.4639, -7.468, -7.68, -5.5887, -5.21, -4.3926, -6.8658, -6.5403, -3.0999, -5.1306, -5.5191, -6.0196, -4.5601, -5.611, -4.5315, -4.4602, -4.6334, -4.8685, -4.7525, -4.3854, -4.0871, -5.0915, -3.5964, -4.1274, -4.1934, -5.3618, -5.7845, -5.4902, -5.2945, -4.8922, -5.6588, -5.1352, -4.8269, -5.3332, -5.206, -4.9581, -5.2779, -5.3163, -5.3141, -5.4177, -5.4251, -5.4596, -6.903, -7.0745, -7.2585, -7.3689, -7.4925, -7.6394, -6.6513, -7.8094, -7.4041, -7.6562, -7.8111, -7.8123, -7.3084, -7.8238, -8.0158, -8.0159, -7.8336, -8.0169, -8.0172, -8.0179, -8.0193, -8.0203, -7.5499, -8.0204, -8.0205, -7.838, -8.0219, -8.0228, -7.3308, -8.0256, -5.1041, -7.1581, -4.8183, -6.6883, -7.2706, -7.5748, -5.9327, -6.5189, -6.7959, -7.0147, -5.0865, -6.6658, -7.483, -4.8869, -6.933, -6.6334, -6.3442, -3.1733, -6.2455, -6.3405, -5.4937, -4.7392, -6.0673, -6.2523, -5.5655, -5.9263, -3.9628, -5.9631, -5.2101, -4.939, -5.2889, -3.6115, -4.9635, -5.4149, -6.0485, -4.5374, -4.2704, -5.3908, -5.3905, -5.074, -5.5336, -5.7282, -5.299, -5.8581, -5.0311, -5.1804, -5.2658, -5.043, -5.0942, -5.3383, -5.0822, -5.0761, -5.2305, -5.2305, -5.0884], \"loglift\": [30.0, 29.0, 28.0, 27.0, 26.0, 25.0, 24.0, 23.0, 22.0, 21.0, 20.0, 19.0, 18.0, 17.0, 16.0, 15.0, 14.0, 13.0, 12.0, 11.0, 10.0, 9.0, 8.0, 7.0, 6.0, 5.0, 4.0, 3.0, 2.0, 1.0, 0.8688, 0.8605, 0.8575, 0.8541, 0.8534, 0.8512, 0.8507, 0.8484, 0.8406, 0.8385, 0.835, 0.8324, 0.8303, 0.8292, 0.8281, 0.8275, 0.8264, 0.8231, 0.823, 0.8183, 0.8161, 0.8153, 0.8135, 0.8132, 0.8128, 0.8122, 0.8115, 0.8114, 0.8102, 0.81, 0.7824, 0.8081, 0.8032, 0.8034, 0.7769, 0.8026, 0.757, 0.7071, 0.6251, 0.6838, 0.7188, 0.7197, 0.724, 0.7404, 0.3731, 0.5874, 0.6641, 0.3553, 0.3419, 0.3316, 0.5494, 0.1806, -0.0093, 0.4786, 0.2324, -0.0863, -0.0001, 0.1481, 0.5116, 0.4876, 0.4318, 0.2849, -0.0658, 0.1428, 0.3039, -0.0664, 0.0145, -0.1086, 0.2397, -0.1498, 0.017, -0.0227, -0.0724, -0.0016, -0.0421, -0.2337, -0.3201, -0.0312, 0.0643, -0.5528, 1.1133, 1.0997, 1.0945, 1.0684, 1.0601, 1.0505, 1.0479, 1.0458, 1.029, 1.028, 1.0242, 1.0216, 1.0208, 1.02, 1.0194, 1.0159, 1.0125, 1.0008, 1.0002, 0.9912, 0.9863, 0.9857, 0.9851, 0.9849, 0.9845, 0.9844, 0.9844, 0.984, 0.9831, 0.9819, 0.9794, 0.9752, 0.9619, 0.9506, 0.9202, 0.9767, 0.9048, 0.8659, 0.9271, 0.9387, 0.7625, 0.7274, 0.5691, 0.838, 0.7858, 0.2237, 0.5407, 0.5724, 0.6669, 0.3376, 0.5194, 0.2587, 0.22, 0.2616, 0.2596, 0.2265, 0.1121, 0.02, 0.2978, -0.1764, -0.0837, -0.1015, 0.3209, 0.4475, 0.3089, 0.2003, -0.0164, 0.3554, 0.0122, -0.1953, 0.0932, -0.0118, -0.2378, 0.0086, -0.0865, -0.142, 0.1184, -0.0546, 0.1245, 1.1564, 1.1387, 1.1371, 1.1321, 1.1261, 1.1127, 1.1024, 1.0967, 1.096, 1.0959, 1.095, 1.0937, 1.0875, 1.0819, 1.0723, 1.0722, 1.0721, 1.0712, 1.0709, 1.0702, 1.0688, 1.0678, 1.0678, 1.0678, 1.0675, 1.0673, 1.0661, 1.0653, 1.063, 1.0622, 1.0501, 1.0556, 0.9908, 1.0155, 1.0279, 1.0416, 0.9124, 0.9551, 0.9561, 0.9764, 0.7826, 0.9359, 1.0186, 0.6079, 0.9335, 0.8829, 0.8299, 0.2467, 0.807, 0.8236, 0.6557, 0.4906, 0.736, 0.7766, 0.5707, 0.6691, 0.0809, 0.6707, 0.3612, 0.2552, 0.3739, -0.2879, 0.2086, 0.3754, 0.6358, -0.0399, -0.1785, 0.2999, 0.2497, 0.0541, 0.3186, 0.4375, 0.1538, 0.5071, -0.1361, -0.0329, 0.0207, -0.2528, -0.2184, 0.0322, -0.3619, -0.4444, -0.2688, -0.3327, -0.9814]}, \"token.table\": {\"Topic\": [3, 1, 2, 3, 1, 1, 3, 1, 2, 3, 1, 3, 1, 2, 3, 2, 2, 1, 2, 3, 2, 1, 2, 3, 2, 1, 2, 3, 1, 1, 2, 3, 1, 2, 1, 3, 1, 2, 3, 2, 3, 1, 2, 3, 1, 2, 3, 1, 3, 1, 3, 1, 2, 3, 1, 1, 2, 3, 1, 2, 1, 2, 3, 1, 2, 3, 1, 3, 1, 2, 1, 2, 3, 1, 2, 3, 1, 2, 3, 1, 2, 3, 2, 2, 1, 2, 3, 1, 2, 1, 3, 1, 2, 3, 2, 1, 2, 3, 2, 3, 1, 2, 3, 1, 2, 3, 2, 3, 2, 1, 2, 3, 1, 2, 3, 1, 2, 3, 2, 1, 2, 3, 2, 3, 1, 2, 3, 1, 1, 2, 3, 2, 3, 2, 3, 3, 1, 2, 3, 2, 3, 2, 3, 3, 3, 1, 2, 3, 3, 3, 2, 1, 1, 1, 2, 3, 1, 2, 3, 1, 2, 3, 1, 1, 2, 3, 1, 2, 3, 1, 1, 2, 3, 2, 1, 3, 2, 1, 2, 1, 2, 3, 3, 1, 2, 3, 1, 2, 3, 1, 2, 3, 1, 2, 3, 1, 1, 1, 2, 3, 1, 2, 3, 1, 2, 3, 1, 2, 3, 1, 2, 3, 1, 2, 3, 1, 2, 3, 1, 2, 3, 1, 3, 3, 1, 1, 2, 3, 3, 1, 2, 3, 1, 2, 3, 3, 1, 2, 3, 2, 3, 2, 1, 1, 2, 1, 2, 3, 1, 2, 1, 2, 1, 2, 3, 1, 2, 3, 1, 2, 2, 1, 2, 3, 1, 2, 1, 2, 3, 2, 1, 1, 2, 3, 1, 2, 3, 1, 2, 3, 1, 1, 3, 1, 1, 2, 3, 2, 1, 2, 3, 3, 2, 1, 2, 3, 1, 2, 3, 1, 3, 1, 2, 3, 2, 3, 2, 1, 2, 3, 3, 1, 1, 2, 3, 2, 1, 2, 3, 1, 2, 3, 3, 1, 2, 3, 1, 2, 3, 1, 2, 3, 2, 1, 2, 3, 1, 2, 1, 2, 3, 1, 2, 3, 3, 3, 3, 1, 3, 1, 2, 3, 1, 2, 3, 1, 2, 3, 3, 1, 2, 1, 2, 3, 1, 2, 3, 1, 2, 3, 1, 2, 3, 1, 2, 3, 1, 2, 3, 2, 1, 2, 3, 1, 2, 3, 2, 3, 1, 2, 3, 2, 1, 2, 3, 1, 1, 2, 3, 1, 2, 3, 1, 2, 3, 1, 2, 3, 3, 1, 2, 3, 1, 3, 3, 1, 2, 3, 1, 2, 3, 3], \"Freq\": [0.8970924486366519, 0.11241256995625758, 0.7868879896938031, 0.11241256995625758, 0.9114308353447893, 0.11199938094735264, 0.8959950475788211, 0.3857792996320343, 0.3472013696688308, 0.270045509742424, 0.13994318282990748, 0.8396590969794449, 0.16592867166377617, 0.4459333050963985, 0.39408059520146843, 0.9383308516397869, 0.8999865440221553, 0.45520013130424253, 0.41634158350997796, 0.12767808560972657, 0.900485531885325, 0.3280315613623966, 0.14058495486959852, 0.5271935807609944, 0.8436299219054615, 0.8160257685529196, 0.07650241580183621, 0.10200322106911495, 0.9114085691811327, 0.7764441831443846, 0.13386968674903182, 0.0803218120494191, 0.8943250079212647, 0.09936944532458496, 0.2232262883248036, 0.7589693803043321, 0.25748260115514193, 0.11443671162450753, 0.6294019139347914, 0.40388252060854923, 0.5769750294407846, 0.32220261861792576, 0.02929114714708416, 0.6736963843829358, 0.12482460409050312, 0.7846117971403054, 0.10699251779185982, 0.8414505922514504, 0.08414505922514504, 0.924307430349161, 0.08402794821356009, 0.1183638741977522, 0.8877290564831415, 0.0591819370988761, 0.9561648404912716, 0.8625160890253822, 0.05043953736990539, 0.08574721352883917, 0.8505562804659959, 0.12150804006657084, 0.2319233870125977, 0.2839878208317523, 0.4827792954139789, 0.28439410514671354, 0.6094159396001004, 0.12188318792002008, 0.8508454748426559, 0.12154935354895086, 0.11231007023611385, 0.7861704916527968, 0.19326017264685147, 0.7343886560580356, 0.07730406905874058, 0.10182605717501611, 0.10182605717501611, 0.8146084574001289, 0.5488014889032135, 0.24454366863044744, 0.20473423420223508, 0.31058904513473323, 0.3060215591768695, 0.38366882046055284, 0.8436562168168859, 0.900483054059152, 0.09603878475673708, 0.6434598578701385, 0.26890859731886385, 0.9469048027217063, 0.0728388309785928, 0.14011416246454295, 0.8406849747872577, 0.8818840554257457, 0.03527536221702983, 0.07055072443405966, 0.9655741579587244, 0.388083233278336, 0.20286169012276653, 0.40572338024553306, 0.12475404859736054, 0.8732783401815238, 0.6886750993954848, 0.29268691724308105, 0.01721687748488712, 0.5353041687137359, 0.4606105637769355, 0.012448934156133391, 0.09355475433066096, 0.8419927889759486, 0.8436321137595378, 0.25542178665318727, 0.3211016746497211, 0.4305681546439442, 0.38570301903114657, 0.3105660672718323, 0.30054780703725703, 0.24929017695192013, 0.1780644121085144, 0.5698061187472461, 0.8436507970816921, 0.937026393294198, 0.9016968086090091, 0.8728310921406182, 0.11223936325303407, 0.8979149060242726, 0.7358559264345798, 0.10377455372795356, 0.16037885576138278, 0.9114627340687099, 0.7949242809585755, 0.11128939933420057, 0.07949242809585755, 0.29769808864568115, 0.6615513081015136, 0.7953028840530346, 0.19882572101325865, 0.9620501217312253, 0.1289371935747051, 0.4899613355838794, 0.3868115807241153, 0.14976261317345183, 0.748813065867259, 0.9654555019497923, 0.9347573049838073, 0.8971053160380836, 0.8971455915842167, 0.22807001629281154, 0.5466440073049927, 0.22444985730403674, 0.9347418895393343, 0.9616288499669337, 0.8436313054500694, 0.9114752153969986, 0.9101503247413429, 0.21197351427895725, 0.21197351427895725, 0.5781095843971561, 0.3531389582918799, 0.43463256405154455, 0.21052514821246687, 0.36634034436569723, 0.2680539105114858, 0.36634034436569723, 0.9371333328283702, 0.856954325290371, 0.09521714725448566, 0.04760857362724283, 0.08019435499530113, 0.3762965888241053, 0.5428540953528077, 0.9565207650932612, 0.33861950157421244, 0.40295720687331277, 0.25735082119640146, 0.8436614442061655, 0.859302683548133, 0.078118425777103, 0.938407937777816, 0.9243181484731005, 0.08402892258846367, 0.8221098048662765, 0.10961464064883686, 0.05480732032441843, 0.8970990951485307, 0.2208085100789112, 0.5299404241893869, 0.25024964475609934, 0.45844268232898755, 0.3056284548859917, 0.23918748643251525, 0.23295839374723468, 0.524156385931278, 0.2446063134345964, 0.3495779865559481, 0.27110129569644953, 0.3781149650503112, 0.9113810240087624, 0.850035846787508, 0.8556536910104895, 0.03422614764041958, 0.10267844292125874, 0.26798499753902405, 0.4243095794367881, 0.3052051360861107, 0.7803437443637149, 0.14450810080809534, 0.08670486048485722, 0.41026008568038597, 0.1327312041907131, 0.4585259781133726, 0.47330140436265056, 0.2791264692395119, 0.24726964394587195, 0.6502998543781043, 0.12644719390685363, 0.19870273328219856, 0.3662833758175483, 0.21311032774839173, 0.42622065549678345, 0.39115217983001116, 0.3869311131411981, 0.22160600116268617, 0.8748432259977956, 0.10935540324972445, 0.9346500984552997, 0.9370083984640093, 0.1428210650681542, 0.11901755422346184, 0.7379088361854634, 0.9340062770384947, 0.6423247129948645, 0.32939728871531515, 0.016469864435765758, 0.40315405179204034, 0.29419349725365107, 0.30508955270749, 0.897100312718675, 0.40523261020607915, 0.1951119975066307, 0.39772830260967024, 0.19830550319602924, 0.7271201783854405, 0.8436419448817771, 0.9369429329573608, 0.22429179073249794, 0.7850212675637428, 0.5333514509559271, 0.167906938263903, 0.3061832403635878, 0.16055752473663668, 0.8027876236831835, 0.1529596325151445, 0.8157847067474373, 0.378582924178804, 0.2780218349438092, 0.34309077503704116, 0.6410878111176478, 0.14103931844588252, 0.21796985578000025, 0.9114335000698577, 0.9663471726932592, 0.8436320740713599, 0.49958876222447973, 0.317920121415578, 0.17258520876845662, 0.8506367107170475, 0.12151953010243535, 0.18631203856196743, 0.09315601928098372, 0.6986701446073779, 0.8436646038816471, 0.9113974444185885, 0.10876018703352594, 0.8700814962682075, 0.03625339567784198, 0.10763451130750581, 0.25114719305084693, 0.6458070678450349, 0.18262984943761731, 0.20545858061731948, 0.6163757418519584, 0.9633703054788509, 0.8745619648350662, 0.07288016373625551, 0.9242431521638936, 0.5224108349742599, 0.28849553573205394, 0.18713223939376472, 0.9004001903774892, 0.2837751347311473, 0.16215721984636985, 0.5675502694622946, 0.8971077432359973, 0.9381633157010454, 0.24694778135241338, 0.6682116436594715, 0.08715804047732237, 0.928263157010382, 0.05460371511825777, 0.05460371511825777, 0.12457086383630495, 0.8719960468541347, 0.28644357511453217, 0.40187606060844816, 0.3120952385576246, 0.9390073514725485, 0.961561188009233, 0.804050438035541, 0.394619080774781, 0.28476175425872474, 0.3208990327179538, 0.8977140513326014, 0.9710208262052086, 0.36898580461599995, 0.39948049921236356, 0.22871020947272724, 0.8993698714212324, 0.11236479893796131, 0.7303711930967486, 0.16854719840694196, 0.025342707085358313, 0.17739894959750818, 0.7940714886745605, 0.9343482238223586, 0.7110549037599455, 0.13416130259621614, 0.16099356311545937, 0.49723662852449607, 0.38673959996349694, 0.11418026284636576, 0.33378838211033507, 0.09271899503064863, 0.5748577691900215, 0.8435993358739181, 0.364266690105658, 0.35077533121285587, 0.2900642161952462, 0.8124685794794106, 0.16249371589588213, 0.12501050145975634, 0.8750735102182943, 0.12501050145975634, 0.9562176818279251, 0.9004242305297963, 0.896855157188982, 0.9343586076361209, 0.8970873240005585, 0.9350167298632522, 0.20291294048418262, 0.7609235268156849, 0.3917563135884352, 0.3399062132605541, 0.2650116238980591, 0.5728864349658289, 0.315703546150524, 0.11088124547725721, 0.3686435692827883, 0.34588779340113474, 0.28444719852067, 0.8971076628098172, 0.14025901360025173, 0.8415540816015104, 0.36258479836882074, 0.2595425372939208, 0.3780798752221891, 0.1680685906587372, 0.5490240628185415, 0.28011431776456197, 0.11791067123891512, 0.11791067123891512, 0.7664193630529482, 0.6058508586261661, 0.21541363862263682, 0.18848693379480722, 0.059050280928362744, 0.059050280928362744, 0.8857542139254412, 0.813651512653786, 0.10612845817223296, 0.0707523054481553, 0.7501030249652265, 0.04506282605409881, 0.8111308689737785, 0.13518847816229643, 0.40102605642788197, 0.3138464789435598, 0.28769260569826316, 0.16853999156605767, 0.8426999578302884, 0.5627849920552747, 0.38520720329996955, 0.05190735363616611, 0.9384223284581443, 0.5569026606391664, 0.2550301903861603, 0.18997146834887452, 0.93706275527465, 0.4221646282622737, 0.3332878644175845, 0.2444111005728953, 0.39792799228858833, 0.1740934966262574, 0.4310886583126374, 0.39310988451392165, 0.4182020048020443, 0.18400888211289948, 0.3080520234080384, 0.6931170526680864, 0.8970175738904254, 0.8415241561529738, 0.2947276863085134, 0.032747520700945935, 0.6876979347198647, 0.8751071891921753, 0.10938839864902192, 0.8970470345301885, 0.16203630774936792, 0.33880318893049655, 0.4861089232481038, 0.07156865314482161, 0.08349676200229188, 0.846895728880389, 0.8970017652805258], \"Term\": [\"ability\", \"admin\", \"admin\", \"admin\", \"advantage\", \"afternoon\", \"afternoon\", \"again\", \"again\", \"again\", \"agent\", \"agent\", \"always\", \"always\", \"always\", \"are\", \"atrocious\", \"back\", \"back\", \"back\", \"backwards\", \"bad\", \"bad\", \"bad\", \"berwick\", \"birmingham\", \"birmingham\", \"birmingham\", \"bloody\", \"book\", \"book\", \"book\", \"bought\", \"bought\", \"brighton\", \"brighton\", \"bus\", \"bus\", \"bus\", \"cancellation\", \"cancellation\", \"car\", \"car\", \"car\", \"card\", \"card\", \"card\", \"carlisle\", \"carlisle\", \"chat\", \"chat\", \"check\", \"check\", \"check\", \"cheese\", \"class\", \"class\", \"class\", \"code\", \"code\", \"company\", \"company\", \"company\", \"compensation\", \"compensation\", \"compensation\", \"complimentary\", \"complimentary\", \"counter\", \"counter\", \"credit\", \"credit\", \"credit\", \"crew\", \"crew\", \"crew\", \"customer\", \"customer\", \"customer\", \"day\", \"day\", \"day\", \"de\", \"debit\", \"delay\", \"delay\", \"delay\", \"difference\", \"difference\", \"disaster\", \"disaster\", \"drink\", \"drink\", \"drink\", \"dublin\", \"due\", \"due\", \"due\", \"eastbourne\", \"eastbourne\", \"edinburgh\", \"edinburgh\", \"edinburgh\", \"email\", \"email\", \"email\", \"employee\", \"employee\", \"eurodespatch\", \"eurostar\", \"eurostar\", \"eurostar\", \"even\", \"even\", \"even\", \"ever\", \"ever\", \"ever\", \"expectation\", \"fan\", \"ferry\", \"fi\", \"filthy\", \"filthy\", \"first\", \"first\", \"first\", \"flexible\", \"food\", \"food\", \"food\", \"franchise\", \"franchise\", \"gare\", \"gare\", \"gatwick\", \"good\", \"good\", \"good\", \"government\", \"government\", \"greedy\", \"haywards\", \"heath\", \"horsham\", \"hour\", \"hour\", \"hour\", \"incredible\", \"incredibly\", \"initially\", \"interest\", \"international\", \"joke\", \"joke\", \"joke\", \"journey\", \"journey\", \"journey\", \"just\", \"just\", \"just\", \"king\", \"lady\", \"lady\", \"lady\", \"late\", \"late\", \"late\", \"live\", \"london\", \"london\", \"london\", \"louise\", \"lounge\", \"lounge\", \"lyon\", \"matter\", \"matter\", \"may\", \"may\", \"may\", \"medical\", \"minute\", \"minute\", \"minute\", \"money\", \"money\", \"money\", \"month\", \"month\", \"month\", \"more\", \"more\", \"more\", \"ms\", \"music\", \"name\", \"name\", \"name\", \"never\", \"never\", \"never\", \"newcastle\", \"newcastle\", \"newcastle\", \"no\", \"no\", \"no\", \"not\", \"not\", \"not\", \"nothing\", \"nothing\", \"nothing\", \"now\", \"now\", \"now\", \"number\", \"number\", \"number\", \"numerous\", \"numerous\", \"nut\", \"october\", \"often\", \"often\", \"often\", \"older\", \"online\", \"online\", \"online\", \"only\", \"only\", \"only\", \"onward\", \"other\", \"other\", \"other\", \"overcrowded\", \"overcrowded\", \"package\", \"paper\", \"particularly\", \"particularly\", \"passenger\", \"passenger\", \"passenger\", \"passport\", \"passport\", \"payment\", \"payment\", \"people\", \"people\", \"people\", \"phone\", \"phone\", \"phone\", \"photo\", \"pleasant\", \"preference\", \"price\", \"price\", \"price\", \"property\", \"property\", \"public\", \"public\", \"public\", \"punctuality\", \"purse\", \"queue\", \"queue\", \"queue\", \"rail\", \"rail\", \"rail\", \"railway\", \"railway\", \"railway\", \"reasonable\", \"reference\", \"reference\", \"refreshment\", \"refund\", \"refund\", \"refund\", \"repayment\", \"review\", \"review\", \"review\", \"rotten\", \"row\", \"rude\", \"rude\", \"rude\", \"sandwich\", \"sandwich\", \"sandwich\", \"school\", \"school\", \"seat\", \"seat\", \"seat\", \"security\", \"separately\", \"serious\", \"service\", \"service\", \"service\", \"simple\", \"smart\", \"so\", \"so\", \"so\", \"socket\", \"south\", \"south\", \"south\", \"southern\", \"southern\", \"southern\", \"speed\", \"st\", \"st\", \"st\", \"staff\", \"staff\", \"staff\", \"star\", \"star\", \"star\", \"statement\", \"station\", \"station\", \"station\", \"street\", \"street\", \"student\", \"student\", \"student\", \"success\", \"surprise\", \"swr\", \"temperature\", \"tgv\", \"thalys\", \"thanks\", \"thanks\", \"then\", \"then\", \"then\", \"ticket\", \"ticket\", \"ticket\", \"time\", \"time\", \"time\", \"toddler\", \"told\", \"told\", \"train\", \"train\", \"train\", \"trains\", \"trains\", \"trains\", \"transport\", \"transport\", \"transport\", \"trip\", \"trip\", \"trip\", \"uncomfortable\", \"uncomfortable\", \"uncomfortable\", \"unfortunately\", \"unfortunately\", \"unfortunately\", \"union\", \"usually\", \"usually\", \"usually\", \"very\", \"very\", \"very\", \"victoria\", \"victoria\", \"virgin\", \"virgin\", \"virgin\", \"visa\", \"wa\", \"wa\", \"wa\", \"waverley\", \"way\", \"way\", \"way\", \"website\", \"website\", \"website\", \"week\", \"week\", \"week\", \"west\", \"west\", \"whatsoever\", \"wi\", \"wifi\", \"wifi\", \"wifi\", \"wine\", \"wine\", \"wonder\", \"work\", \"work\", \"work\", \"worst\", \"worst\", \"worst\", \"wow\"]}, \"R\": 30, \"lambda.step\": 0.01, \"plot.opts\": {\"xlab\": \"PC1\", \"ylab\": \"PC2\"}, \"topic.order\": [2, 3, 1]};\n",
              "\n",
              "function LDAvis_load_lib(url, callback){\n",
              "  var s = document.createElement('script');\n",
              "  s.src = url;\n",
              "  s.async = true;\n",
              "  s.onreadystatechange = s.onload = callback;\n",
              "  s.onerror = function(){console.warn(\"failed to load library \" + url);};\n",
              "  document.getElementsByTagName(\"head\")[0].appendChild(s);\n",
              "}\n",
              "\n",
              "if(typeof(LDAvis) !== \"undefined\"){\n",
              "   // already loaded: just create the visualization\n",
              "   !function(LDAvis){\n",
              "       new LDAvis(\"#\" + \"ldavis_el5299139682245702736458092733\", ldavis_el5299139682245702736458092733_data);\n",
              "   }(LDAvis);\n",
              "}else if(typeof define === \"function\" && define.amd){\n",
              "   // require.js is available: use it to load d3/LDAvis\n",
              "   require.config({paths: {d3: \"https://d3js.org/d3.v5\"}});\n",
              "   require([\"d3\"], function(d3){\n",
              "      window.d3 = d3;\n",
              "      LDAvis_load_lib(\"https://cdn.jsdelivr.net/gh/bmabey/pyLDAvis@3.3.1/pyLDAvis/js/ldavis.v3.0.0.js\", function(){\n",
              "        new LDAvis(\"#\" + \"ldavis_el5299139682245702736458092733\", ldavis_el5299139682245702736458092733_data);\n",
              "      });\n",
              "    });\n",
              "}else{\n",
              "    // require.js not available: dynamically load d3 & LDAvis\n",
              "    LDAvis_load_lib(\"https://d3js.org/d3.v5.js\", function(){\n",
              "         LDAvis_load_lib(\"https://cdn.jsdelivr.net/gh/bmabey/pyLDAvis@3.3.1/pyLDAvis/js/ldavis.v3.0.0.js\", function(){\n",
              "                 new LDAvis(\"#\" + \"ldavis_el5299139682245702736458092733\", ldavis_el5299139682245702736458092733_data);\n",
              "            })\n",
              "         });\n",
              "}\n",
              "</script>"
            ],
            "text/plain": [
              "<IPython.core.display.HTML object>"
            ]
          },
          "metadata": {},
          "execution_count": 57
        }
      ]
    },
    {
      "cell_type": "markdown",
      "metadata": {
        "id": "De7FzEDJWey6"
      },
      "source": [
        "The most relevant terms in each of the topics identified by the model are generally not the most salient (i.e. the most uniquely topic-identifying). Unsurprisingly, \"train\", \"service\" and numbers are in the top most relevant terms for all three topics.\n",
        "\n",
        "Top 3 most salient terms are:\n",
        "\n",
        "\n",
        "1.   class\n",
        "2.   southern\n",
        "3.   virgin\n",
        "\n",
        "Interestingly, two out of three indicate train operating companies, with a -as far as I am aware- infamously bad reputation. The services offered by Virgin were taken over by Avanti in 2019, about one year after the last data point.\n",
        "\n",
        "The most salient term -class- probably refers to first class or second class. Looking over the data set, I noticed quite a few reviews mentioning class as relevant (some saying the service was bad despite class, others praising it instead).\n",
        "\n",
        "As for the 3 topics, I think they could be summarized thusly:\n",
        "\n",
        "1.   **Topic 1:** By looking at various relevance settings (lambda parameter of the visualization), terms like food, service, first class, sandwich, drink and staff pop out. I believe that this could be an indication for refreshment services being important to first class customers. Virgin was mentioned often.\n",
        "2.   **Topic 2:** Delay, queue, time, Minute, journey are salient for this topic. But also student, fare, visa, gare (station in french). I think this topic relates more to the general experience with a train's main purpose: getting from A to B in a reasonable time. Again, Virgin is a salient term here.\n",
        "3.   **Topic 3:** A lot of negative adjectives appear to be salient for this one: uncomfortable, late, worst, bad, overcrowded. It also mentiones various companies such as southern and thalys.\n",
        "\n",
        "\n",
        "\n"
      ]
    },
    {
      "cell_type": "markdown",
      "metadata": {
        "id": "pXiC7rYGdvGL"
      },
      "source": [
        "## Change Over Time"
      ]
    },
    {
      "cell_type": "markdown",
      "metadata": {
        "id": "FzrS0NROdyRD"
      },
      "source": [
        "Analyzing the change over time is a tricky task, that takes some time and effort and would, franky, require a larger data set. \n",
        "\n",
        "As a proxy, I will pick the top three terms by saliency of my model and see how their frequency changed over time. This should give an indication on whether those topics remained relevant across the years. "
      ]
    },
    {
      "cell_type": "markdown",
      "metadata": {
        "id": "m1fW_MYfeoGz"
      },
      "source": [
        "For this, I will group 2015, 2016 and 2017 data together and compare it to 2018 (assuming that the schedule change mentioned in the assignment happened sometime then). This also has the advantage of creating somewhat balanced data sets, since 2015 and 2016 have significantly fewer reviews than the two more recent years.\n",
        "\n",
        "Splitting the data:"
      ]
    },
    {
      "cell_type": "code",
      "metadata": {
        "id": "OaatipHafNTk"
      },
      "source": [
        "data_early = data[(data['date'].dt.year == 2015) |\n",
        "                  (data['date'].dt.year == 2016) |\n",
        "                  (data['date'].dt.year == 2017)]\n",
        "data_late = data[data['date'].dt.year == 2018]"
      ],
      "execution_count": 63,
      "outputs": []
    },
    {
      "cell_type": "code",
      "metadata": {
        "id": "NTZYScVDgD3S"
      },
      "source": [
        "# Build two corpora\n",
        "corpus_early, term_dict_early = prepare_corpus_and_id2word(data_early['text'])\n",
        "corpus_late, term_dict_late = prepare_corpus_and_id2word(data_late['text'])"
      ],
      "execution_count": 64,
      "outputs": []
    },
    {
      "cell_type": "code",
      "metadata": {
        "id": "ZabpCh5PghOF"
      },
      "source": [
        "# Train two models\n",
        "lda3_early = models.LdaModel(corpus=corpus_early, id2word=term_dict_early, num_topics=3, passes=10)\n",
        "lda3_late = models.LdaModel(corpus=corpus_late, id2word=term_dict_late, num_topics=3, passes=10)"
      ],
      "execution_count": 65,
      "outputs": []
    },
    {
      "cell_type": "code",
      "metadata": {
        "id": "rLbg6diChTv9"
      },
      "source": [
        "# Save the two models\n",
        "\n",
        "save_state(lda3_early, corpus_early, term_dict_early, add_to_name=\"_early\")\n",
        "save_state(lda3_late, corpus_late, term_dict_late, add_to_name=\"_late\")"
      ],
      "execution_count": 67,
      "outputs": []
    },
    {
      "cell_type": "code",
      "metadata": {
        "id": "mNn_VzKmhnBk"
      },
      "source": [
        "# Load the two models (only needed if you haven't trained them or if you want to use mine)\n",
        "\n",
        "model_early, corpus_early, term_dict_early = load_state(add_to_name=\"_early\")\n",
        "model_late, corpus_late, term_dict_late = load_state(add_to_name=\"_late\")"
      ],
      "execution_count": 69,
      "outputs": []
    },
    {
      "cell_type": "code",
      "metadata": {
        "colab": {
          "base_uri": "https://localhost:8080/",
          "height": 354
        },
        "id": "wK69mQkXiqPJ",
        "outputId": "3cd80693-3628-49a8-f8ff-bf48f9f15bc9"
      },
      "source": [
        "# Topic modelling difference\n",
        "diff_matrix = model_early.diff(model_late, distance='jaccard')[0]\n",
        "print(diff_matrix)\n",
        "ax = sns.heatmap(diff_matrix, vmin=0, vmax=1)\n",
        "ax.set_title(\"heatmap of topic similarity\")"
      ],
      "execution_count": 84,
      "outputs": [
        {
          "output_type": "stream",
          "text": [
            "[[0.87978142 0.51084082 0.9897541 ]\n",
            " [0.83157422 0.52786885 1.        ]\n",
            " [0.90293356 0.65487489 0.95823327]]\n"
          ],
          "name": "stdout"
        },
        {
          "output_type": "execute_result",
          "data": {
            "text/plain": [
              "Text(0.5, 1.0, 'heatmap of topic similarity')"
            ]
          },
          "metadata": {},
          "execution_count": 84
        },
        {
          "output_type": "display_data",
          "data": {
            "image/png": "[encoded data removed]",
            "text/plain": [
              "<Figure size 432x288 with 2 Axes>"
            ]
          },
          "metadata": {
            "needs_background": "light"
          }
        }
      ]
    },
    {
      "cell_type": "markdown",
      "metadata": {
        "id": "owmjf55klSXT"
      },
      "source": [
        "Note: title numbering do not necessarily coincide between models, nor do they coincide with the full model described above (before splitting off 2018 data). Since the columns have consistent distance scores, i.e. similarity metrics, we know that the two models modelled the topics very differently. If the pre-2018 and 2018 models had similar topics, scores/colors would be similar across diagonals, as opposed to columns.\n",
        "\n",
        "\n",
        "Now let's look at our top 3 saliant terms:"
      ]
    },
    {
      "cell_type": "code",
      "metadata": {
        "colab": {
          "base_uri": "https://localhost:8080/",
          "height": 881
        },
        "id": "7_3EHfBPyD1z",
        "outputId": "a755e565-f7a2-4fb7-e418-1adf941a3237"
      },
      "source": [
        "lda_viz = gensimvis.prepare(model_early, corpus_early, term_dict_early)\n",
        "pyLDAvis.display(lda_viz)"
      ],
      "execution_count": 135,
      "outputs": [
        {
          "output_type": "execute_result",
          "data": {
            "text/html": [
              "\n",
              "<link rel=\"stylesheet\" type=\"text/css\" href=\"https://cdn.jsdelivr.net/gh/bmabey/pyLDAvis@3.3.1/pyLDAvis/js/ldavis.v1.0.0.css\">\n",
              "\n",
              "\n",
              "<div id=\"ldavis_el52991396820880954403527835152\"></div>\n",
              "<script type=\"text/javascript\">\n",
              "\n",
              "var ldavis_el52991396820880954403527835152_data = {\"mdsDat\": {\"x\": [-0.024924131716839562, -0.03641377399808634, 0.061337905714925894], \"y\": [0.0479747925565908, -0.04233587968460184, -0.005638912871988961], \"topics\": [1, 2, 3], \"cluster\": [1, 1, 1], \"Freq\": [37.63466468521229, 36.31543492752235, 26.049900387265357]}, \"tinfo\": {\"Term\": [\"number\", \"eurostar\", \"first\", \"customer\", \"train\", \"company\", \"refund\", \"money\", \"not\", \"call\", \"then\", \"class\", \"web\", \"phone\", \"ticket\", \"service\", \"app\", \"site\", \"star\", \"seat\", \"here\", \"email\", \"card\", \"option\", \"date\", \"virgin\", \"ever\", \"probably\", \"rude\", \"railcard\", \"bag\", \"property\", \"doncaster\", \"newport\", \"waverley\", \"reading\", \"western\", \"sickness\", \"party\", \"specific\", \"parkway\", \"quid\", \"eastbourne\", \"darlington\", \"cheque\", \"necessary\", \"reviewer\", \"haywards\", \"before\", \"ham\", \"arrive\", \"patronising\", \"penalty\", \"delivery\", \"wine\", \"unhappy\", \"nowhere\", \"seems\", \"sign\", \"norm\", \"cheese\", \"newcastle\", \"street\", \"bristol\", \"bought\", \"lady\", \"number\", \"paddington\", \"announcement\", \"normally\", \"truly\", \"alternative\", \"adult\", \"international\", \"late\", \"return\", \"fare\", \"time\", \"class\", \"st\", \"station\", \"service\", \"franchise\", \"min\", \"minute\", \"more\", \"customer\", \"day\", \"ticket\", \"week\", \"first\", \"wa\", \"journey\", \"train\", \"rail\", \"new\", \"not\", \"london\", \"ha\", \"food\", \"price\", \"back\", \"so\", \"virgin\", \"very\", \"staff\", \"hour\", \"only\", \"then\", \"just\", \"southern\", \"money\", \"gare\", \"nord\", \"du\", \"constant\", \"leeds\", \"fi\", \"nectar\", \"overall\", \"smart\", \"wi\", \"midland\", \"degree\", \"ms\", \"multiple\", \"lyon\", \"bike\", \"visa\", \"tunnel\", \"cafe\", \"hotel\", \"birthday\", \"therefore\", \"pleasant\", \"assistance\", \"row\", \"went\", \"unsympathetic\", \"interrail\", \"november\", \"catering\", \"quiet\", \"eurostar\", \"use\", \"brussels\", \"coach\", \"comfortable\", \"husband\", \"train\", \"recently\", \"trains\", \"basis\", \"book\", \"way\", \"much\", \"extremely\", \"wa\", \"london\", \"now\", \"number\", \"virgin\", \"experience\", \"company\", \"not\", \"really\", \"so\", \"journey\", \"ticket\", \"money\", \"very\", \"staff\", \"always\", \"even\", \"hour\", \"service\", \"day\", \"just\", \"seat\", \"back\", \"never\", \"time\", \"website\", \"customer\", \"only\", \"appalling\", \"ferry\", \"boat\", \"feedback\", \"mistake\", \"scheme\", \"debit\", \"downright\", \"keynes\", \"milton\", \"afraid\", \"cart\", \"decision\", \"package\", \"scotrail\", \"railcards\", \"beware\", \"adviser\", \"senior\", \"unusable\", \"web\", \"joy\", \"advice\", \"unbelievably\", \"nurse\", \"patient\", \"micheal\", \"preference\", \"hanky\", \"common\", \"rating\", \"railcard\", \"season\", \"here\", \"british\", \"star\", \"transport\", \"call\", \"app\", \"reasonable\", \"option\", \"site\", \"phone\", \"probably\", \"date\", \"refund\", \"double\", \"matter\", \"centre\", \"card\", \"then\", \"email\", \"money\", \"not\", \"customer\", \"first\", \"ticket\", \"service\", \"company\", \"seat\", \"virgin\", \"ever\", \"train\", \"people\", \"time\", \"hour\", \"again\", \"so\", \"class\", \"number\", \"just\", \"staff\", \"even\", \"very\", \"rude\", \"wa\", \"journey\", \"london\", \"only\", \"minute\"], \"Freq\": [928.0, 83.0, 135.0, 228.0, 776.0, 130.0, 80.0, 188.0, 444.0, 36.0, 120.0, 126.0, 22.0, 46.0, 449.0, 433.0, 25.0, 28.0, 21.0, 149.0, 19.0, 49.0, 40.0, 23.0, 26.0, 270.0, 58.0, 20.0, 43.0, 13.0, 10.936539037977871, 7.40407225677208, 6.508808656499924, 6.490751841855999, 5.622710206442975, 5.615604077817836, 4.756983071111929, 4.744938441947177, 7.103242956182746, 6.311915209336573, 4.727957563154635, 5.467878985787649, 4.671483310972042, 3.864108532375885, 3.863116442989908, 3.8557148821880025, 3.8514328038087657, 3.8487336791690376, 3.84678298271045, 3.844277436487498, 3.8442678701122506, 3.8387838048195437, 3.8287621826556926, 5.358099765269215, 6.889985942794305, 3.823417955259988, 5.348920546855114, 3.798449715863611, 3.7946256980403503, 3.7930928270889024, 5.282232782275761, 15.333098792531226, 13.75392095760538, 8.822161336174721, 5.980262484971341, 9.957919108349257, 505.6330911575852, 5.9105686276524025, 11.043736462635348, 9.154325580251724, 6.551730168596369, 10.875556209413855, 8.371733059462573, 5.8621228152144145, 54.926336136520256, 31.41145423144388, 19.285994823128433, 132.44845060799963, 67.35779800352219, 30.9955397484414, 48.734059704214715, 183.48851545297097, 16.9824397998911, 25.85996512599173, 52.59104663294667, 49.40524559523742, 98.17929950072279, 62.10116259049733, 166.38181969317196, 42.18170940941111, 63.78173387394511, 97.87133874875032, 81.48573609691306, 235.2911802199198, 39.69118802287772, 41.66211342601864, 141.09490520454477, 78.41870667245503, 33.58139175250154, 23.65204346792133, 36.41294203659878, 48.50372839919308, 69.67129868064934, 79.90028384528067, 55.04655283516183, 58.06927531129637, 57.899020842830005, 40.96621702500329, 41.96453243308296, 44.052518756489654, 37.704242880292654, 42.05671627588117, 8.93769067885278, 8.931466786193255, 7.2614794229416315, 7.245682399276398, 11.23586602989527, 6.415030564248524, 6.405357520814849, 7.977477402859277, 5.539810184315004, 5.539179215612302, 5.522749594237389, 4.665102941579465, 4.66455993925356, 4.657846801498394, 4.648920929265165, 4.634718703431115, 4.6217947050722445, 4.6203117657201975, 5.365571054976222, 3.7874738033282296, 5.298377775159411, 4.538173975889824, 6.794335607970051, 3.7764932102937747, 3.773859106010809, 3.7725656744705027, 3.760749129355317, 3.758584993585422, 6.7639850359659075, 3.7538790639279647, 8.141232243289481, 66.41659100992965, 9.502344136498785, 10.76598656920578, 19.21085105207864, 14.233759065120116, 7.827837907890978, 391.8091405537837, 15.162672058041467, 37.27389509962169, 9.562774865348773, 35.01508361619104, 45.92132877218278, 34.49695514083092, 17.583730464443278, 105.65203205566984, 92.61638807457578, 48.14678253672842, 296.44590788132814, 111.73291093460747, 34.61620713963691, 62.40808267981845, 162.93011546556417, 32.03625973664734, 83.68534645920371, 77.66186944214216, 147.08615902329785, 74.82673701008878, 63.501107265698124, 68.57195403424744, 27.574863574628875, 54.696910993657504, 66.61133336409227, 123.68091691289484, 53.448670278922485, 56.3943840486418, 56.44534373092335, 47.827948947031324, 37.67130329788657, 76.82729658731893, 35.761926843231734, 47.40322555976411, 38.456284836289534, 8.040350314215098, 7.9802390853021645, 4.62091858205469, 4.61385835801418, 6.829878291190146, 3.751394305314414, 2.899726443712676, 3.6195349031304827, 2.8940705911704585, 2.893910308582316, 2.8930966261360718, 2.8905936470075093, 2.890271523798776, 2.8817095512319395, 2.8816043840416636, 2.8789163885598383, 2.877943592049788, 2.8645937857686206, 2.8574461171569365, 2.8470345653196394, 18.116192120811295, 3.4647634652665915, 9.539066909396436, 2.717909315328821, 2.031621729287066, 2.03032642006017, 2.0301723696018215, 2.706997050813378, 2.0286207640371425, 2.0282289188763376, 5.374289202708435, 9.968964675708209, 4.019380560558798, 14.242585360726132, 7.247159889749954, 15.754727521516447, 7.152954236765854, 25.540327358357246, 17.372582183939475, 8.826979085023261, 15.756879164327867, 18.034887755517243, 27.82139904134043, 13.061286716283666, 16.06192633742542, 40.166702852129596, 4.635766241781062, 5.71387055453575, 7.698985404742329, 21.766828857187434, 52.3582537887681, 25.021812601454243, 71.7775328344585, 140.97491407711414, 82.66740686558381, 53.68170263971703, 136.441338794124, 126.5060400835636, 48.85291448444446, 53.269902199311154, 79.14808577806707, 25.772893303916764, 149.7022390696808, 37.399169813807006, 70.4868961468756, 52.31388725676378, 36.496732491099664, 57.81048862831967, 41.27519619828474, 126.45727990005443, 42.88699634661278, 46.713215549775924, 39.09504450912259, 34.67568546886923, 21.09666924403663, 34.58303551128499, 32.25465573103466, 31.685244728135558, 27.168701855872744, 25.986474624090953], \"Total\": [928.0, 83.0, 135.0, 228.0, 776.0, 130.0, 80.0, 188.0, 444.0, 36.0, 120.0, 126.0, 22.0, 46.0, 449.0, 433.0, 25.0, 28.0, 21.0, 149.0, 19.0, 49.0, 40.0, 23.0, 26.0, 270.0, 58.0, 20.0, 43.0, 13.0, 11.596928326089294, 8.024728634765214, 7.131439315869961, 7.131154378193907, 6.238460194181487, 6.238318030596386, 5.345779197374162, 5.34549470665889, 8.018401111165236, 7.126485365468315, 5.3451899325723735, 6.235175260397414, 5.344037970413514, 4.452556932633307, 4.452530520738393, 4.452383171680934, 4.452250053117658, 4.452197038458454, 4.452192384050026, 4.4521505286865946, 4.452152010858537, 4.452028129271529, 4.451842576880021, 6.231721433069797, 8.014412029312554, 4.451739189143506, 6.231971253486114, 4.451202796974445, 4.451028386388855, 4.451114011650842, 6.231543107280977, 18.68719952251622, 16.89960211845449, 10.678958802233135, 7.12086204291467, 12.451541780618971, 928.5362789389678, 7.118376211193205, 14.223654419234075, 11.5521735143476, 8.003386302055135, 14.20897087121299, 10.661612004459492, 7.117539585434016, 94.69846259897088, 49.61242269755599, 28.363799737934695, 279.76264334219417, 126.30944557141248, 50.47376346723239, 87.55788421272223, 433.67547244942944, 24.812402545522453, 41.61851129651811, 99.8306127448829, 92.82630958189328, 228.2499319260707, 128.9653180084548, 449.90931751059384, 79.54969570458908, 135.80325536274697, 238.10640631570516, 191.4022612700899, 776.8025598433843, 77.7238021212771, 84.74952828490669, 444.99993474722305, 202.72033947516638, 64.5056282163914, 40.71336581949835, 75.030792137974, 117.2762125118244, 211.16713376817273, 270.7812805579552, 153.2233455697292, 173.35444489531974, 176.82424146368606, 106.59120371716557, 120.49067864183633, 143.33389915174425, 90.8066249279961, 188.66098612042845, 9.631814126387235, 9.63184019856448, 7.8814982659760275, 7.882025847888802, 12.264167989776238, 7.006023762033241, 7.006167816007316, 8.760105923280028, 6.130839331790504, 6.130859420530423, 6.131023377171608, 5.255683181523557, 5.255668762747929, 5.2556934729044755, 5.255873465716117, 5.256141785528924, 5.255816983242504, 5.256501639488469, 6.1342222869515055, 4.380536052754487, 6.134789062318408, 5.255402004083366, 7.879070902894028, 4.380585486535413, 4.3807114096315605, 4.38049973747392, 4.380357804834262, 4.381053342972753, 7.891993374073925, 4.380299007591232, 9.649949937478508, 83.39863518980634, 11.377333528172091, 13.128497386843588, 24.555524487904155, 18.36753903297452, 9.65534378103022, 776.8025598433843, 20.133018548678756, 60.727126058309494, 12.266723209085217, 57.89385578705844, 82.58904666540133, 58.91543448193762, 26.343523609180632, 238.10640631570516, 202.72033947516638, 92.25334640431055, 928.5362789389678, 270.7812805579552, 61.56593236621494, 130.55157934568658, 444.99993474722305, 57.8898957792422, 211.16713376817273, 191.4022612700899, 449.90931751059384, 188.66098612042845, 153.2233455697292, 173.35444489531974, 49.250585303422106, 131.85409561383798, 176.82424146368606, 433.67547244942944, 128.9653180084548, 143.33389915174425, 149.31928314915018, 117.2762125118244, 82.77844924952511, 279.76264334219417, 76.45867279861504, 228.2499319260707, 106.59120371716557, 8.719754018716063, 8.71912041278888, 5.234723614237994, 5.234893453064549, 7.8519289644657855, 4.363957401790545, 3.4925537856211606, 4.364308256231264, 3.4925776730200724, 3.4925786632534006, 3.4927108477130977, 3.492709244293173, 3.49270182509742, 3.4928633686520674, 3.4928223668072187, 3.492739694265052, 3.493077963869056, 3.4928568440751717, 3.492882354118337, 3.493196129412339, 22.746674330184312, 4.365124627462514, 12.240177686890714, 3.4935236215941456, 2.6215877970166765, 2.6216234170092396, 2.6216268550029582, 3.497150666363231, 2.62166235952337, 2.6216138950467474, 6.982251501766215, 13.129150254365335, 5.245103053294591, 19.208633785838774, 9.633493293553897, 21.891571161615566, 9.633073994572191, 36.794167341636985, 25.346290331180175, 12.270826095914085, 23.632135873910993, 28.066255732089278, 46.435284586691274, 20.111042837478614, 26.240742887448743, 80.05197359588597, 6.127510752295391, 7.886327988810074, 11.347111709060176, 40.29547157957416, 120.49067864183633, 49.96014397159601, 188.66098612042845, 444.99993474722305, 228.2499319260707, 135.80325536274697, 449.90931751059384, 433.67547244942944, 130.55157934568658, 149.31928314915018, 270.7812805579552, 58.043423743924706, 776.8025598433843, 102.04291851565783, 279.76264334219417, 176.82424146368606, 100.28062344473142, 211.16713376817273, 126.30944557141248, 928.5362789389678, 143.33389915174425, 173.35444489531974, 131.85409561383798, 153.2233455697292, 43.91971614350432, 238.10640631570516, 191.4022612700899, 202.72033947516638, 106.59120371716557, 99.8306127448829], \"Category\": [\"Default\", \"Default\", \"Default\", \"Default\", \"Default\", \"Default\", \"Default\", \"Default\", \"Default\", \"Default\", \"Default\", \"Default\", \"Default\", \"Default\", \"Default\", \"Default\", \"Default\", \"Default\", \"Default\", \"Default\", \"Default\", \"Default\", \"Default\", \"Default\", \"Default\", \"Default\", \"Default\", \"Default\", \"Default\", \"Default\", \"Topic1\", \"Topic1\", \"Topic1\", \"Topic1\", \"Topic1\", \"Topic1\", \"Topic1\", \"Topic1\", \"Topic1\", \"Topic1\", \"Topic1\", \"Topic1\", \"Topic1\", \"Topic1\", \"Topic1\", \"Topic1\", \"Topic1\", \"Topic1\", \"Topic1\", \"Topic1\", \"Topic1\", \"Topic1\", \"Topic1\", \"Topic1\", \"Topic1\", \"Topic1\", \"Topic1\", \"Topic1\", \"Topic1\", \"Topic1\", \"Topic1\", \"Topic1\", \"Topic1\", \"Topic1\", \"Topic1\", \"Topic1\", \"Topic1\", \"Topic1\", \"Topic1\", \"Topic1\", \"Topic1\", \"Topic1\", \"Topic1\", \"Topic1\", \"Topic1\", \"Topic1\", \"Topic1\", \"Topic1\", \"Topic1\", \"Topic1\", \"Topic1\", \"Topic1\", \"Topic1\", \"Topic1\", \"Topic1\", \"Topic1\", \"Topic1\", \"Topic1\", \"Topic1\", \"Topic1\", \"Topic1\", \"Topic1\", \"Topic1\", \"Topic1\", \"Topic1\", \"Topic1\", \"Topic1\", \"Topic1\", \"Topic1\", \"Topic1\", \"Topic1\", \"Topic1\", \"Topic1\", \"Topic1\", \"Topic1\", \"Topic1\", \"Topic1\", \"Topic1\", \"Topic1\", \"Topic1\", \"Topic1\", \"Topic1\", \"Topic2\", \"Topic2\", \"Topic2\", \"Topic2\", \"Topic2\", \"Topic2\", \"Topic2\", \"Topic2\", \"Topic2\", \"Topic2\", \"Topic2\", \"Topic2\", \"Topic2\", \"Topic2\", \"Topic2\", \"Topic2\", \"Topic2\", \"Topic2\", \"Topic2\", \"Topic2\", \"Topic2\", \"Topic2\", \"Topic2\", \"Topic2\", \"Topic2\", \"Topic2\", \"Topic2\", \"Topic2\", \"Topic2\", \"Topic2\", \"Topic2\", \"Topic2\", \"Topic2\", \"Topic2\", \"Topic2\", \"Topic2\", \"Topic2\", \"Topic2\", \"Topic2\", \"Topic2\", \"Topic2\", \"Topic2\", \"Topic2\", \"Topic2\", \"Topic2\", \"Topic2\", \"Topic2\", \"Topic2\", \"Topic2\", \"Topic2\", \"Topic2\", \"Topic2\", \"Topic2\", \"Topic2\", \"Topic2\", \"Topic2\", \"Topic2\", \"Topic2\", \"Topic2\", \"Topic2\", \"Topic2\", \"Topic2\", \"Topic2\", \"Topic2\", \"Topic2\", \"Topic2\", \"Topic2\", \"Topic2\", \"Topic2\", \"Topic2\", \"Topic2\", \"Topic2\", \"Topic2\", \"Topic3\", \"Topic3\", \"Topic3\", \"Topic3\", \"Topic3\", \"Topic3\", \"Topic3\", \"Topic3\", \"Topic3\", \"Topic3\", \"Topic3\", \"Topic3\", \"Topic3\", \"Topic3\", \"Topic3\", \"Topic3\", \"Topic3\", \"Topic3\", \"Topic3\", \"Topic3\", \"Topic3\", \"Topic3\", \"Topic3\", \"Topic3\", \"Topic3\", \"Topic3\", \"Topic3\", \"Topic3\", \"Topic3\", \"Topic3\", \"Topic3\", \"Topic3\", \"Topic3\", \"Topic3\", \"Topic3\", \"Topic3\", \"Topic3\", \"Topic3\", \"Topic3\", \"Topic3\", \"Topic3\", \"Topic3\", \"Topic3\", \"Topic3\", \"Topic3\", \"Topic3\", \"Topic3\", \"Topic3\", \"Topic3\", \"Topic3\", \"Topic3\", \"Topic3\", \"Topic3\", \"Topic3\", \"Topic3\", \"Topic3\", \"Topic3\", \"Topic3\", \"Topic3\", \"Topic3\", \"Topic3\", \"Topic3\", \"Topic3\", \"Topic3\", \"Topic3\", \"Topic3\", \"Topic3\", \"Topic3\", \"Topic3\", \"Topic3\", \"Topic3\", \"Topic3\", \"Topic3\", \"Topic3\", \"Topic3\", \"Topic3\", \"Topic3\", \"Topic3\", \"Topic3\", \"Topic3\"], \"logprob\": [30.0, 29.0, 28.0, 27.0, 26.0, 25.0, 24.0, 23.0, 22.0, 21.0, 20.0, 19.0, 18.0, 17.0, 16.0, 15.0, 14.0, 13.0, 12.0, 11.0, 10.0, 9.0, 8.0, 7.0, 6.0, 5.0, 4.0, 3.0, 2.0, 1.0, -6.7844, -7.1745, -7.3034, -7.3062, -7.4497, -7.451, -7.6169, -7.6195, -7.216, -7.3341, -7.623, -7.4776, -7.6351, -7.8248, -7.8251, -7.827, -7.8281, -7.8288, -7.8293, -7.8299, -7.83, -7.8314, -7.834, -7.4979, -7.2465, -7.8354, -7.4996, -7.8419, -7.8429, -7.8434, -7.5122, -6.4465, -6.5552, -6.9993, -7.3881, -6.8782, -2.9507, -7.3998, -6.7747, -6.9623, -7.2968, -6.79, -7.0517, -7.408, -5.1705, -5.7294, -6.2172, -4.2903, -4.9665, -5.7427, -5.2902, -3.9644, -6.3444, -5.9238, -5.214, -5.2765, -4.5897, -5.0478, -4.0622, -5.4345, -5.0211, -4.5929, -4.7761, -3.7157, -5.4954, -5.4469, -4.2271, -4.8145, -5.6626, -6.0131, -5.5816, -5.2949, -4.9327, -4.7958, -5.1684, -5.1149, -5.1178, -5.4638, -5.4397, -5.3912, -5.5468, -5.4375, -6.9506, -6.9513, -7.1583, -7.1604, -6.7217, -7.2822, -7.2837, -7.0642, -7.4289, -7.429, -7.432, -7.6007, -7.6009, -7.6023, -7.6042, -7.6073, -7.6101, -7.6104, -7.4608, -7.8092, -7.4735, -7.6283, -7.2248, -7.8121, -7.8128, -7.8131, -7.8162, -7.8168, -7.2292, -7.8181, -7.0439, -4.9449, -6.8893, -6.7645, -6.1854, -6.4852, -7.0832, -3.1701, -6.422, -5.5226, -6.883, -5.5851, -5.3139, -5.6, -6.2739, -4.4807, -4.6124, -5.2666, -3.449, -4.4247, -5.5965, -5.0072, -4.0475, -5.674, -4.7138, -4.7885, -4.1498, -4.8257, -4.9898, -4.913, -5.8239, -5.139, -4.942, -4.3231, -5.1621, -5.1085, -5.1076, -5.2732, -5.512, -4.7993, -5.564, -5.2822, -5.4913, -6.7242, -6.7317, -7.278, -7.2796, -6.8873, -7.4865, -7.744, -7.5223, -7.746, -7.746, -7.7463, -7.7472, -7.7473, -7.7502, -7.7503, -7.7512, -7.7515, -7.7562, -7.7587, -7.7623, -5.9118, -7.566, -6.5532, -7.8088, -8.0998, -8.1004, -8.1005, -7.8128, -8.1013, -8.1015, -7.127, -6.5091, -7.4175, -6.1524, -6.828, -6.0515, -6.8411, -5.5684, -5.9537, -6.6308, -6.0513, -5.9163, -5.4828, -6.239, -6.0322, -5.1156, -7.2748, -7.0657, -6.7675, -5.7282, -4.8505, -5.5889, -4.5351, -3.86, -4.3938, -4.8256, -3.8927, -3.9683, -4.9198, -4.8333, -4.4373, -5.5593, -3.8, -5.187, -4.5532, -4.8514, -5.2114, -4.7515, -5.0884, -3.9687, -5.0501, -4.9646, -5.1426, -5.2626, -5.7595, -5.2653, -5.335, -5.3528, -5.5066, -5.551], \"loglift\": [30.0, 29.0, 28.0, 27.0, 26.0, 25.0, 24.0, 23.0, 22.0, 21.0, 20.0, 19.0, 18.0, 17.0, 16.0, 15.0, 14.0, 13.0, 12.0, 11.0, 10.0, 9.0, 8.0, 7.0, 6.0, 5.0, 4.0, 3.0, 2.0, 1.0, 0.9186, 0.8967, 0.8859, 0.8831, 0.8733, 0.8721, 0.8606, 0.8581, 0.8561, 0.8559, 0.8545, 0.8459, 0.8427, 0.8355, 0.8352, 0.8334, 0.8323, 0.8316, 0.8311, 0.8304, 0.8304, 0.829, 0.8265, 0.8262, 0.8261, 0.8251, 0.8244, 0.8187, 0.8177, 0.8173, 0.812, 0.7794, 0.7713, 0.7862, 0.8027, 0.7538, 0.3694, 0.7913, 0.7242, 0.7446, 0.7771, 0.7099, 0.7355, 0.7832, 0.4325, 0.5202, 0.5915, 0.2295, 0.3485, 0.4896, 0.3913, 0.1171, 0.5981, 0.5014, 0.3363, 0.3466, 0.1336, 0.2465, -0.0175, 0.3428, 0.2215, 0.0882, 0.1233, -0.2171, 0.3052, 0.2671, -0.1714, 0.0275, 0.3245, 0.4341, 0.2543, 0.0944, -0.1316, -0.2433, -0.0465, -0.1165, -0.1392, 0.021, -0.0775, -0.2025, 0.0983, -0.5237, 0.9381, 0.9374, 0.931, 0.9287, 0.9254, 0.9248, 0.9233, 0.9193, 0.9116, 0.9114, 0.9084, 0.8937, 0.8936, 0.8922, 0.8902, 0.8871, 0.8844, 0.8839, 0.879, 0.8675, 0.8664, 0.8662, 0.8648, 0.8645, 0.8638, 0.8635, 0.8604, 0.8597, 0.8587, 0.8586, 0.8429, 0.7852, 0.8328, 0.8145, 0.7675, 0.758, 0.8031, 0.3285, 0.7294, 0.5248, 0.7639, 0.5101, 0.426, 0.4777, 0.6087, 0.2004, 0.2296, 0.3626, -0.1288, 0.1277, 0.4371, 0.2749, 0.0082, 0.4213, 0.0873, 0.1109, -0.1051, 0.0882, 0.1321, 0.0855, 0.4329, 0.133, 0.0366, -0.2417, 0.1321, 0.0801, 0.0401, 0.116, 0.2257, -0.2795, 0.2531, -0.5588, -0.0066, 1.264, 1.2566, 1.2204, 1.2189, 1.2057, 1.1939, 1.1591, 1.158, 1.1572, 1.1571, 1.1568, 1.1559, 1.1558, 1.1528, 1.1528, 1.1519, 1.1514, 1.1469, 1.1444, 1.1406, 1.1175, 1.1142, 1.0958, 1.0941, 1.0902, 1.0896, 1.0895, 1.089, 1.0887, 1.0885, 1.0834, 1.0698, 1.079, 1.046, 1.0605, 1.0162, 1.0475, 0.9801, 0.9674, 1.0157, 0.9398, 0.9029, 0.8329, 0.9135, 0.8543, 0.6555, 1.0662, 1.0229, 0.9573, 0.7293, 0.5117, 0.6537, 0.3788, 0.1957, 0.3295, 0.417, 0.152, 0.1131, 0.3622, 0.3144, 0.1152, 0.5333, -0.3014, 0.3414, -0.0334, 0.1273, 0.3344, 0.0497, 0.2267, -0.6485, 0.1385, 0.0338, 0.1295, -0.1407, 0.6119, -0.5842, -0.4356, -0.5108, -0.0218, -0.0007]}, \"token.table\": {\"Topic\": [1, 3, 1, 2, 3, 3, 3, 1, 2, 3, 1, 2, 3, 1, 2, 3, 1, 2, 1, 2, 3, 3, 1, 2, 1, 2, 3, 1, 1, 2, 3, 1, 3, 2, 1, 2, 3, 1, 2, 3, 1, 2, 1, 2, 1, 3, 2, 3, 2, 1, 2, 3, 1, 2, 3, 3, 2, 2, 3, 1, 2, 1, 1, 2, 3, 1, 2, 3, 2, 3, 3, 1, 2, 3, 2, 1, 2, 3, 1, 1, 2, 3, 1, 2, 3, 3, 3, 2, 1, 3, 1, 1, 3, 3, 2, 1, 1, 2, 3, 1, 2, 3, 1, 2, 3, 1, 2, 3, 1, 2, 3, 1, 2, 3, 1, 2, 3, 3, 3, 2, 1, 2, 3, 1, 2, 3, 1, 2, 3, 2, 1, 2, 3, 1, 3, 1, 1, 2, 3, 2, 1, 2, 3, 1, 2, 1, 2, 2, 1, 2, 3, 2, 3, 1, 2, 3, 3, 1, 2, 1, 2, 3, 1, 2, 1, 2, 3, 2, 1, 3, 3, 2, 3, 1, 2, 3, 1, 2, 3, 2, 3, 1, 2, 3, 1, 2, 3, 2, 1, 2, 3, 2, 1, 2, 1, 2, 3, 1, 2, 3, 1, 2, 1, 2, 1, 1, 3, 1, 2, 3, 1, 2, 1, 2, 3, 1, 1, 2, 3, 3, 1, 2, 3, 1, 2, 3, 2, 3, 1, 2, 3, 1, 1, 2, 3, 1, 1, 1, 2, 3, 1, 2, 3, 2, 3, 3, 1, 2, 3, 1, 2, 3, 1, 1, 1, 2, 1, 2, 3, 1, 2, 3, 3, 2, 3, 1, 1, 2, 3, 1, 3, 1, 2, 3, 1, 2, 3, 1, 2, 3, 1, 2, 1, 2, 3, 3, 3, 1, 2, 3, 1, 2, 3, 1, 3, 1, 2, 3, 1, 1, 1, 2, 3, 2, 1, 2, 3, 1, 2, 3, 1, 3, 1, 2, 3, 1, 2, 3, 1, 2, 3, 1, 2, 3, 1, 2, 3, 1, 2, 3, 2, 1, 2, 3, 1, 2, 3, 1, 2, 3, 1, 2, 3, 1, 3, 1, 3, 2, 3, 1, 2, 3, 2, 3, 1, 2, 3, 1, 2, 3, 2, 1, 2, 3, 1, 1, 2, 3, 1, 2, 3, 1, 2, 3, 1, 2, 3, 2, 1, 2, 1, 2], \"Freq\": [0.7503555744341283, 0.18758889360853206, 0.16339632080194466, 0.08169816040097233, 0.8169816040097233, 0.858895778992148, 0.8589316810935818, 0.3390485502788954, 0.29916048554020186, 0.35899258264824224, 0.774158811338386, 0.07037807375803509, 0.21113422127410528, 0.2842605811433317, 0.5685211622866634, 0.16243461779618956, 0.7733596216402124, 0.21091626044733067, 0.11836051590987651, 0.19726752651646084, 0.6707095901559669, 0.9174570730812837, 0.8984419198275879, 0.9131199499004832, 0.41781704022083394, 0.40929016184898015, 0.17906444580892883, 0.9485270315289954, 0.08152136336290369, 0.8152136336290369, 0.16304272672580739, 0.8984337726127909, 0.8588414089323945, 0.951268098163918, 0.16300478954399264, 0.8150239477199632, 0.9551602660359058, 0.17272990136952313, 0.6045546547933309, 0.22454887178038005, 0.8425946133825273, 0.14043243556375457, 0.8427787920783028, 0.1872841760174006, 0.20760900942737656, 0.726631532995818, 0.8378719723875933, 0.15234035861592604, 0.8150992523756138, 0.21742576549482195, 0.08153466206055823, 0.7066337378581714, 0.17371679063679976, 0.2729835281435425, 0.545967056287085, 0.8589320754087323, 0.9131796694855401, 0.26438445984493397, 0.7050252262531572, 0.8023694795849147, 0.16047389591698294, 0.8983655432274618, 0.5304433068872884, 0.14250715707419687, 0.3245996355578929, 0.12217210027331221, 0.7737566350643107, 0.08144806684887482, 0.7622142506334872, 0.21777550018099634, 0.7628888463624568, 0.14553634735961363, 0.47490808085768654, 0.37533058003268777, 0.8880965547550123, 0.42935390680309965, 0.20591462877291514, 0.3636364720883395, 0.8983602142588083, 0.11432603157873764, 0.2667607403503878, 0.6097388350866008, 0.48074940578935615, 0.4109632017231593, 0.10080229476228436, 0.8589703077304052, 0.8589338999518868, 0.951351104567639, 0.8023465191281759, 0.16046930382563518, 0.9815690339567972, 0.16319840803631325, 0.8159920401815662, 0.9165255442919018, 0.8881560033094971, 0.9356220946935201, 0.20015955129523505, 0.3002393269428526, 0.5003988782380876, 0.16786845453930394, 0.7913798571138615, 0.035971811686993704, 0.2881973428515324, 0.4171277330745864, 0.2957814834528885, 0.34456961202419356, 0.20674176721451612, 0.4479404956314516, 0.27612673676211485, 0.5684962227455306, 0.16242749221300876, 0.18979997035239113, 0.683279893268608, 0.1518399762819129, 0.6698679364383173, 0.10576862154289221, 0.21153724308578442, 0.9551292771914889, 0.9175237433658903, 0.8564058878182738, 0.47126999886010273, 0.13254468717940388, 0.3976340615382117, 0.5894870030250846, 0.2947435015125423, 0.12280979229689262, 0.6851412300284381, 0.04030242529579047, 0.2821169770705333, 0.9344034137186761, 0.5270857898777943, 0.279045418170597, 0.18603027878039802, 0.8984422189292012, 0.7628747434752082, 0.8984328333736494, 0.052059923217299936, 0.20823969286919974, 0.7288389250421992, 0.913130254340629, 0.32800932451284576, 0.37890732314414943, 0.29407732542531, 0.10356959034070773, 0.8285567227256618, 0.8429879353644831, 0.14049798922741386, 0.9130224370392646, 0.4231924924110483, 0.4075186963958243, 0.16718715749572277, 0.22908853362597095, 0.6872656008779129, 0.3069755323785494, 0.3906961321181538, 0.29999881573358234, 0.8589644328241568, 0.8031133956089811, 0.1606226791217962, 0.5807908438061349, 0.2956753386649414, 0.11615816876122698, 0.08153834820540852, 0.8969218302594938, 0.38476652220462143, 0.4587600841670486, 0.15785293218651136, 0.9513166617527666, 0.25360345180137117, 0.7608103554041135, 0.7628850750377835, 0.9786294442034811, 0.8589641892862752, 0.6247220092703127, 0.19222215669855777, 0.19222215669855777, 0.5308992757105627, 0.21035631679097766, 0.26044115412216284, 0.12735723979744842, 0.891500678582139, 0.22262154387971891, 0.3975384712137838, 0.3816369323652324, 0.5278675864709583, 0.32318423661487244, 0.14004650253311138, 0.9513537145719487, 0.27157569388553526, 0.5770983495067624, 0.15276132781061358, 0.9513492416894758, 0.8983952741178511, 0.8563882792375487, 0.35033272866206017, 0.45905667893649266, 0.19328702271010217, 0.4955779796060518, 0.2477889898030259, 0.2595884655079319, 0.8026884917628503, 0.16053769835257004, 0.841378503646924, 0.9344008844064242, 0.8986514363662568, 0.7790741706590673, 0.17312759347979273, 0.3168539790462967, 0.366292188542882, 0.3168539790462967, 0.12671069938871352, 0.8869748957209946, 0.24931344928345409, 0.5203063289393824, 0.2276340189109798, 0.8023143555424844, 0.5449437049225506, 0.3187812977412549, 0.13569744430877742, 0.7628964409568761, 0.3846471244361913, 0.35650221289207973, 0.25330420389700403, 0.16926104442450554, 0.16926104442450554, 0.6770441776980222, 0.9132309666187891, 0.8588941745974253, 0.8428888586368015, 0.14048147643946693, 0.14048147643946693, 0.9354204552266956, 0.8729919971517561, 0.12471314245025088, 0.7628860754843307, 0.898466919761917, 0.8985043677809728, 0.34299293384704077, 0.29399394329746353, 0.3625925300668717, 0.19381812947000807, 0.19381812947000807, 0.602989736128914, 0.8884296240345877, 0.1269185177192268, 0.8578412216708325, 0.47980301119305335, 0.2532293670185559, 0.2532293670185559, 0.09944785141985936, 0.2486196285496484, 0.6464110342290859, 0.8723036402345342, 0.8019020783196579, 0.1036274806065259, 0.8290198448522073, 0.5146428623960727, 0.24445535963813456, 0.24445535963813456, 0.1523327832534338, 0.0761663916267169, 0.7616639162671691, 0.8589245871731832, 0.14322027783545782, 0.7161013891772892, 0.9617977106284844, 0.17274171710610917, 0.5527734947395494, 0.2763867473697747, 0.2444823173721722, 0.7334469521165166, 0.049669650757145196, 0.7450447613571779, 0.19867860302858079, 0.3747565319431645, 0.12491884398105482, 0.4996753759242193, 0.6248435031883077, 0.2418749044599901, 0.14109369426832755, 0.8984221353872581, 0.9130937023620143, 0.2959946270491251, 0.22768817465317318, 0.47814516677166363, 0.9165992313212745, 0.8589042570585385, 0.1906540233507658, 0.1906540233507658, 0.7626160934030632, 0.267882346850308, 0.3750352855904312, 0.3549441095766581, 0.8986335115350991, 0.858889506101688, 0.4219745215619486, 0.2859280911130143, 0.29284570622058725, 0.9353671221059284, 0.8986687238912945, 0.24940982747465737, 0.10688992606056744, 0.6413395563634047, 0.9786588222738023, 0.3314909794478181, 0.39778917533738173, 0.2746639543996207, 0.41847167021273607, 0.3634096083426392, 0.2202482474803874, 0.8419297440886152, 0.14032162401476922, 0.6141804745771579, 0.23774728048148044, 0.15849818698765364, 0.3345746342704011, 0.39802844421823574, 0.2711208243225664, 0.18271872632940822, 0.09135936316470411, 0.7308749053176329, 0.5596297859477086, 0.2855254009937289, 0.1598942245564882, 0.828421870637528, 0.11834598151964687, 0.059172990759823435, 0.3485746820701939, 0.21578432699583433, 0.43156865399166866, 0.9514020042834169, 0.36896324112267637, 0.32673250870502063, 0.30228313730532524, 0.47182854159174864, 0.27523331592852, 0.2502121053895637, 0.3025221750651539, 0.5046327345767674, 0.19309926067988548, 0.2964079015153229, 0.6092829086703859, 0.08233552819870081, 0.2076180460283925, 0.7266631610993738, 0.8746297799223458, 0.12494711141747797, 0.95120297546156, 0.8587318492585593, 0.898525234756527, 0.9131674119373329, 0.8588123566095588, 0.8789405685645416, 0.1757881137129083, 0.35895313338508517, 0.4176909188480991, 0.2284247212450542, 0.29544139770355227, 0.41361795678497315, 0.29174838023225785, 0.9513268852286632, 0.4115806941794832, 0.44517911819413486, 0.14699310506410113, 0.9617757929426407, 0.24216286308555385, 0.5569745850967739, 0.20583843362272078, 0.175849882138247, 0.04396247053456175, 0.7913244696221116, 0.2746581810975457, 0.4708425961672212, 0.26157922009290063, 0.5279718498983157, 0.2891274416109824, 0.1759906166327719, 0.9131378243859134, 0.9353173439067577, 0.9786556155418906, 0.8734265189258598, 0.12477521698940854], \"Term\": [\"adult\", \"adult\", \"advice\", \"advice\", \"advice\", \"adviser\", \"afraid\", \"again\", \"again\", \"again\", \"alternative\", \"alternative\", \"alternative\", \"always\", \"always\", \"always\", \"announcement\", \"announcement\", \"app\", \"app\", \"app\", \"appalling\", \"arrive\", \"assistance\", \"back\", \"back\", \"back\", \"bag\", \"basis\", \"basis\", \"basis\", \"before\", \"beware\", \"bike\", \"birthday\", \"birthday\", \"boat\", \"book\", \"book\", \"book\", \"bought\", \"bought\", \"bristol\", \"bristol\", \"british\", \"british\", \"brussels\", \"brussels\", \"cafe\", \"call\", \"call\", \"call\", \"card\", \"card\", \"card\", \"cart\", \"catering\", \"centre\", \"centre\", \"cheese\", \"cheese\", \"cheque\", \"class\", \"class\", \"class\", \"coach\", \"coach\", \"coach\", \"comfortable\", \"comfortable\", \"common\", \"company\", \"company\", \"company\", \"constant\", \"customer\", \"customer\", \"customer\", \"darlington\", \"date\", \"date\", \"date\", \"day\", \"day\", \"day\", \"debit\", \"decision\", \"degree\", \"delivery\", \"delivery\", \"doncaster\", \"double\", \"double\", \"downright\", \"du\", \"eastbourne\", \"email\", \"email\", \"email\", \"eurostar\", \"eurostar\", \"eurostar\", \"even\", \"even\", \"even\", \"ever\", \"ever\", \"ever\", \"experience\", \"experience\", \"experience\", \"extremely\", \"extremely\", \"extremely\", \"fare\", \"fare\", \"fare\", \"feedback\", \"ferry\", \"fi\", \"first\", \"first\", \"first\", \"food\", \"food\", \"food\", \"franchise\", \"franchise\", \"franchise\", \"gare\", \"ha\", \"ha\", \"ha\", \"ham\", \"hanky\", \"haywards\", \"here\", \"here\", \"here\", \"hotel\", \"hour\", \"hour\", \"hour\", \"husband\", \"husband\", \"international\", \"international\", \"interrail\", \"journey\", \"journey\", \"journey\", \"joy\", \"joy\", \"just\", \"just\", \"just\", \"keynes\", \"lady\", \"lady\", \"late\", \"late\", \"late\", \"leeds\", \"leeds\", \"london\", \"london\", \"london\", \"lyon\", \"matter\", \"matter\", \"micheal\", \"midland\", \"milton\", \"min\", \"min\", \"min\", \"minute\", \"minute\", \"minute\", \"mistake\", \"mistake\", \"money\", \"money\", \"money\", \"more\", \"more\", \"more\", \"ms\", \"much\", \"much\", \"much\", \"multiple\", \"necessary\", \"nectar\", \"never\", \"never\", \"never\", \"new\", \"new\", \"new\", \"newcastle\", \"newcastle\", \"newport\", \"nord\", \"norm\", \"normally\", \"normally\", \"not\", \"not\", \"not\", \"november\", \"november\", \"now\", \"now\", \"now\", \"nowhere\", \"number\", \"number\", \"number\", \"nurse\", \"only\", \"only\", \"only\", \"option\", \"option\", \"option\", \"overall\", \"package\", \"paddington\", \"paddington\", \"paddington\", \"parkway\", \"party\", \"party\", \"patient\", \"patronising\", \"penalty\", \"people\", \"people\", \"people\", \"phone\", \"phone\", \"phone\", \"pleasant\", \"pleasant\", \"preference\", \"price\", \"price\", \"price\", \"probably\", \"probably\", \"probably\", \"property\", \"quid\", \"quiet\", \"quiet\", \"rail\", \"rail\", \"rail\", \"railcard\", \"railcard\", \"railcard\", \"railcards\", \"rating\", \"rating\", \"reading\", \"really\", \"really\", \"really\", \"reasonable\", \"reasonable\", \"recently\", \"recently\", \"recently\", \"refund\", \"refund\", \"refund\", \"return\", \"return\", \"return\", \"reviewer\", \"row\", \"rude\", \"rude\", \"rude\", \"scheme\", \"scotrail\", \"season\", \"season\", \"season\", \"seat\", \"seat\", \"seat\", \"seems\", \"senior\", \"service\", \"service\", \"service\", \"sickness\", \"sign\", \"site\", \"site\", \"site\", \"smart\", \"so\", \"so\", \"so\", \"southern\", \"southern\", \"southern\", \"specific\", \"specific\", \"st\", \"st\", \"st\", \"staff\", \"staff\", \"staff\", \"star\", \"star\", \"star\", \"station\", \"station\", \"station\", \"street\", \"street\", \"street\", \"then\", \"then\", \"then\", \"therefore\", \"ticket\", \"ticket\", \"ticket\", \"time\", \"time\", \"time\", \"train\", \"train\", \"train\", \"trains\", \"trains\", \"trains\", \"transport\", \"transport\", \"truly\", \"truly\", \"tunnel\", \"unbelievably\", \"unhappy\", \"unsympathetic\", \"unusable\", \"use\", \"use\", \"very\", \"very\", \"very\", \"virgin\", \"virgin\", \"virgin\", \"visa\", \"wa\", \"wa\", \"wa\", \"waverley\", \"way\", \"way\", \"way\", \"web\", \"web\", \"web\", \"website\", \"website\", \"website\", \"week\", \"week\", \"week\", \"went\", \"western\", \"wi\", \"wine\", \"wine\"]}, \"R\": 30, \"lambda.step\": 0.01, \"plot.opts\": {\"xlab\": \"PC1\", \"ylab\": \"PC2\"}, \"topic.order\": [2, 1, 3]};\n",
              "\n",
              "function LDAvis_load_lib(url, callback){\n",
              "  var s = document.createElement('script');\n",
              "  s.src = url;\n",
              "  s.async = true;\n",
              "  s.onreadystatechange = s.onload = callback;\n",
              "  s.onerror = function(){console.warn(\"failed to load library \" + url);};\n",
              "  document.getElementsByTagName(\"head\")[0].appendChild(s);\n",
              "}\n",
              "\n",
              "if(typeof(LDAvis) !== \"undefined\"){\n",
              "   // already loaded: just create the visualization\n",
              "   !function(LDAvis){\n",
              "       new LDAvis(\"#\" + \"ldavis_el52991396820880954403527835152\", ldavis_el52991396820880954403527835152_data);\n",
              "   }(LDAvis);\n",
              "}else if(typeof define === \"function\" && define.amd){\n",
              "   // require.js is available: use it to load d3/LDAvis\n",
              "   require.config({paths: {d3: \"https://d3js.org/d3.v5\"}});\n",
              "   require([\"d3\"], function(d3){\n",
              "      window.d3 = d3;\n",
              "      LDAvis_load_lib(\"https://cdn.jsdelivr.net/gh/bmabey/pyLDAvis@3.3.1/pyLDAvis/js/ldavis.v3.0.0.js\", function(){\n",
              "        new LDAvis(\"#\" + \"ldavis_el52991396820880954403527835152\", ldavis_el52991396820880954403527835152_data);\n",
              "      });\n",
              "    });\n",
              "}else{\n",
              "    // require.js not available: dynamically load d3 & LDAvis\n",
              "    LDAvis_load_lib(\"https://d3js.org/d3.v5.js\", function(){\n",
              "         LDAvis_load_lib(\"https://cdn.jsdelivr.net/gh/bmabey/pyLDAvis@3.3.1/pyLDAvis/js/ldavis.v3.0.0.js\", function(){\n",
              "                 new LDAvis(\"#\" + \"ldavis_el52991396820880954403527835152\", ldavis_el52991396820880954403527835152_data);\n",
              "            })\n",
              "         });\n",
              "}\n",
              "</script>"
            ],
            "text/plain": [
              "<IPython.core.display.HTML object>"
            ]
          },
          "metadata": {},
          "execution_count": 135
        }
      ]
    },
    {
      "cell_type": "code",
      "metadata": {
        "colab": {
          "base_uri": "https://localhost:8080/",
          "height": 881
        },
        "id": "wL0Sqd-MyKUK",
        "outputId": "74ad17e3-1f17-4072-e6fc-518ed6cab698"
      },
      "source": [
        "lda_viz = gensimvis.prepare(model_late, corpus_late, term_dict_late)\n",
        "pyLDAvis.display(lda_viz)"
      ],
      "execution_count": 136,
      "outputs": [
        {
          "output_type": "execute_result",
          "data": {
            "text/html": [
              "\n",
              "<link rel=\"stylesheet\" type=\"text/css\" href=\"https://cdn.jsdelivr.net/gh/bmabey/pyLDAvis@3.3.1/pyLDAvis/js/ldavis.v1.0.0.css\">\n",
              "\n",
              "\n",
              "<div id=\"ldavis_el52991396820830157602576747895\"></div>\n",
              "<script type=\"text/javascript\">\n",
              "\n",
              "var ldavis_el52991396820830157602576747895_data = {\"mdsDat\": {\"x\": [0.07753113437876662, 0.018265215514940963, -0.09579634989370757], \"y\": [0.049949377472272107, -0.07590286795755885, 0.025953490485286793], \"topics\": [1, 2, 3], \"cluster\": [1, 1, 1], \"Freq\": [75.320750518712, 14.609034285331084, 10.070215195956909]}, \"tinfo\": {\"Term\": [\"not\", \"customer\", \"class\", \"seat\", \"first\", \"company\", \"ticket\", \"service\", \"money\", \"eurostar\", \"london\", \"time\", \"train\", \"point\", \"way\", \"terrible\", \"carriage\", \"other\", \"more\", \"complaint\", \"trip\", \"manchester\", \"absolutely\", \"people\", \"rail\", \"again\", \"price\", \"most\", \"now\", \"nothing\", \"station\", \"refund\", \"hour\", \"bus\", \"later\", \"platform\", \"compensation\", \"no\", \"comfortable\", \"almost\", \"extremely\", \"drink\", \"day\", \"really\", \"minute\", \"call\", \"offer\", \"announcement\", \"may\", \"away\", \"idea\", \"apology\", \"preston\", \"always\", \"late\", \"anything\", \"then\", \"replacement\", \"french\", \"normally\", \"number\", \"journey\", \"so\", \"train\", \"min\", \"very\", \"wa\", \"staff\", \"southern\", \"worst\", \"email\", \"ticket\", \"service\", \"just\", \"not\", \"virgin\", \"time\", \"only\", \"even\", \"still\", \"back\", \"never\", \"due\", \"money\", \"customer\", \"people\", \"company\", \"london\", \"now\", \"midland\", \"practically\", \"kent\", \"steve\", \"high\", \"northwestern\", \"massively\", \"spanish\", \"dire\", \"glad\", \"dartford\", \"vt\", \"who\", \"aniko\", \"agent\", \"lime\", \"special\", \"belt\", \"corridor\", \"vestibule\", \"racist\", \"contrast\", \"arrangement\", \"warm\", \"strength\", \"rotten\", \"ready\", \"sheep\", \"chair\", \"shabby\", \"pushchair\", \"operator\", \"quality\", \"christmas\", \"various\", \"class\", \"support\", \"wifi\", \"first\", \"bag\", \"old\", \"december\", \"assistance\", \"seat\", \"ridiculous\", \"london\", \"manchester\", \"further\", \"stress\", \"carriage\", \"way\", \"board\", \"appalling\", \"truly\", \"service\", \"time\", \"price\", \"train\", \"most\", \"rail\", \"once\", \"people\", \"number\", \"now\", \"poor\", \"other\", \"virgin\", \"not\", \"year\", \"wa\", \"new\", \"ticket\", \"money\", \"customer\", \"so\", \"thalys\", \"status\", \"insurance\", \"useless\", \"bunch\", \"pas\", \"benefit\", \"show\", \"ill\", \"incompetent\", \"amsterdam\", \"us\", \"thread\", \"stink\", \"shotton\", \"issuer\", \"worthless\", \"tier\", \"sewage\", \"dismissive\", \"loyalty\", \"approach\", \"previously\", \"anymore\", \"disappoints\", \"refundable\", \"weak\", \"significant\", \"appropriate\", \"average\", \"point\", \"site\", \"eurostar\", \"filthy\", \"previous\", \"company\", \"scheme\", \"print\", \"dollar\", \"customer\", \"access\", \"western\", \"terrible\", \"seat\", \"not\", \"money\", \"word\", \"trip\", \"ticket\", \"service\", \"complaint\", \"absolutely\", \"system\", \"more\", \"london\", \"star\", \"online\", \"again\", \"nothing\", \"standard\", \"other\", \"website\", \"way\", \"number\", \"time\", \"even\", \"train\", \"only\"], \"Freq\": [193.0, 110.0, 60.0, 73.0, 65.0, 72.0, 180.0, 240.0, 101.0, 47.0, 82.0, 150.0, 494.0, 17.0, 46.0, 29.0, 36.0, 50.0, 43.0, 19.0, 19.0, 21.0, 25.0, 63.0, 32.0, 51.0, 32.0, 28.0, 53.0, 20.0, 60.18117540503864, 46.45418001548653, 97.12461617886844, 21.32361013257353, 17.665827245797047, 23.82909079562416, 16.64550941812892, 28.85170614914031, 14.86455017328154, 13.98729482927285, 13.072437980730948, 12.17069493158328, 86.14142220777012, 24.246554188770038, 34.676664826057795, 16.416586020306582, 10.374254134776331, 10.373969183422215, 9.458399956495029, 11.969867012824048, 8.540680312781069, 8.540399587400426, 8.523799963602256, 45.22186683230406, 64.70322782305473, 9.344217171833012, 48.48252653996609, 8.476342885221754, 7.627390092976302, 7.626441060076581, 444.2763689500064, 95.00022172931637, 106.44311467986111, 455.7162674964909, 21.18334162108961, 67.99667625517581, 127.05139549024358, 85.42897620690798, 25.888395594338885, 30.572836476412544, 27.183943829714963, 155.29082811370296, 199.06773077771155, 66.81344232047661, 160.11342210568253, 74.85422377930324, 125.2440021776181, 64.01509445128772, 55.86000403230542, 33.10470653266457, 52.1819292283372, 43.91008119942742, 38.574811424555925, 80.42721542876585, 85.50771937432297, 52.23634044792119, 52.29116219064247, 55.756402481506896, 42.39932224643527, 3.0492611537594208, 2.331021139034953, 2.268787883212478, 2.2090958069599944, 4.336252799739998, 1.6441164842941933, 1.6434608735480691, 1.6431489344468593, 1.6422226017780635, 1.6419966098616463, 1.6415151182759948, 1.641115007199105, 1.640985618044887, 1.6400663110315237, 1.640022634873584, 1.6398706465277242, 1.639595709211793, 1.639656832414057, 1.6389104736185944, 1.6395876297080454, 1.6389987626885314, 1.638060954782529, 1.6391447792272735, 1.6378445645952031, 1.6382734808593669, 1.6370912972385652, 1.6367540657777977, 1.6363991530841913, 1.6345249424032728, 1.6344549200374605, 2.170482102136569, 4.864561011309503, 5.544802300249416, 2.9368867318681304, 2.124812999939154, 27.47888966184088, 2.8775995675570827, 6.540679590287962, 23.678708891300502, 5.536293294766411, 7.106268739845318, 2.3355669722883965, 3.77133881566972, 19.418448859359327, 3.0930925786841663, 20.264616926160414, 7.891834439638366, 3.5843823775904875, 3.0429453237139765, 9.942733797409739, 11.367447727517089, 6.616180562206496, 3.0472344863556136, 2.8700191195337603, 27.089632754217494, 20.341252775619836, 7.915998947310475, 34.794122002842684, 7.368121943475876, 7.615764588051312, 5.059955261563356, 10.03956793786102, 26.051490057850142, 9.0970715777998, 7.294969413979965, 8.477420946442207, 9.93284448482273, 13.573044523883105, 6.215629679286598, 10.823316334782152, 6.106517035024176, 8.566686114107373, 7.530965863733201, 6.614333751581765, 5.868214765157942, 5.788916509441742, 5.1625126770939165, 3.355790762992865, 6.490329515979617, 2.1076857003368548, 2.103358260397388, 2.102572744571468, 2.093374170220341, 2.0926674319782776, 2.5958684503461407, 2.0556802263510026, 2.0285949432979407, 1.476358430427431, 1.4751023476815444, 1.4748908750691407, 1.4713629953199299, 1.4700772095506214, 1.4699446759515502, 1.4693783813528392, 1.4696696001259504, 1.4695482051606623, 1.4692290590883557, 1.4687173276522343, 1.468949947525878, 1.4686874631993376, 1.468044812458896, 1.4664821751397616, 1.4637115610583253, 1.4532275237968397, 1.4505854075775968, 8.7245476746502, 4.961895551174133, 13.300306181356675, 2.390249754998801, 4.989022160172825, 14.654207440549712, 2.679923970892284, 2.675838029447593, 2.0469811147958876, 17.88555674120004, 2.631052650165832, 2.83688959816353, 7.13291697606689, 11.68202735073892, 20.209436058940213, 13.610755724979839, 2.9576459484480906, 5.211215949736772, 16.64528246095249, 14.063800443999318, 4.67372295225819, 5.1363811193798465, 3.678801456933848, 5.650404854047991, 6.564364301857861, 4.502757838045832, 3.975260553666506, 5.146662239791111, 3.8787421933528905, 3.582056126778218, 4.553195186110395, 4.25036188512326, 4.2909772182037935, 6.312820373704958, 4.6811286908586665, 4.254706598016564, 4.480124779916502, 4.020305834403206], \"Total\": [193.0, 110.0, 60.0, 73.0, 65.0, 72.0, 180.0, 240.0, 101.0, 47.0, 82.0, 150.0, 494.0, 17.0, 46.0, 29.0, 36.0, 50.0, 43.0, 19.0, 19.0, 21.0, 25.0, 63.0, 32.0, 51.0, 32.0, 28.0, 53.0, 20.0, 61.05774811251528, 47.29487504195732, 99.16750681671388, 21.80412917601782, 18.14377999068508, 24.476091711811865, 17.203477534072473, 29.84548372258017, 15.379168567491973, 14.475987601140407, 13.557595203842814, 12.648351707440604, 89.59383381790411, 25.257826678146, 36.15571145439394, 17.12287840564578, 10.82463299914485, 10.824647573567935, 9.908909573420711, 12.583507354561748, 8.992307139422918, 8.992151648140492, 8.988629151068398, 47.713190283537685, 68.35183639869504, 9.873795736165478, 51.29846721309082, 8.972698766696116, 8.077282080117312, 8.076953978053725, 476.6406793815614, 100.8029536907453, 113.23465971243, 494.9905142792501, 22.46583730190022, 73.10648974895427, 139.09484785896717, 93.34565636080299, 27.787335284932674, 33.09431635379104, 29.312640520021137, 180.50279668876283, 240.22116397592836, 76.28679038322242, 193.89590268850586, 86.16696822457504, 150.2663836440966, 73.50192694850294, 63.84288569252157, 36.25819483578375, 59.706876465953115, 50.12481597753235, 43.21394423380631, 101.56893701747889, 110.00760986710478, 63.36640670400654, 72.41168458758716, 82.58538370952517, 53.901787601153565, 3.5707724372414775, 2.8708310795857117, 2.8891558984660417, 2.853104865712465, 5.654475787041653, 2.1607409858965725, 2.1607624124449947, 2.1610530314856926, 2.161357721480212, 2.1613817988155017, 2.1615481480246115, 2.161666745709687, 2.161642736418991, 2.160735767325284, 2.1608135326455775, 2.161471601028016, 2.1615081579542688, 2.161968596663668, 2.1611179831796705, 2.1621011564709067, 2.1616280153808014, 2.1606487739384863, 2.1622141102983505, 2.1618430850356667, 2.162486662286298, 2.1627108424290324, 2.1627528849779507, 2.1630262597306107, 2.1636400019790805, 2.163615339245154, 2.918863852228938, 7.04261449175088, 8.312830673867605, 4.253791379178823, 2.9311465729172044, 60.25041826798661, 4.275284271410207, 12.359033621915753, 65.56471379719062, 11.068772307248095, 15.722150914626162, 3.503755678988176, 7.017764956623701, 73.22369025376437, 5.382034751959143, 82.58538370952517, 21.336875362700248, 6.79184901719352, 5.4039427915834795, 36.575249877159095, 46.88305383688288, 19.796482031046132, 5.788847441453162, 5.456307868763997, 240.22116397592836, 150.2663836440966, 32.16565941647883, 494.9905142792501, 28.56813524623608, 32.403725331308905, 15.430362535000295, 63.36640670400654, 476.6406793815614, 53.901787601153565, 34.733954310331235, 50.37950887549975, 86.16696822457504, 193.89590268850586, 27.343607793002157, 139.09484785896717, 34.455880950488314, 180.50279668876283, 101.56893701747889, 110.00760986710478, 113.23465971243, 6.500674351523972, 5.864076764083638, 3.9248499255351743, 8.018378301008779, 2.6510078244797315, 2.6529311107696794, 2.652740520697306, 2.656953703262234, 2.6569638680649916, 3.3485536797743713, 2.6742149988917303, 2.6859726246679125, 2.017310307526043, 2.017656832577751, 2.0179867442739785, 2.019552100335235, 2.0196488052853985, 2.0197242153869643, 2.019310952267613, 2.0199521288796567, 2.0199685185212326, 2.020177567350201, 2.0201067397530066, 2.0206172207251747, 2.020310346770507, 2.021044134571075, 2.021467457296896, 2.0227477817569794, 2.027522234725733, 2.0279350970337244, 17.00266113504652, 10.532699159006052, 47.00881182794441, 4.144573451984645, 13.341913190733306, 72.41168458758716, 5.142410320514799, 5.142831374441508, 3.3870019909184523, 110.00760986710478, 5.164304443347422, 5.987896348311146, 29.14542902548413, 73.22369025376437, 193.89590268850586, 101.56893701747889, 6.8476400092551994, 19.248913589424877, 180.50279668876283, 240.22116397592836, 19.76459458129871, 25.375343440385016, 11.604869623290838, 43.68644062917506, 82.58538370952517, 30.20371698343434, 21.419833976403975, 51.169910891078615, 20.16688155638997, 16.202046608356646, 50.37950887549975, 41.276899605423814, 46.88305383688288, 476.6406793815614, 150.2663836440966, 63.84288569252157, 494.9905142792501, 73.50192694850294], \"Category\": [\"Default\", \"Default\", \"Default\", \"Default\", \"Default\", \"Default\", \"Default\", \"Default\", \"Default\", \"Default\", \"Default\", \"Default\", \"Default\", \"Default\", \"Default\", \"Default\", \"Default\", \"Default\", \"Default\", \"Default\", \"Default\", \"Default\", \"Default\", \"Default\", \"Default\", \"Default\", \"Default\", \"Default\", \"Default\", \"Default\", \"Topic1\", \"Topic1\", \"Topic1\", \"Topic1\", \"Topic1\", \"Topic1\", \"Topic1\", \"Topic1\", \"Topic1\", \"Topic1\", \"Topic1\", \"Topic1\", \"Topic1\", \"Topic1\", \"Topic1\", \"Topic1\", \"Topic1\", \"Topic1\", \"Topic1\", \"Topic1\", \"Topic1\", \"Topic1\", \"Topic1\", \"Topic1\", \"Topic1\", \"Topic1\", \"Topic1\", \"Topic1\", \"Topic1\", \"Topic1\", \"Topic1\", \"Topic1\", \"Topic1\", \"Topic1\", \"Topic1\", \"Topic1\", \"Topic1\", \"Topic1\", \"Topic1\", \"Topic1\", \"Topic1\", \"Topic1\", \"Topic1\", \"Topic1\", \"Topic1\", \"Topic1\", \"Topic1\", \"Topic1\", \"Topic1\", \"Topic1\", \"Topic1\", \"Topic1\", \"Topic1\", \"Topic1\", \"Topic1\", \"Topic1\", \"Topic1\", \"Topic1\", \"Topic1\", \"Topic2\", \"Topic2\", \"Topic2\", \"Topic2\", \"Topic2\", \"Topic2\", \"Topic2\", \"Topic2\", \"Topic2\", \"Topic2\", \"Topic2\", \"Topic2\", \"Topic2\", \"Topic2\", \"Topic2\", \"Topic2\", \"Topic2\", \"Topic2\", \"Topic2\", \"Topic2\", \"Topic2\", \"Topic2\", \"Topic2\", \"Topic2\", \"Topic2\", \"Topic2\", \"Topic2\", \"Topic2\", \"Topic2\", \"Topic2\", \"Topic2\", \"Topic2\", \"Topic2\", \"Topic2\", \"Topic2\", \"Topic2\", \"Topic2\", \"Topic2\", \"Topic2\", \"Topic2\", \"Topic2\", \"Topic2\", \"Topic2\", \"Topic2\", \"Topic2\", \"Topic2\", \"Topic2\", \"Topic2\", \"Topic2\", \"Topic2\", \"Topic2\", \"Topic2\", \"Topic2\", \"Topic2\", \"Topic2\", \"Topic2\", \"Topic2\", \"Topic2\", \"Topic2\", \"Topic2\", \"Topic2\", \"Topic2\", \"Topic2\", \"Topic2\", \"Topic2\", \"Topic2\", \"Topic2\", \"Topic2\", \"Topic2\", \"Topic2\", \"Topic2\", \"Topic2\", \"Topic2\", \"Topic2\", \"Topic2\", \"Topic3\", \"Topic3\", \"Topic3\", \"Topic3\", \"Topic3\", \"Topic3\", \"Topic3\", \"Topic3\", \"Topic3\", \"Topic3\", \"Topic3\", \"Topic3\", \"Topic3\", \"Topic3\", \"Topic3\", \"Topic3\", \"Topic3\", \"Topic3\", \"Topic3\", \"Topic3\", \"Topic3\", \"Topic3\", \"Topic3\", \"Topic3\", \"Topic3\", \"Topic3\", \"Topic3\", \"Topic3\", \"Topic3\", \"Topic3\", \"Topic3\", \"Topic3\", \"Topic3\", \"Topic3\", \"Topic3\", \"Topic3\", \"Topic3\", \"Topic3\", \"Topic3\", \"Topic3\", \"Topic3\", \"Topic3\", \"Topic3\", \"Topic3\", \"Topic3\", \"Topic3\", \"Topic3\", \"Topic3\", \"Topic3\", \"Topic3\", \"Topic3\", \"Topic3\", \"Topic3\", \"Topic3\", \"Topic3\", \"Topic3\", \"Topic3\", \"Topic3\", \"Topic3\", \"Topic3\", \"Topic3\", \"Topic3\", \"Topic3\", \"Topic3\", \"Topic3\", \"Topic3\", \"Topic3\", \"Topic3\"], \"logprob\": [30.0, 29.0, 28.0, 27.0, 26.0, 25.0, 24.0, 23.0, 22.0, 21.0, 20.0, 19.0, 18.0, 17.0, 16.0, 15.0, 14.0, 13.0, 12.0, 11.0, 10.0, 9.0, 8.0, 7.0, 6.0, 5.0, 4.0, 3.0, 2.0, 1.0, -5.1495, -5.4084, -4.6708, -6.187, -6.3752, -6.0759, -6.4347, -5.8847, -6.5479, -6.6087, -6.6763, -6.7478, -4.7908, -6.0586, -5.7008, -6.4485, -6.9075, -6.9075, -6.9999, -6.7644, -7.102, -7.102, -7.104, -5.4353, -5.077, -7.0121, -5.3656, -7.1096, -7.2151, -7.2152, -3.1504, -4.693, -4.5792, -3.125, -6.1936, -5.0274, -4.4022, -4.7991, -5.993, -5.8267, -5.9442, -4.2015, -3.9532, -5.0449, -4.171, -4.9313, -4.4166, -5.0877, -5.224, -5.7472, -5.2921, -5.4647, -5.5942, -4.8595, -4.7982, -5.2911, -5.29, -5.2258, -5.4997, -6.4918, -6.7604, -6.7875, -6.8141, -6.1397, -7.1095, -7.1099, -7.1101, -7.1107, -7.1108, -7.1111, -7.1113, -7.1114, -7.112, -7.112, -7.1121, -7.1123, -7.1122, -7.1127, -7.1123, -7.1126, -7.1132, -7.1125, -7.1133, -7.1131, -7.1138, -7.114, -7.1142, -7.1154, -7.1154, -6.8318, -6.0247, -5.8939, -6.5294, -6.853, -4.2933, -6.5498, -5.7287, -4.4421, -5.8954, -5.6457, -6.7585, -6.2793, -4.6405, -6.4775, -4.5978, -5.5409, -6.3301, -6.4939, -5.3099, -5.176, -5.7172, -6.4925, -6.5524, -4.3076, -4.5941, -5.5378, -4.0573, -5.6096, -5.5765, -5.9854, -5.3002, -4.3466, -5.3988, -5.6195, -5.4693, -5.3109, -4.9986, -5.7797, -5.225, -5.7974, -5.4588, -5.5877, -5.7175, -5.8372, -5.4787, -5.5932, -6.024, -5.3643, -6.4891, -6.4911, -6.4915, -6.4959, -6.4962, -6.2807, -6.5141, -6.5273, -6.8451, -6.8459, -6.8461, -6.8485, -6.8493, -6.8494, -6.8498, -6.8496, -6.8497, -6.8499, -6.8503, -6.8501, -6.8503, -6.8507, -6.8518, -6.8537, -6.8609, -6.8627, -5.0685, -5.6329, -4.6469, -6.3633, -5.6274, -4.5499, -6.2489, -6.2504, -6.5183, -4.3507, -6.2673, -6.192, -5.2699, -4.7766, -4.2285, -4.6238, -6.1503, -5.5838, -4.4225, -4.5911, -5.6927, -5.5983, -5.9321, -5.5029, -5.353, -5.73, -5.8546, -5.5963, -5.8791, -5.9587, -5.7188, -5.7877, -5.7781, -5.3921, -5.6911, -5.7866, -5.735, -5.8433], \"loglift\": [30.0, 29.0, 28.0, 27.0, 26.0, 25.0, 24.0, 23.0, 22.0, 21.0, 20.0, 19.0, 18.0, 17.0, 16.0, 15.0, 14.0, 13.0, 12.0, 11.0, 10.0, 9.0, 8.0, 7.0, 6.0, 5.0, 4.0, 3.0, 2.0, 1.0, 0.269, 0.2655, 0.2626, 0.2611, 0.2567, 0.2566, 0.2504, 0.2496, 0.2494, 0.2491, 0.247, 0.2449, 0.2441, 0.2426, 0.2416, 0.2413, 0.2409, 0.2409, 0.2369, 0.2334, 0.2319, 0.2319, 0.2303, 0.2298, 0.2286, 0.2283, 0.227, 0.2265, 0.2261, 0.226, 0.2131, 0.2241, 0.2216, 0.2007, 0.2246, 0.211, 0.1929, 0.1948, 0.2126, 0.2042, 0.208, 0.133, 0.0955, 0.1508, 0.092, 0.1427, 0.1013, 0.1452, 0.1498, 0.1924, 0.1487, 0.151, 0.1699, 0.05, 0.0315, 0.0903, -0.0421, -0.1094, 0.0434, 1.7656, 1.7152, 1.6818, 1.6677, 1.6581, 1.6503, 1.6499, 1.6495, 1.6488, 1.6487, 1.6483, 1.648, 1.648, 1.6478, 1.6478, 1.6474, 1.6472, 1.647, 1.6469, 1.6469, 1.6468, 1.6466, 1.6466, 1.646, 1.6459, 1.6451, 1.6449, 1.6445, 1.6431, 1.6431, 1.6273, 1.5535, 1.5186, 1.5531, 1.6018, 1.1384, 1.5276, 1.2872, 0.9051, 1.2307, 1.1294, 1.5179, 1.3025, 0.5962, 1.3696, 0.5186, 0.9289, 1.2844, 1.3492, 0.621, 0.5066, 0.8275, 1.2818, 1.2811, -0.2589, -0.0762, 0.5215, -0.7316, 0.5684, 0.4755, 0.8086, 0.0811, -0.9832, 0.1443, 0.363, 0.1414, -0.2369, -0.7357, 0.4421, -0.6299, 0.1932, -1.1243, -0.6782, -0.8878, -1.0364, 2.1796, 2.1682, 2.1389, 2.0842, 2.0662, 2.0635, 2.0632, 2.0572, 2.0568, 2.041, 2.0325, 2.0149, 1.9834, 1.9824, 1.9821, 1.9789, 1.978, 1.9779, 1.9777, 1.9776, 1.9775, 1.9771, 1.9768, 1.9767, 1.9767, 1.9759, 1.9746, 1.9721, 1.9626, 1.9605, 1.6284, 1.5429, 1.033, 1.7452, 1.3119, 0.6979, 1.6439, 1.6422, 1.792, 0.479, 1.6212, 1.5486, 0.888, 0.4601, 0.0344, 0.2857, 1.4561, 0.9889, -0.088, -0.5424, 0.8537, 0.6982, 1.1468, 0.2503, -0.2366, 0.3923, 0.6114, -0.0012, 0.6471, 0.7864, -0.1082, 0.0223, -0.0956, -2.0286, -1.1733, -0.4128, -2.4093, -0.6104]}, \"token.table\": {\"Topic\": [1, 2, 3, 1, 3, 1, 2, 3, 2, 1, 1, 2, 3, 3, 2, 1, 3, 1, 1, 1, 2, 3, 3, 3, 2, 1, 2, 3, 1, 1, 2, 3, 1, 2, 2, 3, 1, 2, 3, 1, 1, 1, 2, 3, 2, 1, 2, 3, 1, 2, 1, 1, 2, 3, 1, 1, 3, 2, 2, 1, 2, 3, 2, 1, 2, 2, 3, 2, 3, 3, 2, 3, 1, 1, 2, 3, 1, 3, 1, 2, 3, 1, 2, 3, 1, 1, 2, 3, 1, 2, 3, 1, 1, 2, 3, 2, 2, 3, 1, 2, 1, 3, 1, 3, 3, 3, 1, 2, 1, 2, 3, 2, 1, 2, 3, 1, 2, 1, 2, 3, 3, 1, 2, 2, 1, 2, 1, 2, 1, 2, 1, 2, 3, 1, 2, 3, 1, 2, 3, 1, 2, 3, 1, 2, 3, 1, 3, 1, 2, 1, 2, 3, 1, 3, 1, 2, 3, 1, 2, 3, 1, 1, 2, 3, 1, 2, 3, 1, 2, 3, 1, 2, 3, 1, 2, 3, 1, 2, 3, 3, 1, 2, 3, 1, 1, 2, 3, 1, 2, 3, 2, 1, 1, 2, 3, 3, 1, 2, 3, 1, 3, 1, 2, 1, 2, 2, 1, 2, 2, 1, 3, 1, 3, 3, 1, 1, 2, 2, 1, 3, 1, 2, 3, 1, 2, 3, 3, 2, 2, 3, 3, 3, 1, 3, 1, 2, 3, 1, 2, 2, 2, 1, 2, 3, 1, 2, 3, 1, 2, 3, 1, 2, 3, 2, 1, 2, 3, 3, 2, 1, 2, 1, 2, 3, 1, 2, 3, 1, 2, 3, 3, 1, 2, 3, 1, 2, 3, 3, 1, 2, 3, 1, 2, 3, 1, 2, 3, 1, 2, 3, 1, 3, 1, 2, 1, 2, 3, 2, 1, 2, 3, 2, 1, 2, 3, 2, 1, 2, 3, 3, 1, 2, 3, 1, 3, 2, 1, 2, 3, 1, 3, 1, 2, 3, 1, 2, 3], \"Freq\": [0.7093500051452659, 0.07881666723836288, 0.19704166809590717, 0.3872738375399942, 0.5809107563099913, 0.8012521281749638, 0.09771367416767851, 0.09771367416767851, 0.9255773206637194, 0.9671188167429137, 0.9431354250802674, 0.04191713000356744, 0.02095856500178372, 0.7478830239262199, 0.9256106323799812, 0.9238176053341826, 0.4948982863964271, 0.9115035636229578, 1.0008728002114078, 0.17274595852002142, 0.5182378755600643, 0.17274595852002142, 0.4950059916325407, 0.4932128402208482, 0.9249777764719297, 0.4274865314730236, 0.5699820419640315, 0.49311242823436874, 0.9536291958894738, 0.8709214596019298, 0.0837424480386471, 0.03349697921545884, 0.45172128048255916, 0.542065536579071, 0.9250828171539509, 0.7539372902835876, 0.6566823327302576, 0.35359817916244635, 0.7544300629865196, 0.9631203259930108, 0.9344223337312527, 0.6835223295524843, 0.27340893182099374, 0.054681786364198744, 0.9243681934936501, 0.23508440138713288, 0.7052532041613986, 0.23508440138713288, 0.5311166448283869, 0.44812966907395146, 0.9753453142913429, 0.7181161479139772, 0.06904962960711318, 0.20714888882133956, 0.9881723021598701, 0.7589328452096368, 0.2529776150698789, 0.9256478998918221, 0.9254469286574459, 0.7817640989009098, 0.06363196153844615, 0.16362504395600438, 0.9252627575415118, 0.9598874870651429, 0.03348444722320266, 0.5708160566085948, 0.2854080283042974, 0.9253442778691415, 0.4949734587057446, 0.49506123719607087, 0.2952463573039797, 0.5904927146079594, 0.9487402214583265, 0.9024864703159927, 0.06942203617815328, 0.04628135745210219, 0.921104326359082, 0.06822995010067275, 0.6381782230489494, 0.08509042973985992, 0.27654389665454476, 0.8771533334145598, 0.06265380952961142, 0.06265380952961142, 0.9588721159277003, 0.24127935276937756, 0.24127935276937756, 0.48255870553875513, 0.625336368077867, 0.3660505569236295, 0.015252106538484562, 0.9904321677328137, 0.2944706213193216, 0.5889412426386432, 0.1472353106596608, 0.9253339697299461, 0.7074042140505384, 0.1768510535126346, 0.9781429735778275, 0.020167896362429435, 1.000855493529948, 0.7527388776485531, 0.2986363951816299, 0.8959091855448895, 0.764360435919326, 0.49515929786312785, 0.9424327018378027, 0.05952206537922965, 0.8782647646260807, 0.07865057593666394, 0.052433717291109294, 0.6922437107190627, 0.950962013966328, 0.0438905544907536, 0.0146301848302512, 0.9920755217072245, 0.9252955250713363, 0.6780860908386276, 0.24217360387093842, 0.08476076135482845, 0.4950572203630552, 0.6092738406639316, 0.37493774810088104, 0.9255992183503946, 0.908273502075472, 0.8401543511178171, 0.9347526076058499, 0.0445120289336119, 0.968035162138858, 0.027658147489681657, 0.7876423870246164, 0.07876423870246164, 0.13783741772930788, 0.7553831240250242, 0.11445198848864004, 0.13734238618636804, 0.6300726261918528, 0.24502824351905386, 0.1050121043653088, 0.8778087089580997, 0.0997509896543295, 0.0199501979308659, 0.7545881655837194, 0.17413573051931988, 0.08706786525965994, 0.9716713010772714, 0.033505906933699016, 0.9904724010731248, 0.9256083968667466, 0.8251850492015828, 0.07220369180513848, 0.10314813115019784, 0.793379975741977, 0.19834499393549426, 0.7791949371100477, 0.1669703436664388, 0.037104520814764175, 0.9315193167651731, 0.054548428459221844, 0.012588098875205041, 0.9238188491739169, 0.5088362300706374, 0.4452317013118077, 0.06360452875882967, 0.4536510392495367, 0.32403645660681196, 0.19442187396408717, 0.700285539865713, 0.0933714053154284, 0.1867428106308568, 0.8707254715218528, 0.06802542746264474, 0.0544203419701158, 0.14199272176140196, 0.7099636088070098, 0.14199272176140196, 0.7344255794838367, 0.15879471988839713, 0.0992466999302482, 0.7538831264335966, 0.8206240925558452, 0.1578123254915087, 0.01578123254915087, 0.9805487037139141, 0.47051458218561454, 0.05881432277320182, 0.5293289049588163, 0.7485470778162043, 0.20153190556590117, 0.028790272223700165, 0.6966623756520774, 1.0012650259278135, 0.3747588466902015, 0.22485530801412087, 0.3747588466902015, 0.49502334719316243, 0.7461373537924277, 0.24871245126414257, 0.03108905640801782, 0.38889083743625413, 0.5833362561543812, 0.34259905587455475, 0.6851981117491095, 0.36088789940481586, 0.7217757988096317, 0.9252285711367743, 0.7715162298282003, 0.2468851935450241, 0.9247473504215855, 0.9502005182720524, 0.039591688261335516, 0.972621239810686, 0.02114393999588448, 0.49479374690262734, 0.8915935113851728, 0.37160666777039475, 0.5574100016555921, 0.9247653272749653, 0.38892267931660945, 0.5833840189749142, 0.5735848583217343, 0.25947886447887986, 0.1638813880919241, 0.8284032793211386, 0.11239642483251629, 0.058279627690934366, 0.49521843026554985, 0.9243787302311157, 0.9246304759374884, 0.4955433938490885, 0.7527417574285846, 0.4943770098372768, 0.47471212502302584, 0.47471212502302584, 0.9361091406924072, 0.05298730985051362, 0.008831218308418936, 0.9356780610085403, 0.0719752354621954, 0.9254747434980941, 0.9252798758311761, 0.9105940577615624, 0.05356435633891544, 0.032138613803349265, 0.4937647812884196, 0.3086029883052622, 0.2468823906442098, 0.761495679906373, 0.09932552346604866, 0.1655425391100811, 0.982676267218927, 0.016377937786982117, 0.8526491383305306, 0.7009907080651832, 0.9101390775095017, 0.027579972045742477, 0.055159944091484954, 0.49562442128595463, 0.9248611956225855, 0.3701001430131636, 0.5551502145197453, 0.23390257501407008, 0.7017077250422102, 0.23390257501407008, 0.5170243350220902, 0.1723414450073634, 0.3446828900147268, 0.686213950822698, 0.06862139508226979, 0.24017488278794427, 0.922981167114363, 0.9357004723086719, 0.038987519679528, 0.49570955755754015, 0.8587124567785132, 0.04986072329681689, 0.0941813662273208, 0.495117101820957, 0.83185604769767, 0.1330969676316272, 0.0332742419079068, 0.9212297748048289, 0.07070842569773907, 0.008080962936884465, 0.6753627907157339, 0.0519509839012103, 0.2597549195060515, 0.36654823153390986, 0.5498223473008648, 0.7446092270755273, 0.12471349722601535, 0.748280983356092, 0.3411634236375824, 0.6823268472751648, 0.9301499803028456, 0.0273573523618484, 0.0410360285427726, 0.9250260997336976, 0.8704031434009513, 0.11605375245346017, 0.011605375245346017, 0.9252119939252657, 0.9130460398416013, 0.07908272786029617, 0.007189338896390561, 0.9251365253306548, 0.661219725742616, 0.23462635429576698, 0.08531867428936982, 0.49469013037548426, 0.8237052764382617, 0.0726798773327878, 0.09690650311038373, 0.5010106764533647, 0.5010106764533647, 0.9252222702227053, 0.4045623754217895, 0.5663873255905053, 0.08091247508435791, 0.5841428571878254, 0.4381071428908691, 0.9367167361488303, 0.06043333781605357, 0.4951355886147191, 0.6948607566285575, 0.21942971261954447, 0.07314323753984815], \"Term\": [\"absolutely\", \"absolutely\", \"absolutely\", \"access\", \"access\", \"again\", \"again\", \"again\", \"agent\", \"almost\", \"always\", \"always\", \"always\", \"amsterdam\", \"aniko\", \"announcement\", \"anymore\", \"anything\", \"apology\", \"appalling\", \"appalling\", \"appalling\", \"approach\", \"appropriate\", \"arrangement\", \"assistance\", \"assistance\", \"average\", \"away\", \"back\", \"back\", \"back\", \"bag\", \"bag\", \"belt\", \"benefit\", \"board\", \"board\", \"bunch\", \"bus\", \"call\", \"carriage\", \"carriage\", \"carriage\", \"chair\", \"christmas\", \"christmas\", \"christmas\", \"class\", \"class\", \"comfortable\", \"company\", \"company\", \"company\", \"compensation\", \"complaint\", \"complaint\", \"contrast\", \"corridor\", \"customer\", \"customer\", \"customer\", \"dartford\", \"day\", \"day\", \"december\", \"december\", \"dire\", \"disappoints\", \"dismissive\", \"dollar\", \"dollar\", \"drink\", \"due\", \"due\", \"due\", \"email\", \"email\", \"eurostar\", \"eurostar\", \"eurostar\", \"even\", \"even\", \"even\", \"extremely\", \"filthy\", \"filthy\", \"filthy\", \"first\", \"first\", \"first\", \"french\", \"further\", \"further\", \"further\", \"glad\", \"high\", \"high\", \"hour\", \"hour\", \"idea\", \"ill\", \"incompetent\", \"incompetent\", \"insurance\", \"issuer\", \"journey\", \"journey\", \"just\", \"just\", \"just\", \"kent\", \"late\", \"late\", \"late\", \"later\", \"lime\", \"london\", \"london\", \"london\", \"loyalty\", \"manchester\", \"manchester\", \"massively\", \"may\", \"midland\", \"min\", \"min\", \"minute\", \"minute\", \"money\", \"money\", \"money\", \"more\", \"more\", \"more\", \"most\", \"most\", \"most\", \"never\", \"never\", \"never\", \"new\", \"new\", \"new\", \"no\", \"no\", \"normally\", \"northwestern\", \"not\", \"not\", \"not\", \"nothing\", \"nothing\", \"now\", \"now\", \"now\", \"number\", \"number\", \"number\", \"offer\", \"old\", \"old\", \"old\", \"once\", \"once\", \"once\", \"online\", \"online\", \"online\", \"only\", \"only\", \"only\", \"operator\", \"operator\", \"operator\", \"other\", \"other\", \"other\", \"pas\", \"people\", \"people\", \"people\", \"platform\", \"point\", \"point\", \"point\", \"poor\", \"poor\", \"poor\", \"practically\", \"preston\", \"previous\", \"previous\", \"previous\", \"previously\", \"price\", \"price\", \"price\", \"print\", \"print\", \"pushchair\", \"pushchair\", \"quality\", \"quality\", \"racist\", \"rail\", \"rail\", \"ready\", \"really\", \"really\", \"refund\", \"refund\", \"refundable\", \"replacement\", \"ridiculous\", \"ridiculous\", \"rotten\", \"scheme\", \"scheme\", \"seat\", \"seat\", \"seat\", \"service\", \"service\", \"service\", \"sewage\", \"shabby\", \"sheep\", \"shotton\", \"show\", \"significant\", \"site\", \"site\", \"so\", \"so\", \"so\", \"southern\", \"southern\", \"spanish\", \"special\", \"staff\", \"staff\", \"staff\", \"standard\", \"standard\", \"standard\", \"star\", \"star\", \"star\", \"station\", \"station\", \"status\", \"steve\", \"still\", \"still\", \"still\", \"stink\", \"strength\", \"stress\", \"stress\", \"support\", \"support\", \"support\", \"system\", \"system\", \"system\", \"terrible\", \"terrible\", \"terrible\", \"thalys\", \"then\", \"then\", \"thread\", \"ticket\", \"ticket\", \"ticket\", \"tier\", \"time\", \"time\", \"time\", \"train\", \"train\", \"train\", \"trip\", \"trip\", \"trip\", \"truly\", \"truly\", \"us\", \"useless\", \"useless\", \"various\", \"various\", \"very\", \"very\", \"very\", \"vestibule\", \"virgin\", \"virgin\", \"virgin\", \"vt\", \"wa\", \"wa\", \"wa\", \"warm\", \"way\", \"way\", \"way\", \"weak\", \"website\", \"website\", \"website\", \"western\", \"western\", \"who\", \"wifi\", \"wifi\", \"wifi\", \"word\", \"word\", \"worst\", \"worst\", \"worthless\", \"year\", \"year\", \"year\"]}, \"R\": 30, \"lambda.step\": 0.01, \"plot.opts\": {\"xlab\": \"PC1\", \"ylab\": \"PC2\"}, \"topic.order\": [2, 1, 3]};\n",
              "\n",
              "function LDAvis_load_lib(url, callback){\n",
              "  var s = document.createElement('script');\n",
              "  s.src = url;\n",
              "  s.async = true;\n",
              "  s.onreadystatechange = s.onload = callback;\n",
              "  s.onerror = function(){console.warn(\"failed to load library \" + url);};\n",
              "  document.getElementsByTagName(\"head\")[0].appendChild(s);\n",
              "}\n",
              "\n",
              "if(typeof(LDAvis) !== \"undefined\"){\n",
              "   // already loaded: just create the visualization\n",
              "   !function(LDAvis){\n",
              "       new LDAvis(\"#\" + \"ldavis_el52991396820830157602576747895\", ldavis_el52991396820830157602576747895_data);\n",
              "   }(LDAvis);\n",
              "}else if(typeof define === \"function\" && define.amd){\n",
              "   // require.js is available: use it to load d3/LDAvis\n",
              "   require.config({paths: {d3: \"https://d3js.org/d3.v5\"}});\n",
              "   require([\"d3\"], function(d3){\n",
              "      window.d3 = d3;\n",
              "      LDAvis_load_lib(\"https://cdn.jsdelivr.net/gh/bmabey/pyLDAvis@3.3.1/pyLDAvis/js/ldavis.v3.0.0.js\", function(){\n",
              "        new LDAvis(\"#\" + \"ldavis_el52991396820830157602576747895\", ldavis_el52991396820830157602576747895_data);\n",
              "      });\n",
              "    });\n",
              "}else{\n",
              "    // require.js not available: dynamically load d3 & LDAvis\n",
              "    LDAvis_load_lib(\"https://d3js.org/d3.v5.js\", function(){\n",
              "         LDAvis_load_lib(\"https://cdn.jsdelivr.net/gh/bmabey/pyLDAvis@3.3.1/pyLDAvis/js/ldavis.v3.0.0.js\", function(){\n",
              "                 new LDAvis(\"#\" + \"ldavis_el52991396820830157602576747895\", ldavis_el52991396820830157602576747895_data);\n",
              "            })\n",
              "         });\n",
              "}\n",
              "</script>"
            ],
            "text/plain": [
              "<IPython.core.display.HTML object>"
            ]
          },
          "metadata": {},
          "execution_count": 136
        }
      ]
    },
    {
      "cell_type": "markdown",
      "metadata": {
        "id": "JFI95TX8ybhF"
      },
      "source": [
        "The salient terms for topics are also significantly different. Class plays a major role both in 2018 and pre-2018 data, as \"first\" is also a salient term in early data.\n",
        "\n",
        "Customer in 2018 data and eurostar in pre-2018 data, are not in each other's top 3, but are pretty relevant as they are still found in the top 10. Frequencies also significantly differ. Surprisingly, train is not mentioned as often in pre-2018 data."
      ]
    },
    {
      "cell_type": "markdown",
      "metadata": {
        "id": "3M6br8GER9Ok"
      },
      "source": [
        "# Ideas for Future Investigations"
      ]
    },
    {
      "cell_type": "markdown",
      "metadata": {
        "id": "yPkiF48-SQj_"
      },
      "source": [
        "There are a number of things that could be improved upon with more time and information.\n",
        "\n",
        "*   First of all, **word collocations** could be taken into account, instead of blindly removing stopwords: \"not good\" and \"good\" are essentially two different concepts; likewise \"first class\" and \"London Heathrow\". \n",
        "*   Different models could be tested. **K-means clustering** for instance, is very different in concept from LDA.\n",
        "*   If the point in time, where the **schedule change** mentioned in the assignment took place was known, data could be split accordingly.\n",
        "*   A **salient terms** could be included in the final analysis by comparing tf-idf of top salient terms in pre-2018 vs 2018 data\n",
        "*   The **number of topics** parameter could be more throughly investigated\n",
        "*   Analyze **good and bad reviews separately**.\n",
        "\n",
        "\n"
      ]
    },
    {
      "cell_type": "code",
      "metadata": {
        "id": "_AzCxQggTcRL"
      },
      "source": [
        ""
      ],
      "execution_count": null,
      "outputs": []
    }
  ]
}